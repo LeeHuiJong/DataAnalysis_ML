{
  "nbformat": 4,
  "nbformat_minor": 0,
  "metadata": {
    "colab": {
      "name": "05_NumPy-배열의연산.ipynb",
      "provenance": [],
      "collapsed_sections": [],
      "toc_visible": true,
      "include_colab_link": true
    },
    "kernelspec": {
      "name": "python3",
      "display_name": "Python 3"
    },
    "language_info": {
      "name": "python"
    }
  },
  "cells": [
    {
      "cell_type": "markdown",
      "metadata": {
        "id": "view-in-github",
        "colab_type": "text"
      },
      "source": [
        "<a href=\"https://colab.research.google.com/github/LeeHuiJong/SkillTreePython-DataAnalysis/blob/main/05_NumPy_%EB%B0%B0%EC%97%B4%EC%9D%98%EC%97%B0%EC%82%B0.ipynb\" target=\"_parent\"><img src=\"https://colab.research.google.com/assets/colab-badge.svg\" alt=\"Open In Colab\"/></a>"
      ]
    },
    {
      "cell_type": "markdown",
      "metadata": {
        "id": "jgFAOz-Tw1VI"
      },
      "source": [
        "# CH05 Numpy  - 배열의 연산\n",
        "\n",
        "---\n",
        "* 날짜:\n",
        "* 이름:\n"
      ]
    },
    {
      "cell_type": "markdown",
      "source": [
        "## 개념정리\n",
        "\n",
        "\n",
        "```\n",
        "import numpy as np\n",
        "```\n",
        "\n",
        "\n"
      ],
      "metadata": {
        "id": "_3uSBF40BdCd"
      }
    },
    {
      "cell_type": "code",
      "source": [
        "import numpy as np"
      ],
      "metadata": {
        "id": "zPOE7GIhJcdU"
      },
      "execution_count": 3,
      "outputs": []
    },
    {
      "cell_type": "markdown",
      "metadata": {
        "id": "_ilCtKbjYZzk"
      },
      "source": [
        "---\n",
        "### **(1) 산술 연산(Arithmetic Operators)**\n",
        "---\n",
        "\n",
        "|연산자|범용함수|설명|\n",
        "|--|--|--|\n",
        "|+|`np.add`|덧셈|\n",
        "|-|`np.subtract`|뺄셈|\n",
        "|-|`np.negative`|단항음수|\n",
        "|*|`np.multiply`|곱셈|\n",
        "|/|`np.divide`|나눗셈|\n",
        "|//|`np.floor_divide`|나눗셈 내림|\n",
        "|**|`np.power`|지수 연산|\n",
        "|%|`np.mod`|나머지 연산|\n",
        "\n",
        "파이썬의 수치자료형에서 사용하는 모든 연산을 넘파이 배열에서 사용할 수 있습니다. \n",
        "\n",
        "리스트에서는 불가능했던 배열간의 덧셈도 아래와 같이 사용 가능합니다.\n",
        "\n",
        "```\n",
        "a = np.array([1,2,3])\n",
        "b = np.array([-1,2,-3])\n",
        "a*b\n",
        "```\n",
        "\n"
      ]
    },
    {
      "cell_type": "code",
      "metadata": {
        "id": "lGmuZNP4YZzu",
        "colab": {
          "base_uri": "https://localhost:8080/"
        },
        "outputId": "b3b73051-a177-44d4-ad70-a2698c8ca20b"
      },
      "source": [
        "a= np.array([1,2,3])\n",
        "b= np.array([-1,-2,-3])\n",
        "a*b"
      ],
      "execution_count": 5,
      "outputs": [
        {
          "output_type": "execute_result",
          "data": {
            "text/plain": [
              "array([-1, -4, -9])"
            ]
          },
          "metadata": {},
          "execution_count": 5
        }
      ]
    },
    {
      "cell_type": "code",
      "source": [
        "np.add(a,2)"
      ],
      "metadata": {
        "colab": {
          "base_uri": "https://localhost:8080/"
        },
        "id": "L-8deNRdRF9y",
        "outputId": "3e5e496f-04c6-4545-c1f1-062ff28fa20e"
      },
      "execution_count": 47,
      "outputs": [
        {
          "output_type": "execute_result",
          "data": {
            "text/plain": [
              "array([3, 4, 5])"
            ]
          },
          "metadata": {},
          "execution_count": 47
        }
      ]
    },
    {
      "cell_type": "markdown",
      "metadata": {
        "id": "HjPXsM8C5ULZ"
      },
      "source": [
        "\n",
        "#### **|  브로드캐스팅 (Broadcasting)**\n",
        "\n",
        "NumPy의 배열 연산은 벡터화(vectorized) 연산을 사용합니다. 브로드 캐스팅은 배열 각 요소에 대한 반복적인 계산을 효율적으로 수행합니다.\n",
        "\n",
        "\n",
        "<p align='center'>\n",
        "<img src=https://github.com/yebiny/SkillTreePython-DataAnalysis/blob/main/imgs/ch0105-01.png?raw=true width=560>\n",
        "</p>"
      ]
    },
    {
      "cell_type": "code",
      "source": [
        "c=np.arange(1,10).reshape(3,3)\n",
        "print(c*[2,2,2]) # 2를 곱할때랑 같은 값을 가진다\n",
        "print(c*2)"
      ],
      "metadata": {
        "id": "ZhsYhSsaLhoh",
        "colab": {
          "base_uri": "https://localhost:8080/"
        },
        "outputId": "325c51a6-1978-42d1-e2cd-875b64b32502"
      },
      "execution_count": 12,
      "outputs": [
        {
          "output_type": "stream",
          "name": "stdout",
          "text": [
            "[[ 2  4  6]\n",
            " [ 8 10 12]\n",
            " [14 16 18]]\n",
            "[[ 2  4  6]\n",
            " [ 8 10 12]\n",
            " [14 16 18]]\n"
          ]
        }
      ]
    },
    {
      "cell_type": "markdown",
      "metadata": {
        "id": "bSey8YjkL5BT"
      },
      "source": [
        "---\n",
        "### **(2) 수학 관련 함수**\n",
        "---\n",
        "\n",
        "\n",
        "\n"
      ]
    },
    {
      "cell_type": "markdown",
      "source": [
        "#### **| 절대값 함수 (Absolute Function)**\n",
        "\n",
        "\n",
        "\n",
        "\n",
        "\n",
        "* `np.absolute(n)` = `np.abs(n)` : `n`의 절대값 반환\n",
        "\n",
        "```\n",
        "print(b)\n",
        "np.abs(b)\n",
        "```\n"
      ],
      "metadata": {
        "id": "aNlW6SlrO9nr"
      }
    },
    {
      "cell_type": "code",
      "metadata": {
        "id": "zaMa3LVuO9ns",
        "colab": {
          "base_uri": "https://localhost:8080/"
        },
        "outputId": "6e5754aa-1ca0-46a8-93da-e257911362ef"
      },
      "source": [
        "np.abs(b)"
      ],
      "execution_count": 13,
      "outputs": [
        {
          "output_type": "execute_result",
          "data": {
            "text/plain": [
              "array([1, 2, 3])"
            ]
          },
          "metadata": {},
          "execution_count": 13
        }
      ]
    },
    {
      "cell_type": "markdown",
      "metadata": {
        "id": "U5uE3sVtzRvA"
      },
      "source": [
        "#### **| 제곱/제곱근 함수**\n",
        "\n",
        "* `np.square(n)`: `n`의 제곱을 반환\n",
        "* `np.sqrt(n)` : `n`의 제곱근을 반환\n",
        "\n",
        "```\n",
        "n = 25\n",
        "print(np.square(n), np.sqrt(n))\n",
        "```"
      ]
    },
    {
      "cell_type": "code",
      "metadata": {
        "id": "ggnIxDGzzTfX",
        "colab": {
          "base_uri": "https://localhost:8080/"
        },
        "outputId": "462c09f6-0d2c-4737-e774-bbf1621861ec"
      },
      "source": [
        "n=25\n",
        "np.square(n), np.sqrt(n)"
      ],
      "execution_count": 16,
      "outputs": [
        {
          "output_type": "execute_result",
          "data": {
            "text/plain": [
              "(625, 5.0)"
            ]
          },
          "metadata": {},
          "execution_count": 16
        }
      ]
    },
    {
      "cell_type": "markdown",
      "metadata": {
        "id": "tWh1aQ50vRhB"
      },
      "source": [
        "#### **| 지수/로그 함수**\n",
        "\n",
        "* `np.exp(n)` : 자연상수 `e`(=~2.71..)의 `n` 제곱을 반환\n",
        "* `np.exp2(n)` : 상수 `2`의 `n` 제곱을 반환\n",
        "\n",
        "\n",
        "```\n",
        "[np.exp2(n) for n in range(10)]\n",
        "```\n",
        "\n",
        "\n",
        "\n",
        "\n",
        "\n"
      ]
    },
    {
      "cell_type": "code",
      "metadata": {
        "id": "Dygt3AyHvTZz",
        "colab": {
          "base_uri": "https://localhost:8080/"
        },
        "outputId": "b4ae79d8-09a1-4540-ee3c-651736054745"
      },
      "source": [
        "[np.exp2(n) for n in range(10)] #2의 n승을 반환"
      ],
      "execution_count": 18,
      "outputs": [
        {
          "output_type": "execute_result",
          "data": {
            "text/plain": [
              "[1.0, 2.0, 4.0, 8.0, 16.0, 32.0, 64.0, 128.0, 256.0, 512.0]"
            ]
          },
          "metadata": {},
          "execution_count": 18
        }
      ]
    },
    {
      "cell_type": "code",
      "source": [
        "[np.exp(n) for n in range(10)] #자연상수 e의 n승을 반환"
      ],
      "metadata": {
        "colab": {
          "base_uri": "https://localhost:8080/"
        },
        "id": "Bg9Ab6FaKXbU",
        "outputId": "83ad9522-4f53-4b8a-ceb2-0ea5ae7d4e09"
      },
      "execution_count": 20,
      "outputs": [
        {
          "output_type": "execute_result",
          "data": {
            "text/plain": [
              "[1.0,\n",
              " 2.718281828459045,\n",
              " 7.38905609893065,\n",
              " 20.085536923187668,\n",
              " 54.598150033144236,\n",
              " 148.4131591025766,\n",
              " 403.4287934927351,\n",
              " 1096.6331584284585,\n",
              " 2980.9579870417283,\n",
              " 8103.083927575384]"
            ]
          },
          "metadata": {},
          "execution_count": 20
        }
      ]
    },
    {
      "cell_type": "markdown",
      "source": [
        "\n",
        "* `np.log(n)` : 밑이 `e`인 로그값을 반환합니다. \n",
        "* `np.log2(n)` : 밑이 `2`인 로그값을 반환합니다.\n",
        "* `np.log10(n)` : 밑이 `10`인 로그값을 반환합니다.\n",
        "\n",
        "```\n",
        "n = [10,100,1000,10000]\n",
        "np.log10(n)\n",
        "```"
      ],
      "metadata": {
        "id": "0g8jrMErbtEA"
      }
    },
    {
      "cell_type": "code",
      "metadata": {
        "id": "YB0BzwxDvnkT",
        "colab": {
          "base_uri": "https://localhost:8080/"
        },
        "outputId": "e6a93972-b4a1-475f-aed2-bf7367297619"
      },
      "source": [
        "n = [10,100,1000,10000]\n",
        "np.log10(n)"
      ],
      "execution_count": 19,
      "outputs": [
        {
          "output_type": "execute_result",
          "data": {
            "text/plain": [
              "array([1., 2., 3., 4.])"
            ]
          },
          "metadata": {},
          "execution_count": 19
        }
      ]
    },
    {
      "cell_type": "markdown",
      "metadata": {
        "id": "wE_p9AxjtdJ9"
      },
      "source": [
        "#### **| 삼각 함수(Trigonometrical Function)**\n",
        "\n",
        "|함수|설명|\n",
        "|--|--|\n",
        "|`np.sin`|사인|\n",
        "|`np.cos`|코사인|\n",
        "|`np.tan`|탄젠트|\n",
        "|`np.arcsin`|아크 사인|\n",
        "|`np.argcos`|아크 코사인|\n",
        "|`np.argtan`|아크 탄젠트|\n",
        "|`np.sinh`|하이퍼볼릭 사인|\n",
        "|`np.cosh`|하이퍼볼릭 코사인|\n",
        "|`np.tanh`|하이퍼볼릭 탄젠트|\n",
        "|`np.arcsinh`|하이퍼볼릭 아크 사인|\n",
        "|`np.arccosh`|하이퍼볼릭 아크 코사인|\n",
        "|`np.arctanh`|하이퍼볼릭 아크 탄젠트|\n",
        "|`np.deg2rad`|각도를 라디안으로 변환|\n",
        "|`np.rad2deg`|라디안을 각도로 변환|\n",
        "|`np.hypot`|유클리드 거리계산|\n",
        "\n",
        "학창시절 아래 삼각함수 표를 외워본 경험이 있을 겁니다. 더이상 이를 외울 필요는 없습니다. 코드가 알아서 해줄테니까요. 값이 똑같이 나오는지 확인해 봅시다.\n",
        "\n",
        "<p align='center'>\n",
        "<img src=https://github.com/yebiny/SkillTreePython-DataAnalysis/blob/main/imgs/ch0105-02.png?raw=true width=500>\n",
        "</p>\n",
        "\n",
        "```\n",
        "n = 0\n",
        "np.sin(n), np.cos(n), np.tan(n)\n",
        "```"
      ]
    },
    {
      "cell_type": "code",
      "metadata": {
        "id": "v7m-AQW9uJ9u",
        "colab": {
          "base_uri": "https://localhost:8080/"
        },
        "outputId": "e5674933-b8c9-4894-d8f0-ea7620172b9e"
      },
      "source": [
        "n=0\n",
        "np.sin(n), np.cos(n), np.tan(n)"
      ],
      "execution_count": 24,
      "outputs": [
        {
          "output_type": "execute_result",
          "data": {
            "text/plain": [
              "(0.0, 1.0, 0.0)"
            ]
          },
          "metadata": {},
          "execution_count": 24
        }
      ]
    },
    {
      "cell_type": "markdown",
      "metadata": {
        "id": "EHGOV5FuPII3"
      },
      "source": [
        "#### **| 집계 함수(Aggregate Functions)**\n",
        "\n",
        "|함수|설명|\n",
        "|--|--|\n",
        "|`np.sum()`|배열 내 합을 반환|\n",
        "|`np.cumsum()`|배열 내 누적합 반환|\n",
        "|`np.prod()`|배열 내 곱 반환|\n",
        "|`np.diff()`|배열 내 차 반환|\n",
        "|`np.min()`|최소값 반환|\n",
        "|`np.max()`|최대값 반환|\n",
        "|`np.mean()`|평균 반환|\n",
        "|`np.std()`|표준편차 반환|\n",
        "|`np.var()`|분산 반환|\n",
        "|`np.median()`|중앙값 반환|\n",
        "|`np.argmin()`|최소값 인덱스 반환|\n",
        "|`np.argmax()`|최소값 인덱스 반환|\n",
        "\n",
        "\n",
        "```\n",
        "print(a)\n",
        "print('누적합: ',np.cumsum(a))\n",
        "print('곱: ',np.prod(a))\n",
        "print('차: ',np.diff(a))\n",
        "print('중앙값: ',np.median(a))\n",
        "```"
      ]
    },
    {
      "cell_type": "code",
      "source": [
        "np.min()"
      ],
      "metadata": {
        "id": "5K5FuCq8g2N1"
      },
      "execution_count": null,
      "outputs": []
    },
    {
      "cell_type": "code",
      "source": [
        "print(a)\n",
        "print('누적합: ',np.cumsum(a))\n",
        "print('곱: ',np.prod(a))\n",
        "print('차: ',np.diff(a))\n",
        "print('중앙값: ',np.median(a))"
      ],
      "metadata": {
        "id": "OIENQ0LlVMyd",
        "colab": {
          "base_uri": "https://localhost:8080/"
        },
        "outputId": "76d55c21-ccc3-4daa-c833-757014d66b0b"
      },
      "execution_count": 28,
      "outputs": [
        {
          "output_type": "stream",
          "name": "stdout",
          "text": [
            "[1 2 3]\n",
            "누적합:  [1 3 6]\n",
            "곱:  6\n",
            "차:  [1 1]\n",
            "중앙값:  2.0\n"
          ]
        }
      ]
    },
    {
      "cell_type": "markdown",
      "source": [
        "머신러닝에서 자주 사용되는 함수는 `np.argmax`입니다. `np.argmax`는 최대값의 인덱스를 반환하는데요, 최대값 자체가 아닌 인덱스가 언제 필요할까요?\n",
        "\n",
        "예시를 들어 봅시다. `y`에 카드 이름이, `x`에는 각 카드가 뽑힐 확률이 들어 있습니다. 뽑힐 확률이 가장 높은 카드를 아래와 같이 구할 수 있습니다.\n",
        "\n",
        "```\n",
        "x = [0.1, 0.2, 0.6, 0.1]\n",
        "y = ['a', 'b', 'c', 'd']\n",
        "idx = np.argmax(x)\n",
        "print(y[idx]) # 팬시 인덱싱\n",
        "```"
      ],
      "metadata": {
        "id": "VAVV6_8OarUE"
      }
    },
    {
      "cell_type": "code",
      "source": [
        "x = [0.1, 0.2, 0.6, 0.1]\n",
        "y = ['a', 'b', 'c', 'd']\n",
        "idx= np.argmax(x)\n",
        "idx, y[idx]"
      ],
      "metadata": {
        "id": "X5ltEzDsap-m",
        "colab": {
          "base_uri": "https://localhost:8080/"
        },
        "outputId": "a2588d52-fc70-4398-93f1-6c40dceb38f3"
      },
      "execution_count": 31,
      "outputs": [
        {
          "output_type": "execute_result",
          "data": {
            "text/plain": [
              "(2, 'c')"
            ]
          },
          "metadata": {},
          "execution_count": 31
        }
      ]
    },
    {
      "cell_type": "markdown",
      "metadata": {
        "id": "ohtLbHoEVMU2"
      },
      "source": [
        "---\n",
        "### **(3) 벡터/행렬 연산**\n",
        "---\n",
        "\n",
        "|함수|설명|\n",
        "|--|--|\n",
        "|`np.matmul()`|=`@`, 행렬곱|\n",
        "|`np.dot()`|내적|\n",
        "|`np.prod()`|외적|\n",
        "\n"
      ]
    },
    {
      "cell_type": "markdown",
      "source": [
        "\n",
        "* `np.matmul(a1, a2)` : 배열 `a1`과 `a2`의 행렬곱을 수행합니다. \n",
        "\n",
        "일반적인 행렬곱을 `matmul`을 통해서 할 수 있습니다. \n",
        "\n",
        "```\n",
        "A = np.array([[1,2],\n",
        "              [0,1]])\n",
        "B = np.array([[1,0],\n",
        "              [0,1]])\n",
        "print(np.matmul(A,B))\n",
        "print(A@B)\n",
        "```\n"
      ],
      "metadata": {
        "id": "i6ll7q_HWTKA"
      }
    },
    {
      "cell_type": "code",
      "source": [
        "A = np.array([[1,2],\n",
        "              [0,1]])\n",
        "B = np.array([[1,0],\n",
        "              [0,1]])\n",
        "print(np.matmul(A,B))\n",
        "print(A@B)"
      ],
      "metadata": {
        "id": "9Gds9RSHWTx8",
        "colab": {
          "base_uri": "https://localhost:8080/"
        },
        "outputId": "69fb305e-f276-4b65-ec7d-248385a34819"
      },
      "execution_count": 32,
      "outputs": [
        {
          "output_type": "stream",
          "name": "stdout",
          "text": [
            "[[1 2]\n",
            " [0 1]]\n",
            "[[1 2]\n",
            " [0 1]]\n"
          ]
        }
      ]
    },
    {
      "cell_type": "markdown",
      "source": [
        "* `np.dot(a1, a2)`: 배열 `a1`과 `a2`의 벡터 내적을 수행합니다.\n",
        "\n",
        "벡터 내적은 벡터 내 같은 인덱스의 값을 곱하고 모두 더한 것입니다.\n",
        "\n",
        "```\n",
        "print(a, b)\n",
        "print(sum(a*b))\n",
        "print(np.dot(a,b))\n",
        "```\n",
        "\n",
        "\n"
      ],
      "metadata": {
        "id": "WJrKcbetWT5E"
      }
    },
    {
      "cell_type": "code",
      "source": [
        "print(a, b)\n",
        "print(np.sum(a*b))\n",
        "print(np.dot(a,b))"
      ],
      "metadata": {
        "id": "xX2V5x3SWSpk",
        "colab": {
          "base_uri": "https://localhost:8080/"
        },
        "outputId": "eb0ca06c-96f7-4618-d6e3-26c240e5311e"
      },
      "execution_count": 34,
      "outputs": [
        {
          "output_type": "stream",
          "name": "stdout",
          "text": [
            "[1 2 3] [-1 -2 -3]\n",
            "-14\n",
            "-14\n"
          ]
        }
      ]
    },
    {
      "cell_type": "markdown",
      "metadata": {
        "id": "_oy400wHYLHN"
      },
      "source": [
        "---\n",
        "### **(4) 비교 연산**\n",
        "---\n",
        "\n",
        "비교 연산자를 이용하면 `boolean` 값으로 이루어진 배열을 반환합니다.\n",
        "\n",
        "\n"
      ]
    },
    {
      "cell_type": "markdown",
      "source": [
        "\n",
        "#### **| 값 비교**\n",
        "\n",
        "\n",
        "|연산자|비교 범용 함수|\n",
        "|--|--|\n",
        "|`==`|`np.equal`|\n",
        "|`!=`|`np.not_equal`|\n",
        "|`<`| `np.less`|\n",
        "|`<=`|`np.less_equal`|\n",
        "|`>`| `np.greater`|\n",
        "|`>=`|`np.greater_equal`|\n",
        "\n",
        "```\n",
        "print(a)\n",
        "print(b)\n",
        "a==b, a<b, a>b\n",
        "```"
      ],
      "metadata": {
        "id": "Hhi5eYZu9Uw4"
      }
    },
    {
      "cell_type": "code",
      "source": [
        ""
      ],
      "metadata": {
        "id": "gXL4qh9G0Euw"
      },
      "execution_count": null,
      "outputs": []
    },
    {
      "cell_type": "markdown",
      "source": [
        "\n",
        "#### **| 예외값 비교**\n",
        "\n",
        "\n",
        "\n",
        "|함수|설명|\n",
        "|--|--|\n",
        "|`np.isinf`|`inf` 값이면 `True`, 아니면 `False`|\n",
        "|`np.isfinite`|`inf, nan` 값이면 `False`, 아니면 `True`|\n",
        "|`np.isnan`|`nan` 값이면 `True`, 아니면 `False`|\n",
        "\n",
        "```\n",
        "a = [np.inf, np.nan, 0]\n",
        "print(np.isinf(a))\n",
        "print(np.isfinite(a))\n",
        "print(np.isnan(a))\n",
        "```"
      ],
      "metadata": {
        "id": "OLsYDXJ88jyd"
      }
    },
    {
      "cell_type": "code",
      "source": [
        "print(a)\n",
        "print(b)\n",
        "\n",
        "a>b, a==b, a<0"
      ],
      "metadata": {
        "id": "pt_d1IfE0F0g",
        "colab": {
          "base_uri": "https://localhost:8080/"
        },
        "outputId": "994cd9da-fe2d-466b-f062-547e181cf1b6"
      },
      "execution_count": 37,
      "outputs": [
        {
          "output_type": "stream",
          "name": "stdout",
          "text": [
            "[1 2 3]\n",
            "[-1 -2 -3]\n"
          ]
        },
        {
          "output_type": "execute_result",
          "data": {
            "text/plain": [
              "(array([ True,  True,  True]),\n",
              " array([False, False, False]),\n",
              " array([False, False, False]))"
            ]
          },
          "metadata": {},
          "execution_count": 37
        }
      ]
    },
    {
      "cell_type": "code",
      "source": [
        "a=[np.inf, np.nan,0]\n",
        "print(a)\n",
        "np.isinf(a)\n",
        "print(np.isfinite(a))"
      ],
      "metadata": {
        "colab": {
          "base_uri": "https://localhost:8080/"
        },
        "id": "Tknfc2kdOfcs",
        "outputId": "ab6f7a5a-2ada-48f3-da55-40b14cefacea"
      },
      "execution_count": 43,
      "outputs": [
        {
          "output_type": "stream",
          "name": "stdout",
          "text": [
            "[inf, nan, 0]\n",
            "[False False  True]\n"
          ]
        }
      ]
    },
    {
      "cell_type": "markdown",
      "source": [
        "#### **| 논리 연산자**\n",
        "\n",
        "|함수|설명|\n",
        "|--|--|\n",
        "|`np.all()`|모두 `True`일때 `True` 반환|\n",
        "|`np.any()`|모두 `False`일때 `False` 반환|\n",
        "\n",
        "파이썬의 논리 연산자와 동일 합니다. 아래와 같이 숫자 자료형을 바로 넣으면 0 일 때는 `False`, 그 외에는 `True`로 인식하여 연산이 진행됩니다.\n",
        "\n",
        "```\n",
        "a = [1,0,1,1,0]\n",
        "np.all(a), np.any(a)\n",
        "```"
      ],
      "metadata": {
        "id": "rnvGTkHatKIn"
      }
    },
    {
      "cell_type": "code",
      "source": [
        "a=[1,0,1,1,0]\n",
        "print(np.all(a)) #하나라도 False가 있기 때문\n",
        "print(np.any(a))"
      ],
      "metadata": {
        "id": "PlyGLDBntSCt",
        "colab": {
          "base_uri": "https://localhost:8080/"
        },
        "outputId": "e05f170d-cf88-4d11-d6da-8a7348920e84"
      },
      "execution_count": 45,
      "outputs": [
        {
          "output_type": "stream",
          "name": "stdout",
          "text": [
            "False\n",
            "True\n"
          ]
        }
      ]
    },
    {
      "cell_type": "markdown",
      "metadata": {
        "id": "3SiCZqJsap3_"
      },
      "source": [
        "---\n",
        "### **(5) 정렬**\n",
        "---\n",
        "\n",
        "\n",
        "|함수|설명|\n",
        "|--|--|\n",
        "|`np.sort()`|오름차순 정렬|\n",
        "|`np.argsort()`|index 정렬|\n",
        "|`np.partition()`|`k`개의 작은값 반환|\n"
      ]
    },
    {
      "cell_type": "markdown",
      "source": [
        "* `np.sort(a, axis=axis)` : 배열 `a`를 오름차순으로 정렬합니다. \n",
        "\n",
        "```\n",
        "np.random.seed(42);a = np.random.randint(0,12,(3,4))\n",
        "print(a)\n",
        "print('axis=0: 위에서 아래로 정렬')\n",
        "print(np.sort(a, axis=0))\n",
        "print('axis=1: 좌에서 우로 정렬')\n",
        "print(np.sort(a, axis=1))\n",
        "```\n"
      ],
      "metadata": {
        "id": "kTcud6R1-ptC"
      }
    },
    {
      "cell_type": "code",
      "source": [
        "np.random.seed(42)\n",
        "a=np.random.randint(0,12,(4,3))\n",
        "print(a)\n",
        "a0=np.sort(a, axis=0)\n",
        "print(a0)\n",
        "a1=np.sort(a, axis=1) #[::-1] >> 끝에 붙이면 오름차순으로 정렬된다.\n",
        "print(a1)"
      ],
      "metadata": {
        "id": "-4A0yrwM0I4M",
        "colab": {
          "base_uri": "https://localhost:8080/"
        },
        "outputId": "f860c046-241e-415d-c4f5-da70498176ad"
      },
      "execution_count": 83,
      "outputs": [
        {
          "output_type": "stream",
          "name": "stdout",
          "text": [
            "[[ 6  3 10]\n",
            " [ 7  4  6]\n",
            " [ 9  2  6]\n",
            " [10 10  7]]\n",
            "[[ 6  2  6]\n",
            " [ 7  3  6]\n",
            " [ 9  4  7]\n",
            " [10 10 10]]\n",
            "[[ 3  6 10]\n",
            " [ 4  6  7]\n",
            " [ 2  6  9]\n",
            " [ 7 10 10]]\n"
          ]
        }
      ]
    },
    {
      "cell_type": "markdown",
      "source": [
        "* `np.argsort(a, axis=axis)` : 배열 `a`를 오름차순 정렬하는  인덱스를 반환\n",
        "\n",
        "위에서 배웠던 `np.argmax`와 마찬가지로 팬시 인덱싱에서 유용하게 사용됩니다. \n",
        "\n",
        "아래와 같이 월별(x) 판매수(y)가 주어졌을 때 판매수 순으로 정렬하고자 합니다. \n",
        "\n",
        "```\n",
        "x = np.array(['1월', '2월', '3월'])\n",
        "y = np.array([500,230,350])\n",
        "sort_idx = np.argsort(y)\n",
        "print(sort_idx)\n",
        "x[sort_idx][::-1] # 팬시 인덱싱\n",
        "```"
      ],
      "metadata": {
        "id": "vtT3s-bP_dOo"
      }
    },
    {
      "cell_type": "code",
      "source": [
        "x = np.array(['1월', '2월', '3월'])\n",
        "y = np.array([500,230,350])\n",
        "\n",
        "sort_idx = np.argsort(y)\n",
        "x[sort_idx]# [::-1] 똑같이 반대 순으로 하고 싶을때 이걸 써준다."
      ],
      "metadata": {
        "id": "Mt4Bjvj-0KTE",
        "colab": {
          "base_uri": "https://localhost:8080/"
        },
        "outputId": "62ef64fa-f5a9-45e5-db21-1f24feda7de8"
      },
      "execution_count": 87,
      "outputs": [
        {
          "output_type": "execute_result",
          "data": {
            "text/plain": [
              "array(['1월', '3월', '2월'], dtype='<U2')"
            ]
          },
          "metadata": {},
          "execution_count": 87
        }
      ]
    },
    {
      "cell_type": "markdown",
      "source": [
        "## 문제풀이\n",
        "---"
      ],
      "metadata": {
        "id": "a3jBnhpAdMVe"
      }
    },
    {
      "cell_type": "markdown",
      "metadata": {
        "id": "d9o7kBXoNlE3"
      },
      "source": [
        "**예제 01**\n",
        "\n",
        "아래 그림에 있는 산술연산을 각각 코드로 구현하세요\n",
        "\n",
        "<p align='center'>\n",
        "<img src=https://github.com/yebiny/SkillTreePython-DataAnalysis/blob/main/imgs/ch0105-03.png?raw=true width=400>\n",
        "</p>\n"
      ]
    },
    {
      "cell_type": "code",
      "metadata": {
        "id": "Gwir0bafNlE9",
        "colab": {
          "base_uri": "https://localhost:8080/"
        },
        "outputId": "6ecc8c04-4d59-4a01-8d7e-f16affba1064"
      },
      "source": [
        "a=[1,2,3]\n",
        "print(np.add(a,2))\n",
        "print(np.subtract(a,2))\n",
        "print(np.mod(a,2))\n",
        "print(np.square(a))"
      ],
      "execution_count": 60,
      "outputs": [
        {
          "output_type": "stream",
          "name": "stdout",
          "text": [
            "[3 4 5]\n",
            "[-1  0  1]\n",
            "[1 0 1]\n",
            "[1 4 9]\n"
          ]
        }
      ]
    },
    {
      "cell_type": "markdown",
      "metadata": {
        "id": "9K2SFvwvDWS0"
      },
      "source": [
        "**예제 02**\n",
        "\n",
        "\n",
        "아래는 `sum`의 용례를 그림으로 표현한 것입니다. 각 경우에 대해 코드로 구현하세요.\n",
        "\n",
        "<p align='center'>\n",
        "<img src=https://github.com/yebiny/SkillTreePython-DataAnalysis/blob/main/imgs/ch0105-04.png?raw=true width=460>\n",
        "</p>\n"
      ]
    },
    {
      "cell_type": "code",
      "source": [
        "b= np.array([[1,2,3],\n",
        "             [1,2,3]])\n",
        "np.sum(b)"
      ],
      "metadata": {
        "id": "fRmgVemQeXB5",
        "colab": {
          "base_uri": "https://localhost:8080/"
        },
        "outputId": "245c689b-566d-4798-e577-e4b96ea6f32f"
      },
      "execution_count": 67,
      "outputs": [
        {
          "output_type": "execute_result",
          "data": {
            "text/plain": [
              "12"
            ]
          },
          "metadata": {},
          "execution_count": 67
        }
      ]
    },
    {
      "cell_type": "code",
      "source": [
        "b.shape"
      ],
      "metadata": {
        "colab": {
          "base_uri": "https://localhost:8080/"
        },
        "id": "zn-2RFN0TppQ",
        "outputId": "ebf910b5-a619-4c13-cc97-b7d07d8df19c"
      },
      "execution_count": 70,
      "outputs": [
        {
          "output_type": "execute_result",
          "data": {
            "text/plain": [
              "(2, 3)"
            ]
          },
          "metadata": {},
          "execution_count": 70
        }
      ]
    },
    {
      "cell_type": "code",
      "source": [
        "np.sum(b,axis=0)"
      ],
      "metadata": {
        "colab": {
          "base_uri": "https://localhost:8080/"
        },
        "id": "_VyviIZXTHX2",
        "outputId": "12964cd7-40bb-47bf-f86b-0397333d09bb"
      },
      "execution_count": 68,
      "outputs": [
        {
          "output_type": "execute_result",
          "data": {
            "text/plain": [
              "array([2, 4, 6])"
            ]
          },
          "metadata": {},
          "execution_count": 68
        }
      ]
    },
    {
      "cell_type": "code",
      "source": [
        "np.sum(b,axis=1)\n"
      ],
      "metadata": {
        "colab": {
          "base_uri": "https://localhost:8080/"
        },
        "id": "R-mYOOxKTeg5",
        "outputId": "dea8260e-6978-4a47-fdd1-61f3669eae33"
      },
      "execution_count": 72,
      "outputs": [
        {
          "output_type": "execute_result",
          "data": {
            "text/plain": [
              "array([6, 6])"
            ]
          },
          "metadata": {},
          "execution_count": 72
        }
      ]
    },
    {
      "cell_type": "markdown",
      "source": [
        "**예제 03**\n",
        "\n",
        "위와 똑같은 방법으로 3가지 경우에 대해 `min()`을 수행하세요"
      ],
      "metadata": {
        "id": "0keO4-KjEApG"
      }
    },
    {
      "cell_type": "code",
      "source": [
        "np.min(b) # 최소값을 반환한다. argmin은 최소값의 인덱스를 반환한다"
      ],
      "metadata": {
        "id": "UNDxcRJxsQJn",
        "colab": {
          "base_uri": "https://localhost:8080/"
        },
        "outputId": "a29cc574-b62d-4e1f-f04a-3b77a64f6b54"
      },
      "execution_count": 73,
      "outputs": [
        {
          "output_type": "execute_result",
          "data": {
            "text/plain": [
              "1"
            ]
          },
          "metadata": {},
          "execution_count": 73
        }
      ]
    },
    {
      "cell_type": "code",
      "source": [
        "np.min(b, axis=0)"
      ],
      "metadata": {
        "colab": {
          "base_uri": "https://localhost:8080/"
        },
        "id": "T9GJrgT5T_IB",
        "outputId": "9730aea6-6ef5-4fc7-f458-77e88c0d2779"
      },
      "execution_count": 74,
      "outputs": [
        {
          "output_type": "execute_result",
          "data": {
            "text/plain": [
              "array([1, 2, 3])"
            ]
          },
          "metadata": {},
          "execution_count": 74
        }
      ]
    },
    {
      "cell_type": "code",
      "source": [
        "np.min(b, axis=1)"
      ],
      "metadata": {
        "colab": {
          "base_uri": "https://localhost:8080/"
        },
        "id": "Aww7sFnYUBuw",
        "outputId": "8dbd88ab-d54b-4629-90a9-89cfb25074af"
      },
      "execution_count": 75,
      "outputs": [
        {
          "output_type": "execute_result",
          "data": {
            "text/plain": [
              "array([1, 1])"
            ]
          },
          "metadata": {},
          "execution_count": 75
        }
      ]
    },
    {
      "cell_type": "markdown",
      "source": [
        "**예제 04**\n",
        "\n",
        "위와 똑같은 방법으로 3가지 경우에 대해 `argmax()`을 수행하세요"
      ],
      "metadata": {
        "id": "4UCGzsZdESAT"
      }
    },
    {
      "cell_type": "code",
      "source": [
        "np.argmax(b) # arg는 인덱스를 반환하는 것이다"
      ],
      "metadata": {
        "id": "-wPr1XR4ESAU",
        "colab": {
          "base_uri": "https://localhost:8080/"
        },
        "outputId": "2f70b0dd-1170-4a2a-8503-fc336244e8a6"
      },
      "execution_count": 76,
      "outputs": [
        {
          "output_type": "execute_result",
          "data": {
            "text/plain": [
              "2"
            ]
          },
          "metadata": {},
          "execution_count": 76
        }
      ]
    },
    {
      "cell_type": "code",
      "source": [
        "np.argmax(b, axis=0)"
      ],
      "metadata": {
        "colab": {
          "base_uri": "https://localhost:8080/"
        },
        "id": "NhohIZNEV6B4",
        "outputId": "372a4392-081e-4878-b540-e5fd715d9a2b"
      },
      "execution_count": 88,
      "outputs": [
        {
          "output_type": "execute_result",
          "data": {
            "text/plain": [
              "array([0, 0, 0])"
            ]
          },
          "metadata": {},
          "execution_count": 88
        }
      ]
    },
    {
      "cell_type": "code",
      "source": [
        "np.argmax(b, axis=1)"
      ],
      "metadata": {
        "colab": {
          "base_uri": "https://localhost:8080/"
        },
        "id": "ziBHgwN7V9UH",
        "outputId": "81352fc4-0ca7-42be-ced5-5907afa817a6"
      },
      "execution_count": 89,
      "outputs": [
        {
          "output_type": "execute_result",
          "data": {
            "text/plain": [
              "array([2, 2])"
            ]
          },
          "metadata": {},
          "execution_count": 89
        }
      ]
    },
    {
      "cell_type": "markdown",
      "source": [
        "**예제 05**\n",
        "\n",
        "위와 똑같은 방법으로 3가지 경우에 대해 `std()`을 수행하세요"
      ],
      "metadata": {
        "id": "yMPwhGuUEY1v"
      }
    },
    {
      "cell_type": "code",
      "source": [
        "np.std(b)"
      ],
      "metadata": {
        "id": "KKmFZ_BYEY1v",
        "colab": {
          "base_uri": "https://localhost:8080/"
        },
        "outputId": "04935b1f-8147-414e-9d40-b96bfc10142e"
      },
      "execution_count": 90,
      "outputs": [
        {
          "output_type": "execute_result",
          "data": {
            "text/plain": [
              "0.816496580927726"
            ]
          },
          "metadata": {},
          "execution_count": 90
        }
      ]
    },
    {
      "cell_type": "code",
      "source": [
        "np.std(b, axis=0)"
      ],
      "metadata": {
        "colab": {
          "base_uri": "https://localhost:8080/"
        },
        "id": "CQlMB8rtWkVo",
        "outputId": "5cc5d3ac-6f43-4350-c2e0-bda11fc9c61a"
      },
      "execution_count": 91,
      "outputs": [
        {
          "output_type": "execute_result",
          "data": {
            "text/plain": [
              "array([0., 0., 0.])"
            ]
          },
          "metadata": {},
          "execution_count": 91
        }
      ]
    },
    {
      "cell_type": "code",
      "source": [
        "np.std(b, axis=1)"
      ],
      "metadata": {
        "colab": {
          "base_uri": "https://localhost:8080/"
        },
        "id": "VVVD0vUKWnm4",
        "outputId": "02d809ba-c05b-4e14-8146-e9049c83fd10"
      },
      "execution_count": 92,
      "outputs": [
        {
          "output_type": "execute_result",
          "data": {
            "text/plain": [
              "array([0.81649658, 0.81649658])"
            ]
          },
          "metadata": {},
          "execution_count": 92
        }
      ]
    },
    {
      "cell_type": "markdown",
      "metadata": {
        "id": "jWsyyY-4DduJ"
      },
      "source": [
        "**예제 06**\n",
        "\n",
        "아래는 `any`의 용례를 그림으로 표현한 것입니다. 각 경우에 대해 코드로 구현하고, 왜 이런 결과가 나오는지 정리하세요.\n",
        "\n",
        "\n",
        "<p align='center'>\n",
        "<img src=https://github.com/yebiny/SkillTreePython-DataAnalysis/blob/main/imgs/ch0105-05.png?raw=true width=580>\n",
        "</p>\n"
      ]
    },
    {
      "cell_type": "code",
      "source": [
        "np.any(b>2) # any는 모두 False 일때 False를 반환하는 것이다 그런데 b 행렬 중에 2보다 큰 값이 아닌 것도 있으므로 True를 반환한다"
      ],
      "metadata": {
        "id": "sWBmKlwmvzoN",
        "colab": {
          "base_uri": "https://localhost:8080/"
        },
        "outputId": "8bc029e7-b43e-49df-edf1-92d385e8fdd8"
      },
      "execution_count": 94,
      "outputs": [
        {
          "output_type": "execute_result",
          "data": {
            "text/plain": [
              "True"
            ]
          },
          "metadata": {},
          "execution_count": 94
        }
      ]
    },
    {
      "cell_type": "code",
      "source": [
        "np.any(b>2, axis=0) # (1,1) (2,2) (3,3) 값들로 묶어서 판단한다. 첫번째는 두번째 둘다 False이기때문에 False 반환 3번째만 3,3 두 값다 2보다 크기 때문에 True를 반환한다"
      ],
      "metadata": {
        "colab": {
          "base_uri": "https://localhost:8080/"
        },
        "id": "x-jYgD8vXqGo",
        "outputId": "c391e56c-b067-4f40-bb2e-dcba3f66102b"
      },
      "execution_count": 96,
      "outputs": [
        {
          "output_type": "execute_result",
          "data": {
            "text/plain": [
              "array([False, False,  True])"
            ]
          },
          "metadata": {},
          "execution_count": 96
        }
      ]
    },
    {
      "cell_type": "code",
      "source": [
        "np.any(b>2, axis=1) # 1,2,3 중에 하나만 해당하기 때문에 둘다 True를 반환한다(1,2,3 모두 해당되었다면 False를 반환했을 것이다.)"
      ],
      "metadata": {
        "colab": {
          "base_uri": "https://localhost:8080/"
        },
        "id": "xeUUn9byX_Au",
        "outputId": "29cddde3-af77-41b8-9a12-27956ae19f6c"
      },
      "execution_count": 97,
      "outputs": [
        {
          "output_type": "execute_result",
          "data": {
            "text/plain": [
              "array([ True,  True])"
            ]
          },
          "metadata": {},
          "execution_count": 97
        }
      ]
    },
    {
      "cell_type": "markdown",
      "source": [
        "**예제 07**\n",
        "\n",
        "위와 똑같은 방법으로 3가지 경우에 대해 `all()`을 수행하고, 왜 이런 결과가 나오는지 정리하세요."
      ],
      "metadata": {
        "id": "mwnQPVUNE1h1"
      }
    },
    {
      "cell_type": "code",
      "metadata": {
        "id": "VKgUxqoFE1h2",
        "colab": {
          "base_uri": "https://localhost:8080/"
        },
        "outputId": "75069c9a-68ee-471f-f830-2ce0dd3a6a9c"
      },
      "source": [
        "np.all(b>2) # all은 모두 True 면 True를 반환한다 몇몇 값만 논리 연산을 만족하기 때문에 False 가 반환된다."
      ],
      "execution_count": 98,
      "outputs": [
        {
          "output_type": "execute_result",
          "data": {
            "text/plain": [
              "False"
            ]
          },
          "metadata": {},
          "execution_count": 98
        }
      ]
    },
    {
      "cell_type": "code",
      "metadata": {
        "id": "xiwGmZftDk7t",
        "colab": {
          "base_uri": "https://localhost:8080/"
        },
        "outputId": "fde2148a-1e23-4a1f-d42b-d6c6a45a2546"
      },
      "source": [
        "np.all(b>2, axis=0) # 하나라도 False이면 False를 반환한다. (1,1) (2,2) (3,3) 첫번째와 두번째 묶음의 첫째 둘째 다 2보다 작기 때문에 False를 반환 3번째 묶음의 값들만 조건 충족 그러므로 True 반환"
      ],
      "execution_count": 99,
      "outputs": [
        {
          "output_type": "execute_result",
          "data": {
            "text/plain": [
              "array([False, False,  True])"
            ]
          },
          "metadata": {},
          "execution_count": 99
        }
      ]
    },
    {
      "cell_type": "code",
      "metadata": {
        "id": "QfmEyuClFht1",
        "colab": {
          "base_uri": "https://localhost:8080/"
        },
        "outputId": "a2d18206-dd8f-405e-e4e1-61854ba123eb"
      },
      "source": [
        "np.all(b>2, axis=1) # any와 정반대의 반환값을 지닌다."
      ],
      "execution_count": 100,
      "outputs": [
        {
          "output_type": "execute_result",
          "data": {
            "text/plain": [
              "array([False, False])"
            ]
          },
          "metadata": {},
          "execution_count": 100
        }
      ]
    },
    {
      "cell_type": "markdown",
      "metadata": {
        "id": "2IBubqt7Dk7s"
      },
      "source": [
        "**예제 08**\n",
        "\n",
        "\n",
        "1에서 100까지의 랜덤값을 가지고 형태가 `(40)` 인 1차원 배열을 `a08`로 바인딩하세요"
      ]
    },
    {
      "cell_type": "code",
      "source": [
        "a08 = np.random.randint(0,101,40)\n",
        "a08"
      ],
      "metadata": {
        "colab": {
          "base_uri": "https://localhost:8080/"
        },
        "id": "Bc-LM60hZd12",
        "outputId": "58f11d78-8b46-4491-abf4-c7bb7fac6aa7"
      },
      "execution_count": 103,
      "outputs": [
        {
          "output_type": "execute_result",
          "data": {
            "text/plain": [
              "array([92, 14, 71, 60, 20, 82, 86, 74, 74, 87, 99, 23,  2, 21, 52,  1, 87,\n",
              "       29, 37,  1, 63, 59, 20, 32, 75, 57, 21, 88, 48, 90, 58, 41, 91, 59,\n",
              "       79, 14, 61, 61, 46, 61])"
            ]
          },
          "metadata": {},
          "execution_count": 103
        }
      ]
    },
    {
      "cell_type": "markdown",
      "source": [
        "**예제 09**\n",
        "\n",
        "`a08`에서 50보다 큰 수만 가지는 배열을 불리언 연산자를 이용해서 생성하세요."
      ],
      "metadata": {
        "id": "AV6YotDEFht1"
      }
    },
    {
      "cell_type": "code",
      "source": [
        "mask= a08>50\n",
        "a08[mask]"
      ],
      "metadata": {
        "colab": {
          "base_uri": "https://localhost:8080/"
        },
        "id": "VOmqpIUCZeoW",
        "outputId": "f25eb1fe-75d6-4418-8cfa-c6764de1d766"
      },
      "execution_count": 104,
      "outputs": [
        {
          "output_type": "execute_result",
          "data": {
            "text/plain": [
              "array([92, 71, 60, 82, 86, 74, 74, 87, 99, 52, 87, 63, 59, 75, 57, 88, 90,\n",
              "       58, 91, 59, 79, 61, 61, 61])"
            ]
          },
          "metadata": {},
          "execution_count": 104
        }
      ]
    },
    {
      "cell_type": "markdown",
      "source": [
        "**예제 10**\n",
        "\n",
        "`a08`에서 50 이하이며 3의 배수만 가지는 배열을 불리언 연산자를 이용해 생성하세요"
      ],
      "metadata": {
        "id": "15JxLUfIFvhb"
      }
    },
    {
      "cell_type": "code",
      "source": [
        "mask= (a08<=50) & (np.mod(a08,3)==0)\n",
        "a08[mask]"
      ],
      "metadata": {
        "colab": {
          "base_uri": "https://localhost:8080/"
        },
        "id": "xnilUTTtlkwy",
        "outputId": "31fe2839-5754-4ffc-c82a-d31439929d9b"
      },
      "execution_count": 148,
      "outputs": [
        {
          "output_type": "execute_result",
          "data": {
            "text/plain": [
              "array([21, 21, 48])"
            ]
          },
          "metadata": {},
          "execution_count": 148
        }
      ]
    },
    {
      "cell_type": "code",
      "metadata": {
        "id": "dohpkasaFvhc",
        "colab": {
          "base_uri": "https://localhost:8080/"
        },
        "outputId": "c8906402-e775-42f9-c311-b709b6666aa9"
      },
      "source": [
        "a08<=50 , np.mod(a08,3)==0"
      ],
      "execution_count": 110,
      "outputs": [
        {
          "output_type": "execute_result",
          "data": {
            "text/plain": [
              "(array([False,  True, False, False,  True, False, False, False, False,\n",
              "        False, False,  True,  True,  True, False,  True, False,  True,\n",
              "         True,  True, False, False,  True,  True, False, False,  True,\n",
              "        False,  True, False, False,  True, False, False, False,  True,\n",
              "        False, False,  True, False]),\n",
              " array([False, False, False,  True, False, False, False, False, False,\n",
              "         True,  True, False, False,  True, False, False,  True, False,\n",
              "        False, False,  True, False, False, False,  True,  True,  True,\n",
              "        False,  True,  True, False, False, False, False, False, False,\n",
              "        False, False, False, False]))"
            ]
          },
          "metadata": {},
          "execution_count": 110
        }
      ]
    },
    {
      "cell_type": "code",
      "source": [
        "np.mod(a08,2)==0"
      ],
      "metadata": {
        "colab": {
          "base_uri": "https://localhost:8080/"
        },
        "id": "sXeHt-9Qb9g2",
        "outputId": "7380c95e-7160-4ddc-c877-f4a5cb9a4661"
      },
      "execution_count": 107,
      "outputs": [
        {
          "output_type": "execute_result",
          "data": {
            "text/plain": [
              "array([ True,  True, False,  True,  True,  True,  True,  True,  True,\n",
              "       False, False, False,  True, False,  True, False, False, False,\n",
              "       False, False, False, False,  True,  True, False, False, False,\n",
              "        True,  True,  True,  True, False, False, False, False,  True,\n",
              "       False, False,  True, False])"
            ]
          },
          "metadata": {},
          "execution_count": 107
        }
      ]
    },
    {
      "cell_type": "markdown",
      "source": [
        "**예제 11**\n",
        "\n",
        "`a08`에서 90이상이거나 10이하인 수만 가지는 배열을 불리언 연산자를 이용해 생성하세요"
      ],
      "metadata": {
        "id": "cfPWmy9QGPon"
      }
    },
    {
      "cell_type": "code",
      "metadata": {
        "id": "BV55x0xiGPoo"
      },
      "source": [
        ""
      ],
      "execution_count": null,
      "outputs": []
    },
    {
      "cell_type": "markdown",
      "source": [
        "**예제 12**\n",
        "\n",
        "\n",
        "`a08`을 shape가 `(8,5)`인 2차원 배열로 변환하고 `a12`로 바인딩 하세요."
      ],
      "metadata": {
        "id": "K0xYrJgYGbDf"
      }
    },
    {
      "cell_type": "code",
      "source": [
        "a08"
      ],
      "metadata": {
        "colab": {
          "base_uri": "https://localhost:8080/"
        },
        "id": "t2Xzc5o3dUHG",
        "outputId": "ff9e584b-5cef-43e8-abab-0752eb3a41f1"
      },
      "execution_count": 111,
      "outputs": [
        {
          "output_type": "execute_result",
          "data": {
            "text/plain": [
              "array([92, 14, 71, 60, 20, 82, 86, 74, 74, 87, 99, 23,  2, 21, 52,  1, 87,\n",
              "       29, 37,  1, 63, 59, 20, 32, 75, 57, 21, 88, 48, 90, 58, 41, 91, 59,\n",
              "       79, 14, 61, 61, 46, 61])"
            ]
          },
          "metadata": {},
          "execution_count": 111
        }
      ]
    },
    {
      "cell_type": "code",
      "metadata": {
        "id": "ITvXZBHaGbDf",
        "colab": {
          "base_uri": "https://localhost:8080/"
        },
        "outputId": "ef25714c-76b2-4201-dd01-2c783f4eae77"
      },
      "source": [
        "a12= np.resize(a08,(8,5))\n",
        "a12"
      ],
      "execution_count": 118,
      "outputs": [
        {
          "output_type": "execute_result",
          "data": {
            "text/plain": [
              "array([[92, 14, 71, 60, 20],\n",
              "       [82, 86, 74, 74, 87],\n",
              "       [99, 23,  2, 21, 52],\n",
              "       [ 1, 87, 29, 37,  1],\n",
              "       [63, 59, 20, 32, 75],\n",
              "       [57, 21, 88, 48, 90],\n",
              "       [58, 41, 91, 59, 79],\n",
              "       [14, 61, 61, 46, 61]])"
            ]
          },
          "metadata": {},
          "execution_count": 118
        }
      ]
    },
    {
      "cell_type": "markdown",
      "source": [
        "**예제 13**\n",
        "\n",
        "\n",
        "`a12`를 복사하여 `a13`으로 바인딩하고 이를 각 행 별로 정렬하세요"
      ],
      "metadata": {
        "id": "1tuYynxRGoiU"
      }
    },
    {
      "cell_type": "code",
      "metadata": {
        "id": "v33_n2dtGoiV",
        "colab": {
          "base_uri": "https://localhost:8080/"
        },
        "outputId": "eafd23db-ee6c-4d58-c95c-3530bcbc2a47"
      },
      "source": [
        "a13 = np.copy(a12)\n",
        "a13"
      ],
      "execution_count": 119,
      "outputs": [
        {
          "output_type": "execute_result",
          "data": {
            "text/plain": [
              "array([[92, 14, 71, 60, 20],\n",
              "       [82, 86, 74, 74, 87],\n",
              "       [99, 23,  2, 21, 52],\n",
              "       [ 1, 87, 29, 37,  1],\n",
              "       [63, 59, 20, 32, 75],\n",
              "       [57, 21, 88, 48, 90],\n",
              "       [58, 41, 91, 59, 79],\n",
              "       [14, 61, 61, 46, 61]])"
            ]
          },
          "metadata": {},
          "execution_count": 119
        }
      ]
    },
    {
      "cell_type": "code",
      "source": [
        "a13=np.sort(a13, axis=1)\n",
        "a13"
      ],
      "metadata": {
        "colab": {
          "base_uri": "https://localhost:8080/"
        },
        "id": "ROiEHckceAjm",
        "outputId": "b7e8db1d-4c10-47fa-9417-522b6d779466"
      },
      "execution_count": 120,
      "outputs": [
        {
          "output_type": "execute_result",
          "data": {
            "text/plain": [
              "array([[14, 20, 60, 71, 92],\n",
              "       [74, 74, 82, 86, 87],\n",
              "       [ 2, 21, 23, 52, 99],\n",
              "       [ 1,  1, 29, 37, 87],\n",
              "       [20, 32, 59, 63, 75],\n",
              "       [21, 48, 57, 88, 90],\n",
              "       [41, 58, 59, 79, 91],\n",
              "       [14, 46, 61, 61, 61]])"
            ]
          },
          "metadata": {},
          "execution_count": 120
        }
      ]
    },
    {
      "cell_type": "markdown",
      "source": [
        "**예제 14**\n",
        "\n",
        "\n",
        "`a12`를 복사하여 `a14`로 바인딩하고 각 열 별로 가장 작은수 3개를 찾으세요"
      ],
      "metadata": {
        "id": "3U84dpF0GtvC"
      }
    },
    {
      "cell_type": "code",
      "metadata": {
        "id": "IFBK4giEGtvC",
        "colab": {
          "base_uri": "https://localhost:8080/"
        },
        "outputId": "7df9368a-ce64-4b4e-9460-394049730a05"
      },
      "source": [
        "a14 = np.copy(a12)\n",
        "a14"
      ],
      "execution_count": 121,
      "outputs": [
        {
          "output_type": "execute_result",
          "data": {
            "text/plain": [
              "array([[92, 14, 71, 60, 20],\n",
              "       [82, 86, 74, 74, 87],\n",
              "       [99, 23,  2, 21, 52],\n",
              "       [ 1, 87, 29, 37,  1],\n",
              "       [63, 59, 20, 32, 75],\n",
              "       [57, 21, 88, 48, 90],\n",
              "       [58, 41, 91, 59, 79],\n",
              "       [14, 61, 61, 46, 61]])"
            ]
          },
          "metadata": {},
          "execution_count": 121
        }
      ]
    },
    {
      "cell_type": "code",
      "source": [
        "a14=np.sort(a14, axis=0)\n",
        "print(a14)\n",
        "a14[:3,]"
      ],
      "metadata": {
        "colab": {
          "base_uri": "https://localhost:8080/"
        },
        "id": "awfE0bbhejF_",
        "outputId": "7a50344e-80c7-4686-95ad-b71d1d2bf664"
      },
      "execution_count": 128,
      "outputs": [
        {
          "output_type": "stream",
          "name": "stdout",
          "text": [
            "[[ 1 14  2 21  1]\n",
            " [14 21 20 32 20]\n",
            " [57 23 29 37 52]\n",
            " [58 41 61 46 61]\n",
            " [63 59 71 48 75]\n",
            " [82 61 74 59 79]\n",
            " [92 86 88 60 87]\n",
            " [99 87 91 74 90]]\n"
          ]
        },
        {
          "output_type": "execute_result",
          "data": {
            "text/plain": [
              "array([[ 1, 14,  2, 21,  1],\n",
              "       [14, 21, 20, 32, 20],\n",
              "       [57, 23, 29, 37, 52]])"
            ]
          },
          "metadata": {},
          "execution_count": 128
        }
      ]
    },
    {
      "cell_type": "markdown",
      "source": [
        "$A$, $B$, $C$를 아래와 같이 정의하세요.\n",
        "\n",
        "\\begin{align*}\n",
        " A&= \n",
        "\\begin{pmatrix}\n",
        "1 &2  &1 \\\\ \n",
        "2 &1 & 1\\\\ \n",
        "-1 & 0 & 1\n",
        "\\end{pmatrix}\n",
        "\\end{align*}\n",
        "\n",
        "\\begin{align*}\n",
        " B&= \n",
        "\\begin{pmatrix}\n",
        "1 &0 \\\\ \n",
        "0 &1 \\\\ \n",
        "1 & 0 \n",
        "\\end{pmatrix}\n",
        "\\end{align*}\n",
        "\n",
        "\\begin{align*}\n",
        " C&= \n",
        "\\begin{pmatrix}\n",
        "1 \\\\ \n",
        "0  \\\\ \n",
        "-1  \n",
        "\\end{pmatrix}\n",
        "\\end{align*}\n",
        "\n"
      ],
      "metadata": {
        "id": "tEodss9KIfy_"
      }
    },
    {
      "cell_type": "code",
      "source": [
        "A=np.array([[1,2,1],\n",
        "            [2,1,1],\n",
        "            [-1,0,1]])\n",
        "B=np.array([[1,0],\n",
        "            [0,1],\n",
        "            [1,0]])\n",
        "C=np.array([[1],\n",
        "            [0],\n",
        "            [-1]])\n",
        "print(A)\n",
        "print(B)\n",
        "print(C)"
      ],
      "metadata": {
        "id": "lfugPiWZoN60",
        "colab": {
          "base_uri": "https://localhost:8080/"
        },
        "outputId": "95b9ecd0-fa23-4a0b-87fc-c982035de26c"
      },
      "execution_count": 131,
      "outputs": [
        {
          "output_type": "stream",
          "name": "stdout",
          "text": [
            "[[ 1  2  1]\n",
            " [ 2  1  1]\n",
            " [-1  0  1]]\n",
            "[[1 0]\n",
            " [0 1]\n",
            " [1 0]]\n",
            "[[ 1]\n",
            " [ 0]\n",
            " [-1]]\n"
          ]
        }
      ]
    },
    {
      "cell_type": "markdown",
      "source": [
        "**예제 15**\n",
        "\n",
        "\n",
        "$A$, $B$ 의 행렬곱"
      ],
      "metadata": {
        "id": "uLmADn5RJpM-"
      }
    },
    {
      "cell_type": "code",
      "metadata": {
        "id": "6y-Dpcf1JpNI",
        "colab": {
          "base_uri": "https://localhost:8080/"
        },
        "outputId": "91b2d4ee-def8-4a4c-b743-62f2b053c7f0"
      },
      "source": [
        "np.matmul(A,B)"
      ],
      "execution_count": 134,
      "outputs": [
        {
          "output_type": "execute_result",
          "data": {
            "text/plain": [
              "array([[2, 2],\n",
              "       [3, 1],\n",
              "       [0, 0]])"
            ]
          },
          "metadata": {},
          "execution_count": 134
        }
      ]
    },
    {
      "cell_type": "markdown",
      "source": [
        "**예제 16**\n",
        "\n",
        "\n",
        "$A$, $C$ 의 행렬곱"
      ],
      "metadata": {
        "id": "OeS66T5ZJ4He"
      }
    },
    {
      "cell_type": "code",
      "metadata": {
        "id": "S_sKPQnNJ4Hf",
        "colab": {
          "base_uri": "https://localhost:8080/"
        },
        "outputId": "32e7655f-000a-4866-e170-c28ceaf47686"
      },
      "source": [
        "np.matmul(A,C)"
      ],
      "execution_count": 135,
      "outputs": [
        {
          "output_type": "execute_result",
          "data": {
            "text/plain": [
              "array([[ 0],\n",
              "       [ 1],\n",
              "       [-2]])"
            ]
          },
          "metadata": {},
          "execution_count": 135
        }
      ]
    },
    {
      "cell_type": "markdown",
      "source": [
        "**예제 17**\n",
        "\n",
        "\n",
        "$A * C$"
      ],
      "metadata": {
        "id": "QAJw9V1JKSk5"
      }
    },
    {
      "cell_type": "code",
      "metadata": {
        "id": "PvIutUcLKSk6",
        "colab": {
          "base_uri": "https://localhost:8080/"
        },
        "outputId": "9db7e9ae-5ff9-4293-aea1-e26f771073e6"
      },
      "source": [
        "A*C"
      ],
      "execution_count": 136,
      "outputs": [
        {
          "output_type": "execute_result",
          "data": {
            "text/plain": [
              "array([[ 1,  2,  1],\n",
              "       [ 0,  0,  0],\n",
              "       [ 1,  0, -1]])"
            ]
          },
          "metadata": {},
          "execution_count": 136
        }
      ]
    },
    {
      "cell_type": "markdown",
      "source": [
        "**예제 18**\n",
        "\n",
        "\n",
        "$B$와 $B^T$의 내적"
      ],
      "metadata": {
        "id": "OVD8v-qCJ-rv"
      }
    },
    {
      "cell_type": "code",
      "metadata": {
        "id": "9trfMVWJJ-rv",
        "colab": {
          "base_uri": "https://localhost:8080/"
        },
        "outputId": "10e9a821-8ea2-46af-8094-587f4942ae60"
      },
      "source": [
        "np.dot(B,B.T)"
      ],
      "execution_count": 150,
      "outputs": [
        {
          "output_type": "execute_result",
          "data": {
            "text/plain": [
              "array([[1, 0, 1],\n",
              "       [0, 1, 0],\n",
              "       [1, 0, 1]])"
            ]
          },
          "metadata": {},
          "execution_count": 150
        }
      ]
    },
    {
      "cell_type": "markdown",
      "source": [
        "\n",
        "20명의 학생의 번호와, 키와, 수행평가 점수가 아래와 같이 정의 되어 있습니다. \n",
        "\n",
        "```\n",
        "idx = [1,2,3,4,5,6,7,8,9,10,11,12,13,14,15,16,17,18,19,20]\n",
        "tall = [178, 171, 179, 173, 152, 157, 175, 180, 182, 165, 160, 164, 174, 163, 158, 159, 172, 155, 177, 162]\n",
        "score = [57, 64, 85, 30, 58, 72, 84, 63, 49, 94, 70, 54, 60, 68, 74, 78, 92, 86, 51, 37]\n",
        "```\n"
      ],
      "metadata": {
        "id": "iMnix5w9psKz"
      }
    },
    {
      "cell_type": "code",
      "source": [
        "idx = [1,2,3,4,5,6,7,8,9,10,11,12,13,14,15,16,17,18,19,20]\n",
        "tall = [178, 171, 179, 173, 152, 157, 175, 180, 182, 165, 160, 164, 174, 163, 158, 159, 172, 155, 177, 162]\n",
        "score = [57, 64, 85, 30, 58, 72, 84, 63, 49, 94, 70, 54, 60, 68, 74, 78, 92, 86, 51, 37]"
      ],
      "metadata": {
        "id": "D0i699xups-x"
      },
      "execution_count": 143,
      "outputs": []
    },
    {
      "cell_type": "code",
      "source": [
        "idx=np.array(idx)\n",
        "tall=np.array(tall)\n",
        "score=np.array(score)"
      ],
      "metadata": {
        "id": "FcwmPcFDk8Va"
      },
      "execution_count": 144,
      "outputs": []
    },
    {
      "cell_type": "markdown",
      "source": [
        "**예제 19**\n",
        "\n",
        "키가 큰 순으로 학생들의 번호(idx)를 정렬하세요.\n",
        "\n"
      ],
      "metadata": {
        "id": "c5tYq2nKol3P"
      }
    },
    {
      "cell_type": "code",
      "metadata": {
        "id": "9kJ5nVO0ol3W",
        "colab": {
          "base_uri": "https://localhost:8080/"
        },
        "outputId": "30df21e6-a543-4356-f55d-2ecafcfd6901"
      },
      "source": [
        "sort_idx = np.argsort(tall)\n",
        "idx[sort_idx]"
      ],
      "execution_count": 145,
      "outputs": [
        {
          "output_type": "execute_result",
          "data": {
            "text/plain": [
              "array([ 5, 18,  6, 15, 16, 11, 20, 14, 12, 10,  2, 17,  4, 13,  7, 19,  1,\n",
              "        3,  8,  9])"
            ]
          },
          "metadata": {},
          "execution_count": 145
        }
      ]
    },
    {
      "cell_type": "markdown",
      "source": [
        "**예제 20**\n",
        "\n",
        "수행평가 점수가 낮은 순으로 학생들의 번호(idx)를 정렬하세요.\n"
      ],
      "metadata": {
        "id": "zUs8t2AipxEp"
      }
    },
    {
      "cell_type": "code",
      "metadata": {
        "id": "9Kl8UyflpxEq",
        "colab": {
          "base_uri": "https://localhost:8080/"
        },
        "outputId": "8b64417d-ea57-4d08-e8a0-0d5e5eaaddbf"
      },
      "source": [
        "sort_score = np.argsort(score)\n",
        "idx[sort_score]"
      ],
      "execution_count": 149,
      "outputs": [
        {
          "output_type": "execute_result",
          "data": {
            "text/plain": [
              "array([ 4, 20,  9, 19, 12,  1,  5, 13,  8,  2, 14, 11,  6, 15, 16,  7,  3,\n",
              "       18, 17, 10])"
            ]
          },
          "metadata": {},
          "execution_count": 149
        }
      ]
    }
  ]
}