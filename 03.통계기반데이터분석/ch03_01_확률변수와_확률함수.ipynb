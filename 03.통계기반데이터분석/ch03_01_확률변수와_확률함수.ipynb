{
  "nbformat": 4,
  "nbformat_minor": 0,
  "metadata": {
    "colab": {
      "name": "ch03_01_확률변수와_확률함수.ipynb",
      "provenance": [],
      "collapsed_sections": [],
      "include_colab_link": true
    },
    "kernelspec": {
      "name": "python3",
      "display_name": "Python 3"
    },
    "language_info": {
      "name": "python"
    }
  },
  "cells": [
    {
      "cell_type": "markdown",
      "metadata": {
        "id": "view-in-github",
        "colab_type": "text"
      },
      "source": [
        "<a href=\"https://colab.research.google.com/github/LeeHuiJong/SkillTreePython-DataAnalysis/blob/main/ch03_01_%ED%99%95%EB%A5%A0%EB%B3%80%EC%88%98%EC%99%80_%ED%99%95%EB%A5%A0%ED%95%A8%EC%88%98.ipynb\" target=\"_parent\"><img src=\"https://colab.research.google.com/assets/colab-badge.svg\" alt=\"Open In Colab\"/></a>"
      ]
    },
    {
      "cell_type": "markdown",
      "source": [
        "# ch03.01. 확률 변수와 확률 함수\n",
        "---\n",
        "* 날짜:\n",
        "* 이름:\n",
        "\n",
        "## 학습내용\n",
        "    - 실험 (Experiment) : 데이터셋을 생성하는 모든 프로세스 \n",
        "    - 표본 공간 (Sample space): 실험에서 도출되는 모든 결과를 포함하는 공간\n",
        "    - 사건 (Event) : 표본 공간 S의 부분집합\n",
        "    - 확률 변수 (Random variable) : 표본공간의 모든 요소를 실수로 매핑하는 함수\n",
        "    - 확률 함수 (Probability function) : 확률을 매핑하는 함수"
      ],
      "metadata": {
        "id": "wWpXZc2fi39U"
      }
    },
    {
      "cell_type": "code",
      "execution_count": 13,
      "metadata": {
        "id": "ASwbQ96XXSib"
      },
      "outputs": [],
      "source": [
        "import numpy as np\n",
        "import matplotlib.pyplot as plt"
      ]
    },
    {
      "cell_type": "markdown",
      "source": [
        "#### **예제 01. 공정한 주사위**\n",
        "\n"
      ],
      "metadata": {
        "id": "82a3GtBCNjto"
      }
    },
    {
      "cell_type": "markdown",
      "source": [
        "* 확률변수가 '주사위를 굴려 나온 눈의 값' 일 때, 확률변수 $X$를 정의하세요."
      ],
      "metadata": {
        "id": "1ACJgMN1N3Jn"
      }
    },
    {
      "cell_type": "code",
      "source": [
        "X = [1,2,3,4,5,6]  # 벡터, x는 숫자값"
      ],
      "metadata": {
        "id": "i0hS4O76OIFP"
      },
      "execution_count": 3,
      "outputs": []
    },
    {
      "cell_type": "markdown",
      "source": [
        "* 주사위의 모든 면이 '공정' 할 때, 확률 질량 함수 $P$를 정의하세요."
      ],
      "metadata": {
        "id": "uP4JqP4lOMnW"
      }
    },
    {
      "cell_type": "code",
      "source": [
        "def P(x):\n",
        "  if 1<= x <= 6: return 1/6\n",
        "  else: 0\n",
        "\n",
        "P_X = list(map(P, X))\n",
        "print(P_X)"
      ],
      "metadata": {
        "id": "pWiNfRAoi2oU",
        "colab": {
          "base_uri": "https://localhost:8080/"
        },
        "outputId": "b7465cbc-8ee6-45f5-a3aa-962103249734"
      },
      "execution_count": 4,
      "outputs": [
        {
          "output_type": "stream",
          "name": "stdout",
          "text": [
            "[0.16666666666666666, 0.16666666666666666, 0.16666666666666666, 0.16666666666666666, 0.16666666666666666, 0.16666666666666666]\n"
          ]
        }
      ]
    },
    {
      "cell_type": "markdown",
      "source": [
        "* 확률 분포를 그리세요."
      ],
      "metadata": {
        "id": "YT_NwyHEOZpQ"
      }
    },
    {
      "cell_type": "code",
      "source": [
        "plt.bar(X, P_X)"
      ],
      "metadata": {
        "id": "PPNa5Kpim7Bx",
        "colab": {
          "base_uri": "https://localhost:8080/",
          "height": 283
        },
        "outputId": "67d15c9d-6bb0-4ed8-fd9a-341a63898e3a"
      },
      "execution_count": 10,
      "outputs": [
        {
          "output_type": "execute_result",
          "data": {
            "text/plain": [
              "<BarContainer object of 6 artists>"
            ]
          },
          "metadata": {},
          "execution_count": 10
        },
        {
          "output_type": "display_data",
          "data": {
            "text/plain": [
              "<Figure size 432x288 with 1 Axes>"
            ],
            "image/png": "[encoded data removed]"
          },
          "metadata": {
            "needs_background": "light"
          }
        }
      ]
    },
    {
      "cell_type": "markdown",
      "source": [
        "* 누적 확률 분포를 그리세요."
      ],
      "metadata": {
        "id": "u5_TJcvKOmjn"
      }
    },
    {
      "cell_type": "code",
      "source": [
        "F_X = np.cumsum(P_X)\n",
        "print(F_X)\n",
        "plt.title('c.d.f')\n",
        "_=plt.plot(X, F_X, marker='o')"
      ],
      "metadata": {
        "id": "JjzXLhk9rpyv",
        "colab": {
          "base_uri": "https://localhost:8080/",
          "height": 299
        },
        "outputId": "8fa095e3-28cb-4611-a204-4176dd13df7b"
      },
      "execution_count": 16,
      "outputs": [
        {
          "output_type": "stream",
          "name": "stdout",
          "text": [
            "[0.16666667 0.33333333 0.5        0.66666667 0.83333333 1.        ]\n"
          ]
        },
        {
          "output_type": "display_data",
          "data": {
            "text/plain": [
              "<Figure size 432x288 with 1 Axes>"
            ],
            "image/png": "[encoded data removed]"
          },
          "metadata": {
            "needs_background": "light"
          }
        }
      ]
    },
    {
      "cell_type": "markdown",
      "source": [
        "#### **예제 02. 동전 두번 던지기**\n"
      ],
      "metadata": {
        "id": "aaiN5uQHVCe7"
      }
    },
    {
      "cell_type": "markdown",
      "source": [
        "* 확률변수가 '앞면이 나온 횟수' 일 때, 확률변수 $X$를 정의하세요."
      ],
      "metadata": {
        "id": "EmhyKeQ1VCe8"
      }
    },
    {
      "cell_type": "code",
      "source": [
        "X = [0,1,2]"
      ],
      "metadata": {
        "id": "scnOXxGQVCe8"
      },
      "execution_count": 102,
      "outputs": []
    },
    {
      "cell_type": "markdown",
      "source": [
        "* 확률 질량 함수를 정의하세요."
      ],
      "metadata": {
        "id": "0DKjpoFLVCe8"
      }
    },
    {
      "cell_type": "code",
      "source": [
        "def P(x):\n",
        "  if x==0: return 0.25\n",
        "  elif x==1: return 0.5\n",
        "  elif x==2: return 0.25\n",
        "  else: p=0\n",
        "\n",
        "P_x = list(map(P, X))\n",
        "print(P_x)"
      ],
      "metadata": {
        "id": "oqqQDpWsVCe8",
        "colab": {
          "base_uri": "https://localhost:8080/"
        },
        "outputId": "37c8c65a-7088-4e40-b145-02cec6dc0616"
      },
      "execution_count": 103,
      "outputs": [
        {
          "output_type": "stream",
          "name": "stdout",
          "text": [
            "[0.25, 0.5, 0.25]\n"
          ]
        }
      ]
    },
    {
      "cell_type": "markdown",
      "source": [
        "* 확률 분포를 그리세요."
      ],
      "metadata": {
        "id": "9R9x4M08VCe9"
      }
    },
    {
      "cell_type": "code",
      "source": [
        "plt.bar(X, P_x)"
      ],
      "metadata": {
        "id": "1WUTddGpVCe9",
        "colab": {
          "base_uri": "https://localhost:8080/",
          "height": 283
        },
        "outputId": "5ab032c5-e7e3-4eb7-ce1f-f9759098f9d5"
      },
      "execution_count": 108,
      "outputs": [
        {
          "output_type": "execute_result",
          "data": {
            "text/plain": [
              "<BarContainer object of 3 artists>"
            ]
          },
          "metadata": {},
          "execution_count": 108
        },
        {
          "output_type": "display_data",
          "data": {
            "text/plain": [
              "<Figure size 432x288 with 1 Axes>"
            ],
            "image/png": "[encoded data removed]"
          },
          "metadata": {
            "needs_background": "light"
          }
        }
      ]
    },
    {
      "cell_type": "markdown",
      "source": [
        "* 누적 확률 분포를 그리세요."
      ],
      "metadata": {
        "id": "uWoDJPIlVCe9"
      }
    },
    {
      "cell_type": "code",
      "source": [
        "plt.plot(np.cumsum(P_x), marker='o')"
      ],
      "metadata": {
        "id": "kkEvt6eNrlnX",
        "colab": {
          "base_uri": "https://localhost:8080/",
          "height": 283
        },
        "outputId": "ab494f25-5f76-4cee-c3c6-997ec86345f5"
      },
      "execution_count": 107,
      "outputs": [
        {
          "output_type": "execute_result",
          "data": {
            "text/plain": [
              "[<matplotlib.lines.Line2D at 0x7fa5e1a1cf50>]"
            ]
          },
          "metadata": {},
          "execution_count": 107
        },
        {
          "output_type": "display_data",
          "data": {
            "text/plain": [
              "<Figure size 432x288 with 1 Axes>"
            ],
            "image/png": "[encoded data removed]"
          },
          "metadata": {
            "needs_background": "light"
          }
        }
      ]
    },
    {
      "cell_type": "markdown",
      "source": [
        "#### **예제 03. 화재 발생**\n"
      ],
      "metadata": {
        "id": "csb8tewGVmvb"
      }
    },
    {
      "cell_type": "markdown",
      "source": [
        "*  확률변수가 '1년간 발생한 화재건수' 일 때 $X$를 정의하세요."
      ],
      "metadata": {
        "id": "fFwyEMxkVmvh"
      }
    },
    {
      "cell_type": "code",
      "source": [
        "# N=10 으로 정의\n",
        "X = [i for i in range(11)]# 리스트 \n",
        "print(X)\n",
        "\n",
        "X_arr = np.arange(11)\n",
        "print(X_arr)"
      ],
      "metadata": {
        "id": "o-ZY6qYBVmvh",
        "colab": {
          "base_uri": "https://localhost:8080/"
        },
        "outputId": "16e0c72f-7d6e-437c-be90-54726d1b3f78"
      },
      "execution_count": 20,
      "outputs": [
        {
          "output_type": "stream",
          "name": "stdout",
          "text": [
            "[0, 1, 2, 3, 4, 5, 6, 7, 8, 9, 10]\n",
            "[ 0  1  2  3  4  5  6  7  8  9 10]\n"
          ]
        }
      ]
    },
    {
      "cell_type": "markdown",
      "source": [
        "* 화재발생 확률이 다음과 같이 주어졌을 때 함수 $f$ 를 정의하세요.\n",
        "\n",
        "\\begin{align}\n",
        "f(X=x)=\\frac{1}{2^{(x+1)}}\n",
        "\\end{align}"
      ],
      "metadata": {
        "id": "YQa-1CopVmvh"
      }
    },
    {
      "cell_type": "code",
      "source": [
        "def f(x):\n",
        "  return 1/2**(x+1)\n",
        "\n",
        "f_X = list(map(f, X))\n",
        "print(f_X)\n",
        "\n",
        "f_X_arr= list(map(f, X_arr))\n",
        "print(f_X_arr)\n",
        "\n",
        "f_X_arr = f(X_arr) # 브로드캐스팅\n",
        "print(f_X_arr)"
      ],
      "metadata": {
        "id": "Ez1kBPTTVmvh",
        "colab": {
          "base_uri": "https://localhost:8080/"
        },
        "outputId": "82becd73-6fbe-4ef7-bdb7-8e4332e5534b"
      },
      "execution_count": 23,
      "outputs": [
        {
          "output_type": "stream",
          "name": "stdout",
          "text": [
            "[0.5, 0.25, 0.125, 0.0625, 0.03125, 0.015625, 0.0078125, 0.00390625, 0.001953125, 0.0009765625, 0.00048828125]\n",
            "[0.5, 0.25, 0.125, 0.0625, 0.03125, 0.015625, 0.0078125, 0.00390625, 0.001953125, 0.0009765625, 0.00048828125]\n",
            "[5.0000000e-01 2.5000000e-01 1.2500000e-01 6.2500000e-02 3.1250000e-02\n",
            " 1.5625000e-02 7.8125000e-03 3.9062500e-03 1.9531250e-03 9.7656250e-04\n",
            " 4.8828125e-04]\n"
          ]
        }
      ]
    },
    {
      "cell_type": "markdown",
      "source": [
        "* 확률 분포를 그리세요."
      ],
      "metadata": {
        "id": "9HAIHU1HVmvh"
      }
    },
    {
      "cell_type": "code",
      "source": [
        "plt.plot(X, f_X, marker='o')"
      ],
      "metadata": {
        "id": "NcO2LheUVmvi",
        "colab": {
          "base_uri": "https://localhost:8080/",
          "height": 283
        },
        "outputId": "4ccf8589-5359-4e56-b8b2-907145fff71f"
      },
      "execution_count": 26,
      "outputs": [
        {
          "output_type": "execute_result",
          "data": {
            "text/plain": [
              "[<matplotlib.lines.Line2D at 0x7fa5ebdde410>]"
            ]
          },
          "metadata": {},
          "execution_count": 26
        },
        {
          "output_type": "display_data",
          "data": {
            "text/plain": [
              "<Figure size 432x288 with 1 Axes>"
            ],
            "image/png": "[encoded data removed]"
          },
          "metadata": {
            "needs_background": "light"
          }
        }
      ]
    },
    {
      "cell_type": "markdown",
      "source": [
        "* 누적 확률 분포를 그리세요."
      ],
      "metadata": {
        "id": "deIDtmURVmvi"
      }
    },
    {
      "cell_type": "code",
      "source": [
        "F_X = np.cumsum(f_X)\n",
        "print(F_X)\n",
        "_=plt.plot(X, F_X, marker='o')"
      ],
      "metadata": {
        "id": "L1lhlFfNVmvi",
        "colab": {
          "base_uri": "https://localhost:8080/",
          "height": 302
        },
        "outputId": "c16bbae4-404f-407c-b910-38f347627047"
      },
      "execution_count": 27,
      "outputs": [
        {
          "output_type": "stream",
          "name": "stdout",
          "text": [
            "[0.5        0.75       0.875      0.9375     0.96875    0.984375\n",
            " 0.9921875  0.99609375 0.99804688 0.99902344 0.99951172]\n"
          ]
        },
        {
          "output_type": "display_data",
          "data": {
            "text/plain": [
              "<Figure size 432x288 with 1 Axes>"
            ],
            "image/png": "[encoded data removed]"
          },
          "metadata": {
            "needs_background": "light"
          }
        }
      ]
    },
    {
      "cell_type": "markdown",
      "source": [
        "#### **예제 04. 공정하지 않은 주사위**\n"
      ],
      "metadata": {
        "id": "JbMCXAgaOrw_"
      }
    },
    {
      "cell_type": "markdown",
      "source": [
        "* 확률변수가 '주사위를 굴려 나온 눈의 값' 일 때, 확률변수 $X$를 정의하세요."
      ],
      "metadata": {
        "id": "TFXEpuObOrxA"
      }
    },
    {
      "cell_type": "code",
      "source": [
        "X1 = [1,2,3,4,5,6]"
      ],
      "metadata": {
        "id": "k0267EHiOrxA"
      },
      "execution_count": 33,
      "outputs": []
    },
    {
      "cell_type": "markdown",
      "source": [
        "* 주사위의 짝수 면이 나올 확률이 홀수 면이 나올 확률의 2배일 때, 확률 질량 함수 $P$를 정의하세요."
      ],
      "metadata": {
        "id": "TWicXFFdOrxA"
      }
    },
    {
      "cell_type": "code",
      "source": [
        "def P(x):\n",
        "  if x%2==0: return 2/9\n",
        "  else: return 1/9\n",
        "\n",
        "P1_X = list(map(P, X1))\n",
        "print(P1_X)"
      ],
      "metadata": {
        "id": "ir4IqIO9OrxA",
        "colab": {
          "base_uri": "https://localhost:8080/"
        },
        "outputId": "4a9698e8-7328-417c-fc75-7424cd1c2c0f"
      },
      "execution_count": 37,
      "outputs": [
        {
          "output_type": "stream",
          "name": "stdout",
          "text": [
            "[0.1111111111111111, 0.2222222222222222, 0.1111111111111111, 0.2222222222222222, 0.1111111111111111, 0.2222222222222222]\n"
          ]
        }
      ]
    },
    {
      "cell_type": "markdown",
      "source": [
        "* 확률분포 를 그리세요."
      ],
      "metadata": {
        "id": "JOWFqozBOrxA"
      }
    },
    {
      "cell_type": "code",
      "source": [
        "plt.bar(X1, P1_X)"
      ],
      "metadata": {
        "id": "WfgOLsxbOrxA",
        "colab": {
          "base_uri": "https://localhost:8080/",
          "height": 283
        },
        "outputId": "8672b3fe-b944-426f-f96b-39c701f92e6b"
      },
      "execution_count": 41,
      "outputs": [
        {
          "output_type": "execute_result",
          "data": {
            "text/plain": [
              "<BarContainer object of 6 artists>"
            ]
          },
          "metadata": {},
          "execution_count": 41
        },
        {
          "output_type": "display_data",
          "data": {
            "text/plain": [
              "<Figure size 432x288 with 1 Axes>"
            ],
            "image/png": "[encoded data removed]"
          },
          "metadata": {
            "needs_background": "light"
          }
        }
      ]
    },
    {
      "cell_type": "markdown",
      "source": [
        "* 누적 확률 분포를 그리세요."
      ],
      "metadata": {
        "id": "DivVdhyrOrxB"
      }
    },
    {
      "cell_type": "code",
      "source": [
        "F_X = np.cumsum(P1_X)\n",
        "print(F_X)\n",
        "_=plt.plot(X1, F_X, marker='o')"
      ],
      "metadata": {
        "id": "KHe2uMwmOrxB",
        "colab": {
          "base_uri": "https://localhost:8080/",
          "height": 283
        },
        "outputId": "e518725b-59e6-4343-f5ed-6010e650bde8"
      },
      "execution_count": 43,
      "outputs": [
        {
          "output_type": "stream",
          "name": "stdout",
          "text": [
            "[0.11111111 0.33333333 0.44444444 0.66666667 0.77777778 1.        ]\n"
          ]
        },
        {
          "output_type": "display_data",
          "data": {
            "text/plain": [
              "<Figure size 432x288 with 1 Axes>"
            ],
            "image/png": "[encoded data removed]"
          },
          "metadata": {
            "needs_background": "light"
          }
        }
      ]
    },
    {
      "cell_type": "markdown",
      "source": [
        "#### **예제 05. 주사위 두번 굴리기**\n"
      ],
      "metadata": {
        "id": "MkZcbqe2Xhmh"
      }
    },
    {
      "cell_type": "markdown",
      "source": [
        "* 확률변수가 '주사위를 두번 굴려 나온 눈의 합' 일 때, 확률변수 $X$를 정의하세요."
      ],
      "metadata": {
        "id": "D_JC-aFkXhmi"
      }
    },
    {
      "cell_type": "code",
      "source": [
        "X = [1,2,3,4,5,6]"
      ],
      "metadata": {
        "id": "ouNH_AgP75jA"
      },
      "execution_count": 50,
      "outputs": []
    },
    {
      "cell_type": "code",
      "source": [
        "X5 = [2,3,4,5,6,7,8,9,10,11,12]"
      ],
      "metadata": {
        "id": "lg4_wfZNXhmi"
      },
      "execution_count": 68,
      "outputs": []
    },
    {
      "cell_type": "markdown",
      "source": [
        "*  확률 질량 함수 $P$ 를 정의하세요."
      ],
      "metadata": {
        "id": "9vdwsNYgXhmi"
      }
    },
    {
      "cell_type": "code",
      "source": [
        "X= np.array([1,2,3,4,5,6])"
      ],
      "metadata": {
        "id": "Em2pZ2608KD3"
      },
      "execution_count": 52,
      "outputs": []
    },
    {
      "cell_type": "code",
      "source": [
        "for i in X:\n",
        "  print(i+X)"
      ],
      "metadata": {
        "colab": {
          "base_uri": "https://localhost:8080/"
        },
        "id": "4jGklYNZ8cfI",
        "outputId": "1957e9d0-e8c2-4351-d5cf-5187777a797d"
      },
      "execution_count": 62,
      "outputs": [
        {
          "output_type": "stream",
          "name": "stdout",
          "text": [
            "[2 3 4 5 6 7]\n",
            "[3 4 5 6 7 8]\n",
            "[4 5 6 7 8 9]\n",
            "[ 5  6  7  8  9 10]\n",
            "[ 6  7  8  9 10 11]\n",
            "[ 7  8  9 10 11 12]\n"
          ]
        }
      ]
    },
    {
      "cell_type": "code",
      "source": [
        "def P(x):\n",
        "  if x==2: return 1/36\n",
        "  elif x==3: return 2/36\n",
        "  elif x==4: return 3/36\n",
        "  elif x==5: return 4/36\n",
        "  elif x==6: return 5/36\n",
        "  elif x==7: return 6/36\n",
        "  elif x==8: return 5/36\n",
        "  elif x==9: return 4/36\n",
        "  elif x==10: return 3/36\n",
        "  elif x==11: return 2/36\n",
        "  else: return 1/36\n",
        "\n",
        "P5_X = list(map(P, X5))\n",
        "print(P5_X)  "
      ],
      "metadata": {
        "id": "QbV0gd4tXhmi",
        "colab": {
          "base_uri": "https://localhost:8080/"
        },
        "outputId": "2f0fa284-972f-41c3-a356-d9575876cc98"
      },
      "execution_count": 71,
      "outputs": [
        {
          "output_type": "stream",
          "name": "stdout",
          "text": [
            "[0.027777777777777776, 0.05555555555555555, 0.08333333333333333, 0.1111111111111111, 0.1388888888888889, 0.16666666666666666, 0.1388888888888889, 0.1111111111111111, 0.08333333333333333, 0.05555555555555555, 0.027777777777777776]\n"
          ]
        }
      ]
    },
    {
      "cell_type": "markdown",
      "source": [
        "* 확률 분포를 그리세요."
      ],
      "metadata": {
        "id": "dENmsSwIXhmi"
      }
    },
    {
      "cell_type": "code",
      "source": [
        "plt.bar(X5, P5_X)"
      ],
      "metadata": {
        "colab": {
          "base_uri": "https://localhost:8080/",
          "height": 283
        },
        "id": "bLD4RYxNA2-9",
        "outputId": "ed075981-511a-4d09-f106-40ba7497d354"
      },
      "execution_count": 72,
      "outputs": [
        {
          "output_type": "execute_result",
          "data": {
            "text/plain": [
              "<BarContainer object of 11 artists>"
            ]
          },
          "metadata": {},
          "execution_count": 72
        },
        {
          "output_type": "display_data",
          "data": {
            "text/plain": [
              "<Figure size 432x288 with 1 Axes>"
            ],
            "image/png": "[encoded data removed]"
          },
          "metadata": {
            "needs_background": "light"
          }
        }
      ]
    },
    {
      "cell_type": "markdown",
      "source": [
        "* 누적 확률 분포를 그리세요."
      ],
      "metadata": {
        "id": "VWD3Q1jRXhmi"
      }
    },
    {
      "cell_type": "code",
      "source": [
        "F5_X = np.cumsum(P5_X)\n",
        "print(F5_X)\n",
        "_=plt.plot(X5, F5_X, marker='o')"
      ],
      "metadata": {
        "id": "4zuqckh3Xhmj",
        "colab": {
          "base_uri": "https://localhost:8080/",
          "height": 302
        },
        "outputId": "ee66c284-1563-48db-f19e-c349f8114041"
      },
      "execution_count": 73,
      "outputs": [
        {
          "output_type": "stream",
          "name": "stdout",
          "text": [
            "[0.02777778 0.08333333 0.16666667 0.27777778 0.41666667 0.58333333\n",
            " 0.72222222 0.83333333 0.91666667 0.97222222 1.        ]\n"
          ]
        },
        {
          "output_type": "display_data",
          "data": {
            "text/plain": [
              "<Figure size 432x288 with 1 Axes>"
            ],
            "image/png": "[encoded data removed]"
          },
          "metadata": {
            "needs_background": "light"
          }
        }
      ]
    },
    {
      "cell_type": "markdown",
      "source": [
        "#### **예제 06. 손의 길이**\n"
      ],
      "metadata": {
        "id": "PkwoNqyoiQ8i"
      }
    },
    {
      "cell_type": "markdown",
      "source": [
        "* 확률변수가 '성인의 손 길이(cm)' 입니다. $X$를 10부터 20까지 1000개의 값으로 정의하세요."
      ],
      "metadata": {
        "id": "ZOyUQpNtiQ8o"
      }
    },
    {
      "cell_type": "code",
      "source": [
        "X6 = np.linspace(10,20,1000)"
      ],
      "metadata": {
        "id": "NIdnQlEaiQ8o"
      },
      "execution_count": 77,
      "outputs": []
    },
    {
      "cell_type": "markdown",
      "source": [
        "* 손 길이에 대한 확률이 다음과 같이 주어졌을 때 함수 $f$ 를 정의하세요. ($\\sigma$ = 1)\n",
        "\n",
        "\n",
        "\n",
        "\\begin{align}\n",
        " f(x)=\\frac{1}{\\sqrt{2\\pi}\\sigma}\\exp^{-\\frac{(x-15.2)^2}{2*\\sigma^2}}\n",
        "\\end{align}"
      ],
      "metadata": {
        "id": "gj2dFgBJiQ8o"
      }
    },
    {
      "cell_type": "code",
      "source": [
        "def f(x, sigma=1):\n",
        "  return (1 / np.sqrt(2 * np.pi) * sigma) * np.exp(-(x-15.2)**2/(2*sigma)**2)"
      ],
      "metadata": {
        "id": "P4ytpN5giQ8o"
      },
      "execution_count": 76,
      "outputs": []
    },
    {
      "cell_type": "markdown",
      "source": [
        "* 확률 분포를 그리세요."
      ],
      "metadata": {
        "id": "y-d1Q_EdiQ8o"
      }
    },
    {
      "cell_type": "code",
      "source": [
        "P6_X = f(X)"
      ],
      "metadata": {
        "id": "WVlWVlutC_ty"
      },
      "execution_count": 79,
      "outputs": []
    },
    {
      "cell_type": "code",
      "source": [
        "plt.plot(X6, P6_X)"
      ],
      "metadata": {
        "id": "F6y785cJiQ8o",
        "colab": {
          "base_uri": "https://localhost:8080/",
          "height": 283
        },
        "outputId": "97044d92-e287-4b9f-aa74-e13712024306"
      },
      "execution_count": 80,
      "outputs": [
        {
          "output_type": "execute_result",
          "data": {
            "text/plain": [
              "[<matplotlib.lines.Line2D at 0x7fa5eb963110>]"
            ]
          },
          "metadata": {},
          "execution_count": 80
        },
        {
          "output_type": "display_data",
          "data": {
            "text/plain": [
              "<Figure size 432x288 with 1 Axes>"
            ],
            "image/png": "[encoded data removed]"
          },
          "metadata": {
            "needs_background": "light"
          }
        }
      ]
    },
    {
      "cell_type": "markdown",
      "source": [
        "* 누적 확률 분포를 그리세요."
      ],
      "metadata": {
        "id": "TKCRdDB4iQ8p"
      }
    },
    {
      "cell_type": "code",
      "source": [
        "plt.plot(np.cumsum(P6_X))"
      ],
      "metadata": {
        "id": "vOPgzT8SiQ8p",
        "colab": {
          "base_uri": "https://localhost:8080/",
          "height": 283
        },
        "outputId": "d10f534b-2a11-48c0-f841-42216eedbbe5"
      },
      "execution_count": 81,
      "outputs": [
        {
          "output_type": "execute_result",
          "data": {
            "text/plain": [
              "[<matplotlib.lines.Line2D at 0x7fa5eb8cabd0>]"
            ]
          },
          "metadata": {},
          "execution_count": 81
        },
        {
          "output_type": "display_data",
          "data": {
            "text/plain": [
              "<Figure size 432x288 with 1 Axes>"
            ],
            "image/png": "[encoded data removed]"
          },
          "metadata": {
            "needs_background": "light"
          }
        }
      ]
    },
    {
      "cell_type": "markdown",
      "source": [
        "#### **예제 07. 파라미터 변경**\n",
        "\n",
        "예제 06 에서 정의한 함수 $f$의 파라미터 $\\sigma$를 각각 `0.5, 1, 2, 4`로 정의한 후 확률분포와 누적확률 분포를 그리세요.\n",
        "\n",
        "\\begin{align}\n",
        " f(x)=\\frac{1}{\\sqrt{2\\pi}\\sigma}\\exp^{-\\frac{(x-15.2)^2}{2*\\sigma^2}}\n",
        "\\end{align}"
      ],
      "metadata": {
        "id": "fIC9ftgHuQdj"
      }
    },
    {
      "cell_type": "code",
      "source": [
        "def K(x, sigma=0.5):\n",
        "  return (1 / np.sqrt(2 * np.pi) * sigma) * np.exp(-(x-15.2)**2/(2*sigma)**2)"
      ],
      "metadata": {
        "id": "AexTCR9WE3lE"
      },
      "execution_count": 93,
      "outputs": []
    },
    {
      "cell_type": "code",
      "source": [
        "def J(x, sigma=1):\n",
        "  return (1 / np.sqrt(2 * np.pi) * sigma) * np.exp(-(x-15.2)**2/(2*sigma)**2)"
      ],
      "metadata": {
        "id": "Vlm_d96cHb9J"
      },
      "execution_count": 94,
      "outputs": []
    },
    {
      "cell_type": "code",
      "source": [
        "def L(x, sigma=2):\n",
        "  return (1 / np.sqrt(2 * np.pi) * sigma) * np.exp(-(x-15.2)**2/(2*sigma)**2)"
      ],
      "metadata": {
        "id": "EmgPHFidHdRp"
      },
      "execution_count": 95,
      "outputs": []
    },
    {
      "cell_type": "code",
      "source": [
        "def M(x, sigma=4):\n",
        "  return (1 / np.sqrt(2 * np.pi) * sigma) * np.exp(-(x-15.2)**2/(2*sigma)**2)"
      ],
      "metadata": {
        "id": "u-fk5VbEHdwx"
      },
      "execution_count": 96,
      "outputs": []
    },
    {
      "cell_type": "code",
      "source": [
        "fig, axes = plt.subplots(2,4, figsize=(15,6))\n",
        "axes = axes.flatten()\n",
        "\n",
        "plt.subplot(2,4,1)\n",
        "plt.plot(X6, K(X6))\n",
        "plt.title('sigma=0.5')\n",
        "\n",
        "plt.subplot(2,4,2)\n",
        "plt.plot(X6, J(X6))\n",
        "plt.title('sigma=1')\n",
        "\n",
        "plt.subplot(2,4,3)\n",
        "plt.plot(X6, L(X6))\n",
        "plt.title('sigma=2')\n",
        "\n",
        "plt.subplot(2,4,4)\n",
        "plt.plot(X6, M(X6))\n",
        "plt.title('sigma=4')\n",
        "\n",
        "plt.subplot(2,4,5)\n",
        "plt.plot(np.cumsum(K(X6)))\n",
        "\n",
        "plt.subplot(2,4,6)\n",
        "plt.plot(np.cumsum(J(X6)))\n",
        "\n",
        "plt.subplot(2,4,7)\n",
        "plt.plot(np.cumsum(L(X6)))\n",
        "\n",
        "plt.subplot(2,4,8)\n",
        "plt.plot(np.cumsum(M(X6)))"
      ],
      "metadata": {
        "id": "DbFc1_8BtM5i",
        "colab": {
          "base_uri": "https://localhost:8080/",
          "height": 408
        },
        "outputId": "94807ef1-ab5c-4d98-985c-f2696b1583ef"
      },
      "execution_count": 109,
      "outputs": [
        {
          "output_type": "execute_result",
          "data": {
            "text/plain": [
              "[<matplotlib.lines.Line2D at 0x7fa5e29f2750>]"
            ]
          },
          "metadata": {},
          "execution_count": 109
        },
        {
          "output_type": "display_data",
          "data": {
            "text/plain": [
              "<Figure size 1080x432 with 8 Axes>"
            ],
            "image/png": "[encoded data removed]"
          },
          "metadata": {
            "needs_background": "light"
          }
        }
      ]
    },
    {
      "cell_type": "code",
      "source": [
        ""
      ],
      "metadata": {
        "id": "2O-oQqJNK5UE"
      },
      "execution_count": null,
      "outputs": []
    }
  ]
}
