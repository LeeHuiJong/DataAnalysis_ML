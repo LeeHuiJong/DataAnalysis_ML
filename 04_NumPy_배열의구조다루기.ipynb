{
  "nbformat": 4,
  "nbformat_minor": 0,
  "metadata": {
    "colab": {
      "name": "04_NumPy-배열의구조다루기.ipynb",
      "provenance": [],
      "collapsed_sections": [],
      "toc_visible": true,
      "include_colab_link": true
    },
    "kernelspec": {
      "name": "python3",
      "display_name": "Python 3"
    },
    "language_info": {
      "name": "python"
    }
  },
  "cells": [
    {
      "cell_type": "markdown",
      "metadata": {
        "id": "view-in-github",
        "colab_type": "text"
      },
      "source": [
        "<a href=\"https://colab.research.google.com/github/LeeHuiJong/SkillTreePython-DataAnalysis/blob/main/04_NumPy_%EB%B0%B0%EC%97%B4%EC%9D%98%EA%B5%AC%EC%A1%B0%EB%8B%A4%EB%A3%A8%EA%B8%B0.ipynb\" target=\"_parent\"><img src=\"https://colab.research.google.com/assets/colab-badge.svg\" alt=\"Open In Colab\"/></a>"
      ]
    },
    {
      "cell_type": "markdown",
      "metadata": {
        "id": "jgFAOz-Tw1VI"
      },
      "source": [
        "# CH04 Numpy  - 배열의 구조 다루기\n",
        "\n",
        "---\n",
        "* 날짜:\n",
        "* 이름:\n"
      ]
    },
    {
      "cell_type": "markdown",
      "source": [
        "## 개념정리\n",
        "\n",
        "데이터 분석에 있어서 배열에 담긴 데이터만큼 중요한 것이 배열의 구조입니다. 특히 머신러닝, 딥러닝에서는 데이터의 선형변환이 주가 되기 때문에 이 과정에서 데이터의 형태 변형이 많이 이루어 집니다. 이번 시간에는 배열의 형태를 변경하고 연결하고, 분할 하는 여러 방법들을 알아보도록 합니다. \n",
        "\n",
        "```\n",
        "import numpy as np\n",
        "```\n",
        "\n",
        "\n"
      ],
      "metadata": {
        "id": "_3uSBF40BdCd"
      }
    },
    {
      "cell_type": "code",
      "source": [
        "import numpy as np"
      ],
      "metadata": {
        "id": "zPOE7GIhJcdU"
      },
      "execution_count": 1,
      "outputs": []
    },
    {
      "cell_type": "markdown",
      "metadata": {
        "id": "HjPXsM8C5ULZ"
      },
      "source": [
        "---\n",
        "### **(1) 형태 변경**\n",
        "---\n"
      ]
    },
    {
      "cell_type": "markdown",
      "source": [
        "#### **| 형태 직접 변경**\n",
        "\n",
        "* `a.reshape(shape)` : `shape` 형태로 변경한 배열을 반환합니다.\n",
        "* `a.resize(shape)` : 배열 `a`를 `shape` 형태로 변경합니다. 사이즈가 기존보다 크면 값을 0으로 채우고, 작으면 값이 삭제됩니다.\n",
        "\n",
        "`.reshape`는 기존 배열과 변경할 배열의 총 크기가 같아야 하지만 `.resize`는 같을 필요가 없습니다. 다만 `..resize`는 값이 임의로 변경되니 사용에 주의해야 합니다.\n",
        "\n",
        "또한 `reshape`는 기존배열을 보존하고 `resize`는 기존배열을 바로 변경합니다.\n",
        "\n",
        "```\n",
        "a = np.arange(10)\n",
        "a.resize((5,3))\n",
        "print(a)\n",
        "a1=a.reshape((3,5))\n",
        "print(a1)\n",
        "```"
      ],
      "metadata": {
        "id": "NQ_GbYiXLN2i"
      }
    },
    {
      "cell_type": "code",
      "source": [
        "a= np.arange(10)\n",
        "print(a)\n",
        "a.resize((5,3)) # resize는 반환값이 없다 a1=a.resize(()) 이런식으로 안된다  바로 변경된것이 데이터에 저장된다\n",
        "print(a) # print 할때 사이즈가 변하고 나머지 비었던 공간은 0으로 채워진다."
      ],
      "metadata": {
        "id": "XzFGRGdoj7jD",
        "colab": {
          "base_uri": "https://localhost:8080/"
        },
        "outputId": "3abbcfc2-6f39-4813-da14-bb4f49aaf3b7"
      },
      "execution_count": 51,
      "outputs": [
        {
          "output_type": "stream",
          "name": "stdout",
          "text": [
            "[0 1 2 3 4 5 6 7 8 9]\n",
            "[[0 1 2]\n",
            " [3 4 5]\n",
            " [6 7 8]\n",
            " [9 0 0]\n",
            " [0 0 0]]\n"
          ]
        }
      ]
    },
    {
      "cell_type": "code",
      "source": [
        "a1= np.arange(10)\n",
        "print(a1, a1.shape)\n",
        "a1=a.reshape((3,5))\n",
        "print(a1, a1.shape)"
      ],
      "metadata": {
        "colab": {
          "base_uri": "https://localhost:8080/"
        },
        "id": "VKmaViRRIxUX",
        "outputId": "ca93cdac-c2c5-45ac-f83b-f11cf6f1ae6b"
      },
      "execution_count": 52,
      "outputs": [
        {
          "output_type": "stream",
          "name": "stdout",
          "text": [
            "[0 1 2 3 4 5 6 7 8 9] (10,)\n",
            "[[0 1 2 3 4]\n",
            " [5 6 7 8 9]\n",
            " [0 0 0 0 0]] (3, 5)\n"
          ]
        }
      ]
    },
    {
      "cell_type": "markdown",
      "source": [
        "#### **| 형태 간접 변경**\n",
        "\n",
        "* `np.swapaxes(a, axis1, axis2 )` : 배열 `a`의 두 축 (`axis1`, `axis2`)를 교환합니다.\n",
        "* `.T` : 배열의 차원을 전치(transpose) 합니다.\n"
      ],
      "metadata": {
        "id": "JskG776k15sC"
      }
    },
    {
      "cell_type": "markdown",
      "source": [
        "\n",
        "`swapaxes`로 데이터의 성질을 그대로 보존하면서 형태를 변경할 수 있습니다. \n",
        "\n",
        "```\n",
        "a = np.arange(24).reshape(2,3,4)\n",
        "print(a, a.shape)\n",
        "\n",
        "a=np.swapaxes(a, 0,1)\n",
        "print(a, a.shape)\n",
        "```"
      ],
      "metadata": {
        "id": "SiDTaaoh3nu9"
      }
    },
    {
      "cell_type": "code",
      "source": [
        "a=np.arange(24).reshape(2,3,4)\n",
        "print(a,a.shape)\n",
        "a=np.swapaxes(a, 0,1)\n",
        "print(a,a.shape)\n",
        "a=np.swapaxes(a, 0,2)\n",
        "print(a,a.shape) # reshape, resize는 성질을 보존하지 않는다."
      ],
      "metadata": {
        "id": "29oYbC1S15sI",
        "colab": {
          "base_uri": "https://localhost:8080/"
        },
        "outputId": "3843c887-cd0a-45a5-8eed-074fd528c99f"
      },
      "execution_count": 12,
      "outputs": [
        {
          "output_type": "stream",
          "name": "stdout",
          "text": [
            "[[[ 0  1  2  3]\n",
            "  [ 4  5  6  7]\n",
            "  [ 8  9 10 11]]\n",
            "\n",
            " [[12 13 14 15]\n",
            "  [16 17 18 19]\n",
            "  [20 21 22 23]]] (2, 3, 4)\n",
            "[[[ 0  1  2  3]\n",
            "  [12 13 14 15]]\n",
            "\n",
            " [[ 4  5  6  7]\n",
            "  [16 17 18 19]]\n",
            "\n",
            " [[ 8  9 10 11]\n",
            "  [20 21 22 23]]] (3, 2, 4)\n",
            "[[[ 0  4  8]\n",
            "  [12 16 20]]\n",
            "\n",
            " [[ 1  5  9]\n",
            "  [13 17 21]]\n",
            "\n",
            " [[ 2  6 10]\n",
            "  [14 18 22]]\n",
            "\n",
            " [[ 3  7 11]\n",
            "  [15 19 23]]] (4, 2, 3)\n"
          ]
        }
      ]
    },
    {
      "cell_type": "markdown",
      "source": [
        "여기서 데이터의 성질을 보존한다는 것은 무엇을 뜻할까요? \n",
        "\n",
        "안과에 방문한 어린이들의 나이와 시력을 정리한 데이터가 아래와 같이 저장되어 있다고 합시다.\n",
        "\n",
        "\n",
        "<p align='center'>\n",
        "<img src=https://github.com/yebiny/SkillTreePython-DataAnalysis/blob/main/imgs/ch0104-01.png?raw=true width=200>\n",
        "</p>\n",
        "\n",
        "\n",
        "```\n",
        "ds = np.array([[10, 0.5],\n",
        "               [8, 0.8],\n",
        "               [12, 0.4],\n",
        "               [7, 0.7]])\n",
        "print(ds, ds.shape)\n",
        "```\n",
        "\n",
        "\n"
      ],
      "metadata": {
        "id": "MTxzssAI30Qc"
      }
    },
    {
      "cell_type": "code",
      "source": [
        "ds = np.array([[10, 0.5],\n",
        "               [8, 0.8],\n",
        "               [12, 0.4],\n",
        "               [7, 0.7]])\n",
        "print(ds, ds.shape)"
      ],
      "metadata": {
        "id": "DBu3qV0f6qNy",
        "colab": {
          "base_uri": "https://localhost:8080/"
        },
        "outputId": "fb04c0c1-409d-4d00-ac1b-508769525ef6"
      },
      "execution_count": 13,
      "outputs": [
        {
          "output_type": "stream",
          "name": "stdout",
          "text": [
            "[[10.   0.5]\n",
            " [ 8.   0.8]\n",
            " [12.   0.4]\n",
            " [ 7.   0.7]] (4, 2)\n"
          ]
        }
      ]
    },
    {
      "cell_type": "markdown",
      "source": [
        "\n",
        "이 데이터의 형태를 데이터 성질을 유지하면서 변환하려면 아래와 같은 결과가 되어야 하겠지요\n",
        "\n",
        "<p align='center'>\n",
        "<img src=https://github.com/yebiny/SkillTreePython-DataAnalysis/blob/main/imgs/ch0104-02.png?raw=true width=320>\n",
        "</p>\n",
        "\n",
        "\n",
        "이를 `swapaxes`와 `reshape`로 번형하고 결과를 비교해 보겠습니다.\n",
        "\n",
        "```\n",
        "ds1 = np.reshape(ds, (2,4))\n",
        "print(ds1, ds1.shape)\n",
        "\n",
        "ds2 = np.swapaxes(ds, 0,1)\n",
        "print(ds2, ds2.shape)\n",
        "```"
      ],
      "metadata": {
        "id": "A4lHxurW6qq7"
      }
    },
    {
      "cell_type": "code",
      "source": [
        "ds1=np.reshape(ds,(2,4))\n",
        "print(ds1, ds1.shape)  # reshape로 하면 원하는 데이터의 성질이 사라짐\n",
        "\n",
        "ds2=np.swapaxes(ds,0,1)\n",
        "print(ds2,ds2.shape)  # swapaxes는 그대로 형질이 보존된다. 함부로 reshape를 쓰면 안된다"
      ],
      "metadata": {
        "id": "Yl0CbgAa30Qd",
        "colab": {
          "base_uri": "https://localhost:8080/"
        },
        "outputId": "bd195b9e-5dad-4106-b490-a0a2ddf18632"
      },
      "execution_count": 15,
      "outputs": [
        {
          "output_type": "stream",
          "name": "stdout",
          "text": [
            "[[10.   0.5  8.   0.8]\n",
            " [12.   0.4  7.   0.7]] (2, 4)\n",
            "[[10.   8.  12.   7. ]\n",
            " [ 0.5  0.8  0.4  0.7]] (2, 4)\n"
          ]
        }
      ]
    },
    {
      "cell_type": "markdown",
      "source": [
        "`reshape`를 사용한 결과는 데이터의 성질이 엉망이 되어버린 반면, `swapaxes`를 사용한 결과는 우리가 원하는대로 데이터의 성질이 잘 보존된 것을 볼 수 있습니다. \n",
        "\n",
        "2차원 배열에서는 전치(transpose)도 같은 결과가 나옵니다. \n",
        "\n",
        "```\n",
        "a.T, a.T.shape\n",
        "```"
      ],
      "metadata": {
        "id": "DT2Z0P377EHZ"
      }
    },
    {
      "cell_type": "code",
      "source": [
        "ds.T"
      ],
      "metadata": {
        "id": "_qw-3gFY4pHP",
        "colab": {
          "base_uri": "https://localhost:8080/"
        },
        "outputId": "5b5e89b8-954a-4d79-ce63-832b74a2c817"
      },
      "execution_count": 16,
      "outputs": [
        {
          "output_type": "execute_result",
          "data": {
            "text/plain": [
              "array([[10. ,  8. , 12. ,  7. ],\n",
              "       [ 0.5,  0.8,  0.4,  0.7]])"
            ]
          },
          "metadata": {},
          "execution_count": 16
        }
      ]
    },
    {
      "cell_type": "markdown",
      "source": [
        "이제 데이터의 성질을 보존한다는 것이 무엇인지 감이 오셨나요? 우리가 다루게 될 데이터는 각 차원에 따라 데이터의 값이 유의미하게 담겨져 있기 때문에 데이터 형태 변환 시 주의해서 때에 따라 적절한 함수를 사용해야 합니다. "
      ],
      "metadata": {
        "id": "7mr1oVEv789t"
      }
    },
    {
      "cell_type": "markdown",
      "source": [
        "* `np.expand_dims(a, axis)` : 축 axis에 차원을 추가합니다.\n",
        "\n",
        "데이터 분석에서 유용히 쓰이는 함수가 바로 `np.expand_dim` 입니다. 개수와 값이 똑같은 데이터라도 1차원, 2차원, 3차원까지 변경할 수 있습니다. \n",
        "\n",
        "```\n",
        "a = np.arange(5)\n",
        "print(a, a.shape)\n",
        "a = np.expand_dims(a,1) \n",
        "print(a, a.shape)\n",
        "a = np.expand_dims(a,2)\n",
        "print(a, a.shape)\n",
        "```"
      ],
      "metadata": {
        "id": "yoXcKhYAK6Yx"
      }
    },
    {
      "cell_type": "code",
      "source": [
        "a=np.arange(5)\n",
        "print(a, a.shape)\n",
        "\n",
        "#a.reshape(5,1) # 이렇게 쓸수도 있지만\n",
        "a=np.expand_dims(a,0)\n",
        "print(a, a.shape)\n",
        "a=np.expand_dims(a,1)\n",
        "print(a, a.shape)"
      ],
      "metadata": {
        "id": "fw50dt30LYCP",
        "colab": {
          "base_uri": "https://localhost:8080/"
        },
        "outputId": "d4c18044-e0d5-4cc8-fdd7-86d170ed2855"
      },
      "execution_count": 23,
      "outputs": [
        {
          "output_type": "stream",
          "name": "stdout",
          "text": [
            "[0 1 2 3 4] (5,)\n",
            "[[0 1 2 3 4]] (1, 5)\n",
            "[[[0 1 2 3 4]]] (1, 1, 5)\n"
          ]
        }
      ]
    },
    {
      "cell_type": "code",
      "source": [
        "a=np.arange(1,10).reshape(3,3)\n",
        "print(a)\n",
        "a=np.expand_dims(a,2)\n",
        "print(a, a.shape)"
      ],
      "metadata": {
        "colab": {
          "base_uri": "https://localhost:8080/"
        },
        "id": "uSJvSdeMOMvk",
        "outputId": "c2edcffd-0f8b-4f75-ae37-1ceedbc8292c"
      },
      "execution_count": 41,
      "outputs": [
        {
          "output_type": "stream",
          "name": "stdout",
          "text": [
            "[[1 2 3]\n",
            " [4 5 6]\n",
            " [7 8 9]]\n",
            "[[[1]\n",
            "  [2]\n",
            "  [3]]\n",
            "\n",
            " [[4]\n",
            "  [5]\n",
            "  [6]]\n",
            "\n",
            " [[7]\n",
            "  [8]\n",
            "  [9]]] (3, 3, 1)\n"
          ]
        }
      ]
    },
    {
      "cell_type": "code",
      "source": [
        "b=np.arange(1,10)\n",
        "b=b.reshape(3,4)\n",
        "print(b)"
      ],
      "metadata": {
        "colab": {
          "base_uri": "https://localhost:8080/",
          "height": 211
        },
        "id": "Eg9ZhC4cQWf1",
        "outputId": "44c6a1f7-1ec4-487f-8b01-1802f25d6897"
      },
      "execution_count": 47,
      "outputs": [
        {
          "output_type": "error",
          "ename": "ValueError",
          "evalue": "ignored",
          "traceback": [
            "\u001b[0;31m---------------------------------------------------------------------------\u001b[0m",
            "\u001b[0;31mValueError\u001b[0m                                Traceback (most recent call last)",
            "\u001b[0;32m<ipython-input-47-af4ed763a80e>\u001b[0m in \u001b[0;36m<module>\u001b[0;34m()\u001b[0m\n\u001b[1;32m      1\u001b[0m \u001b[0mb\u001b[0m\u001b[0;34m=\u001b[0m\u001b[0mnp\u001b[0m\u001b[0;34m.\u001b[0m\u001b[0marange\u001b[0m\u001b[0;34m(\u001b[0m\u001b[0;36m1\u001b[0m\u001b[0;34m,\u001b[0m\u001b[0;36m10\u001b[0m\u001b[0;34m)\u001b[0m\u001b[0;34m\u001b[0m\u001b[0;34m\u001b[0m\u001b[0m\n\u001b[0;32m----> 2\u001b[0;31m \u001b[0mb\u001b[0m\u001b[0;34m=\u001b[0m\u001b[0mb\u001b[0m\u001b[0;34m.\u001b[0m\u001b[0mreshape\u001b[0m\u001b[0;34m(\u001b[0m\u001b[0;36m3\u001b[0m\u001b[0;34m,\u001b[0m\u001b[0;36m4\u001b[0m\u001b[0;34m)\u001b[0m\u001b[0;34m\u001b[0m\u001b[0;34m\u001b[0m\u001b[0m\n\u001b[0m\u001b[1;32m      3\u001b[0m \u001b[0mprint\u001b[0m\u001b[0;34m(\u001b[0m\u001b[0mb\u001b[0m\u001b[0;34m)\u001b[0m\u001b[0;34m\u001b[0m\u001b[0;34m\u001b[0m\u001b[0m\n",
            "\u001b[0;31mValueError\u001b[0m: cannot reshape array of size 9 into shape (3,4)"
          ]
        }
      ]
    },
    {
      "cell_type": "code",
      "source": [
        "b=np.arange(1,10)\n",
        "b.resize((3,4))\n",
        "print(b)"
      ],
      "metadata": {
        "colab": {
          "base_uri": "https://localhost:8080/"
        },
        "id": "OT2PQ-kYPzuB",
        "outputId": "09f8926a-5937-499f-9c5d-1608f4892378"
      },
      "execution_count": 46,
      "outputs": [
        {
          "output_type": "stream",
          "name": "stdout",
          "text": [
            "[[1 2 3 4]\n",
            " [5 6 7 8]\n",
            " [9 0 0 0]]\n"
          ]
        }
      ]
    },
    {
      "cell_type": "markdown",
      "metadata": {
        "id": "kPCJJesPK2kU"
      },
      "source": [
        "---\n",
        "### **(2) 배열 쌓기**\n",
        "---\n",
        "\n",
        "| 함수 | 설명 |\n",
        "|--|--|\n",
        "| `np.append(a1,a2)` | `a1`에 `a2`를 결합|\n",
        "| `np.concatenate([a1, a2, a3 ...])` | 배열 리스트를 모두 결합|\n",
        "| `np.stack([a1, a2, a3 ...])` | 배열을 쌓습니다. |\n",
        "| `np.hstack([a1, a2, a3 ...])` | 배열을 수평으로 쌓습니다. |\n",
        "| `np.vstack([a1, a2, a3 ...])` | 배열을 수직으로 쌓습니다. |\n",
        "| `np.dtack([a1, a2, a3 ...])` | 배열을 새로운 방향으로 쌓습니다. |\n",
        "\n",
        "배열과 배열을 결합하는 함수는 여러개가 있습니다. 사실 어떻게 사용하냐에 각 함수가 똑같은 결과를 도출할 수도 있습니다. 이번 수업에서는 `concatenate`를 사용해 배열을 쌓아보도록 하겠습니다.\n",
        "\n",
        "아래 그림을 보고 `concatenate` 코드를 작성해 봅시다.\n",
        "\n",
        "<p align='center'>\n",
        "<img src=https://github.com/yebiny/SkillTreePython-DataAnalysis/blob/main/imgs/ch0104-03.png?raw=true width=680>\n",
        "</p>\n",
        "\n",
        "```\n",
        "a = np.arange(1, 7).reshape(2,3)\n",
        "print(a,a.shape)\n",
        "a1 = np.concatenate([a,a], axis=0)\n",
        "print(a1,a1.shape)\n",
        "a2 = np.concatenate([a,a], axis=1)\n",
        "print(a2,a2.shape)\n",
        "```"
      ]
    },
    {
      "cell_type": "code",
      "source": [
        "a= np.arange(1,7).reshape(2,3)\n",
        "print(a,a.shape)\n",
        "\n",
        "a1=np.concatenate([a,a],axis=0)\n",
        "print(a1, a1.shape)\n",
        "a2=np.concatenate([a,a],axis=1)\n",
        "print(a2, a2.shape)"
      ],
      "metadata": {
        "id": "jhM_gLNyK2kU",
        "colab": {
          "base_uri": "https://localhost:8080/"
        },
        "outputId": "30fa8a44-d1c7-44e3-fcff-4231651ac74d"
      },
      "execution_count": 26,
      "outputs": [
        {
          "output_type": "stream",
          "name": "stdout",
          "text": [
            "[[1 2 3]\n",
            " [4 5 6]] (2, 3)\n",
            "[[1 2 3]\n",
            " [4 5 6]\n",
            " [1 2 3]\n",
            " [4 5 6]] (4, 3)\n",
            "[[1 2 3 1 2 3]\n",
            " [4 5 6 4 5 6]] (2, 6)\n"
          ]
        }
      ]
    },
    {
      "cell_type": "markdown",
      "source": [
        "#### **| 연습문제**\n",
        "\n",
        "연습을 위해 아래와 같이 3차원 배열을 생성하세요 \n",
        "\n",
        "```\n",
        "a = np.arange(12).reshape(2,2,3)\n",
        "b = np.arange(100,106).reshape(1,2,3)\n",
        "print(a, a.shape)\n",
        "print(b, b.shape)\n",
        "```"
      ],
      "metadata": {
        "id": "hzWZ5G7mo2PR"
      }
    },
    {
      "cell_type": "code",
      "source": [
        "a = np.arange(12).reshape(2,2,3)\n",
        "b = np.arange(100,106).reshape(1,2,3)\n",
        "print(a, a.shape)\n",
        "print(b, b.shape)"
      ],
      "metadata": {
        "id": "peNsBPQcrggt",
        "colab": {
          "base_uri": "https://localhost:8080/"
        },
        "outputId": "8b0196da-06fc-49ca-f196-3f517901b46e"
      },
      "execution_count": 53,
      "outputs": [
        {
          "output_type": "stream",
          "name": "stdout",
          "text": [
            "[[[ 0  1  2]\n",
            "  [ 3  4  5]]\n",
            "\n",
            " [[ 6  7  8]\n",
            "  [ 9 10 11]]] (2, 2, 3)\n",
            "[[[100 101 102]\n",
            "  [103 104 105]]] (1, 2, 3)\n"
          ]
        }
      ]
    },
    {
      "cell_type": "markdown",
      "source": [
        "**연습 01**\n",
        "\n",
        "`concatenate`를 이용해 아래와 같은 배열을 출력하세요.\n",
        "\n",
        "```\n",
        "array([[[ 0,  1,  2,  0,  1,  2],\n",
        "        [ 3,  4,  5,  3,  4,  5]],\n",
        "\n",
        "       [[ 6,  7,  8,  6,  7,  8],\n",
        "        [ 9, 10, 11,  9, 10, 11]]])\n",
        "```"
      ],
      "metadata": {
        "id": "ey_R7ZgXnHdp"
      }
    },
    {
      "cell_type": "code",
      "source": [
        "# a= (2,2,3) >> (2,2,6)\n",
        "\n",
        "a1=np.concatenate([a,a],axis=2)\n",
        "print(a1, a1.shape)"
      ],
      "metadata": {
        "id": "XUKKRTSJAsMa",
        "colab": {
          "base_uri": "https://localhost:8080/"
        },
        "outputId": "3bc0d121-f38a-4eb6-e362-311e7c6dda70"
      },
      "execution_count": 57,
      "outputs": [
        {
          "output_type": "stream",
          "name": "stdout",
          "text": [
            "[[[ 0  1  2  0  1  2]\n",
            "  [ 3  4  5  3  4  5]]\n",
            "\n",
            " [[ 6  7  8  6  7  8]\n",
            "  [ 9 10 11  9 10 11]]] (2, 2, 6)\n"
          ]
        }
      ]
    },
    {
      "cell_type": "markdown",
      "source": [
        "**연습 02**\n",
        "\n",
        "`concatenate`를 이용해 아래와 같은 배열을 출력하세요.\n",
        "\n",
        "```\n",
        "array([[[100, 101, 102],\n",
        "        [103, 104, 105],\n",
        "        [100, 101, 102],\n",
        "        [103, 104, 105]]])\n",
        "```"
      ],
      "metadata": {
        "id": "bAPBtnKmEhVb"
      }
    },
    {
      "cell_type": "code",
      "source": [
        "#b=(1,2,3) >> (1,4,3)\n",
        "\n",
        "b1=np.concatenate([b,b],axis=1)\n",
        "print(b1, b1.shape)"
      ],
      "metadata": {
        "id": "MaS05VHtEhVb",
        "colab": {
          "base_uri": "https://localhost:8080/"
        },
        "outputId": "6a2e3e95-d14b-4ddb-c2ca-fa19e2086983"
      },
      "execution_count": 58,
      "outputs": [
        {
          "output_type": "stream",
          "name": "stdout",
          "text": [
            "[[[100 101 102]\n",
            "  [103 104 105]\n",
            "  [100 101 102]\n",
            "  [103 104 105]]] (1, 4, 3)\n"
          ]
        }
      ]
    },
    {
      "cell_type": "markdown",
      "source": [
        "**연습 03**\n",
        "\n",
        "`concatenate`를 이용해 아래와 같은 배열을 출력하세요.\n",
        "\n",
        "```\n",
        "array([[[100, 101, 102],\n",
        "        [103, 104, 105]],\n",
        "\n",
        "       [[  0,   1,   2],\n",
        "        [  3,   4,   5]],\n",
        "\n",
        "       [[  6,   7,   8],\n",
        "        [  9,  10,  11]],\n",
        "\n",
        "       [[100, 101, 102],\n",
        "        [103, 104, 105]]])\n",
        "```"
      ],
      "metadata": {
        "id": "ibj-2c6dE2XM"
      }
    },
    {
      "cell_type": "code",
      "source": [
        "# b=(1,2,3) a(2,2,3) b(1,2,3) >> [b,a,b](4,2,3)\n",
        "\n",
        "ab1=np.concatenate([b,a,b],axis=0)\n",
        "print(ab1, ab1.shape)"
      ],
      "metadata": {
        "id": "PsVk-FDYBuEK",
        "colab": {
          "base_uri": "https://localhost:8080/"
        },
        "outputId": "1586aff7-e251-4ecb-ec93-c3336aedbe7c"
      },
      "execution_count": 59,
      "outputs": [
        {
          "output_type": "stream",
          "name": "stdout",
          "text": [
            "[[[100 101 102]\n",
            "  [103 104 105]]\n",
            "\n",
            " [[  0   1   2]\n",
            "  [  3   4   5]]\n",
            "\n",
            " [[  6   7   8]\n",
            "  [  9  10  11]]\n",
            "\n",
            " [[100 101 102]\n",
            "  [103 104 105]]] (4, 2, 3)\n"
          ]
        }
      ]
    },
    {
      "cell_type": "markdown",
      "metadata": {
        "id": "aYhpkL3KLGkS"
      },
      "source": [
        "---\n",
        "### **(3) 배열 분할**\n",
        "---\n",
        "\n",
        "분할은 `split`함수를 이용합니다. `split`함수의 `axis`를 이용해서 어느 축으로 분할 할지 정의할 수 있습니다. 한쪽 방향으로만 분할하는 `vsplit`과 `hsplit`이 존재하며 상황에 따라 적절히 사용할 수 있습니다.\n",
        "\n",
        "* `np.split(a, [n1, n2, ...], axis=axis)` : `axis` 방향으로 배열 `a`를 `n1`.. 기점에서 분할 합니다 .\n",
        "\n",
        "* `np.vsplit(a, [n1, n2, ...])`: 수직 방향으로 배열 `a`를 `n1`.. 기점에서 분할 합니다 .\n",
        "\n",
        "* `np.hsplit(a, [n1, n2, ...])` : 수평 방향으로 배열 `a`를 `n1`.. 기점에서 분할 합니다 .\n",
        "\n",
        "아래 그림을 보고 `split` 코드를 작성해 봅시다.\n",
        "\n",
        "<p align='center'>\n",
        "<img src=https://github.com/yebiny/SkillTreePython-DataAnalysis/blob/main/imgs/ch0104-04.png?raw=true width=380>\n",
        "</p>\n",
        "\n"
      ]
    },
    {
      "cell_type": "markdown",
      "source": [
        "* 배열 `a`를 생성합니다.\n",
        "\n",
        "```\n",
        "a =np.arange(1,13).reshape(4,3)\n",
        "a, a.shape\n",
        "```"
      ],
      "metadata": {
        "id": "0ERT5QnFJAY3"
      }
    },
    {
      "cell_type": "code",
      "source": [
        "a= np.arange(1,13).reshape(4,3)\n",
        "a, a.shape"
      ],
      "metadata": {
        "id": "LhaIghGQLGkT",
        "colab": {
          "base_uri": "https://localhost:8080/"
        },
        "outputId": "b4411408-650b-4d2a-b402-4a266cde3201"
      },
      "execution_count": 60,
      "outputs": [
        {
          "output_type": "execute_result",
          "data": {
            "text/plain": [
              "(array([[ 1,  2,  3],\n",
              "        [ 4,  5,  6],\n",
              "        [ 7,  8,  9],\n",
              "        [10, 11, 12]]), (4, 3))"
            ]
          },
          "metadata": {},
          "execution_count": 60
        }
      ]
    },
    {
      "cell_type": "markdown",
      "source": [
        "* 수직방향으로 분할해 봅니다.\n",
        "\n",
        "```\n",
        "a1, a2 = np.split(a, [1], axis=0)\n",
        "print(a1)\n",
        "print(a2)\n",
        "a1, a2 = np.vsplit(a, [1])\n",
        "print(a1)\n",
        "print(a2)\n",
        "```"
      ],
      "metadata": {
        "id": "3Up5CYbXGXMP"
      }
    },
    {
      "cell_type": "code",
      "source": [
        "a1, a2=np.split(a, [1], axis=0)\n",
        "print(a1, a1.shape)\n",
        "print(a2, a2.shape)"
      ],
      "metadata": {
        "id": "eYN6dZWJGBsb",
        "colab": {
          "base_uri": "https://localhost:8080/"
        },
        "outputId": "9db6094b-c47d-4e64-b6bb-b3414e4210e8"
      },
      "execution_count": 62,
      "outputs": [
        {
          "output_type": "stream",
          "name": "stdout",
          "text": [
            "[[1 2 3]] (1, 3)\n",
            "[[ 4  5  6]\n",
            " [ 7  8  9]\n",
            " [10 11 12]] (3, 3)\n"
          ]
        }
      ]
    },
    {
      "cell_type": "markdown",
      "source": [
        "* 수평 방향으로 분할해 봅니다.\n",
        "\n",
        "```\n",
        "a1, a2 = np.split(a, [2], axis=1)\n",
        "print(a1)\n",
        "print(a2)\n",
        "a1, a2 = np.hsplit(a, [2])\n",
        "print(a1)\n",
        "print(a2)\n",
        "```"
      ],
      "metadata": {
        "id": "GrsFQtvuJI7i"
      }
    },
    {
      "cell_type": "code",
      "source": [
        "a1, a2, a3 = np.split(a, [1,2], axis=1)\n",
        "print(a1, a1.shape)\n",
        "print(a2, a2.shape)\n",
        "print(a3, a3.shape)"
      ],
      "metadata": {
        "id": "OsMberzGGJUy",
        "colab": {
          "base_uri": "https://localhost:8080/"
        },
        "outputId": "40566615-4358-456a-fa90-7c5555f95963"
      },
      "execution_count": 64,
      "outputs": [
        {
          "output_type": "stream",
          "name": "stdout",
          "text": [
            "[[ 1]\n",
            " [ 4]\n",
            " [ 7]\n",
            " [10]] (4, 1)\n",
            "[[ 2]\n",
            " [ 5]\n",
            " [ 8]\n",
            " [11]] (4, 1)\n",
            "[[ 3]\n",
            " [ 6]\n",
            " [ 9]\n",
            " [12]] (4, 1)\n"
          ]
        }
      ]
    },
    {
      "cell_type": "markdown",
      "source": [
        "## 문제풀이\n",
        "---\n"
      ],
      "metadata": {
        "id": "1Zo86GIRD8iE"
      }
    },
    {
      "cell_type": "markdown",
      "metadata": {
        "id": "d9o7kBXoNlE3"
      },
      "source": [
        "**예제 01**\n",
        "\n",
        "모든 요소가 1이고 `(3,3,2)`  `shape`를 가지는 3차원 배열을 생성하고 `a01`로 바인딩하세요. 이 배열과 배열의 형태를 출력하세요.\n",
        "\n"
      ]
    },
    {
      "cell_type": "code",
      "metadata": {
        "id": "Gwir0bafNlE9",
        "colab": {
          "base_uri": "https://localhost:8080/"
        },
        "outputId": "8c6a3cb4-ad40-46d9-ab27-ff9b16eed8e5"
      },
      "source": [
        "a01=np.ones((3,3,2))\n",
        "a01, a01.shape"
      ],
      "execution_count": 196,
      "outputs": [
        {
          "output_type": "execute_result",
          "data": {
            "text/plain": [
              "(array([[[1., 1.],\n",
              "         [1., 1.],\n",
              "         [1., 1.]],\n",
              " \n",
              "        [[1., 1.],\n",
              "         [1., 1.],\n",
              "         [1., 1.]],\n",
              " \n",
              "        [[1., 1.],\n",
              "         [1., 1.],\n",
              "         [1., 1.]]]), (3, 3, 2))"
            ]
          },
          "metadata": {},
          "execution_count": 196
        }
      ]
    },
    {
      "cell_type": "markdown",
      "source": [
        "**예제 02**\n",
        "\n",
        "`a01`을  `shape`가 `(3,6)`인 2차원 배열로 바꾸고 배열과 배열의  `shape`를 출력하세요."
      ],
      "metadata": {
        "id": "SACkvDRySMNc"
      }
    },
    {
      "cell_type": "code",
      "source": [
        "a01=a01.reshape(3,6)\n",
        "a01, a01.shape"
      ],
      "metadata": {
        "id": "YJVWViH7SMNc",
        "colab": {
          "base_uri": "https://localhost:8080/"
        },
        "outputId": "9b4c5a19-1027-43bf-f0e9-68d541d9bfae"
      },
      "execution_count": 206,
      "outputs": [
        {
          "output_type": "execute_result",
          "data": {
            "text/plain": [
              "(array([[1., 1., 1., 1., 1., 1.],\n",
              "        [1., 1., 1., 1., 1., 1.],\n",
              "        [1., 1., 1., 1., 1., 1.]]), (3, 6))"
            ]
          },
          "metadata": {},
          "execution_count": 206
        }
      ]
    },
    {
      "cell_type": "markdown",
      "source": [
        "**예제 03**\n",
        "\n",
        "`a01`을 transpose 하고 배열과 배열의  `shape`를 출력하세요."
      ],
      "metadata": {
        "id": "cTtCSNxFmxsL"
      }
    },
    {
      "cell_type": "code",
      "source": [
        "a01=a01.T  # 3차원을 쓰면 어떻게 변할까?\n",
        "a01, a01.shape"
      ],
      "metadata": {
        "id": "X2FslwXL_hSE",
        "colab": {
          "base_uri": "https://localhost:8080/"
        },
        "outputId": "80f6cc27-7ecc-4656-fec0-7eb5edda4587"
      },
      "execution_count": 212,
      "outputs": [
        {
          "output_type": "execute_result",
          "data": {
            "text/plain": [
              "(array([[1., 1., 1.],\n",
              "        [1., 1., 1.],\n",
              "        [1., 1., 1.],\n",
              "        [1., 1., 1.],\n",
              "        [1., 1., 1.],\n",
              "        [1., 1., 1.]]), (6, 3))"
            ]
          },
          "metadata": {},
          "execution_count": 212
        }
      ]
    },
    {
      "cell_type": "code",
      "source": [
        "u=np.arange(10)\n",
        "u=u.reshape(1,2,5)\n",
        "u, u.shape"
      ],
      "metadata": {
        "colab": {
          "base_uri": "https://localhost:8080/"
        },
        "id": "FcCOsHVDptRv",
        "outputId": "62139b08-1bf2-43db-cf4f-7b0f4333d445"
      },
      "execution_count": 237,
      "outputs": [
        {
          "output_type": "execute_result",
          "data": {
            "text/plain": [
              "(array([[[0, 1, 2, 3, 4],\n",
              "         [5, 6, 7, 8, 9]]]), (1, 2, 5))"
            ]
          },
          "metadata": {},
          "execution_count": 237
        }
      ]
    },
    {
      "cell_type": "code",
      "source": [
        "u"
      ],
      "metadata": {
        "colab": {
          "base_uri": "https://localhost:8080/"
        },
        "id": "UaxxE-OZp9BB",
        "outputId": "eced0e78-aadd-4ecc-e201-9cf506405e25"
      },
      "execution_count": 235,
      "outputs": [
        {
          "output_type": "execute_result",
          "data": {
            "text/plain": [
              "array([[[0, 1, 2, 3, 4],\n",
              "        [5, 6, 7, 8, 9]]])"
            ]
          },
          "metadata": {},
          "execution_count": 235
        }
      ]
    },
    {
      "cell_type": "code",
      "source": [
        "u=u.T\n",
        "u, u.shape # 3차원을 T로 transpose 하면 0번째 축과 마지막 축을 교환한다"
      ],
      "metadata": {
        "colab": {
          "base_uri": "https://localhost:8080/"
        },
        "id": "vTlopMpapAEa",
        "outputId": "f505033c-39e2-42d9-94d1-8f80f2e3728f"
      },
      "execution_count": 238,
      "outputs": [
        {
          "output_type": "execute_result",
          "data": {
            "text/plain": [
              "(array([[[0],\n",
              "         [5]],\n",
              " \n",
              "        [[1],\n",
              "         [6]],\n",
              " \n",
              "        [[2],\n",
              "         [7]],\n",
              " \n",
              "        [[3],\n",
              "         [8]],\n",
              " \n",
              "        [[4],\n",
              "         [9]]]), (5, 2, 1))"
            ]
          },
          "metadata": {},
          "execution_count": 238
        }
      ]
    },
    {
      "cell_type": "markdown",
      "source": [
        "**예제 04**\n",
        "\n",
        "`a01`의 `shape`를 늘려 `(3,8)`인 2차원 배열로 변경하고 배열과 배열의  `shape`를 출력하세요. 어떤 일이 일어나는지 간단히 설명하세요."
      ],
      "metadata": {
        "id": "nKLke2__XUlc"
      }
    },
    {
      "cell_type": "code",
      "source": [
        "a01"
      ],
      "metadata": {
        "id": "ZpgAgpL_XUln",
        "colab": {
          "base_uri": "https://localhost:8080/"
        },
        "outputId": "f55d88e0-b08d-49cc-ce9c-e1f658f7e77f"
      },
      "execution_count": 213,
      "outputs": [
        {
          "output_type": "execute_result",
          "data": {
            "text/plain": [
              "array([[1., 1., 1.],\n",
              "       [1., 1., 1.],\n",
              "       [1., 1., 1.],\n",
              "       [1., 1., 1.],\n",
              "       [1., 1., 1.],\n",
              "       [1., 1., 1.]])"
            ]
          },
          "metadata": {},
          "execution_count": 213
        }
      ]
    },
    {
      "cell_type": "code",
      "source": [
        "a01 = np.resize(a01,(3,8))\n",
        "a01"
      ],
      "metadata": {
        "colab": {
          "base_uri": "https://localhost:8080/"
        },
        "id": "69-HG2EJXLnr",
        "outputId": "ee57c652-abeb-4c71-fd59-8868966fb560"
      },
      "execution_count": 216,
      "outputs": [
        {
          "output_type": "execute_result",
          "data": {
            "text/plain": [
              "array([[1., 1., 1., 1., 1., 1., 1., 1.],\n",
              "       [1., 1., 1., 1., 1., 1., 1., 1.],\n",
              "       [1., 1., 1., 1., 1., 1., 1., 1.]])"
            ]
          },
          "metadata": {},
          "execution_count": 216
        }
      ]
    },
    {
      "cell_type": "markdown",
      "source": [
        "**예제 05**\n",
        "\n",
        "`a01`의 `shape`를 `expand_dims`를 이용해 `(1,3,8)`인 3차원 배열로 변경하고  배열과 배열의  `shape`를 출력하세요."
      ],
      "metadata": {
        "id": "R8o5gYtyXgNs"
      }
    },
    {
      "cell_type": "code",
      "source": [
        "a01=np.expand_dims(a01,0)\n",
        "a01, a01.shape"
      ],
      "metadata": {
        "id": "3E5DjaJJXgNt",
        "colab": {
          "base_uri": "https://localhost:8080/"
        },
        "outputId": "78e45e4a-ae9c-4a00-ea52-68d5dc0af21e"
      },
      "execution_count": 217,
      "outputs": [
        {
          "output_type": "execute_result",
          "data": {
            "text/plain": [
              "(array([[[1., 1., 1., 1., 1., 1., 1., 1.],\n",
              "         [1., 1., 1., 1., 1., 1., 1., 1.],\n",
              "         [1., 1., 1., 1., 1., 1., 1., 1.]]]), (1, 3, 8))"
            ]
          },
          "metadata": {},
          "execution_count": 217
        }
      ]
    },
    {
      "cell_type": "markdown",
      "metadata": {
        "id": "G7NVMtnXXl40"
      },
      "source": [
        "아래 그림과 같은 2차원 배열 `a`, `b`, `c`를  생성하세요\n",
        "\n",
        "<p align='center'>\n",
        "<img src=https://github.com/yebiny/SkillTreePython-DataAnalysis/blob/main/imgs/ch0104-05.png?raw=true width=360>\n",
        "</p>\n"
      ]
    },
    {
      "cell_type": "code",
      "metadata": {
        "id": "v5NNZzWHXl40",
        "colab": {
          "base_uri": "https://localhost:8080/"
        },
        "outputId": "7f0f853a-5c42-4abf-f96e-6e530f30045f"
      },
      "source": [
        "a= np.ones((3,2))\n",
        "print(a)\n",
        "b= np.array([[2],\n",
        "             [2],\n",
        "             [2]])\n",
        "print(b)\n",
        "\n",
        "c= np.array([[3,3],\n",
        "             [3,3]])\n",
        "print(c)"
      ],
      "execution_count": 87,
      "outputs": [
        {
          "output_type": "stream",
          "name": "stdout",
          "text": [
            "[[1. 1.]\n",
            " [1. 1.]\n",
            " [1. 1.]]\n",
            "[[2]\n",
            " [2]\n",
            " [2]]\n",
            "[[3 3]\n",
            " [3 3]]\n"
          ]
        }
      ]
    },
    {
      "cell_type": "markdown",
      "source": [
        "**예제 06**\n",
        "\n",
        "`a`와 `b`를 합쳐 `shape`가 `(3,3)`인 배열을 만드세요."
      ],
      "metadata": {
        "id": "6whR9VwAYZ4G"
      }
    },
    {
      "cell_type": "code",
      "source": [
        "a06=np.concatenate([a,b],axis=1)\n",
        "print(a06, a06.shape)"
      ],
      "metadata": {
        "id": "MLveMkxzYZ4G",
        "colab": {
          "base_uri": "https://localhost:8080/"
        },
        "outputId": "148a8280-dd3c-41d1-fcf1-f1f3267d852d"
      },
      "execution_count": 100,
      "outputs": [
        {
          "output_type": "stream",
          "name": "stdout",
          "text": [
            "[[1. 1. 2.]\n",
            " [1. 1. 2.]\n",
            " [1. 1. 2.]] (3, 3)\n"
          ]
        }
      ]
    },
    {
      "cell_type": "markdown",
      "source": [
        "**예제 07**\n",
        "\n",
        "\n",
        "`a`와 `c`를 합쳐 `shape`가 `(5,2)`인 배열을 만드세요."
      ],
      "metadata": {
        "id": "9u_P0i8VYmIg"
      }
    },
    {
      "cell_type": "code",
      "source": [
        "a07=np.concatenate([a,c],axis=0)\n",
        "a07, a07.shape"
      ],
      "metadata": {
        "id": "l_kU8G1hYmIh",
        "colab": {
          "base_uri": "https://localhost:8080/"
        },
        "outputId": "83f605d1-38ac-4619-d6e8-8bfe7ec825bc"
      },
      "execution_count": 99,
      "outputs": [
        {
          "output_type": "execute_result",
          "data": {
            "text/plain": [
              "(array([[1., 1.],\n",
              "        [1., 1.],\n",
              "        [1., 1.],\n",
              "        [3., 3.],\n",
              "        [3., 3.]]), (5, 2))"
            ]
          },
          "metadata": {},
          "execution_count": 99
        }
      ]
    },
    {
      "cell_type": "markdown",
      "source": [
        "**예제 08**\n",
        "\n",
        "\n",
        "`a`,`b`, `a` 를 합쳐 `shape`가 `(3,5)`인 배열을 만들고 `a08`로 바인딩하세요."
      ],
      "metadata": {
        "id": "PAe1brWaMick"
      }
    },
    {
      "cell_type": "code",
      "source": [
        "a08=np.concatenate([a,b,a],axis=1)\n",
        "a08, a08.shape"
      ],
      "metadata": {
        "id": "NDWaTP0AMicp",
        "colab": {
          "base_uri": "https://localhost:8080/"
        },
        "outputId": "33c13d07-f974-41c8-f384-27cfe41feb3a"
      },
      "execution_count": 98,
      "outputs": [
        {
          "output_type": "execute_result",
          "data": {
            "text/plain": [
              "(array([[1., 1., 2., 1., 1.],\n",
              "        [1., 1., 2., 1., 1.],\n",
              "        [1., 1., 2., 1., 1.]]), (3, 5))"
            ]
          },
          "metadata": {},
          "execution_count": 98
        }
      ]
    },
    {
      "cell_type": "markdown",
      "source": [
        "**예제 09**\n",
        "\n",
        "`a08`을 세개의 배열 `[1,1,2,1,1]`가 나오도록 분할하세요."
      ],
      "metadata": {
        "id": "eW1GNomvYyw8"
      }
    },
    {
      "cell_type": "code",
      "source": [
        "a08"
      ],
      "metadata": {
        "id": "1jkXdrfoYyw8",
        "colab": {
          "base_uri": "https://localhost:8080/"
        },
        "outputId": "914e12b4-eabd-4067-ff0c-a26b3cc7075e"
      },
      "execution_count": 101,
      "outputs": [
        {
          "output_type": "execute_result",
          "data": {
            "text/plain": [
              "array([[1., 1., 2., 1., 1.],\n",
              "       [1., 1., 2., 1., 1.],\n",
              "       [1., 1., 2., 1., 1.]])"
            ]
          },
          "metadata": {},
          "execution_count": 101
        }
      ]
    },
    {
      "cell_type": "code",
      "source": [
        "a1, a2= np.split(a08, [1], axis=0)\n",
        "a1"
      ],
      "metadata": {
        "colab": {
          "base_uri": "https://localhost:8080/"
        },
        "id": "cs-8eaDnZ9JY",
        "outputId": "a14c5f0b-3bbe-4211-ff55-e4580466eeb2"
      },
      "execution_count": 105,
      "outputs": [
        {
          "output_type": "execute_result",
          "data": {
            "text/plain": [
              "array([[1., 1., 2., 1., 1.]])"
            ]
          },
          "metadata": {},
          "execution_count": 105
        }
      ]
    },
    {
      "cell_type": "markdown",
      "source": [
        "**예제 10**\n",
        "\n",
        "아래 그림을 설명하는 코드를 차례대로 작성하세요.\n",
        "\n",
        "<p align='center'>\n",
        "<img src=https://github.com/yebiny/SkillTreePython-DataAnalysis/blob/main/imgs/ch0104-06.png?raw=true width=300>\n",
        "</p>\n"
      ],
      "metadata": {
        "id": "mtnrRAfiRSsZ"
      }
    },
    {
      "cell_type": "code",
      "source": [
        "a10=np.arange(0,6).reshape(2,3)\n",
        "a10.T"
      ],
      "metadata": {
        "id": "CKT2UkrIXjMO",
        "colab": {
          "base_uri": "https://localhost:8080/"
        },
        "outputId": "45adc353-268c-42dc-f75f-7d33b00062a1"
      },
      "execution_count": 108,
      "outputs": [
        {
          "output_type": "execute_result",
          "data": {
            "text/plain": [
              "array([[0, 3],\n",
              "       [1, 4],\n",
              "       [2, 5]])"
            ]
          },
          "metadata": {},
          "execution_count": 108
        }
      ]
    },
    {
      "cell_type": "markdown",
      "metadata": {
        "id": "y6MXM4bwQRHf"
      },
      "source": [
        "**예제 11**\n",
        "\n",
        "\n",
        "아래 그림을 설명하는 코드를 차례대로 작성하세요.\n",
        "\n",
        "<p align='center'>\n",
        "<img src=https://github.com/yebiny/SkillTreePython-DataAnalysis/blob/main/imgs/ch0104-07.png?raw=true width=300>\n",
        "</p>\n"
      ]
    },
    {
      "cell_type": "code",
      "metadata": {
        "id": "Q3DiVbMKQRHh",
        "colab": {
          "base_uri": "https://localhost:8080/"
        },
        "outputId": "5c865416-597f-4f8f-a6af-3e242a6f5568"
      },
      "source": [
        "a11=np.arange(0,12).reshape(4,3)\n",
        "a1, a2 = np.split(a11, [2], axis=0)\n",
        "a3, a4=np.split(a2, [1], axis=0)\n",
        "a11=np.concatenate([a1,a4,a3],axis=0)\n",
        "a11"
      ],
      "execution_count": 242,
      "outputs": [
        {
          "output_type": "execute_result",
          "data": {
            "text/plain": [
              "array([[ 0,  1,  2],\n",
              "       [ 3,  4,  5],\n",
              "       [ 9, 10, 11],\n",
              "       [ 6,  7,  8]])"
            ]
          },
          "metadata": {},
          "execution_count": 242
        }
      ]
    },
    {
      "cell_type": "code",
      "source": [
        "print(a1)\n",
        "print(a3)\n",
        "print(a4)"
      ],
      "metadata": {
        "colab": {
          "base_uri": "https://localhost:8080/"
        },
        "id": "SLr9CLswcaP5",
        "outputId": "0f675134-c141-4cc4-c9a6-8ce5695468f8"
      },
      "execution_count": 243,
      "outputs": [
        {
          "output_type": "stream",
          "name": "stdout",
          "text": [
            "[[0 1 2]\n",
            " [3 4 5]]\n",
            "[[6 7 8]]\n",
            "[[ 9 10 11]]\n"
          ]
        }
      ]
    },
    {
      "cell_type": "markdown",
      "metadata": {
        "id": "7A3h9vPqRAuh"
      },
      "source": [
        "**예제 12**\n",
        "\n",
        "\n",
        "아래 그림을 설명하는 코드를 차례대로 작성하세요.\n",
        "\n",
        "<p align='center'>\n",
        "<img src=https://github.com/yebiny/SkillTreePython-DataAnalysis/blob/main/imgs/ch0104-08.png?raw=true width=560>\n",
        "</p>\n"
      ]
    },
    {
      "cell_type": "code",
      "metadata": {
        "id": "EjHswZepRAuh",
        "colab": {
          "base_uri": "https://localhost:8080/"
        },
        "outputId": "eeaf00d7-4e08-41b1-bddb-18ec474be75f"
      },
      "source": [
        "a10=np.arange(0,6).reshape(2,3)\n",
        "a10_t=a10.T\n",
        "a10_t"
      ],
      "execution_count": 131,
      "outputs": [
        {
          "output_type": "execute_result",
          "data": {
            "text/plain": [
              "array([[0, 3],\n",
              "       [1, 4],\n",
              "       [2, 5]])"
            ]
          },
          "metadata": {},
          "execution_count": 131
        }
      ]
    },
    {
      "cell_type": "code",
      "source": [
        "a2\n",
        "a2_t=a2.T\n",
        "a2_t"
      ],
      "metadata": {
        "colab": {
          "base_uri": "https://localhost:8080/"
        },
        "id": "HpyTgiI1dM4Z",
        "outputId": "b5186695-628c-48e6-e90c-cda998a29612"
      },
      "execution_count": 132,
      "outputs": [
        {
          "output_type": "execute_result",
          "data": {
            "text/plain": [
              "array([[ 6,  9],\n",
              "       [ 7, 10],\n",
              "       [ 8, 11]])"
            ]
          },
          "metadata": {},
          "execution_count": 132
        }
      ]
    },
    {
      "cell_type": "code",
      "source": [
        "a10"
      ],
      "metadata": {
        "colab": {
          "base_uri": "https://localhost:8080/"
        },
        "id": "O5w3717OdtV7",
        "outputId": "5fed2e82-507f-4b3a-f26a-19c964eb75cd"
      },
      "execution_count": 133,
      "outputs": [
        {
          "output_type": "execute_result",
          "data": {
            "text/plain": [
              "array([[0, 1, 2],\n",
              "       [3, 4, 5]])"
            ]
          },
          "metadata": {},
          "execution_count": 133
        }
      ]
    },
    {
      "cell_type": "code",
      "source": [
        "a2"
      ],
      "metadata": {
        "colab": {
          "base_uri": "https://localhost:8080/"
        },
        "id": "yZZJqeOXdvYC",
        "outputId": "785c7e5d-771a-47a3-d77c-9f9cc89404b3"
      },
      "execution_count": 134,
      "outputs": [
        {
          "output_type": "execute_result",
          "data": {
            "text/plain": [
              "array([[ 6,  7,  8],\n",
              "       [ 9, 10, 11]])"
            ]
          },
          "metadata": {},
          "execution_count": 134
        }
      ]
    },
    {
      "cell_type": "code",
      "source": [
        "np.concatenate([a10,a2],axis=1)"
      ],
      "metadata": {
        "colab": {
          "base_uri": "https://localhost:8080/"
        },
        "id": "tQIj54pBdo1T",
        "outputId": "bbbd65a9-3392-4a65-9014-96e6bab40bbc"
      },
      "execution_count": 136,
      "outputs": [
        {
          "output_type": "execute_result",
          "data": {
            "text/plain": [
              "array([[ 0,  1,  2,  6,  7,  8],\n",
              "       [ 3,  4,  5,  9, 10, 11]])"
            ]
          },
          "metadata": {},
          "execution_count": 136
        }
      ]
    },
    {
      "cell_type": "code",
      "source": [
        "np.concatenate([a10_t,a2_t],axis=1)"
      ],
      "metadata": {
        "colab": {
          "base_uri": "https://localhost:8080/"
        },
        "id": "WZgRnaPAd9AX",
        "outputId": "fcd936dc-d9f4-4725-9cb8-0af43584b7bf"
      },
      "execution_count": 137,
      "outputs": [
        {
          "output_type": "execute_result",
          "data": {
            "text/plain": [
              "array([[ 0,  3,  6,  9],\n",
              "       [ 1,  4,  7, 10],\n",
              "       [ 2,  5,  8, 11]])"
            ]
          },
          "metadata": {},
          "execution_count": 137
        }
      ]
    },
    {
      "cell_type": "markdown",
      "metadata": {
        "id": "O-AZHlQMQ5jI"
      },
      "source": [
        "**예제 13**\n",
        "\n",
        "아래 그림을 설명하는 코드를 차례대로 작성하세요.\n",
        "\n",
        "<p align='center'>\n",
        "<img src=https://github.com/yebiny/SkillTreePython-DataAnalysis/blob/main/imgs/ch0104-09.png?raw=true width=440>\n",
        "</p>"
      ]
    },
    {
      "cell_type": "code",
      "source": [
        "aa=np.arange(0,4).reshape(2,2)\n",
        "aa, aa.shape"
      ],
      "metadata": {
        "colab": {
          "base_uri": "https://localhost:8080/"
        },
        "id": "QP6lf492u0Hb",
        "outputId": "c675abae-0772-4318-b68f-7b3c11158da0"
      },
      "execution_count": 252,
      "outputs": [
        {
          "output_type": "execute_result",
          "data": {
            "text/plain": [
              "(array([[0, 1],\n",
              "        [2, 3]]), (2, 2))"
            ]
          },
          "metadata": {},
          "execution_count": 252
        }
      ]
    },
    {
      "cell_type": "code",
      "metadata": {
        "id": "-Y2ZsVFdQ5jJ",
        "colab": {
          "base_uri": "https://localhost:8080/"
        },
        "outputId": "d9eb33d9-8067-40d5-ade3-9bb11b06d392"
      },
      "source": [
        "aa=aa.reshape(1,2,2)\n",
        "aa, aa.shape"
      ],
      "execution_count": 255,
      "outputs": [
        {
          "output_type": "execute_result",
          "data": {
            "text/plain": [
              "(array([[[0, 1],\n",
              "         [2, 3]]]), (1, 2, 2))"
            ]
          },
          "metadata": {},
          "execution_count": 255
        }
      ]
    },
    {
      "cell_type": "code",
      "source": [
        "bb=np.arange(4,8).reshape(2,2)\n",
        "bb, bb.shape"
      ],
      "metadata": {
        "colab": {
          "base_uri": "https://localhost:8080/"
        },
        "id": "3FMcbxn6eUNL",
        "outputId": "2e50226c-5134-4a2c-94d0-9598cd540f29"
      },
      "execution_count": 256,
      "outputs": [
        {
          "output_type": "execute_result",
          "data": {
            "text/plain": [
              "(array([[4, 5],\n",
              "        [6, 7]]), (2, 2))"
            ]
          },
          "metadata": {},
          "execution_count": 256
        }
      ]
    },
    {
      "cell_type": "code",
      "source": [
        "bb=bb.reshape(1,2,2)\n",
        "bb, bb.shape"
      ],
      "metadata": {
        "colab": {
          "base_uri": "https://localhost:8080/"
        },
        "id": "Ebk79FKxvT0C",
        "outputId": "82b9af18-e585-49fa-a659-9157712a6f50"
      },
      "execution_count": 257,
      "outputs": [
        {
          "output_type": "execute_result",
          "data": {
            "text/plain": [
              "(array([[[4, 5],\n",
              "         [6, 7]]]), (1, 2, 2))"
            ]
          },
          "metadata": {},
          "execution_count": 257
        }
      ]
    },
    {
      "cell_type": "code",
      "source": [
        "aabb=np.concatenate([aa,bb],axis=0)\n",
        "aabb, aabb.shape"
      ],
      "metadata": {
        "colab": {
          "base_uri": "https://localhost:8080/"
        },
        "id": "ksHkWNf-ecTs",
        "outputId": "d9aa81e3-e57d-4766-fbdb-2cfc0a9abfc1"
      },
      "execution_count": 258,
      "outputs": [
        {
          "output_type": "execute_result",
          "data": {
            "text/plain": [
              "(array([[[0, 1],\n",
              "         [2, 3]],\n",
              " \n",
              "        [[4, 5],\n",
              "         [6, 7]]]), (2, 2, 2))"
            ]
          },
          "metadata": {},
          "execution_count": 258
        }
      ]
    },
    {
      "cell_type": "markdown",
      "metadata": {
        "id": "dAc67rCtUMdH"
      },
      "source": [
        "**예제 14**\n",
        "\n",
        "아래 그림을 설명하는 코드를 차례대로 작성하세요.\n",
        "\n",
        "<p align='center'>\n",
        "<img src=https://github.com/yebiny/SkillTreePython-DataAnalysis/blob/main/imgs/ch0104-10.png?raw=true width=440>\n",
        "</p>"
      ]
    },
    {
      "cell_type": "code",
      "metadata": {
        "id": "hQRgmmV4UMdJ",
        "colab": {
          "base_uri": "https://localhost:8080/"
        },
        "outputId": "32f74016-111a-4fa3-cb22-6af2615e3445"
      },
      "source": [
        "aaa=np.arange(0,4).reshape(2,1,2)\n",
        "aaa, aaa.shape"
      ],
      "execution_count": 148,
      "outputs": [
        {
          "output_type": "execute_result",
          "data": {
            "text/plain": [
              "(array([[[0, 1]],\n",
              " \n",
              "        [[2, 3]]]), (2, 1, 2))"
            ]
          },
          "metadata": {},
          "execution_count": 148
        }
      ]
    },
    {
      "cell_type": "code",
      "source": [
        "bbb=np.arange(4,8).reshape(2,1,2)\n",
        "bbb, bbb.shape"
      ],
      "metadata": {
        "colab": {
          "base_uri": "https://localhost:8080/"
        },
        "id": "beJUF9YRfYEJ",
        "outputId": "f1e334ad-171a-499f-baf3-ac280082d418"
      },
      "execution_count": 149,
      "outputs": [
        {
          "output_type": "execute_result",
          "data": {
            "text/plain": [
              "(array([[[4, 5]],\n",
              " \n",
              "        [[6, 7]]]), (2, 1, 2))"
            ]
          },
          "metadata": {},
          "execution_count": 149
        }
      ]
    },
    {
      "cell_type": "code",
      "source": [
        "aaabbb=np.concatenate([aaa,bbb],axis=1)\n",
        "aaabbb, aaabbb.shape"
      ],
      "metadata": {
        "colab": {
          "base_uri": "https://localhost:8080/"
        },
        "id": "NYTXi5T6feiH",
        "outputId": "c7f40d71-52ba-4761-81cb-0b7e5758af76"
      },
      "execution_count": 151,
      "outputs": [
        {
          "output_type": "execute_result",
          "data": {
            "text/plain": [
              "(array([[[0, 1],\n",
              "         [4, 5]],\n",
              " \n",
              "        [[2, 3],\n",
              "         [6, 7]]]), (2, 2, 2))"
            ]
          },
          "metadata": {},
          "execution_count": 151
        }
      ]
    },
    {
      "cell_type": "markdown",
      "metadata": {
        "id": "jx_t_a6dYl22"
      },
      "source": [
        "**예제 15**\n",
        "\n",
        "\n",
        "아래 그림을 설명하는 코드를 차례대로 작성하세요. 여기서 알수 있는 사실을 간단히 정리하세요.\n",
        "\n",
        "<p align='center'>\n",
        "<img src=https://github.com/yebiny/SkillTreePython-DataAnalysis/blob/main/imgs/ch0104-11.png?raw=true width=240>\n",
        "</p>"
      ]
    },
    {
      "cell_type": "code",
      "source": [
        "x= np.arange(0,3).reshape(1,3)\n",
        "x"
      ],
      "metadata": {
        "colab": {
          "base_uri": "https://localhost:8080/"
        },
        "id": "1cNC-rDjfrl9",
        "outputId": "6d8c44f4-01ef-456f-fd29-20dac664fc90"
      },
      "execution_count": 161,
      "outputs": [
        {
          "output_type": "execute_result",
          "data": {
            "text/plain": [
              "array([[0, 1, 2]])"
            ]
          },
          "metadata": {},
          "execution_count": 161
        }
      ]
    },
    {
      "cell_type": "code",
      "source": [
        "y= np.arange(3,6).reshape(1,3)\n",
        "y"
      ],
      "metadata": {
        "colab": {
          "base_uri": "https://localhost:8080/"
        },
        "id": "0DtUXyDBf3NV",
        "outputId": "698e5de5-4605-452c-f23a-02582f086a82"
      },
      "execution_count": 160,
      "outputs": [
        {
          "output_type": "execute_result",
          "data": {
            "text/plain": [
              "array([[3, 4, 5]])"
            ]
          },
          "metadata": {},
          "execution_count": 160
        }
      ]
    },
    {
      "cell_type": "code",
      "metadata": {
        "id": "xZYEuN8hYl22",
        "colab": {
          "base_uri": "https://localhost:8080/"
        },
        "outputId": "1e166150-7837-4b66-8037-087f403e042e"
      },
      "source": [
        "np.concatenate([x,y],axis=-1)"
      ],
      "execution_count": 159,
      "outputs": [
        {
          "output_type": "execute_result",
          "data": {
            "text/plain": [
              "array([[0, 1, 2, 3, 4, 5]])"
            ]
          },
          "metadata": {},
          "execution_count": 159
        }
      ]
    },
    {
      "cell_type": "code",
      "source": [
        "np.stack([x,y],axis=-1)"
      ],
      "metadata": {
        "colab": {
          "base_uri": "https://localhost:8080/"
        },
        "id": "zGmfy5YRgVhy",
        "outputId": "d4e38e53-1d87-4e30-b64e-ddd8fcdda3e7"
      },
      "execution_count": 162,
      "outputs": [
        {
          "output_type": "execute_result",
          "data": {
            "text/plain": [
              "array([[[0, 3],\n",
              "        [1, 4],\n",
              "        [2, 5]]])"
            ]
          },
          "metadata": {},
          "execution_count": 162
        }
      ]
    }
  ]
}