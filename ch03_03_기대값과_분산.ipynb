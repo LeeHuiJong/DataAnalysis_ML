{
  "nbformat": 4,
  "nbformat_minor": 0,
  "metadata": {
    "colab": {
      "name": "ch03_03_기대값과_분산.ipynb",
      "provenance": [],
      "collapsed_sections": [],
      "toc_visible": true,
      "include_colab_link": true
    },
    "kernelspec": {
      "name": "python3",
      "display_name": "Python 3"
    },
    "language_info": {
      "name": "python"
    }
  },
  "cells": [
    {
      "cell_type": "markdown",
      "metadata": {
        "id": "view-in-github",
        "colab_type": "text"
      },
      "source": [
        "<a href=\"https://colab.research.google.com/github/LeeHuiJong/SkillTreePython-DataAnalysis/blob/main/ch03_03_%EA%B8%B0%EB%8C%80%EA%B0%92%EA%B3%BC_%EB%B6%84%EC%82%B0.ipynb\" target=\"_parent\"><img src=\"https://colab.research.google.com/assets/colab-badge.svg\" alt=\"Open In Colab\"/></a>"
      ]
    },
    {
      "cell_type": "markdown",
      "source": [
        "# ch04.03. 기대값과 분산\n",
        "---\n",
        "* 날짜:\n",
        "* 이름:\n",
        "\n",
        "## 학습내용\n",
        "    - 기대값\n",
        "    - 분산\n",
        "    - 공분산\n",
        "    - 상관계수"
      ],
      "metadata": {
        "id": "wWpXZc2fi39U"
      }
    },
    {
      "cell_type": "code",
      "source": [
        "import numpy as np\n",
        "import matplotlib.pyplot as plt\n",
        "import pandas as pd"
      ],
      "metadata": {
        "id": "uYLRSgCqw4YZ"
      },
      "execution_count": 1,
      "outputs": []
    },
    {
      "cell_type": "markdown",
      "source": [
        "### **| 기댓값**\n",
        "\n",
        "\\begin{align}\n",
        "\\mu_X = \\text{E}[X] = \\sum_{x_i \\in \\Omega} x_ip(x_i) \n",
        "\\end{align}\n"
      ],
      "metadata": {
        "id": "PHt4dICKZZhS"
      }
    },
    {
      "cell_type": "code",
      "source": [
        "def E(X, P=[]):\n",
        "  # P를 따로 정해주지 않으면 가중치를 1/n\n",
        "  if not len(P):\n",
        "    P = np.array([1/len(X)]*len(X))\n",
        "  return np.sum(X*P) # 넘파이 배열을 쓰면 브로드캐스팅이 된다.\n",
        "  "
      ],
      "metadata": {
        "id": "y0hVzVL1ZeBh"
      },
      "execution_count": 24,
      "outputs": []
    },
    {
      "cell_type": "code",
      "source": [
        "X = np.array([1,2])\n",
        "P = np.array([0.2, 0.8])\n",
        "E(X) # P 를 "
      ],
      "metadata": {
        "id": "RQXXbHF7od0n",
        "colab": {
          "base_uri": "https://localhost:8080/"
        },
        "outputId": "c360031b-fc65-41fd-af4e-834e2d9494a1"
      },
      "execution_count": 25,
      "outputs": [
        {
          "output_type": "execute_result",
          "data": {
            "text/plain": [
              "1.5"
            ]
          },
          "metadata": {},
          "execution_count": 25
        }
      ]
    },
    {
      "cell_type": "markdown",
      "source": [
        "#### **예제 01. 공정한 주사위**\n",
        "\n"
      ],
      "metadata": {
        "id": "82a3GtBCNjto"
      }
    },
    {
      "cell_type": "code",
      "source": [
        "X = np.arange(1,7)\n",
        "E(X)"
      ],
      "metadata": {
        "id": "i0hS4O76OIFP",
        "colab": {
          "base_uri": "https://localhost:8080/"
        },
        "outputId": "e4480915-279d-41e0-cadc-1c017c704ae5"
      },
      "execution_count": 32,
      "outputs": [
        {
          "output_type": "execute_result",
          "data": {
            "text/plain": [
              "3.5"
            ]
          },
          "metadata": {},
          "execution_count": 32
        }
      ]
    },
    {
      "cell_type": "markdown",
      "source": [
        "#### **예제 02. 공정하지 않은 주사위**\n",
        "\n",
        "짝수가 나올 확률이 홀수가 나올 확률의 두배인 주사위의 기대값을 구하세요."
      ],
      "metadata": {
        "id": "PhvhttZg2JyB"
      }
    },
    {
      "cell_type": "code",
      "source": [
        "P = np.array([1/9, 2/9, 1/9, 2/9, 1/9, 2/9])\n",
        "print(P)\n",
        "E(X,P)"
      ],
      "metadata": {
        "id": "tdyZ-8JGaCVY",
        "colab": {
          "base_uri": "https://localhost:8080/"
        },
        "outputId": "ff6de537-0755-4ff5-a295-f2deb17023c6"
      },
      "execution_count": 31,
      "outputs": [
        {
          "output_type": "stream",
          "name": "stdout",
          "text": [
            "[0.11111111 0.22222222 0.11111111 0.22222222 0.11111111 0.22222222]\n"
          ]
        },
        {
          "output_type": "execute_result",
          "data": {
            "text/plain": [
              "3.666666666666666"
            ]
          },
          "metadata": {},
          "execution_count": 31
        }
      ]
    },
    {
      "cell_type": "markdown",
      "source": [
        "#### **예제 03. 기대값의 성질**\n",
        "\n",
        "X, Y, c 가 아래와 같이 주어졌을 때,\n",
        "```\n",
        "X = np.array([1,2,3,4])\n",
        "Y = np.array([10,20,30,40])\n",
        "c = np.array([4])\n",
        "```\n",
        "\n",
        "다음을 구하세요\n",
        "```\n",
        "E(X)\n",
        "E(Y)\n",
        "E(c)\n",
        "E(X+Y)\n",
        "E(X)+E(Y)\n",
        "E(4X+3)\n",
        "4E(X)+3\n",
        "```"
      ],
      "metadata": {
        "id": "2EgD8eUs5A9g"
      }
    },
    {
      "cell_type": "code",
      "source": [
        "X = np.array([1,2,3,4])\n",
        "Y = np.array([10,20,30,40])\n",
        "c = np.array([4])"
      ],
      "metadata": {
        "id": "LDtEwV8hyb38"
      },
      "execution_count": 33,
      "outputs": []
    },
    {
      "cell_type": "code",
      "source": [
        "print(E(X))\n",
        "print(E(Y))\n",
        "print(E(c))\n",
        "print(E(X+Y))\n",
        "print(E(X)+E(Y))\n",
        "print(E(4*X+3))\n",
        "print(4*E(X)+3)"
      ],
      "metadata": {
        "id": "mnLuZkE_5Jln",
        "colab": {
          "base_uri": "https://localhost:8080/"
        },
        "outputId": "5f088d6b-ae9d-4de2-f66c-a2cd70d64d59"
      },
      "execution_count": 35,
      "outputs": [
        {
          "output_type": "stream",
          "name": "stdout",
          "text": [
            "2.5\n",
            "25.0\n",
            "4.0\n",
            "27.5\n",
            "27.5\n",
            "13.0\n",
            "13.0\n"
          ]
        }
      ]
    },
    {
      "cell_type": "markdown",
      "source": [
        "#### **예제 04. 시험 성적**\n",
        "\n",
        "학생 네명의 시험 성적이 다음과 같을 때 총합점수의 평균(국어+수학) 을 두가지 방법으로 구하세요.\n",
        "\n",
        "```\n",
        "X_국어 = np.array([60,70,90,100])\n",
        "X_수학 = np.array([70,30,50,50])\n",
        "```"
      ],
      "metadata": {
        "id": "T7VzCEPR6nGn"
      }
    },
    {
      "cell_type": "code",
      "source": [
        "X_국어 = np.array([60,70,90,100])\n",
        "X_수학 = np.array([70,30,50,50])"
      ],
      "metadata": {
        "id": "GNTcSS3x6nGs"
      },
      "execution_count": 36,
      "outputs": []
    },
    {
      "cell_type": "code",
      "source": [
        "print(E(X_국어+X_수학))\n",
        "print(E(X_국어)+E(X_수학))"
      ],
      "metadata": {
        "colab": {
          "base_uri": "https://localhost:8080/"
        },
        "id": "KwSJ-VrTzCyk",
        "outputId": "294a1940-b9bb-473a-f605-c4738117894a"
      },
      "execution_count": 37,
      "outputs": [
        {
          "output_type": "stream",
          "name": "stdout",
          "text": [
            "130.0\n",
            "130.0\n"
          ]
        }
      ]
    },
    {
      "cell_type": "markdown",
      "source": [
        "### **| 분산**\n",
        "\n",
        "\\begin{align}\n",
        "V(X) = E[(X-E[X])^2]\n",
        "\\end{align}\n"
      ],
      "metadata": {
        "id": "NGufv-OobGkx"
      }
    },
    {
      "cell_type": "code",
      "source": [
        "def V(X, P=[]):\n",
        "  if not len(P):\n",
        "    P = np.array([1/len(X)]*len(X))\n",
        "  return E( (X - E(X, P) )**2 )"
      ],
      "metadata": {
        "id": "IbFnU_2xbGky"
      },
      "execution_count": 14,
      "outputs": []
    },
    {
      "cell_type": "code",
      "source": [
        "X = np.array([1,2,3])\n",
        "P = np.array([1/10, 1/10, 8/10])\n",
        "print(E(X), V(X)) # P가 똑같은 확률일 때\n",
        "print(E(X, P), V(X, P)) # P가 다른 확률일 때"
      ],
      "metadata": {
        "id": "XWKrxRrn27Tf",
        "colab": {
          "base_uri": "https://localhost:8080/"
        },
        "outputId": "71395672-7bfd-4c98-dbfd-f3e5c3519cb4"
      },
      "execution_count": 17,
      "outputs": [
        {
          "output_type": "stream",
          "name": "stdout",
          "text": [
            "2.0 0.6666666666666666\n",
            "2.7 1.156666666666667\n"
          ]
        }
      ]
    },
    {
      "cell_type": "markdown",
      "source": [
        "#### **예제 01. 동전 던지기**\n",
        "\n",
        "두개의 동전을 던졌을 때 앞면이 나온 횟수를 확률 변수 X라 정의합니다.\n",
        "\n",
        "다음을 구하세요.\n",
        "\n",
        "```\n",
        "X\n",
        "P\n",
        "E(X)\n",
        "V(X)\n",
        "```\n"
      ],
      "metadata": {
        "id": "bJgbzis26zAO"
      }
    },
    {
      "cell_type": "code",
      "source": [
        "X = np.array([0, 1, 2]) # 앞면이 0번, 1번 2번 나올때\n",
        "P = np.array([1/4, 2/4, 1/4]) # 확률이 각각 다른 가중치를 들고있다."
      ],
      "metadata": {
        "id": "LS31msHr6zAO"
      },
      "execution_count": 38,
      "outputs": []
    },
    {
      "cell_type": "code",
      "source": [
        "E(X)"
      ],
      "metadata": {
        "colab": {
          "base_uri": "https://localhost:8080/"
        },
        "id": "Sey74idA2SHj",
        "outputId": "02e1760a-b3cf-4f9b-fd87-f454cbbc3bea"
      },
      "execution_count": 39,
      "outputs": [
        {
          "output_type": "execute_result",
          "data": {
            "text/plain": [
              "1.0"
            ]
          },
          "metadata": {},
          "execution_count": 39
        }
      ]
    },
    {
      "cell_type": "code",
      "source": [
        "V(X)"
      ],
      "metadata": {
        "colab": {
          "base_uri": "https://localhost:8080/"
        },
        "id": "5lMHG-I-2YOL",
        "outputId": "127f825c-dbdf-4a61-a942-cd46de035f7c"
      },
      "execution_count": 40,
      "outputs": [
        {
          "output_type": "execute_result",
          "data": {
            "text/plain": [
              "0.6666666666666666"
            ]
          },
          "metadata": {},
          "execution_count": 40
        }
      ]
    },
    {
      "cell_type": "markdown",
      "source": [
        "#### **예제 02. 분산의 성질**\n",
        "\n",
        "\n",
        "X,Y 가 아래와 같이 주어졌을 때\n",
        "\n",
        "```\n",
        "X = np.array([1,2,3,4,5,6,7,8,9])\n",
        "c = np.array([10])\n",
        "```\n",
        "\n",
        "다음을 구하세요.\n",
        "\n",
        "```\n",
        "V(X)\n",
        "V(c)\n",
        "V(2X)\n",
        "V(2X-2)\n",
        "4 x V(X)\n",
        "```"
      ],
      "metadata": {
        "id": "JRcCsinm-aiD"
      }
    },
    {
      "cell_type": "code",
      "source": [
        "X = np.array([1,2,3,4,5,6,7,8,9])\n",
        "c = np.array([10])"
      ],
      "metadata": {
        "id": "FFP0aEUY-aiI"
      },
      "execution_count": 41,
      "outputs": []
    },
    {
      "cell_type": "code",
      "source": [
        "print(V(X))\n",
        "print(V(c)) # 분산이 왜 0인가?\n",
        "print(V(2*X))\n",
        "print(V(2*X-2))\n",
        "print(4*V(X))"
      ],
      "metadata": {
        "colab": {
          "base_uri": "https://localhost:8080/"
        },
        "id": "GEFWcOR43Ans",
        "outputId": "f02ae284-a7a0-4139-f235-fb6d056dcc59"
      },
      "execution_count": 42,
      "outputs": [
        {
          "output_type": "stream",
          "name": "stdout",
          "text": [
            "6.666666666666666\n",
            "0.0\n",
            "26.666666666666664\n",
            "26.666666666666664\n",
            "26.666666666666664\n"
          ]
        }
      ]
    },
    {
      "cell_type": "markdown",
      "source": [
        "#### **예제 03. 시험 성적**\n",
        "\n",
        "학생 네명의 시험 성적이 다음과 같습니다.\n",
        "```\n",
        "X_국어 = np.array([60,70,90,100])\n",
        "X_수학 = np.array([70,30,50,50])\n",
        "```\n",
        "\n",
        "다음을 구하세요.\n",
        "```\n",
        "V(X_국어)\n",
        "V(X_수학)\n",
        "V(5*X_국어)\n",
        "5*5*V(X_국어)\n",
        "```\n"
      ],
      "metadata": {
        "id": "0VQG51pJ3Ega"
      }
    },
    {
      "cell_type": "code",
      "source": [
        "X_국어 = np.array([60,70,90,100]) # 모든 변수를 설정 할 때 넘파이 어레이로 설정 해야함\n",
        "X_수학 = np.array([70,30,50,50])"
      ],
      "metadata": {
        "id": "Yjxcmy1B3Egb"
      },
      "execution_count": 43,
      "outputs": []
    },
    {
      "cell_type": "code",
      "source": [
        "print(V(X_국어))\n",
        "print(V(X_수학))\n",
        "print(V(5*X_국어))\n",
        "print(5*5*V(X_국어))"
      ],
      "metadata": {
        "colab": {
          "base_uri": "https://localhost:8080/"
        },
        "id": "hYYhT36Y3f6U",
        "outputId": "8c5718a4-f7a5-4efd-b163-ae3c56bea222"
      },
      "execution_count": 44,
      "outputs": [
        {
          "output_type": "stream",
          "name": "stdout",
          "text": [
            "250.0\n",
            "200.0\n",
            "6250.0\n",
            "6250.0\n"
          ]
        }
      ]
    },
    {
      "cell_type": "markdown",
      "source": [
        "### **| 공분산**\n",
        "\n",
        "\n",
        "\\begin{align}\n",
        "\\text{Cov}(X, Y) = \\text{E}[(X - \\text{E}[X])(Y - \\text{E}[Y])]\n",
        "\\tag{7.5.3}\n",
        "\\end{align}"
      ],
      "metadata": {
        "id": "uu3r4i3_fs62"
      }
    },
    {
      "cell_type": "code",
      "source": [
        "def C(X, Y, PX = [], PY = []):  # X와 Y에 각각 값이 다른 확률을 적용시킨다.\n",
        "  if not len(P):  # 만약 P값을 설정하지 않을 경우 동일한 확률이 된다.\n",
        "    PX = np.array([1/len(X)]*len(X))\n",
        "  if not len(P):  # Y의 P도 같은 설정\n",
        "    PY = np.array([1/len(Y)]*len(Y))\n",
        "  return E( (X - E(X, PX)) * (Y - E(Y, PY)) )"
      ],
      "metadata": {
        "id": "3h694jZJfvGt"
      },
      "execution_count": 46,
      "outputs": []
    },
    {
      "cell_type": "code",
      "source": [
        "X = np.array([10,20,30,40])\n",
        "Y = np.array([40,30,20,10])\n",
        "Z = np.array([10,20,10,20])"
      ],
      "metadata": {
        "id": "0RjM7m0Okpj_"
      },
      "execution_count": 47,
      "outputs": []
    },
    {
      "cell_type": "code",
      "source": [
        "C(X, Y),C(X, Z)"
      ],
      "metadata": {
        "colab": {
          "base_uri": "https://localhost:8080/"
        },
        "id": "8E02D_Fo5-Qt",
        "outputId": "f41b57e2-6079-47e6-be05-81824700ea87"
      },
      "execution_count": 48,
      "outputs": [
        {
          "output_type": "execute_result",
          "data": {
            "text/plain": [
              "(-125.0, 25.0)"
            ]
          },
          "metadata": {},
          "execution_count": 48
        }
      ]
    },
    {
      "cell_type": "markdown",
      "source": [
        "### **| 상관계수**\n",
        "\n",
        "\n",
        "* 피어슨(Pearson) 상관계수\n",
        "\n",
        "\\begin{align}\n",
        "\\rho[X,Y] =  \\dfrac{\\text{Cov}[X, Y]}{\\sqrt{\\text{V}[X] \\cdot \\text{V}[Y]}}\n",
        "\\end{align}\n",
        "\n",
        "\\begin{align}\n",
        "-1 \\leq \\rho \\leq 1\n",
        "\\end{align}\n",
        "\n",
        "\n"
      ],
      "metadata": {
        "id": "Vn_-yEAmfwjD"
      }
    },
    {
      "cell_type": "code",
      "source": [
        "def Pe(X, Y, PX = [], PY = []):\n",
        "  if not len(P):\n",
        "    PX = np.array([1/len(X)]*len(X))\n",
        "  if not len(P):\n",
        "    PY = np.array([1/len(Y)]*len(Y))\n",
        "  return C(X, Y) / np.sqrt(V(X, PX) * V(Y, PY))"
      ],
      "metadata": {
        "id": "cDkhhX-hjRVl"
      },
      "execution_count": 49,
      "outputs": []
    },
    {
      "cell_type": "code",
      "source": [
        "Pe(X, Y), Pe(X, Z)"
      ],
      "metadata": {
        "id": "UUnwQS71kBG_",
        "colab": {
          "base_uri": "https://localhost:8080/"
        },
        "outputId": "390bdaeb-6d2d-4d91-b2e7-59580da16ec9"
      },
      "execution_count": 50,
      "outputs": [
        {
          "output_type": "execute_result",
          "data": {
            "text/plain": [
              "(-1.0, 0.4472135954999579)"
            ]
          },
          "metadata": {},
          "execution_count": 50
        }
      ]
    },
    {
      "cell_type": "markdown",
      "source": [
        "#### **예제 01. 두 뽑기의 확률**\n",
        "\n",
        "두 뽑기 A, B에서 나오는 숫자들의 확률이 아래와 같을 때 X와Y의 공분산과 상관계수를 구하세요.\n",
        "```\n",
        "X = [0,1,2]\n",
        "P(X) = [1/5, 2/5, 2/5]\n",
        "Y = [0, 1, 2]\n",
        "P(Y) = [1/5, 3/5, 1/5]\n",
        "```"
      ],
      "metadata": {
        "id": "k2fH0nowszcq"
      }
    },
    {
      "cell_type": "code",
      "source": [
        "X = np.array([0,1,2])\n",
        "PX = np.array([1/5, 2/5, 2/5]) # X의 확률을 설정\n",
        "Y = np.array([0, 1, 2])\n",
        "PY = np.array([1/5, 3/5, 1/5]) # Y의 확률을 설정"
      ],
      "metadata": {
        "id": "eN3AX__Ru_4u"
      },
      "execution_count": 56,
      "outputs": []
    },
    {
      "cell_type": "code",
      "source": [
        "print(C(X,Y, PX, PY))\n",
        "print(Pe(X,Y , PX, PY))"
      ],
      "metadata": {
        "colab": {
          "base_uri": "https://localhost:8080/"
        },
        "id": "SK1UyI_-6-zN",
        "outputId": "d2151106-33cd-407d-a512-6e96aa7c490d"
      },
      "execution_count": 57,
      "outputs": [
        {
          "output_type": "stream",
          "name": "stdout",
          "text": [
            "0.6666666666666666\n",
            "0.9712858623572641\n"
          ]
        }
      ]
    },
    {
      "cell_type": "markdown",
      "source": [
        "#### **예제 02. 표본 그리기 1**\n",
        "\n",
        "아래 코드는 표본을 10000개 추출 합니다.\n",
        "\n",
        "\n",
        "\n",
        "```\n",
        "x, y = np.random.multivariate_normal([0, 0], [[1, a], [a, 1]], 10000).T\n",
        "x.shape, y.shape\n",
        "```\n",
        "\n",
        "1. a 값이 `-1,0.7,0.3,0.01,-0.3,-0.7,-1` 일 때 x, y의 표본쌍 7개의 스캐터 플롯을 그리고, \n",
        "2. 각 경우에 x, y의 상관계수를 구하세요.\n"
      ],
      "metadata": {
        "id": "SzWRwbA2ob00"
      }
    },
    {
      "cell_type": "code",
      "source": [
        "import numpy as np\n",
        "import pandas as pd\n",
        "import matplotlib.pyplot as plt  # 산점도를 그리기 위해서 matplotlib을 불러온다."
      ],
      "metadata": {
        "id": "xz6pVfT_-Mme"
      },
      "execution_count": 84,
      "outputs": []
    },
    {
      "cell_type": "code",
      "source": [
        "plt.figure(figsize=(15,7)) # 그래프 크기 조정\n",
        "for i, a in enumerate([-1,0.7,0.3,0.01,-0.3,-0.7,-1]):  # enumerate를 사용해 a값의 번호를 정해준다.\n",
        "  x, y = np.random.multivariate_normal([0, 0], [[1, a], [a, 1]], 10000).T\n",
        "  plt.subplot(2,4,i+1)\n",
        "  plt.title(f'Per{Pe(x,y)}')  # 타이틀을 각각의 상관계수로 정한다.\n",
        "  plt.scatter(x,y, marker='.')"
      ],
      "metadata": {
        "id": "G3rJmkC5n_Eo",
        "colab": {
          "base_uri": "https://localhost:8080/",
          "height": 441
        },
        "outputId": "c716f5de-05aa-45ad-d548-1b9824e9f06d"
      },
      "execution_count": 85,
      "outputs": [
        {
          "output_type": "display_data",
          "data": {
            "text/plain": [
              "<Figure size 1080x504 with 7 Axes>"
            ],
            "image/png": "[encoded data removed]"
          },
          "metadata": {}
        }
      ]
    },
    {
      "cell_type": "markdown",
      "source": [
        "#### **예제 03. 표본 그리기 2**\n",
        "\n",
        "아래 코드는 표본을 10000개 추출 합니다.\n",
        "\n",
        "\n",
        "\n",
        "```\n",
        "x, y = np.random.multivariate_normal([0, 0], [[1, 1], [1, 1]], 10000).T\n",
        "x.shape, y.shape\n",
        "```\n",
        "\n",
        "\n",
        "1. x 표본은 그대로 두고, y 표본에 `1, 0.7, 0.3, 0.01, -0.3, -0.7, -1`을 각각 곱해서 각 표본쌍의 스캐터 플롯 7개를 그리세요.\n",
        "2. 7가지 경우에 대한 x, y 상관계수를 구하세요.\n"
      ],
      "metadata": {
        "id": "HsCNgtJzq2x6"
      }
    },
    {
      "cell_type": "code",
      "source": [
        "plt.figure(figsize=(15,7))\n",
        "for i, a in enumerate([-1,0.7,0.3,0.01,-0.3,-0.7,-1]):\n",
        "  x, y = np.random.multivariate_normal([0, 0], [[1, 1], [1, 1]], 10000).T\n",
        "  plt.subplot(2,4,i+1)\n",
        "  plt.title(f'Per{Pe(x,y*a)}')  # 타이틀을 각각의 상관계수로 정한다.\n",
        "  plt.scatter(x,y*a, marker='.')"
      ],
      "metadata": {
        "id": "PhPtD0Nif3rF",
        "colab": {
          "base_uri": "https://localhost:8080/",
          "height": 441
        },
        "outputId": "95cbdeae-0912-4312-df65-b40f9b959672"
      },
      "execution_count": 87,
      "outputs": [
        {
          "output_type": "display_data",
          "data": {
            "text/plain": [
              "<Figure size 1080x504 with 7 Axes>"
            ],
            "image/png": "[encoded data removed]"
          },
          "metadata": {}
        }
      ]
    },
    {
      "cell_type": "code",
      "source": [
        ""
      ],
      "metadata": {
        "id": "KzeO5xjmIfM9"
      },
      "execution_count": null,
      "outputs": []
    }
  ]
}