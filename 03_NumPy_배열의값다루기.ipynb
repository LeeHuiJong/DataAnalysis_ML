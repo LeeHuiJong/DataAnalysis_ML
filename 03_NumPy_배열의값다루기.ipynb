{
  "nbformat": 4,
  "nbformat_minor": 0,
  "metadata": {
    "colab": {
      "name": "03_NumPy-배열의값다루기.ipynb",
      "provenance": [],
      "collapsed_sections": [],
      "toc_visible": true,
      "include_colab_link": true
    },
    "kernelspec": {
      "name": "python3",
      "display_name": "Python 3"
    },
    "language_info": {
      "name": "python"
    }
  },
  "cells": [
    {
      "cell_type": "markdown",
      "metadata": {
        "id": "view-in-github",
        "colab_type": "text"
      },
      "source": [
        "<a href=\"https://colab.research.google.com/github/LeeHuiJong/SkillTreePython-DataAnalysis/blob/main/03_NumPy_%EB%B0%B0%EC%97%B4%EC%9D%98%EA%B0%92%EB%8B%A4%EB%A3%A8%EA%B8%B0.ipynb\" target=\"_parent\"><img src=\"https://colab.research.google.com/assets/colab-badge.svg\" alt=\"Open In Colab\"/></a>"
      ]
    },
    {
      "cell_type": "markdown",
      "metadata": {
        "id": "jgFAOz-Tw1VI"
      },
      "source": [
        "# CH03. Numpy  - 배열의 값 다루기\n",
        "\n",
        "---\n",
        "* 날짜:\n",
        "* 이름:\n"
      ]
    },
    {
      "cell_type": "markdown",
      "source": [
        "## 개념정리\n",
        "\n",
        "앞서 우리는 배열을 생성하는 다양한 방법을 배웠습니다. 이번시간에 이렇게 생성한 배열의 값을 조회(인덱싱, 슬리아싱) 하고 값을 변경(수정, 삭제) 하는 방법에 대해 알아보도록 합니다. \n",
        "\n",
        "\n",
        "```\n",
        "import numpy as np\n",
        "```\n",
        "\n",
        "\n"
      ],
      "metadata": {
        "id": "_3uSBF40BdCd"
      }
    },
    {
      "cell_type": "code",
      "source": [
        "import numpy as np"
      ],
      "metadata": {
        "id": "3IDspyuAtqd7"
      },
      "execution_count": 1,
      "outputs": []
    },
    {
      "cell_type": "markdown",
      "metadata": {
        "id": "HjPXsM8C5ULZ"
      },
      "source": [
        "---\n",
        "### **(1) 배열 조회**\n",
        "---\n",
        "\n",
        "기본적인 배열의 정보를 아래 메서드를 이용해 확인할 수 있습니다. \n",
        "\n",
        "\n",
        "* `.ndim`: 차원의 수\n",
        "* `.shape`: 형태\n",
        "* `.dtype`: element 타입\n",
        "* `.size`: element 총 개수\n",
        "* `.itemsize`: 메모리 사이즈 (byte)\n",
        "* `.nbytes`: `size`*`itemsize`\n",
        "\n",
        "```\n",
        "a = np.arange(10)\n",
        "print(a)\n",
        "print(a.ndim) # 차원의 수\n",
        "print(a.shape) # 형태\n",
        "print(a.dtype) # element 타입\n",
        "print(a.size) # element 총 개수\n",
        "print(a.itemsize) # 메모리 사이즈\n",
        "print(a.nbytes) # 메모리 사이즈 * element 총 개수\n",
        "```"
      ]
    },
    {
      "cell_type": "code",
      "source": [
        "a = np.arange(10)\n",
        "print(a)\n",
        "print(a.ndim) # 차원의 수\n",
        "print(a.shape) # 형태\n",
        "print(a.dtype) # element 타입\n",
        "print(a.size) # element 총 개수\n",
        "print(a.itemsize) # 메모리 사이즈\n",
        "print(a.nbytes) # 메모리 사이즈 * element 총 개수"
      ],
      "metadata": {
        "colab": {
          "base_uri": "https://localhost:8080/"
        },
        "id": "NI4_lIEXK5MV",
        "outputId": "8f39ac8a-c20a-4b33-c19a-a52bd0f6bfb7"
      },
      "execution_count": 8,
      "outputs": [
        {
          "output_type": "stream",
          "name": "stdout",
          "text": [
            "[0 1 2 3 4 5 6 7 8 9]\n",
            "1\n",
            "(10,)\n",
            "int64\n",
            "10\n",
            "8\n",
            "80\n"
          ]
        }
      ]
    },
    {
      "cell_type": "code",
      "source": [
        "a = np.zeros((5,3))\n",
        "print(a)\n",
        "print(a.ndim) # 차원의 수\n",
        "print(a.shape) # 형태\n",
        "print(a.dtype) # element         ★타입 배열은 동일한 타입으로 넣는다\n",
        "print(a.size) # element 총 개수\n",
        "print(a.itemsize) # 메모리 사이즈\n",
        "print(a.nbytes) # 메모리 사이즈 * element 총 개수"
      ],
      "metadata": {
        "id": "_dSqxyxUk44g",
        "colab": {
          "base_uri": "https://localhost:8080/"
        },
        "outputId": "0507592f-08ea-4be3-84fd-d074eed11fec"
      },
      "execution_count": 7,
      "outputs": [
        {
          "output_type": "stream",
          "name": "stdout",
          "text": [
            "[[0. 0. 0.]\n",
            " [0. 0. 0.]\n",
            " [0. 0. 0.]\n",
            " [0. 0. 0.]\n",
            " [0. 0. 0.]]\n",
            "2\n",
            "(5, 3)\n",
            "float64\n",
            "15\n",
            "8\n",
            "120\n"
          ]
        }
      ]
    },
    {
      "cell_type": "markdown",
      "source": [
        "#### **| 인덱싱**\n",
        "\n",
        "배열의 인덱싱은 기본적으로 파이썬 리스트와 동일합니다. 다만 넘파이 배열에서는 차원에 대한 인덱싱을 콤마(,)를 이용합니다.\n",
        "\n",
        "아래와 같이 리스트 `l`과 배열 `a`가 주어 졌을 때 데이터 `2`를 출력해 봅시다.\n",
        "\n",
        "배열을 사용할 땐 보통 `a[0,1]` 과 같이 각 차원에 대해 콤마(`,`)로 구분합니다. \n",
        "\n",
        "```\n",
        "l = [[1,2,3],[4,5,6]]\n",
        "a = np.array(l)\n",
        "print(a)\n",
        "\n",
        "l[0][1], a[0][1], a[0,1]\n",
        "```"
      ],
      "metadata": {
        "id": "NQ_GbYiXLN2i"
      }
    },
    {
      "cell_type": "code",
      "source": [
        "l=[[1,2,3],\n",
        "   [4,5,6]]\n",
        "a=np.array(l)\n",
        "print(a)\n",
        "\n",
        "l[0][1],a[0][1],a[0,1]"
      ],
      "metadata": {
        "id": "XzFGRGdoj7jD",
        "colab": {
          "base_uri": "https://localhost:8080/"
        },
        "outputId": "8130fda4-f809-488c-aefa-81a08a3a5266"
      },
      "execution_count": 10,
      "outputs": [
        {
          "output_type": "stream",
          "name": "stdout",
          "text": [
            "[[1 2 3]\n",
            " [4 5 6]]\n"
          ]
        },
        {
          "output_type": "execute_result",
          "data": {
            "text/plain": [
              "(2, 2, 2)"
            ]
          },
          "metadata": {},
          "execution_count": 10
        }
      ]
    },
    {
      "cell_type": "markdown",
      "source": [
        "#### **| 슬라이싱**\n",
        "\n",
        "슬라이싱 또한 기본적으로 파이썬 리스트와 동일하며 다른점은 콤마(,)를 이용한다는 것입니다. \n",
        "\n",
        "우선 슬라이싱을 이용해 리스트 `l`에서 리스트 `[[1,2],[4,5]]`을 출력해 봅시다.\n",
        "\n",
        "```\n",
        "?\n",
        "```\n",
        "\n"
      ],
      "metadata": {
        "id": "hoFFULJRj8mU"
      }
    },
    {
      "cell_type": "code",
      "source": [
        "l[:2]"
      ],
      "metadata": {
        "id": "dYLhCvEqj8mV",
        "colab": {
          "base_uri": "https://localhost:8080/"
        },
        "outputId": "b1aebc34-4603-4632-e194-bdd23035dad3"
      },
      "execution_count": 16,
      "outputs": [
        {
          "output_type": "execute_result",
          "data": {
            "text/plain": [
              "[[1, 2, 3], [4, 5, 6]]"
            ]
          },
          "metadata": {},
          "execution_count": 16
        }
      ]
    },
    {
      "cell_type": "markdown",
      "source": [
        "이번엔 배열 `a`에서 배열 `[[1,2],[4,5]]`을 출력해 봅시다. "
      ],
      "metadata": {
        "id": "oVZRxzcyoWsD"
      }
    },
    {
      "cell_type": "code",
      "source": [
        "a[ : , :2] # 열과 행 기준"
      ],
      "metadata": {
        "id": "S64FExzsoBBg",
        "colab": {
          "base_uri": "https://localhost:8080/"
        },
        "outputId": "75b218ac-e64e-4f9b-95aa-bfdfbc82f2e0"
      },
      "execution_count": 18,
      "outputs": [
        {
          "output_type": "execute_result",
          "data": {
            "text/plain": [
              "array([[1, 2],\n",
              "       [4, 5]])"
            ]
          },
          "metadata": {},
          "execution_count": 18
        }
      ]
    },
    {
      "cell_type": "markdown",
      "source": [
        "이처럼 리스트에서는 제한적인 슬라이싱을 넘파이 배열을 통해서는 자유롭게 슬라이싱이 가능합니다. "
      ],
      "metadata": {
        "id": "BJPqOH9FooVQ"
      }
    },
    {
      "cell_type": "markdown",
      "source": [
        "#### **| 연습문제**\n",
        "\n",
        "연습을 위해 아래 그림과 같은 2차원 배열을 생성하고 `a2`로 바인딩 하세요.\n",
        "\n",
        "<p align='center'>\n",
        "<img src=https://github.com/yebiny/SkillTreePython-DataAnalysis/blob/main/imgs/ch0103-01.png?raw=true width=240>\n",
        "</p>\n",
        "\n",
        "```\n",
        "a2 = np.arange(1, 26).reshape(5,5)\n",
        "```"
      ],
      "metadata": {
        "id": "hzWZ5G7mo2PR"
      }
    },
    {
      "cell_type": "code",
      "source": [
        "a2 = np.arange(1,26).reshape(5,5)\n",
        "a2"
      ],
      "metadata": {
        "id": "peNsBPQcrggt",
        "colab": {
          "base_uri": "https://localhost:8080/"
        },
        "outputId": "2b7d8adc-916b-4d7e-c823-4e9bfb862227"
      },
      "execution_count": 22,
      "outputs": [
        {
          "output_type": "execute_result",
          "data": {
            "text/plain": [
              "array([[ 1,  2,  3,  4,  5],\n",
              "       [ 6,  7,  8,  9, 10],\n",
              "       [11, 12, 13, 14, 15],\n",
              "       [16, 17, 18, 19, 20],\n",
              "       [21, 22, 23, 24, 25]])"
            ]
          },
          "metadata": {},
          "execution_count": 22
        }
      ]
    },
    {
      "cell_type": "markdown",
      "source": [
        "**연습 01**\n",
        "\n",
        "인덱싱을 이용해 `a2`의 4, 13, 25를 각각 출력하세요. \n"
      ],
      "metadata": {
        "id": "ey_R7ZgXnHdp"
      }
    },
    {
      "cell_type": "code",
      "source": [
        "a2[(0,3)],a2[(2,2)],a2[(4,4)]"
      ],
      "metadata": {
        "id": "XUKKRTSJAsMa",
        "colab": {
          "base_uri": "https://localhost:8080/"
        },
        "outputId": "e70cc790-329f-4f81-c9ff-205b0b26a4d8"
      },
      "execution_count": 31,
      "outputs": [
        {
          "output_type": "execute_result",
          "data": {
            "text/plain": [
              "(4, 13, 25)"
            ]
          },
          "metadata": {},
          "execution_count": 31
        }
      ]
    },
    {
      "cell_type": "markdown",
      "source": [
        "**연습 02**\n",
        "\n",
        "슬라이싱을 이용해 파란색 값으로 이루어진 배열을 출력하세요.\n",
        "\n",
        "<p align='center'>\n",
        "<img src=https://github.com/yebiny/SkillTreePython-DataAnalysis/blob/main/imgs/ch0103-02.png?raw=true width=240>\n",
        "</p>\n"
      ],
      "metadata": {
        "id": "osSECfAyqBln"
      }
    },
    {
      "cell_type": "code",
      "source": [
        "# 기본적인 슬라이싱 포멧 a[ , : , ] : 앞은 열을 판단 뒤는 행을 판단\n",
        "a2[ 1: , 1 ]"
      ],
      "metadata": {
        "id": "4f6g4MUhqBlu",
        "colab": {
          "base_uri": "https://localhost:8080/"
        },
        "outputId": "4a3d5afd-29a6-424e-e35f-25a5666e4ac2"
      },
      "execution_count": 48,
      "outputs": [
        {
          "output_type": "execute_result",
          "data": {
            "text/plain": [
              "array([ 7, 12, 17, 22])"
            ]
          },
          "metadata": {},
          "execution_count": 48
        }
      ]
    },
    {
      "cell_type": "markdown",
      "source": [
        "**연습 03**\n",
        "\n",
        "슬라이싱을 이용해 파란색 값으로 이루어진 배열을 출력하세요.\n",
        "\n",
        "<p align='center'>\n",
        "<img src=https://github.com/yebiny/SkillTreePython-DataAnalysis/blob/main/imgs/ch0103-03.png?raw=true width=240>\n",
        "</p>\n"
      ],
      "metadata": {
        "id": "5frFtw8dqJth"
      }
    },
    {
      "cell_type": "code",
      "source": [
        "a2[ 1:4 , 1:4 ]"
      ],
      "metadata": {
        "id": "VrPumy5wqJth",
        "colab": {
          "base_uri": "https://localhost:8080/"
        },
        "outputId": "24e187dc-9fc4-434a-9207-13c2b0416991"
      },
      "execution_count": 47,
      "outputs": [
        {
          "output_type": "execute_result",
          "data": {
            "text/plain": [
              "array([[ 7,  8,  9],\n",
              "       [12, 13, 14],\n",
              "       [17, 18, 19]])"
            ]
          },
          "metadata": {},
          "execution_count": 47
        }
      ]
    },
    {
      "cell_type": "markdown",
      "source": [
        "---\n",
        "### **(2) 다양한 인덱싱**\n",
        "---\n"
      ],
      "metadata": {
        "id": "CrNPIU4P7gb4"
      }
    },
    {
      "cell_type": "markdown",
      "source": [
        "#### **| 팬시 인덱싱(Fancy indexing)**\n",
        "\n",
        "아래그림과 같이 `a2`의 대각선 값인 `[1,7,13,19,25]`만 슬라이싱 하려면 어떻게 할까요? 이 경우 인덱스가 이어져 있지 않기 때문에 위에서 배운 방법만으로는 어렵습니다. \n",
        "\n",
        "<p align='center'>\n",
        "<img src=https://github.com/yebiny/SkillTreePython-DataAnalysis/blob/main/imgs/ch0103-04.png?raw=true width=240>\n",
        "</p>\n",
        "\n",
        "\n",
        "이럴 때 유용하게 사용할 수 있는게 팬시 인덱싱 입니다. 팬시 인덱싱은 배열 값의 선택 여부를 인덱스로 지정합니다. \n",
        "\n",
        "\n",
        "```\n",
        "a2[(0,1,2,3,4),(0,1,2,3,4)]\n",
        "```\n",
        "위 코드는 행, 열로 바꿔 생각하면 `(0,0)`, `(1,1)`, `(2,2)`, `(3,3)`, `(4,4)` 위치에 있는 값들을 인덱싱 한것과 동일합니다. \n"
      ],
      "metadata": {
        "id": "2DTdJiChrkHg"
      }
    },
    {
      "cell_type": "code",
      "source": [
        "a2[(0,1,2,3,4),(0,1,2,3,4)]"
      ],
      "metadata": {
        "id": "R6XxUzsPrkHh",
        "colab": {
          "base_uri": "https://localhost:8080/"
        },
        "outputId": "873a6474-4a6d-4759-8527-0c565a520f5a"
      },
      "execution_count": 50,
      "outputs": [
        {
          "output_type": "execute_result",
          "data": {
            "text/plain": [
              "array([ 1,  7, 13, 19, 25])"
            ]
          },
          "metadata": {},
          "execution_count": 50
        }
      ]
    },
    {
      "cell_type": "markdown",
      "source": [
        "#### **| 불리언 인덱싱(Fancy indexing)**\n",
        "\n",
        "불리언 인덱싱은 배열 값의 선택 여부를 불리언(boolian) 을 이용해 지정합니다. 불리언 인덱싱을 사용하기 위해서는 인덱스 할 배열과 똑같은 크기에 `True`혹은 `False` 값만 들어있는 배열이 필요합니다. \n",
        "\n",
        "따라서 위에서 처럼 대각값을 슬라이싱 하기 위해서는 아래와 같은 작업이 필요합니다. \n",
        "\n",
        "```\n",
        "mask  = np.array([[True, False, False, False, False,],\n",
        "                [False, True, False, False, False,],\n",
        "                [False, False, True, False, False,],\n",
        "                [False, False, False, True, False,],\n",
        "                [False, False, False, False, True,]])\n",
        "\n",
        "mask  = np.array([[1,0,0,0,0],\n",
        "                 [0,1,0,0,0],\n",
        "                 [0,0,1,0,0],\n",
        "                 [0,0,0,1,0],\n",
        "                 [0,0,0,0,1]], dtype=bool)\n",
        "print(mask)\n",
        "\n",
        "a2[mask]\n",
        "```\n"
      ],
      "metadata": {
        "id": "fl73JgeJrrwQ"
      }
    },
    {
      "cell_type": "code",
      "source": [
        "mask  = np.array([[True, False, False, False, False,],\n",
        "                [False, True, False, False, False,],\n",
        "                [False, False, True, False, False,],\n",
        "                [False, False, False, True, False,],\n",
        "                [False, False, False, False, True,]])\n",
        "\n",
        "mask  = np.array([[1,0,0,0,0],\n",
        "                 [0,1,0,0,0],\n",
        "                 [0,0,1,0,0],\n",
        "                 [0,0,0,1,0],\n",
        "                 [0,0,0,0,1]], dtype=bool)\n",
        "print(mask)\n",
        "\n",
        "a2[mask]"
      ],
      "metadata": {
        "id": "nfRZ8261rrwR",
        "colab": {
          "base_uri": "https://localhost:8080/"
        },
        "outputId": "478e4822-8fed-4a29-d3ee-a37dce92d8e8"
      },
      "execution_count": 51,
      "outputs": [
        {
          "output_type": "stream",
          "name": "stdout",
          "text": [
            "[[ True False False False False]\n",
            " [False  True False False False]\n",
            " [False False  True False False]\n",
            " [False False False  True False]\n",
            " [False False False False  True]]\n"
          ]
        },
        {
          "output_type": "execute_result",
          "data": {
            "text/plain": [
              "array([ 1,  7, 13, 19, 25])"
            ]
          },
          "metadata": {},
          "execution_count": 51
        }
      ]
    },
    {
      "cell_type": "markdown",
      "source": [
        "불리언 인덱싱이 불필요해 보이지만 유용하게 사용될 때가 있습니다. 아직 연산에 대해 배우지 않았지만 예시를 들어보겠습니다. \n",
        "\n",
        "`a2`에서 `15`보다 큰값만 슬라이싱 하려 합니다. 이 때 불리언 인덱싱을 이용해 `mask`를 다음과 같이 정의할 수 있습니다. \n",
        "\n",
        "```\n",
        "mask = a2>15\n",
        "print(mask)\n",
        "a2[mask]\n",
        "```"
      ],
      "metadata": {
        "id": "yDnEg3ZHtHEO"
      }
    },
    {
      "cell_type": "code",
      "source": [
        "mask=a2>15 # 배열과 숫자가 비교 가능\n",
        "print(mask)\n",
        "a2[mask]"
      ],
      "metadata": {
        "id": "Pd6HybTdtlsO",
        "colab": {
          "base_uri": "https://localhost:8080/"
        },
        "outputId": "97241afc-0fe8-4f24-c6f4-d871aa4d6ee5"
      },
      "execution_count": 53,
      "outputs": [
        {
          "output_type": "stream",
          "name": "stdout",
          "text": [
            "[[False False False False False]\n",
            " [False False False False False]\n",
            " [False False False False False]\n",
            " [ True  True  True  True  True]\n",
            " [ True  True  True  True  True]]\n"
          ]
        },
        {
          "output_type": "execute_result",
          "data": {
            "text/plain": [
              "array([16, 17, 18, 19, 20, 21, 22, 23, 24, 25])"
            ]
          },
          "metadata": {},
          "execution_count": 53
        }
      ]
    },
    {
      "cell_type": "markdown",
      "source": [
        "#### **| 연습문제**\n",
        "\n",
        "**연습 04**\n",
        "\n",
        "아래 그림에서 색깔별로 해당하는 값들을 인덱싱 하여 각각 새로운 배열로 만드세요.\n",
        "\n",
        "\n",
        "<p align='center'>\n",
        "<img src=https://github.com/yebiny/SkillTreePython-DataAnalysis/blob/main/imgs/ch0103-05.png?raw=true width=240>\n",
        "</p>\n",
        "\n"
      ],
      "metadata": {
        "id": "3OohVJBBt5XQ"
      }
    },
    {
      "cell_type": "code",
      "source": [
        "a2[(0,2,3),(0,1,3)] #불규칙하게 인덱싱 해야할 경우 펜시인덱싱이 유용함"
      ],
      "metadata": {
        "id": "i0Mc-XWQvJ_d",
        "colab": {
          "base_uri": "https://localhost:8080/"
        },
        "outputId": "c7525ece-9e52-43e4-cbfb-abc49eb9c671"
      },
      "execution_count": 56,
      "outputs": [
        {
          "output_type": "execute_result",
          "data": {
            "text/plain": [
              "array([ 1, 12, 19])"
            ]
          },
          "metadata": {},
          "execution_count": 56
        }
      ]
    },
    {
      "cell_type": "code",
      "source": [
        "a2[:3,(2,4)] # 펜시랑 합쳐서 쓸수 있음"
      ],
      "metadata": {
        "colab": {
          "base_uri": "https://localhost:8080/"
        },
        "id": "nUXQj8BsR5g6",
        "outputId": "42aa1ce4-d06b-4216-caa1-ee4c95b08b29"
      },
      "execution_count": 60,
      "outputs": [
        {
          "output_type": "execute_result",
          "data": {
            "text/plain": [
              "array([[ 3,  5],\n",
              "       [ 8, 10],\n",
              "       [13, 15]])"
            ]
          },
          "metadata": {},
          "execution_count": 60
        }
      ]
    },
    {
      "cell_type": "code",
      "source": [
        "mask  = np.array([[0,0,1,0,1], \n",
        "                  [0,0,1,0,1],\n",
        "                  [0,0,1,0,1],\n",
        "                  [0,0,0,0,0],\n",
        "                  [0,0,0,0,0]], dtype=bool) \n",
        "a2[mask]"
      ],
      "metadata": {
        "colab": {
          "base_uri": "https://localhost:8080/"
        },
        "id": "JNfjCzgdRCpq",
        "outputId": "c4da5085-6d90-4e5a-978e-234a31753bc8"
      },
      "execution_count": 59,
      "outputs": [
        {
          "output_type": "execute_result",
          "data": {
            "text/plain": [
              "array([ 3,  5,  8, 10, 13, 15])"
            ]
          },
          "metadata": {},
          "execution_count": 59
        }
      ]
    },
    {
      "cell_type": "code",
      "source": [
        "mask1=a2>20 # 조건은 변경될수 있기 때문에 정의하는것이 좋다\n",
        "a2[mask1]"
      ],
      "metadata": {
        "colab": {
          "base_uri": "https://localhost:8080/"
        },
        "id": "igu9jZzoQ4qS",
        "outputId": "20518d5f-0d4a-4916-f7ad-d64227a1cc52"
      },
      "execution_count": 58,
      "outputs": [
        {
          "output_type": "execute_result",
          "data": {
            "text/plain": [
              "array([21, 22, 23, 24, 25])"
            ]
          },
          "metadata": {},
          "execution_count": 58
        }
      ]
    },
    {
      "cell_type": "markdown",
      "source": [
        "---\n",
        "### **(3) 배열 값 변경**\n",
        "---\n"
      ],
      "metadata": {
        "id": "20us_Tx577JL"
      }
    },
    {
      "cell_type": "markdown",
      "source": [
        "#### **| 수정**\n",
        "\n",
        "배열 값의 수정은 기본적으로 인덱싱을 이용합니다. 리스트의 수정과 마찬가지로 인덱싱으로 특정값에 접근하고 바인딩을 이용해 값을 수정합니다. \n",
        "\n",
        "\n",
        "```\n",
        "a = np.arange(10)\n",
        "print(a)\n",
        "a[0]=100\n",
        "print(a)\n",
        "```"
      ],
      "metadata": {
        "id": "xW7UPAFY77JR"
      }
    },
    {
      "cell_type": "code",
      "source": [
        "a = np.arange(10)\n",
        "print(a)\n",
        "a[0]=100\n",
        "print(a)"
      ],
      "metadata": {
        "colab": {
          "base_uri": "https://localhost:8080/"
        },
        "id": "DFakUTXpfXsl",
        "outputId": "89538e53-f135-42e4-e7ad-8a1cc3f5fa60"
      },
      "execution_count": 132,
      "outputs": [
        {
          "output_type": "stream",
          "name": "stdout",
          "text": [
            "[0 1 2 3 4 5 6 7 8 9]\n",
            "[100   1   2   3   4   5   6   7   8   9]\n"
          ]
        }
      ]
    },
    {
      "cell_type": "code",
      "source": [
        "a2"
      ],
      "metadata": {
        "id": "VwBnNgLT77xV",
        "colab": {
          "base_uri": "https://localhost:8080/"
        },
        "outputId": "a1eb574f-c66d-4bdb-ad87-f2c28fcaa876"
      },
      "execution_count": 62,
      "outputs": [
        {
          "output_type": "execute_result",
          "data": {
            "text/plain": [
              "array([[ 1,  2,  3,  4,  5],\n",
              "       [ 6,  7,  8,  9, 10],\n",
              "       [11, 12, 13, 14, 15],\n",
              "       [16, 17, 18, 19, 20],\n",
              "       [21, 22, 23, 24, 25]])"
            ]
          },
          "metadata": {},
          "execution_count": 62
        }
      ]
    },
    {
      "cell_type": "markdown",
      "source": [
        "#### **| 삽입**\n",
        "\n",
        "* `b = np.insert(a, index, element, axis=n)` : \n",
        "값을 추가한 새로운 배열을 반환합니다. 원본 배열은 변경되지 않습니다. \n",
        "\n",
        "`insert` 메서드를 이용하여 배열의 특정 위치에 값을 추가할 수 있습니다. 이 때 값을 추가할 차원 축 (axis)를 지정해야 하며, 지정하지 않으면 1차원 배열을 반환합니다. \n",
        "\n",
        "```\n",
        "a = np.zeros((3,3))\n",
        "print(a)\n",
        "\n",
        "print(np.insert(a, 0, 1, axis=0))\n",
        "print(np.insert(a, 0, 1, axis=1))\n",
        "print(np.insert(a, 0, 1))\n",
        "```"
      ],
      "metadata": {
        "id": "eKawM5an8mZx"
      }
    },
    {
      "cell_type": "code",
      "source": [
        "a=np.arange(10)\n",
        "print(a)\n",
        "a[0]=100\n",
        "a"
      ],
      "metadata": {
        "id": "IkvNkInb8mZx",
        "colab": {
          "base_uri": "https://localhost:8080/"
        },
        "outputId": "c9d41a4b-e3e1-4f6f-d1e6-00da1a837f90"
      },
      "execution_count": 64,
      "outputs": [
        {
          "output_type": "stream",
          "name": "stdout",
          "text": [
            "[0 1 2 3 4 5 6 7 8 9]\n"
          ]
        },
        {
          "output_type": "execute_result",
          "data": {
            "text/plain": [
              "array([100,   1,   2,   3,   4,   5,   6,   7,   8,   9])"
            ]
          },
          "metadata": {},
          "execution_count": 64
        }
      ]
    },
    {
      "cell_type": "code",
      "source": [
        "a = np.zeros((3,3))\n",
        "print(a)\n",
        "print(np.insert(a, 0, 1, axis=0)) # a의 0번째(axis)에 1을 삽입\n",
        "print(np.insert(a, 0, 1, axis=1)) #\n",
        "print(np.insert(a, 0, 1))"
      ],
      "metadata": {
        "colab": {
          "base_uri": "https://localhost:8080/"
        },
        "id": "a6huQ5i7Ssep",
        "outputId": "379a6132-b177-425f-c4b0-d97d7ea23fae"
      },
      "execution_count": 67,
      "outputs": [
        {
          "output_type": "stream",
          "name": "stdout",
          "text": [
            "[[0. 0. 0.]\n",
            " [0. 0. 0.]\n",
            " [0. 0. 0.]]\n",
            "[[1. 1. 1.]\n",
            " [0. 0. 0.]\n",
            " [0. 0. 0.]\n",
            " [0. 0. 0.]]\n",
            "[[1. 0. 0. 0.]\n",
            " [1. 0. 0. 0.]\n",
            " [1. 0. 0. 0.]]\n",
            "[1. 0. 0. 0. 0. 0. 0. 0. 0. 0.]\n"
          ]
        }
      ]
    },
    {
      "cell_type": "markdown",
      "source": [
        "#### **| 연습문제**\n",
        "\n"
      ],
      "metadata": {
        "id": "h_cUD4FQ-oAo"
      }
    },
    {
      "cell_type": "markdown",
      "source": [
        "**연습 05**\n",
        "\n",
        "위에서 정의한 `a`에 `insert`를 사용하여 아래 그림과 같은 배열을 출력하세요.\n",
        "\n",
        "<p align='center'>\n",
        "<img src=https://github.com/yebiny/SkillTreePython-DataAnalysis/blob/main/imgs/ch0103-06.png?raw=true width=150>\n",
        "</p>"
      ],
      "metadata": {
        "id": "Rw32D58m-t1t"
      }
    },
    {
      "cell_type": "code",
      "source": [
        "print(np.insert(a, 2, 1, axis=0))"
      ],
      "metadata": {
        "id": "nK3awP18-oAp",
        "colab": {
          "base_uri": "https://localhost:8080/"
        },
        "outputId": "33ec1af6-16be-4a1e-822f-0a90a3e9a496"
      },
      "execution_count": 87,
      "outputs": [
        {
          "output_type": "stream",
          "name": "stdout",
          "text": [
            "[[0. 0. 0.]\n",
            " [0. 0. 0.]\n",
            " [1. 1. 1.]\n",
            " [0. 0. 0.]]\n"
          ]
        }
      ]
    },
    {
      "cell_type": "markdown",
      "source": [
        "**연습 06**\n",
        "\n",
        "위에서 정의한 `a`에 `insert`를 사용하여 아래 그림과 같은 배열을 출력하세요.\n",
        "\n",
        "<p align='center'>\n",
        "<img src=https://github.com/yebiny/SkillTreePython-DataAnalysis/blob/main/imgs/ch0103-07.png?raw=true width=210>\n",
        "</p>"
      ],
      "metadata": {
        "id": "Bza20EHW_lXI"
      }
    },
    {
      "cell_type": "code",
      "source": [
        "print(np.insert(a, 1, (1,2,3), axis=1)) "
      ],
      "metadata": {
        "id": "hSvLOhwAZA_r",
        "colab": {
          "base_uri": "https://localhost:8080/"
        },
        "outputId": "74c97cd7-cf82-4940-d4e4-e187f20fea3f"
      },
      "execution_count": 79,
      "outputs": [
        {
          "output_type": "stream",
          "name": "stdout",
          "text": [
            "[[0. 1. 0. 0.]\n",
            " [0. 2. 0. 0.]\n",
            " [0. 3. 0. 0.]]\n"
          ]
        }
      ]
    },
    {
      "cell_type": "code",
      "source": [
        "print(np.insert(a, 1, (1,2,3), axis=0))"
      ],
      "metadata": {
        "colab": {
          "base_uri": "https://localhost:8080/"
        },
        "id": "UyHJtsIzUVuw",
        "outputId": "4edb63de-fe71-4275-faae-f275fb4bd722"
      },
      "execution_count": 84,
      "outputs": [
        {
          "output_type": "stream",
          "name": "stdout",
          "text": [
            "[[0. 0. 0.]\n",
            " [1. 2. 3.]\n",
            " [0. 0. 0.]\n",
            " [0. 0. 0.]]\n"
          ]
        }
      ]
    },
    {
      "cell_type": "code",
      "source": [
        "print(np.insert(a, 1, (1,2,3,4), axis=1)) # 3번째 요소(element)를 추가할때는 열과 행의 숫자를 맞춰 넣지 않으면 오류 발생\n",
        "                                          # 여기서 처럼 (1,2,3,4)를 추가하니 오류가 발생한다."
      ],
      "metadata": {
        "colab": {
          "base_uri": "https://localhost:8080/",
          "height": 339
        },
        "id": "UlegHQedWuaQ",
        "outputId": "3131f7fb-9c2e-48f3-957f-cb9f07854c82"
      },
      "execution_count": 86,
      "outputs": [
        {
          "output_type": "error",
          "ename": "ValueError",
          "evalue": "ignored",
          "traceback": [
            "\u001b[0;31m---------------------------------------------------------------------------\u001b[0m",
            "\u001b[0;31mValueError\u001b[0m                                Traceback (most recent call last)",
            "\u001b[0;32m<ipython-input-86-634af187dd71>\u001b[0m in \u001b[0;36m<module>\u001b[0;34m()\u001b[0m\n\u001b[0;32m----> 1\u001b[0;31m \u001b[0mprint\u001b[0m\u001b[0;34m(\u001b[0m\u001b[0mnp\u001b[0m\u001b[0;34m.\u001b[0m\u001b[0minsert\u001b[0m\u001b[0;34m(\u001b[0m\u001b[0ma\u001b[0m\u001b[0;34m,\u001b[0m \u001b[0;36m1\u001b[0m\u001b[0;34m,\u001b[0m \u001b[0;34m(\u001b[0m\u001b[0;36m1\u001b[0m\u001b[0;34m,\u001b[0m\u001b[0;36m2\u001b[0m\u001b[0;34m,\u001b[0m\u001b[0;36m3\u001b[0m\u001b[0;34m,\u001b[0m\u001b[0;36m4\u001b[0m\u001b[0;34m)\u001b[0m\u001b[0;34m,\u001b[0m \u001b[0maxis\u001b[0m\u001b[0;34m=\u001b[0m\u001b[0;36m1\u001b[0m\u001b[0;34m)\u001b[0m\u001b[0;34m)\u001b[0m \u001b[0;31m# 3번째 요소(element)를 추가할때는 열과 행의 숫자를 맞춰 넣지 않으면 오류 발생\u001b[0m\u001b[0;34m\u001b[0m\u001b[0;34m\u001b[0m\u001b[0m\n\u001b[0m",
            "\u001b[0;32m<__array_function__ internals>\u001b[0m in \u001b[0;36minsert\u001b[0;34m(*args, **kwargs)\u001b[0m\n",
            "\u001b[0;32m/usr/local/lib/python3.7/dist-packages/numpy/lib/function_base.py\u001b[0m in \u001b[0;36minsert\u001b[0;34m(arr, obj, values, axis)\u001b[0m\n\u001b[1;32m   4722\u001b[0m         \u001b[0mnew\u001b[0m\u001b[0;34m[\u001b[0m\u001b[0mtuple\u001b[0m\u001b[0;34m(\u001b[0m\u001b[0mslobj\u001b[0m\u001b[0;34m)\u001b[0m\u001b[0;34m]\u001b[0m \u001b[0;34m=\u001b[0m \u001b[0marr\u001b[0m\u001b[0;34m[\u001b[0m\u001b[0mtuple\u001b[0m\u001b[0;34m(\u001b[0m\u001b[0mslobj\u001b[0m\u001b[0;34m)\u001b[0m\u001b[0;34m]\u001b[0m\u001b[0;34m\u001b[0m\u001b[0;34m\u001b[0m\u001b[0m\n\u001b[1;32m   4723\u001b[0m         \u001b[0mslobj\u001b[0m\u001b[0;34m[\u001b[0m\u001b[0maxis\u001b[0m\u001b[0;34m]\u001b[0m \u001b[0;34m=\u001b[0m \u001b[0mslice\u001b[0m\u001b[0;34m(\u001b[0m\u001b[0mindex\u001b[0m\u001b[0;34m,\u001b[0m \u001b[0mindex\u001b[0m\u001b[0;34m+\u001b[0m\u001b[0mnumnew\u001b[0m\u001b[0;34m)\u001b[0m\u001b[0;34m\u001b[0m\u001b[0;34m\u001b[0m\u001b[0m\n\u001b[0;32m-> 4724\u001b[0;31m         \u001b[0mnew\u001b[0m\u001b[0;34m[\u001b[0m\u001b[0mtuple\u001b[0m\u001b[0;34m(\u001b[0m\u001b[0mslobj\u001b[0m\u001b[0;34m)\u001b[0m\u001b[0;34m]\u001b[0m \u001b[0;34m=\u001b[0m \u001b[0mvalues\u001b[0m\u001b[0;34m\u001b[0m\u001b[0;34m\u001b[0m\u001b[0m\n\u001b[0m\u001b[1;32m   4725\u001b[0m         \u001b[0mslobj\u001b[0m\u001b[0;34m[\u001b[0m\u001b[0maxis\u001b[0m\u001b[0;34m]\u001b[0m \u001b[0;34m=\u001b[0m \u001b[0mslice\u001b[0m\u001b[0;34m(\u001b[0m\u001b[0mindex\u001b[0m\u001b[0;34m+\u001b[0m\u001b[0mnumnew\u001b[0m\u001b[0;34m,\u001b[0m \u001b[0;32mNone\u001b[0m\u001b[0;34m)\u001b[0m\u001b[0;34m\u001b[0m\u001b[0;34m\u001b[0m\u001b[0m\n\u001b[1;32m   4726\u001b[0m         \u001b[0mslobj2\u001b[0m \u001b[0;34m=\u001b[0m \u001b[0;34m[\u001b[0m\u001b[0mslice\u001b[0m\u001b[0;34m(\u001b[0m\u001b[0;32mNone\u001b[0m\u001b[0;34m)\u001b[0m\u001b[0;34m]\u001b[0m \u001b[0;34m*\u001b[0m \u001b[0mndim\u001b[0m\u001b[0;34m\u001b[0m\u001b[0;34m\u001b[0m\u001b[0m\n",
            "\u001b[0;31mValueError\u001b[0m: could not broadcast input array from shape (4,1) into shape (3,1)"
          ]
        }
      ]
    },
    {
      "cell_type": "markdown",
      "source": [
        "#### **| 삭제**\n",
        "\n",
        "* `b = np.delete(a, index, axis=n)` : \n",
        "값을 추가한 새로운 배열을 반환합니다. 원본 배열은 변경되지 않습니다. \n",
        "\n",
        "`delete` 메서드는 배열의 특정 위치 값을 삭제합니다. 이 때 값을 추가할 차원 축 (axis)를 지정해야 하며, 지정하지 않으면 1차원 배열을 반환합니다. \n",
        "\n",
        "```\n",
        "a = np.zeros((3,3))\n",
        "print(a)\n",
        "\n",
        "print(np.delete(a, 0, axis=0))\n",
        "print(np.delete(a, 0, axis=1))\n",
        "print(np.delete(a, 0))\n",
        "``` "
      ],
      "metadata": {
        "id": "I1w7yFZkPcI5"
      }
    },
    {
      "cell_type": "code",
      "metadata": {
        "id": "m7oidORKPcI9",
        "colab": {
          "base_uri": "https://localhost:8080/"
        },
        "outputId": "ffcaf852-0002-40cc-a739-3fa822d5e591"
      },
      "source": [
        "print(a)"
      ],
      "execution_count": 88,
      "outputs": [
        {
          "output_type": "stream",
          "name": "stdout",
          "text": [
            "[[0. 0. 0.]\n",
            " [0. 0. 0.]\n",
            " [0. 0. 0.]]\n"
          ]
        }
      ]
    },
    {
      "cell_type": "code",
      "source": [
        "print(np.delete(a, 0, axis=0))\n",
        "print(np.delete(a, 0, axis=1))\n",
        "print(np.delete(a, 0))"
      ],
      "metadata": {
        "colab": {
          "base_uri": "https://localhost:8080/"
        },
        "id": "I5ysqJGUXePv",
        "outputId": "e3f18bf9-d40d-41e4-fd4a-bf1bd254aa20"
      },
      "execution_count": 89,
      "outputs": [
        {
          "output_type": "stream",
          "name": "stdout",
          "text": [
            "[[0. 0. 0.]\n",
            " [0. 0. 0.]]\n",
            "[[0. 0.]\n",
            " [0. 0.]\n",
            " [0. 0.]]\n",
            "[0. 0. 0. 0. 0. 0. 0. 0.]\n"
          ]
        }
      ]
    },
    {
      "cell_type": "markdown",
      "source": [
        "#### **| 복사** ★★\n",
        "\n",
        "* `b = np.copy(a)` : 배열 `a`를 복사하여 `b`로 반환합니다. \n",
        "\n",
        "\n",
        "\n",
        "\n",
        "\n",
        "\n"
      ],
      "metadata": {
        "id": "3TdSoq9shmbV"
      }
    },
    {
      "cell_type": "code",
      "source": [
        "b = np.copy(a)"
      ],
      "metadata": {
        "id": "VeCwYgn4Bhpk"
      },
      "execution_count": 91,
      "outputs": []
    },
    {
      "cell_type": "markdown",
      "source": [
        "`np.copy`를 이용해 배열을 복사하면 `b` 값이 변경되더라도 원본 배열 `a`는 보존됩니다.\n",
        "```\n",
        "b[1,1]=1\n",
        "print(a)\n",
        "print(b)\n",
        "```"
      ],
      "metadata": {
        "id": "LOw4Y58XByIA"
      }
    },
    {
      "cell_type": "code",
      "source": [
        "b[1,1]=1\n",
        "print(a)\n",
        "print(b)"
      ],
      "metadata": {
        "id": "U4yvdZKABraW",
        "colab": {
          "base_uri": "https://localhost:8080/"
        },
        "outputId": "db451671-658f-4ead-8696-bf550e78bef3"
      },
      "execution_count": 92,
      "outputs": [
        {
          "output_type": "stream",
          "name": "stdout",
          "text": [
            "[[0. 0. 0.]\n",
            " [0. 0. 0.]\n",
            " [0. 0. 0.]]\n",
            "[[0. 0. 0.]\n",
            " [0. 1. 0.]\n",
            " [0. 0. 0.]]\n"
          ]
        }
      ]
    },
    {
      "cell_type": "markdown",
      "source": [
        "만약 슬라이싱으로 배열을 복사하게 되면 원본 배열 `a`가 보존되지 않습니다.\n",
        "\n",
        "```\n",
        "b = a[:]\n",
        "print(a)\n",
        "print(b)\n",
        "print('b값을 변경')\n",
        "b[1,1]=1\n",
        "print(a)\n",
        "print(b)\n",
        "```\n"
      ],
      "metadata": {
        "id": "1mSHucaqhkFu"
      }
    },
    {
      "cell_type": "code",
      "metadata": {
        "id": "2DxXadB1VgBQ"
      },
      "source": [
        "b=a[:]\n",
        "print(a)\n",
        "print(b)\n",
        "\n",
        "b[1,1]=1\n",
        "print(a)\n",
        "print(b)  # 복사를 쓰는 이유는 a=b 라고 정의했을 때 b의 값이 변하면 a도 같이 변하기 때문에 다른 메모리 값으로 정해주기 위해서"
      ],
      "execution_count": null,
      "outputs": []
    },
    {
      "cell_type": "markdown",
      "source": [
        "## 문제풀이\n",
        "---\n"
      ],
      "metadata": {
        "id": "1Zo86GIRD8iE"
      }
    },
    {
      "cell_type": "markdown",
      "source": [
        "아래 그림과 같은 배열을 각각 `a1`, `a2`, `a3` 로 정의하세요. `a3` 그림에서 뒤쪽에 있는 숫자들은 앞에 값과 동일합니다.\n",
        "\n",
        "<p align='center'>\n",
        "<img src=https://github.com/yebiny/SkillTreePython-DataAnalysis/blob/main/imgs/ch0103-08.png?raw=true width=620>\n",
        "</p>"
      ],
      "metadata": {
        "id": "BJNPI5t15M4P"
      }
    },
    {
      "cell_type": "code",
      "source": [
        "a1=np.array([2,4,1,3])\n",
        "a2=np.array([[0,1,2],\n",
        "             [10,11,12],\n",
        "             [20,21,22],\n",
        "             [30,31,32],\n",
        "             [40,41,42]])\n",
        "a3=np.array([[[0,1],\n",
        "              [10,11]],\n",
        "             [[0,1],\n",
        "              [10,11]],\n",
        "             [[0,1],\n",
        "              [10,11]]])"
      ],
      "metadata": {
        "id": "0VcVNdbm5M1J"
      },
      "execution_count": 101,
      "outputs": []
    },
    {
      "cell_type": "markdown",
      "source": [
        "**예제 01**\n",
        "\n",
        "`a1`의 3을 인덱싱 하세요"
      ],
      "metadata": {
        "id": "cTtCSNxFmxsL"
      }
    },
    {
      "cell_type": "code",
      "source": [
        "a1[3]"
      ],
      "metadata": {
        "id": "X2FslwXL_hSE",
        "colab": {
          "base_uri": "https://localhost:8080/"
        },
        "outputId": "d151deb5-4542-434f-8145-39006e98f360"
      },
      "execution_count": 108,
      "outputs": [
        {
          "output_type": "execute_result",
          "data": {
            "text/plain": [
              "3"
            ]
          },
          "metadata": {},
          "execution_count": 108
        }
      ]
    },
    {
      "cell_type": "markdown",
      "source": [
        "**예제 02**\n",
        "\n",
        "`a2`의 2와 30을 인덱싱 하세요."
      ],
      "metadata": {
        "id": "mQqp_GvL_nqZ"
      }
    },
    {
      "cell_type": "code",
      "source": [
        "a2[0][2],a2[3][0]"
      ],
      "metadata": {
        "id": "afH2M561_nqa",
        "colab": {
          "base_uri": "https://localhost:8080/"
        },
        "outputId": "7da9ae86-ee3a-432d-a5c5-0dc77418831a"
      },
      "execution_count": 110,
      "outputs": [
        {
          "output_type": "execute_result",
          "data": {
            "text/plain": [
              "(2, 30)"
            ]
          },
          "metadata": {},
          "execution_count": 110
        }
      ]
    },
    {
      "cell_type": "markdown",
      "source": [
        "**예제 03**\n",
        "\n",
        "`a3`의 10을 모두 인덱싱 하세요."
      ],
      "metadata": {
        "id": "t_ryizEe_rvF"
      }
    },
    {
      "cell_type": "code",
      "source": [
        "mask= a3==10\n",
        "a3[mask]"
      ],
      "metadata": {
        "id": "EM_B1GhA_rvG",
        "colab": {
          "base_uri": "https://localhost:8080/"
        },
        "outputId": "b142dcad-a7ca-46f7-9dc6-9cf09be3999f"
      },
      "execution_count": 112,
      "outputs": [
        {
          "output_type": "execute_result",
          "data": {
            "text/plain": [
              "array([10, 10, 10])"
            ]
          },
          "metadata": {},
          "execution_count": 112
        }
      ]
    },
    {
      "cell_type": "markdown",
      "source": [
        "**예제 04**\n",
        "\n",
        "`a2`에서 아래 그림에 해당하는 값을 펜시 인덱싱과 불리언 인덱싱을 각각 이용하여 새로운 배열로 만드세요.\n",
        "\n",
        "<p align='center'>\n",
        "<img src=https://github.com/yebiny/SkillTreePython-DataAnalysis/blob/main/imgs/ch0103-09.png?raw=true width=150>\n",
        "</p>"
      ],
      "metadata": {
        "id": "joLrAHQjAO-u"
      }
    },
    {
      "cell_type": "code",
      "source": [
        "a2[(2,4,2,4),(0,0,2,2)]"
      ],
      "metadata": {
        "id": "2XxmQEyRAO-v",
        "colab": {
          "base_uri": "https://localhost:8080/"
        },
        "outputId": "b8d3017c-ca53-407c-97ab-47e00382f21d"
      },
      "execution_count": 113,
      "outputs": [
        {
          "output_type": "execute_result",
          "data": {
            "text/plain": [
              "array([20, 40, 22, 42])"
            ]
          },
          "metadata": {},
          "execution_count": 113
        }
      ]
    },
    {
      "cell_type": "code",
      "source": [
        "mask  = np.array([[0,0,0],\n",
        "                  [0,0,0],\n",
        "                  [1,0,1],\n",
        "                  [0,0,0],\n",
        "                  [1,0,1]], dtype=bool)\n",
        "a2[mask]"
      ],
      "metadata": {
        "colab": {
          "base_uri": "https://localhost:8080/"
        },
        "id": "EEqutspNb_Vt",
        "outputId": "d2e37143-f884-46ad-c2e6-969460b25d21"
      },
      "execution_count": 115,
      "outputs": [
        {
          "output_type": "execute_result",
          "data": {
            "text/plain": [
              "array([20, 22, 40, 42])"
            ]
          },
          "metadata": {},
          "execution_count": 115
        }
      ]
    },
    {
      "cell_type": "markdown",
      "source": [
        "**예제 05**\n",
        "\n",
        "`a2`에서 아래 그림에 해당하는 값을 펜시 인덱싱과 불리언 인덱싱을 각각 이용하여 새로운 배열로 만드세요.\n",
        "\n",
        "\n",
        "<p align='center'>\n",
        "<img src=https://github.com/yebiny/SkillTreePython-DataAnalysis/blob/main/imgs/ch0103-10.png?raw=true width=150>\n",
        "</p>"
      ],
      "metadata": {
        "id": "SfR9Wjh-6wpK"
      }
    },
    {
      "cell_type": "code",
      "source": [
        "a2[(0,1,2,0,1,2),(0,0,0,2,2,2)]"
      ],
      "metadata": {
        "id": "gCQwBtin6wpP",
        "colab": {
          "base_uri": "https://localhost:8080/"
        },
        "outputId": "a349428e-a8bc-4ffe-ea68-0fc4d3c04e78"
      },
      "execution_count": 118,
      "outputs": [
        {
          "output_type": "execute_result",
          "data": {
            "text/plain": [
              "array([ 0, 10, 20,  2, 12, 22])"
            ]
          },
          "metadata": {},
          "execution_count": 118
        }
      ]
    },
    {
      "cell_type": "code",
      "source": [
        "a2[:3,(0,2)] # 펜시랑 슬라이싱 합쳐서 쓰는 방법"
      ],
      "metadata": {
        "colab": {
          "base_uri": "https://localhost:8080/"
        },
        "id": "m6eoQiySc1Vl",
        "outputId": "5f328b5a-65ac-4516-8672-124242fd2cc8"
      },
      "execution_count": 119,
      "outputs": [
        {
          "output_type": "execute_result",
          "data": {
            "text/plain": [
              "array([[ 0,  2],\n",
              "       [10, 12],\n",
              "       [20, 22]])"
            ]
          },
          "metadata": {},
          "execution_count": 119
        }
      ]
    },
    {
      "cell_type": "markdown",
      "source": [
        "**예제 06**\n",
        "\n",
        "`a2`에서 아래 그림에 해당하는 값을 펜시 인덱싱과 불리언 인덱싱을 각각 이용하여 새로운 배열로 만드세요.\n",
        "\n",
        "\n",
        "<p align='center'>\n",
        "<img src=https://github.com/yebiny/SkillTreePython-DataAnalysis/blob/main/imgs/ch0103-11.png?raw=true width=150>\n",
        "</p>"
      ],
      "metadata": {
        "id": "xiltaKm27A0k"
      }
    },
    {
      "cell_type": "code",
      "source": [
        "a2[(2,2,2,3,4),(0,1,2,1,1)]"
      ],
      "metadata": {
        "id": "vddom3tb7A0l",
        "colab": {
          "base_uri": "https://localhost:8080/"
        },
        "outputId": "01c60f2f-f099-4e18-f641-34d47e34c721"
      },
      "execution_count": 121,
      "outputs": [
        {
          "output_type": "execute_result",
          "data": {
            "text/plain": [
              "array([20, 21, 22, 31, 41])"
            ]
          },
          "metadata": {},
          "execution_count": 121
        }
      ]
    },
    {
      "cell_type": "code",
      "source": [
        "mask  = np.array([[0,0,0],\n",
        "                  [0,0,0],\n",
        "                  [1,1,1],\n",
        "                  [0,1,0],\n",
        "                  [0,1,0]], dtype=bool)\n",
        "a2[mask]"
      ],
      "metadata": {
        "colab": {
          "base_uri": "https://localhost:8080/"
        },
        "id": "txABxB44elUc",
        "outputId": "38436ccd-2355-41f1-93b9-2131c1367a0a"
      },
      "execution_count": 127,
      "outputs": [
        {
          "output_type": "execute_result",
          "data": {
            "text/plain": [
              "array([20, 21, 22, 31, 41])"
            ]
          },
          "metadata": {},
          "execution_count": 127
        }
      ]
    },
    {
      "cell_type": "code",
      "source": [
        "a2[2:5,(0,2)]"
      ],
      "metadata": {
        "colab": {
          "base_uri": "https://localhost:8080/"
        },
        "id": "umx8neKueDU1",
        "outputId": "d1714c5c-966b-4030-d0d3-c8cef36a6a28"
      },
      "execution_count": 126,
      "outputs": [
        {
          "output_type": "execute_result",
          "data": {
            "text/plain": [
              "array([[20, 22],\n",
              "       [30, 32],\n",
              "       [40, 42]])"
            ]
          },
          "metadata": {},
          "execution_count": 126
        }
      ]
    },
    {
      "cell_type": "markdown",
      "source": [
        "**예제 07**\n",
        "\n",
        "`a3`에서 1에 해당하는 값만 모아 새로운 배열로 만드세요."
      ],
      "metadata": {
        "id": "V8tbSZZN62na"
      }
    },
    {
      "cell_type": "code",
      "source": [
        "mask1=a3==1\n",
        "a3[mask1]"
      ],
      "metadata": {
        "id": "5meyjfby62nb",
        "colab": {
          "base_uri": "https://localhost:8080/"
        },
        "outputId": "6722e526-0537-4996-94d1-4c190248eae4"
      },
      "execution_count": 129,
      "outputs": [
        {
          "output_type": "execute_result",
          "data": {
            "text/plain": [
              "array([1, 1, 1])"
            ]
          },
          "metadata": {},
          "execution_count": 129
        }
      ]
    },
    {
      "cell_type": "markdown",
      "metadata": {
        "id": "KrDsXKO0BvN9"
      },
      "source": [
        "**예제 08**\n",
        "\n",
        "`a2`를 복사하여 `b2`로 바인딩하세요.\n"
      ]
    },
    {
      "cell_type": "code",
      "source": [
        "b2 = np.copy(a2)\n",
        "print(a2)\n",
        "print(b2)"
      ],
      "metadata": {
        "id": "Cw7MAmI8BvN-",
        "colab": {
          "base_uri": "https://localhost:8080/"
        },
        "outputId": "f34e01cd-df9c-4869-e610-a5355918649a"
      },
      "execution_count": 131,
      "outputs": [
        {
          "output_type": "stream",
          "name": "stdout",
          "text": [
            "[[ 0  1  2]\n",
            " [10 11 12]\n",
            " [20 21 22]\n",
            " [30 31 32]\n",
            " [40 41 42]]\n",
            "[[ 0  1  2]\n",
            " [10 11 12]\n",
            " [20 21 22]\n",
            " [30 31 32]\n",
            " [40 41 42]]\n"
          ]
        }
      ]
    },
    {
      "cell_type": "markdown",
      "source": [
        "**예제 09**\n",
        "\n",
        "`b2`를 아래 그림과 같이 수정하세요.\n",
        "\n",
        "\n",
        "<p align='center'>\n",
        "<img src=https://github.com/yebiny/SkillTreePython-DataAnalysis/blob/main/imgs/ch0103-12.png?raw=true width=150>\n",
        "</p>"
      ],
      "metadata": {
        "id": "Kxa9RJw8N1k4"
      }
    },
    {
      "cell_type": "code",
      "source": [
        "l=np.zeros((3,3))\n",
        "print(l)\n",
        "l[0,2]=100\n",
        "print(l)"
      ],
      "metadata": {
        "colab": {
          "base_uri": "https://localhost:8080/"
        },
        "id": "rIk1GEy5fsEM",
        "outputId": "67ee8b99-3c34-4042-dbfa-afcac872fc22"
      },
      "execution_count": 138,
      "outputs": [
        {
          "output_type": "stream",
          "name": "stdout",
          "text": [
            "[[0. 0. 0.]\n",
            " [0. 0. 0.]\n",
            " [0. 0. 0.]]\n",
            "[[  0.   0. 100.]\n",
            " [  0.   0.   0.]\n",
            " [  0.   0.   0.]]\n"
          ]
        }
      ]
    },
    {
      "cell_type": "code",
      "source": [
        "print(b2)\n",
        "b2[1]=100\n",
        "b2[3]=100\n",
        "print(b2)"
      ],
      "metadata": {
        "id": "TuKu3G0COHTx",
        "colab": {
          "base_uri": "https://localhost:8080/"
        },
        "outputId": "c3b83774-32c5-4ae8-c258-942c5c414d5f"
      },
      "execution_count": 139,
      "outputs": [
        {
          "output_type": "stream",
          "name": "stdout",
          "text": [
            "[[ 0  1  2]\n",
            " [10 11 12]\n",
            " [20 21 22]\n",
            " [30 31 32]\n",
            " [40 41 42]]\n",
            "[[  0   1   2]\n",
            " [100 100 100]\n",
            " [ 20  21  22]\n",
            " [100 100 100]\n",
            " [ 40  41  42]]\n"
          ]
        }
      ]
    },
    {
      "cell_type": "code",
      "source": [
        "b2"
      ],
      "metadata": {
        "colab": {
          "base_uri": "https://localhost:8080/"
        },
        "id": "i8IDk-FAhBr8",
        "outputId": "9d927347-8e3f-4a81-b9ab-962db0cbb172"
      },
      "execution_count": 140,
      "outputs": [
        {
          "output_type": "execute_result",
          "data": {
            "text/plain": [
              "array([[  0,   1,   2],\n",
              "       [100, 100, 100],\n",
              "       [ 20,  21,  22],\n",
              "       [100, 100, 100],\n",
              "       [ 40,  41,  42]])"
            ]
          },
          "metadata": {},
          "execution_count": 140
        }
      ]
    },
    {
      "cell_type": "markdown",
      "source": [
        "**예제 10**\n",
        "\n",
        "이어서 `b2`를 아래 그림과 같이 수정하세요.\n",
        "\n",
        "\n",
        "<p align='center'>\n",
        "<img src=https://github.com/yebiny/SkillTreePython-DataAnalysis/blob/main/imgs/ch0103-13.png?raw=true width=150>\n",
        "</p>"
      ],
      "metadata": {
        "id": "uDYC2aemC4FW"
      }
    },
    {
      "cell_type": "code",
      "source": [
        "print(b2)\n",
        "b2[0,2]=200\n",
        "b2[2,2]=200\n",
        "b2[4,2]=200\n",
        "print(b2)"
      ],
      "metadata": {
        "id": "9qhPnPtoC4FX",
        "colab": {
          "base_uri": "https://localhost:8080/"
        },
        "outputId": "17b4d5d8-2a9c-4c96-ba7d-e63068f889a2"
      },
      "execution_count": 141,
      "outputs": [
        {
          "output_type": "stream",
          "name": "stdout",
          "text": [
            "[[  0   1   2]\n",
            " [100 100 100]\n",
            " [ 20  21  22]\n",
            " [100 100 100]\n",
            " [ 40  41  42]]\n",
            "[[  0   1 200]\n",
            " [100 100 100]\n",
            " [ 20  21 200]\n",
            " [100 100 100]\n",
            " [ 40  41 200]]\n"
          ]
        }
      ]
    },
    {
      "cell_type": "code",
      "source": [
        "b2"
      ],
      "metadata": {
        "colab": {
          "base_uri": "https://localhost:8080/"
        },
        "id": "UFpDszRchWjk",
        "outputId": "1361bb4e-5eac-41ef-b5b1-66ad57331b99"
      },
      "execution_count": 142,
      "outputs": [
        {
          "output_type": "execute_result",
          "data": {
            "text/plain": [
              "array([[  0,   1, 200],\n",
              "       [100, 100, 100],\n",
              "       [ 20,  21, 200],\n",
              "       [100, 100, 100],\n",
              "       [ 40,  41, 200]])"
            ]
          },
          "metadata": {},
          "execution_count": 142
        }
      ]
    },
    {
      "cell_type": "markdown",
      "source": [
        "**예제 11**\n",
        "\n",
        "이어서 `b2`에 값을 아래와 같이 삽입하세요.\n",
        "\n",
        "\n",
        "<p align='center'>\n",
        "<img src=https://github.com/yebiny/SkillTreePython-DataAnalysis/blob/main/imgs/ch0103-14.png?raw=true width=180>\n",
        "</p>"
      ],
      "metadata": {
        "id": "1fpupocGOYlz"
      }
    },
    {
      "cell_type": "code",
      "source": [
        "b2=np.insert(b2, 2, 0, axis=1)"
      ],
      "metadata": {
        "id": "F3AcVlSCOYl0"
      },
      "execution_count": 145,
      "outputs": []
    },
    {
      "cell_type": "code",
      "source": [
        "b2"
      ],
      "metadata": {
        "colab": {
          "base_uri": "https://localhost:8080/"
        },
        "id": "oL80rpCLh0HE",
        "outputId": "cc2a73f4-ba4d-4986-a0c1-742c8a4167bb"
      },
      "execution_count": 146,
      "outputs": [
        {
          "output_type": "execute_result",
          "data": {
            "text/plain": [
              "array([[  0,   1,   0, 200],\n",
              "       [100, 100,   0, 100],\n",
              "       [ 20,  21,   0, 200],\n",
              "       [100, 100,   0, 100],\n",
              "       [ 40,  41,   0, 200]])"
            ]
          },
          "metadata": {},
          "execution_count": 146
        }
      ]
    },
    {
      "cell_type": "code",
      "source": [
        "a2"
      ],
      "metadata": {
        "colab": {
          "base_uri": "https://localhost:8080/"
        },
        "id": "vPp2eRTch36E",
        "outputId": "9f6104e4-c727-4fc9-cccb-4354cbf419a8"
      },
      "execution_count": 147,
      "outputs": [
        {
          "output_type": "execute_result",
          "data": {
            "text/plain": [
              "array([[ 0,  1,  2],\n",
              "       [10, 11, 12],\n",
              "       [20, 21, 22],\n",
              "       [30, 31, 32],\n",
              "       [40, 41, 42]])"
            ]
          },
          "metadata": {},
          "execution_count": 147
        }
      ]
    },
    {
      "cell_type": "markdown",
      "source": [
        "**예제 12**\n",
        "\n",
        "이어서 `b2`의 값을 아래와 같이 삭제하세요.\n",
        "\n",
        "\n",
        "<p align='center'>\n",
        "<img src=https://github.com/yebiny/SkillTreePython-DataAnalysis/blob/main/imgs/ch0103-15.png?raw=true width=180>\n",
        "</p>"
      ],
      "metadata": {
        "id": "RV92_ziYDFAG"
      }
    },
    {
      "cell_type": "code",
      "source": [
        "b2=np.delete(b2, (2,4), axis=0)"
      ],
      "metadata": {
        "id": "oGk3Z4NCDFAH"
      },
      "execution_count": 154,
      "outputs": []
    },
    {
      "cell_type": "code",
      "source": [
        "b2"
      ],
      "metadata": {
        "colab": {
          "base_uri": "https://localhost:8080/"
        },
        "id": "sMMCY8j5iIjj",
        "outputId": "01e1ee9f-31d7-40db-cbc0-f44b8d996885"
      },
      "execution_count": 155,
      "outputs": [
        {
          "output_type": "execute_result",
          "data": {
            "text/plain": [
              "array([[  0,   1,   0, 200],\n",
              "       [100, 100,   0, 100],\n",
              "       [100, 100,   0, 100]])"
            ]
          },
          "metadata": {},
          "execution_count": 155
        }
      ]
    }
  ]
}