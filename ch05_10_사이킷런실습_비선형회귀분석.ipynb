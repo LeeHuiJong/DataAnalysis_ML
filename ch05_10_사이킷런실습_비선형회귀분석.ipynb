{
  "nbformat": 4,
  "nbformat_minor": 0,
  "metadata": {
    "colab": {
      "name": "ch05_10_사이킷런실습_비선형회귀분석.ipynb",
      "provenance": [],
      "collapsed_sections": [],
      "toc_visible": true,
      "include_colab_link": true
    },
    "kernelspec": {
      "name": "python3",
      "display_name": "Python 3"
    },
    "language_info": {
      "name": "python"
    }
  },
  "cells": [
    {
      "cell_type": "markdown",
      "metadata": {
        "id": "view-in-github",
        "colab_type": "text"
      },
      "source": [
        "<a href=\"https://colab.research.google.com/github/LeeHuiJong/SkillTreePython-DataAnalysis/blob/main/ch05_10_%EC%82%AC%EC%9D%B4%ED%82%B7%EB%9F%B0%EC%8B%A4%EC%8A%B5_%EB%B9%84%EC%84%A0%ED%98%95%ED%9A%8C%EA%B7%80%EB%B6%84%EC%84%9D.ipynb\" target=\"_parent\"><img src=\"https://colab.research.google.com/assets/colab-badge.svg\" alt=\"Open In Colab\"/></a>"
      ]
    },
    {
      "cell_type": "markdown",
      "metadata": {
        "id": "wWpXZc2fi39U"
      },
      "source": [
        "# ch05.10. 사이킷런 실습 - 비선형회귀분석\n",
        "\n",
        "---\n",
        "* 날짜:\n",
        "* 이름:\n",
        "\n",
        "## 학습내용\n",
        "    - 다항식을 이용한 회귀 분석을 진행한다.\n",
        "    - 랜덤 포레스트를 이용해 비선형 회귀를 진행한다.\n",
        "    - 앙상블 학습에 대해 이해한다."
      ]
    },
    {
      "cell_type": "markdown",
      "metadata": {
        "id": "kByKdJPApy6P"
      },
      "source": [
        "```\n",
        "import numpy as np\n",
        "import pandas as pd\n",
        "import seaborn as sns\n",
        "import matplotlib.pyplot as plt\n",
        "```"
      ]
    },
    {
      "cell_type": "code",
      "source": [
        "import numpy as np\n",
        "import pandas as pd\n",
        "import seaborn as sns\n",
        "import matplotlib.pyplot as plt"
      ],
      "metadata": {
        "id": "YW4q7CsxPlQh"
      },
      "execution_count": 1,
      "outputs": []
    },
    {
      "cell_type": "code",
      "source": [
        "from google.colab import drive\n",
        "drive.mount('/content/drive')"
      ],
      "metadata": {
        "colab": {
          "base_uri": "https://localhost:8080/"
        },
        "id": "ADDkpPNE3YBH",
        "outputId": "f8bda0b0-a15c-4b51-9dba-8d0980dfa8cf"
      },
      "execution_count": 2,
      "outputs": [
        {
          "output_type": "stream",
          "name": "stdout",
          "text": [
            "Drive already mounted at /content/drive; to attempt to forcibly remount, call drive.mount(\"/content/drive\", force_remount=True).\n"
          ]
        }
      ]
    },
    {
      "cell_type": "code",
      "source": [
        "import sys\n",
        "sys.path.append('/content/drive/MyDrive/script')\n",
        "from data_loader import *\n",
        "from score_dict import *"
      ],
      "metadata": {
        "id": "YIUkCYsGEVIh"
      },
      "execution_count": 3,
      "outputs": []
    },
    {
      "cell_type": "markdown",
      "source": [
        "## **선형 회귀 모델을 다항 회귀로 변환**\n",
        "---"
      ],
      "metadata": {
        "id": "GYfR9QxDOEIy"
      }
    },
    {
      "cell_type": "markdown",
      "source": [
        "### **| 간단한 데이터에 대한 다항 회귀**"
      ],
      "metadata": {
        "id": "_dvcAIL3C3vE"
      }
    },
    {
      "cell_type": "markdown",
      "source": [
        "#### **데이터**\n",
        "```\n",
        "X = np.array([258.0, 270.0, 294.0, \n",
        "              320.0, 342.0, 368.0, \n",
        "              396.0, 446.0, 480.0, 586.0]).reshape(-1, 1)\n",
        "\n",
        "y = np.array([236.4, 234.4, 252.8, \n",
        "              298.6, 314.2, 342.2, \n",
        "              360.8, 368.0, 391.2,\n",
        "              390.8])\n",
        "```"
      ],
      "metadata": {
        "id": "OhR4fxMkCt-3"
      }
    },
    {
      "cell_type": "markdown",
      "source": [
        "* 데이터 생성"
      ],
      "metadata": {
        "id": "GMZTe-AcDRFw"
      }
    },
    {
      "cell_type": "code",
      "source": [
        "X = np.array([258.0, 270.0, 294.0, \n",
        "              320.0, 342.0, 368.0, \n",
        "              396.0, 446.0, 480.0, 586.0]).reshape(-1, 1)\n",
        "\n",
        "y = np.array([236.4, 234.4, 252.8, \n",
        "              298.6, 314.2, 342.2, \n",
        "              360.8, 368.0, 391.2,\n",
        "              390.8])\n",
        "X.shape, y.shape\n"
      ],
      "metadata": {
        "id": "3Ycs4pI60zPo",
        "colab": {
          "base_uri": "https://localhost:8080/"
        },
        "outputId": "5858e9ac-9961-4190-9a08-2c32fca14372"
      },
      "execution_count": 4,
      "outputs": [
        {
          "output_type": "execute_result",
          "data": {
            "text/plain": [
              "((10, 1), (10,))"
            ]
          },
          "metadata": {},
          "execution_count": 4
        }
      ]
    },
    {
      "cell_type": "markdown",
      "source": [
        "* 시각화"
      ],
      "metadata": {
        "id": "kJKrGZF0C1du"
      }
    },
    {
      "cell_type": "code",
      "source": [
        "plt.scatter(X, y)"
      ],
      "metadata": {
        "id": "TaZLcFNu3gRm",
        "colab": {
          "base_uri": "https://localhost:8080/",
          "height": 283
        },
        "outputId": "b442ce2a-3674-4f3c-9fd4-2d30139c98d8"
      },
      "execution_count": 5,
      "outputs": [
        {
          "output_type": "execute_result",
          "data": {
            "text/plain": [
              "<matplotlib.collections.PathCollection at 0x7f521dc21ad0>"
            ]
          },
          "metadata": {},
          "execution_count": 5
        },
        {
          "output_type": "display_data",
          "data": {
            "text/plain": [
              "<Figure size 432x288 with 1 Axes>"
            ],
            "image/png": "[encoded data removed]"
          },
          "metadata": {
            "needs_background": "light"
          }
        }
      ]
    },
    {
      "cell_type": "markdown",
      "source": [
        "#### **선형 특성 학습**"
      ],
      "metadata": {
        "id": "sjMo6aNaDCIU"
      }
    },
    {
      "cell_type": "code",
      "source": [
        "from sklearn.linear_model import *\n",
        "lr1 = LinearRegression()\n",
        "lr1.fit(X, y)"
      ],
      "metadata": {
        "id": "QK57ELPT0-9M",
        "colab": {
          "base_uri": "https://localhost:8080/"
        },
        "outputId": "c9fd87a6-abcf-482b-8db9-473273fc4069"
      },
      "execution_count": 6,
      "outputs": [
        {
          "output_type": "execute_result",
          "data": {
            "text/plain": [
              "LinearRegression()"
            ]
          },
          "metadata": {},
          "execution_count": 6
        }
      ]
    },
    {
      "cell_type": "code",
      "source": [
        "plt.scatter(X, y)\n",
        "y_pred = lr1.predict(X)\n",
        "plt.plot(X, y_pred)"
      ],
      "metadata": {
        "colab": {
          "base_uri": "https://localhost:8080/",
          "height": 283
        },
        "id": "HBnfDd4W6fYU",
        "outputId": "41ecdbf7-985e-4f55-d3ca-899cfd21a9da"
      },
      "execution_count": 7,
      "outputs": [
        {
          "output_type": "execute_result",
          "data": {
            "text/plain": [
              "[<matplotlib.lines.Line2D at 0x7f521dbedad0>]"
            ]
          },
          "metadata": {},
          "execution_count": 7
        },
        {
          "output_type": "display_data",
          "data": {
            "text/plain": [
              "<Figure size 432x288 with 1 Axes>"
            ],
            "image/png": "[encoded data removed]"
          },
          "metadata": {
            "needs_background": "light"
          }
        }
      ]
    },
    {
      "cell_type": "code",
      "source": [
        "# 직선보다는 곡선이 더 맞는 모델 같아보이기 때문에 다항식을 이용"
      ],
      "metadata": {
        "id": "wicCltGY67y1"
      },
      "execution_count": null,
      "outputs": []
    },
    {
      "cell_type": "markdown",
      "source": [
        "#### **이차항 특성 학습**\n"
      ],
      "metadata": {
        "id": "rvuZSvRvzmhT"
      }
    },
    {
      "cell_type": "code",
      "source": [
        "from sklearn.preprocessing import PolynomialFeatures\n",
        "# X가 1차항 -> 다차항으로 변환\n",
        "quad = PolynomialFeatures(degree = 2) # 차수 지정"
      ],
      "metadata": {
        "id": "zaVfSiPW1DyA"
      },
      "execution_count": 8,
      "outputs": []
    },
    {
      "cell_type": "markdown",
      "source": [
        "* X 데이터 변환"
      ],
      "metadata": {
        "id": "Tlyc4sYWH3Zg"
      }
    },
    {
      "cell_type": "code",
      "source": [
        "X_quad = quad.fit_transform(X)\n",
        "X.shape, X_quad.shape"
      ],
      "metadata": {
        "id": "7TE8lUHfz86X",
        "colab": {
          "base_uri": "https://localhost:8080/"
        },
        "outputId": "f2802c92-9e5b-4aba-b48b-fd9eb319a020"
      },
      "execution_count": 9,
      "outputs": [
        {
          "output_type": "execute_result",
          "data": {
            "text/plain": [
              "((10, 1), (10, 3))"
            ]
          },
          "metadata": {},
          "execution_count": 9
        }
      ]
    },
    {
      "cell_type": "code",
      "source": [
        "quad.get_feature_names_out()\n",
        "pd.DataFrame(X_quad, columns = quad.get_feature_names_out())"
      ],
      "metadata": {
        "colab": {
          "base_uri": "https://localhost:8080/",
          "height": 363
        },
        "id": "ruLCt1F08Atc",
        "outputId": "b450754b-7027-4dd3-bb0f-88bc77b086f0"
      },
      "execution_count": 10,
      "outputs": [
        {
          "output_type": "execute_result",
          "data": {
            "text/plain": [
              "     1     x0      x0^2\n",
              "0  1.0  258.0   66564.0\n",
              "1  1.0  270.0   72900.0\n",
              "2  1.0  294.0   86436.0\n",
              "3  1.0  320.0  102400.0\n",
              "4  1.0  342.0  116964.0\n",
              "5  1.0  368.0  135424.0\n",
              "6  1.0  396.0  156816.0\n",
              "7  1.0  446.0  198916.0\n",
              "8  1.0  480.0  230400.0\n",
              "9  1.0  586.0  343396.0"
            ],
            "text/html": [
              "\n",
              "  <div id=\"df-8db9e1a3-9af7-48be-ba76-c39aaf6c10af\">\n",
              "    <div class=\"colab-df-container\">\n",
              "      <div>\n",
              "<style scoped>\n",
              "    .dataframe tbody tr th:only-of-type {\n",
              "        vertical-align: middle;\n",
              "    }\n",
              "\n",
              "    .dataframe tbody tr th {\n",
              "        vertical-align: top;\n",
              "    }\n",
              "\n",
              "    .dataframe thead th {\n",
              "        text-align: right;\n",
              "    }\n",
              "</style>\n",
              "<table border=\"1\" class=\"dataframe\">\n",
              "  <thead>\n",
              "    <tr style=\"text-align: right;\">\n",
              "      <th></th>\n",
              "      <th>1</th>\n",
              "      <th>x0</th>\n",
              "      <th>x0^2</th>\n",
              "    </tr>\n",
              "  </thead>\n",
              "  <tbody>\n",
              "    <tr>\n",
              "      <th>0</th>\n",
              "      <td>1.0</td>\n",
              "      <td>258.0</td>\n",
              "      <td>66564.0</td>\n",
              "    </tr>\n",
              "    <tr>\n",
              "      <th>1</th>\n",
              "      <td>1.0</td>\n",
              "      <td>270.0</td>\n",
              "      <td>72900.0</td>\n",
              "    </tr>\n",
              "    <tr>\n",
              "      <th>2</th>\n",
              "      <td>1.0</td>\n",
              "      <td>294.0</td>\n",
              "      <td>86436.0</td>\n",
              "    </tr>\n",
              "    <tr>\n",
              "      <th>3</th>\n",
              "      <td>1.0</td>\n",
              "      <td>320.0</td>\n",
              "      <td>102400.0</td>\n",
              "    </tr>\n",
              "    <tr>\n",
              "      <th>4</th>\n",
              "      <td>1.0</td>\n",
              "      <td>342.0</td>\n",
              "      <td>116964.0</td>\n",
              "    </tr>\n",
              "    <tr>\n",
              "      <th>5</th>\n",
              "      <td>1.0</td>\n",
              "      <td>368.0</td>\n",
              "      <td>135424.0</td>\n",
              "    </tr>\n",
              "    <tr>\n",
              "      <th>6</th>\n",
              "      <td>1.0</td>\n",
              "      <td>396.0</td>\n",
              "      <td>156816.0</td>\n",
              "    </tr>\n",
              "    <tr>\n",
              "      <th>7</th>\n",
              "      <td>1.0</td>\n",
              "      <td>446.0</td>\n",
              "      <td>198916.0</td>\n",
              "    </tr>\n",
              "    <tr>\n",
              "      <th>8</th>\n",
              "      <td>1.0</td>\n",
              "      <td>480.0</td>\n",
              "      <td>230400.0</td>\n",
              "    </tr>\n",
              "    <tr>\n",
              "      <th>9</th>\n",
              "      <td>1.0</td>\n",
              "      <td>586.0</td>\n",
              "      <td>343396.0</td>\n",
              "    </tr>\n",
              "  </tbody>\n",
              "</table>\n",
              "</div>\n",
              "      <button class=\"colab-df-convert\" onclick=\"convertToInteractive('df-8db9e1a3-9af7-48be-ba76-c39aaf6c10af')\"\n",
              "              title=\"Convert this dataframe to an interactive table.\"\n",
              "              style=\"display:none;\">\n",
              "        \n",
              "  <svg xmlns=\"http://www.w3.org/2000/svg\" height=\"24px\"viewBox=\"0 0 24 24\"\n",
              "       width=\"24px\">\n",
              "    <path d=\"M0 0h24v24H0V0z\" fill=\"none\"/>\n",
              "    <path d=\"M18.56 5.44l.94 2.06.94-2.06 2.06-.94-2.06-.94-.94-2.06-.94 2.06-2.06.94zm-11 1L8.5 8.5l.94-2.06 2.06-.94-2.06-.94L8.5 2.5l-.94 2.06-2.06.94zm10 10l.94 2.06.94-2.06 2.06-.94-2.06-.94-.94-2.06-.94 2.06-2.06.94z\"/><path d=\"M17.41 7.96l-1.37-1.37c-.4-.4-.92-.59-1.43-.59-.52 0-1.04.2-1.43.59L10.3 9.45l-7.72 7.72c-.78.78-.78 2.05 0 2.83L4 21.41c.39.39.9.59 1.41.59.51 0 1.02-.2 1.41-.59l7.78-7.78 2.81-2.81c.8-.78.8-2.07 0-2.86zM5.41 20L4 18.59l7.72-7.72 1.47 1.35L5.41 20z\"/>\n",
              "  </svg>\n",
              "      </button>\n",
              "      \n",
              "  <style>\n",
              "    .colab-df-container {\n",
              "      display:flex;\n",
              "      flex-wrap:wrap;\n",
              "      gap: 12px;\n",
              "    }\n",
              "\n",
              "    .colab-df-convert {\n",
              "      background-color: #E8F0FE;\n",
              "      border: none;\n",
              "      border-radius: 50%;\n",
              "      cursor: pointer;\n",
              "      display: none;\n",
              "      fill: #1967D2;\n",
              "      height: 32px;\n",
              "      padding: 0 0 0 0;\n",
              "      width: 32px;\n",
              "    }\n",
              "\n",
              "    .colab-df-convert:hover {\n",
              "      background-color: #E2EBFA;\n",
              "      box-shadow: 0px 1px 2px rgba(60, 64, 67, 0.3), 0px 1px 3px 1px rgba(60, 64, 67, 0.15);\n",
              "      fill: #174EA6;\n",
              "    }\n",
              "\n",
              "    [theme=dark] .colab-df-convert {\n",
              "      background-color: #3B4455;\n",
              "      fill: #D2E3FC;\n",
              "    }\n",
              "\n",
              "    [theme=dark] .colab-df-convert:hover {\n",
              "      background-color: #434B5C;\n",
              "      box-shadow: 0px 1px 3px 1px rgba(0, 0, 0, 0.15);\n",
              "      filter: drop-shadow(0px 1px 2px rgba(0, 0, 0, 0.3));\n",
              "      fill: #FFFFFF;\n",
              "    }\n",
              "  </style>\n",
              "\n",
              "      <script>\n",
              "        const buttonEl =\n",
              "          document.querySelector('#df-8db9e1a3-9af7-48be-ba76-c39aaf6c10af button.colab-df-convert');\n",
              "        buttonEl.style.display =\n",
              "          google.colab.kernel.accessAllowed ? 'block' : 'none';\n",
              "\n",
              "        async function convertToInteractive(key) {\n",
              "          const element = document.querySelector('#df-8db9e1a3-9af7-48be-ba76-c39aaf6c10af');\n",
              "          const dataTable =\n",
              "            await google.colab.kernel.invokeFunction('convertToInteractive',\n",
              "                                                     [key], {});\n",
              "          if (!dataTable) return;\n",
              "\n",
              "          const docLinkHtml = 'Like what you see? Visit the ' +\n",
              "            '<a target=\"_blank\" href=https://colab.research.google.com/notebooks/data_table.ipynb>data table notebook</a>'\n",
              "            + ' to learn more about interactive tables.';\n",
              "          element.innerHTML = '';\n",
              "          dataTable['output_type'] = 'display_data';\n",
              "          await google.colab.output.renderOutput(dataTable, element);\n",
              "          const docLink = document.createElement('div');\n",
              "          docLink.innerHTML = docLinkHtml;\n",
              "          element.appendChild(docLink);\n",
              "        }\n",
              "      </script>\n",
              "    </div>\n",
              "  </div>\n",
              "  "
            ]
          },
          "metadata": {},
          "execution_count": 10
        }
      ]
    },
    {
      "cell_type": "code",
      "source": [
        "X"
      ],
      "metadata": {
        "colab": {
          "base_uri": "https://localhost:8080/"
        },
        "id": "1iSEhoeE72os",
        "outputId": "83a1751c-8f8b-4361-9eb1-1b41af6c45ed"
      },
      "execution_count": null,
      "outputs": [
        {
          "output_type": "execute_result",
          "data": {
            "text/plain": [
              "array([[258.],\n",
              "       [270.],\n",
              "       [294.],\n",
              "       [320.],\n",
              "       [342.],\n",
              "       [368.],\n",
              "       [396.],\n",
              "       [446.],\n",
              "       [480.],\n",
              "       [586.]])"
            ]
          },
          "metadata": {},
          "execution_count": 12
        }
      ]
    },
    {
      "cell_type": "code",
      "source": [
        "X_quad"
      ],
      "metadata": {
        "colab": {
          "base_uri": "https://localhost:8080/"
        },
        "id": "9fwI4B3w74Hl",
        "outputId": "d992e0e7-e194-4100-ee91-8d39f5bb0d83"
      },
      "execution_count": null,
      "outputs": [
        {
          "output_type": "execute_result",
          "data": {
            "text/plain": [
              "array([[1.00000e+00, 2.58000e+02, 6.65640e+04],\n",
              "       [1.00000e+00, 2.70000e+02, 7.29000e+04],\n",
              "       [1.00000e+00, 2.94000e+02, 8.64360e+04],\n",
              "       [1.00000e+00, 3.20000e+02, 1.02400e+05],\n",
              "       [1.00000e+00, 3.42000e+02, 1.16964e+05],\n",
              "       [1.00000e+00, 3.68000e+02, 1.35424e+05],\n",
              "       [1.00000e+00, 3.96000e+02, 1.56816e+05],\n",
              "       [1.00000e+00, 4.46000e+02, 1.98916e+05],\n",
              "       [1.00000e+00, 4.80000e+02, 2.30400e+05],\n",
              "       [1.00000e+00, 5.86000e+02, 3.43396e+05]])"
            ]
          },
          "metadata": {},
          "execution_count": 13
        }
      ]
    },
    {
      "cell_type": "markdown",
      "source": [
        "* 학습"
      ],
      "metadata": {
        "id": "DR79eUEsH8gM"
      }
    },
    {
      "cell_type": "code",
      "source": [
        "lr2 = LinearRegression()\n",
        "lr2.fit(X_quad, y)"
      ],
      "metadata": {
        "id": "831zjGBc6kGX",
        "colab": {
          "base_uri": "https://localhost:8080/"
        },
        "outputId": "393de0d6-231b-42df-89e4-f5ff19549798"
      },
      "execution_count": 11,
      "outputs": [
        {
          "output_type": "execute_result",
          "data": {
            "text/plain": [
              "LinearRegression()"
            ]
          },
          "metadata": {},
          "execution_count": 11
        }
      ]
    },
    {
      "cell_type": "markdown",
      "source": [
        "#### **테스트셋 성능 비교**"
      ],
      "metadata": {
        "id": "tyHcbw-9HzF8"
      }
    },
    {
      "cell_type": "code",
      "source": [
        "y_pred1 = lr1.predict(X)\n",
        "lr1_scores = regression_scores(y, y_pred)\n",
        "\n",
        "y_pred2 = lr2.predict(X_quad)\n",
        "lr2_scores = regression_scores(y, y_pred2)\n",
        "\n",
        "pd.DataFrame([lr1_scores,lr2_scores], index = ['linear','quad'])"
      ],
      "metadata": {
        "id": "pKQsac_KAQz0",
        "colab": {
          "base_uri": "https://localhost:8080/",
          "height": 112
        },
        "outputId": "9a92a669-6377-48a6-b8f3-ea53a04402c2"
      },
      "execution_count": 12,
      "outputs": [
        {
          "output_type": "execute_result",
          "data": {
            "text/plain": [
              "           mse    rmse     mae   nmae   mape     r2\n",
              "linear  569.78  23.870  21.898  0.069  7.035  0.832\n",
              "quad     61.33   7.831   6.379  0.020  2.213  0.982"
            ],
            "text/html": [
              "\n",
              "  <div id=\"df-fed5fe8c-b68c-404f-bf70-79b8c21bc621\">\n",
              "    <div class=\"colab-df-container\">\n",
              "      <div>\n",
              "<style scoped>\n",
              "    .dataframe tbody tr th:only-of-type {\n",
              "        vertical-align: middle;\n",
              "    }\n",
              "\n",
              "    .dataframe tbody tr th {\n",
              "        vertical-align: top;\n",
              "    }\n",
              "\n",
              "    .dataframe thead th {\n",
              "        text-align: right;\n",
              "    }\n",
              "</style>\n",
              "<table border=\"1\" class=\"dataframe\">\n",
              "  <thead>\n",
              "    <tr style=\"text-align: right;\">\n",
              "      <th></th>\n",
              "      <th>mse</th>\n",
              "      <th>rmse</th>\n",
              "      <th>mae</th>\n",
              "      <th>nmae</th>\n",
              "      <th>mape</th>\n",
              "      <th>r2</th>\n",
              "    </tr>\n",
              "  </thead>\n",
              "  <tbody>\n",
              "    <tr>\n",
              "      <th>linear</th>\n",
              "      <td>569.78</td>\n",
              "      <td>23.870</td>\n",
              "      <td>21.898</td>\n",
              "      <td>0.069</td>\n",
              "      <td>7.035</td>\n",
              "      <td>0.832</td>\n",
              "    </tr>\n",
              "    <tr>\n",
              "      <th>quad</th>\n",
              "      <td>61.33</td>\n",
              "      <td>7.831</td>\n",
              "      <td>6.379</td>\n",
              "      <td>0.020</td>\n",
              "      <td>2.213</td>\n",
              "      <td>0.982</td>\n",
              "    </tr>\n",
              "  </tbody>\n",
              "</table>\n",
              "</div>\n",
              "      <button class=\"colab-df-convert\" onclick=\"convertToInteractive('df-fed5fe8c-b68c-404f-bf70-79b8c21bc621')\"\n",
              "              title=\"Convert this dataframe to an interactive table.\"\n",
              "              style=\"display:none;\">\n",
              "        \n",
              "  <svg xmlns=\"http://www.w3.org/2000/svg\" height=\"24px\"viewBox=\"0 0 24 24\"\n",
              "       width=\"24px\">\n",
              "    <path d=\"M0 0h24v24H0V0z\" fill=\"none\"/>\n",
              "    <path d=\"M18.56 5.44l.94 2.06.94-2.06 2.06-.94-2.06-.94-.94-2.06-.94 2.06-2.06.94zm-11 1L8.5 8.5l.94-2.06 2.06-.94-2.06-.94L8.5 2.5l-.94 2.06-2.06.94zm10 10l.94 2.06.94-2.06 2.06-.94-2.06-.94-.94-2.06-.94 2.06-2.06.94z\"/><path d=\"M17.41 7.96l-1.37-1.37c-.4-.4-.92-.59-1.43-.59-.52 0-1.04.2-1.43.59L10.3 9.45l-7.72 7.72c-.78.78-.78 2.05 0 2.83L4 21.41c.39.39.9.59 1.41.59.51 0 1.02-.2 1.41-.59l7.78-7.78 2.81-2.81c.8-.78.8-2.07 0-2.86zM5.41 20L4 18.59l7.72-7.72 1.47 1.35L5.41 20z\"/>\n",
              "  </svg>\n",
              "      </button>\n",
              "      \n",
              "  <style>\n",
              "    .colab-df-container {\n",
              "      display:flex;\n",
              "      flex-wrap:wrap;\n",
              "      gap: 12px;\n",
              "    }\n",
              "\n",
              "    .colab-df-convert {\n",
              "      background-color: #E8F0FE;\n",
              "      border: none;\n",
              "      border-radius: 50%;\n",
              "      cursor: pointer;\n",
              "      display: none;\n",
              "      fill: #1967D2;\n",
              "      height: 32px;\n",
              "      padding: 0 0 0 0;\n",
              "      width: 32px;\n",
              "    }\n",
              "\n",
              "    .colab-df-convert:hover {\n",
              "      background-color: #E2EBFA;\n",
              "      box-shadow: 0px 1px 2px rgba(60, 64, 67, 0.3), 0px 1px 3px 1px rgba(60, 64, 67, 0.15);\n",
              "      fill: #174EA6;\n",
              "    }\n",
              "\n",
              "    [theme=dark] .colab-df-convert {\n",
              "      background-color: #3B4455;\n",
              "      fill: #D2E3FC;\n",
              "    }\n",
              "\n",
              "    [theme=dark] .colab-df-convert:hover {\n",
              "      background-color: #434B5C;\n",
              "      box-shadow: 0px 1px 3px 1px rgba(0, 0, 0, 0.15);\n",
              "      filter: drop-shadow(0px 1px 2px rgba(0, 0, 0, 0.3));\n",
              "      fill: #FFFFFF;\n",
              "    }\n",
              "  </style>\n",
              "\n",
              "      <script>\n",
              "        const buttonEl =\n",
              "          document.querySelector('#df-fed5fe8c-b68c-404f-bf70-79b8c21bc621 button.colab-df-convert');\n",
              "        buttonEl.style.display =\n",
              "          google.colab.kernel.accessAllowed ? 'block' : 'none';\n",
              "\n",
              "        async function convertToInteractive(key) {\n",
              "          const element = document.querySelector('#df-fed5fe8c-b68c-404f-bf70-79b8c21bc621');\n",
              "          const dataTable =\n",
              "            await google.colab.kernel.invokeFunction('convertToInteractive',\n",
              "                                                     [key], {});\n",
              "          if (!dataTable) return;\n",
              "\n",
              "          const docLinkHtml = 'Like what you see? Visit the ' +\n",
              "            '<a target=\"_blank\" href=https://colab.research.google.com/notebooks/data_table.ipynb>data table notebook</a>'\n",
              "            + ' to learn more about interactive tables.';\n",
              "          element.innerHTML = '';\n",
              "          dataTable['output_type'] = 'display_data';\n",
              "          await google.colab.output.renderOutput(dataTable, element);\n",
              "          const docLink = document.createElement('div');\n",
              "          docLink.innerHTML = docLinkHtml;\n",
              "          element.appendChild(docLink);\n",
              "        }\n",
              "      </script>\n",
              "    </div>\n",
              "  </div>\n",
              "  "
            ]
          },
          "metadata": {},
          "execution_count": 12
        }
      ]
    },
    {
      "cell_type": "markdown",
      "source": [
        "#### **그래프 시각화**"
      ],
      "metadata": {
        "id": "4Ef6kxh6H1hs"
      }
    },
    {
      "cell_type": "code",
      "source": [
        "X_every = np.arange(250, 600, 0.1).reshape(-1,1)\n",
        "plt.scatter(X, y, label='trainset', c='k')\n",
        "plt.plot(X, lr1.predict(X))\n",
        "plt.plot(X_every, lr2.predict(quad.fit_transform(X_every)), label='quadratic')\n",
        "plt.legend()"
      ],
      "metadata": {
        "id": "p4WIs-nQ1VKG",
        "colab": {
          "base_uri": "https://localhost:8080/",
          "height": 283
        },
        "outputId": "7a68169c-200b-4ded-e36f-6b514ccc02bc"
      },
      "execution_count": 13,
      "outputs": [
        {
          "output_type": "execute_result",
          "data": {
            "text/plain": [
              "<matplotlib.legend.Legend at 0x7f521a0aaa90>"
            ]
          },
          "metadata": {},
          "execution_count": 13
        },
        {
          "output_type": "display_data",
          "data": {
            "text/plain": [
              "<Figure size 432x288 with 1 Axes>"
            ],
            "image/png": "[encoded data removed]"
          },
          "metadata": {
            "needs_background": "light"
          }
        }
      ]
    },
    {
      "cell_type": "markdown",
      "source": [
        "### **| 주택 데이터를 이용한 비선형 회귀 분석**\n"
      ],
      "metadata": {
        "id": "B4BejB3gxzqR"
      }
    },
    {
      "cell_type": "markdown",
      "source": [
        "\n",
        "#### **주택 데이터셋**\n",
        "\n",
        "[https://archive.ics.uci.edu/ml/datasets/Housing](https://archive.ics.uci.edu/ml/datasets/Housing)\n",
        "\n",
        "    \n",
        "<pre>\n",
        "01. CRIM     도시의 인당 범죄율\n",
        "02. ZN       2만 5,0000평방 피트가 넘는 주택 비율\n",
        "03. INDUS    도시에서 소매 업종이 아닌 지역 비율\n",
        "04. CHAS     찰스 강 인접 여부(강 주변=1, 그외=0)\n",
        "05. NOX      일산화질소 농도(10ppm당)\n",
        "06. RM       주택의 평균 방 개수\n",
        "07. AGE      1940년 이전에 지어진 자가 주택 비율\n",
        "08. DIS      다섯 개의 보스턴 고용 센터까지 가중치가 적용된 거리\n",
        "09. RAD      방사형으로 뻗은 고속도로까지 접근성 지수\n",
        "10. TAX      10만 달러당 재산세율\n",
        "11. PTRATIO  도시의 학생-교사 비율\n",
        "12. B        1000(Bk - 0.63)^2 도시의 아프리카계 미국인 비율\n",
        "13. LSTAT    저소득층 비율\n",
        "14. MEDV     자가 주택의 중간가격 (단위 $1000s)\n",
        "</pre>\n",
        "\n"
      ],
      "metadata": {
        "id": "SwHpIs02xtKM"
      }
    },
    {
      "cell_type": "markdown",
      "source": [
        "* 데이터 불러오기\n"
      ],
      "metadata": {
        "id": "an_F7hczTA6u"
      }
    },
    {
      "cell_type": "code",
      "source": [
        "X_train, X_test, y_train, y_test = housing_loader(['LSTAT']) # 속성 선택\n",
        "X_train.shape, X_test.shape, y_train.shape, y_test.shape"
      ],
      "metadata": {
        "id": "hyZDJJVdJ9--",
        "colab": {
          "base_uri": "https://localhost:8080/"
        },
        "outputId": "dc709532-5c0c-49e3-bb8c-8b2694894664"
      },
      "execution_count": 14,
      "outputs": [
        {
          "output_type": "stream",
          "name": "stdout",
          "text": [
            "(506, 14)\n"
          ]
        },
        {
          "output_type": "execute_result",
          "data": {
            "text/plain": [
              "((404, 1), (102, 1), (404,), (102,))"
            ]
          },
          "metadata": {},
          "execution_count": 14
        }
      ]
    },
    {
      "cell_type": "markdown",
      "source": [
        "* 시각화"
      ],
      "metadata": {
        "id": "Edjyi6Ba-t5F"
      }
    },
    {
      "cell_type": "code",
      "source": [
        "def draw_data():\n",
        "  plt.scatter(X_train, y_train, label='Trainset', color='lightgray')\n",
        "  plt.scatter(X_test, y_test, label='Testset', color='lightgreen')\n",
        "  plt.xlabel('% lower status of the population [LSTAT]')\n",
        "  plt.ylabel('Price in $1000s [MEDV]')\n",
        "  plt.legend()\n",
        "draw_data()"
      ],
      "metadata": {
        "colab": {
          "base_uri": "https://localhost:8080/",
          "height": 279
        },
        "id": "VTkitF4MNXWp",
        "outputId": "5bedbdce-53c7-4051-f5ee-e9d6242eaf82"
      },
      "execution_count": null,
      "outputs": [
        {
          "output_type": "display_data",
          "data": {
            "text/plain": [
              "<Figure size 432x288 with 1 Axes>"
            ],
            "image/png": "[encoded data removed]"
          },
          "metadata": {
            "needs_background": "light"
          }
        }
      ]
    },
    {
      "cell_type": "markdown",
      "source": [
        "#### **선형 모델 학습**"
      ],
      "metadata": {
        "id": "-lSaVrzH-0fd"
      }
    },
    {
      "cell_type": "code",
      "source": [
        "lr1 = LinearRegression()\n",
        "lr1.fit(X_train, y_train)"
      ],
      "metadata": {
        "id": "TgFDjdHP-yBz",
        "colab": {
          "base_uri": "https://localhost:8080/"
        },
        "outputId": "960487b1-9aee-4410-a93a-c01e7c8cd858"
      },
      "execution_count": null,
      "outputs": [
        {
          "output_type": "execute_result",
          "data": {
            "text/plain": [
              "LinearRegression()"
            ]
          },
          "metadata": {},
          "execution_count": 25
        }
      ]
    },
    {
      "cell_type": "markdown",
      "source": [
        "#### **이차 다항 모델 학습**"
      ],
      "metadata": {
        "id": "1RTFnTJE-29P"
      }
    },
    {
      "cell_type": "code",
      "source": [
        "lr2 = LinearRegression()\n",
        "quad = PolynomialFeatures(degree = 2)\n",
        "X_quad = quad.fit_transform(X_train)\n",
        "lr2.fit(X_quad, y_train)"
      ],
      "metadata": {
        "id": "XGz31zmn-yD9",
        "colab": {
          "base_uri": "https://localhost:8080/"
        },
        "outputId": "433de51a-e0f9-41a0-d9f7-03df1e15e00a"
      },
      "execution_count": null,
      "outputs": [
        {
          "output_type": "execute_result",
          "data": {
            "text/plain": [
              "LinearRegression()"
            ]
          },
          "metadata": {},
          "execution_count": 26
        }
      ]
    },
    {
      "cell_type": "markdown",
      "source": [
        "#### **삼차 다항 모델 학습**"
      ],
      "metadata": {
        "id": "sUOLczvE-9vM"
      }
    },
    {
      "cell_type": "code",
      "source": [
        "lr3 = LinearRegression()\n",
        "cubic = PolynomialFeatures(degree = 3)\n",
        "X_cubic = cubic.fit_transform(X_train)\n",
        "lr3.fit(X_cubic, y_train)"
      ],
      "metadata": {
        "id": "69sIWqRt-yF8",
        "colab": {
          "base_uri": "https://localhost:8080/"
        },
        "outputId": "ebfa9b03-ef77-4591-b64d-ea306042ae26"
      },
      "execution_count": null,
      "outputs": [
        {
          "output_type": "execute_result",
          "data": {
            "text/plain": [
              "LinearRegression()"
            ]
          },
          "metadata": {},
          "execution_count": 27
        }
      ]
    },
    {
      "cell_type": "code",
      "source": [
        ""
      ],
      "metadata": {
        "id": "-XHGIeLM6J_4"
      },
      "execution_count": null,
      "outputs": []
    },
    {
      "cell_type": "markdown",
      "source": [
        "#### **테스트셋 성능 비교**"
      ],
      "metadata": {
        "id": "V3fvA5AZCci0"
      }
    },
    {
      "cell_type": "code",
      "source": [
        "# 예측\n",
        "y_pred1 = lr1.predict(X_test)\n",
        "y_pred2 = lr2.predict(quad.fit_transform(X_test))  # 2차항 변환\n",
        "y_pred3 = lr3.predict(cubic.fit_transform(X_test))  # 3차항 변환\n",
        "\n",
        "# 성능 평가\n",
        "lr1_scores = regression_scores(y_test, y_pred1)\n",
        "lr2_scores = regression_scores(y_test, y_pred2)\n",
        "lr3_scores = regression_scores(y_test, y_pred3)\n",
        "\n",
        "df_scores = pd.DataFrame([lr1_scores,lr2_scores, lr3_scores], index = ['linear', 'quad', 'cubic'])\n",
        "df_scores.style.background_gradient(cmap='Greens_r')"
      ],
      "metadata": {
        "id": "ljOPV5DGRBoR",
        "colab": {
          "base_uri": "https://localhost:8080/",
          "height": 143
        },
        "outputId": "3bc81ee8-4015-4fa4-80c9-ad7190e503bb"
      },
      "execution_count": null,
      "outputs": [
        {
          "output_type": "execute_result",
          "data": {
            "text/plain": [
              "<pandas.io.formats.style.Styler at 0x7ff3eecb86d0>"
            ],
            "text/html": [
              "<style type=\"text/css\">\n",
              "#T_7a9e4_row0_col0, #T_7a9e4_row0_col1, #T_7a9e4_row0_col2, #T_7a9e4_row0_col3, #T_7a9e4_row1_col4, #T_7a9e4_row2_col5 {\n",
              "  background-color: #f7fcf5;\n",
              "  color: #000000;\n",
              "}\n",
              "#T_7a9e4_row0_col4 {\n",
              "  background-color: #329b51;\n",
              "  color: #f1f1f1;\n",
              "}\n",
              "#T_7a9e4_row0_col5, #T_7a9e4_row2_col0, #T_7a9e4_row2_col1, #T_7a9e4_row2_col2, #T_7a9e4_row2_col3, #T_7a9e4_row2_col4 {\n",
              "  background-color: #00441b;\n",
              "  color: #f1f1f1;\n",
              "}\n",
              "#T_7a9e4_row1_col0 {\n",
              "  background-color: #127c39;\n",
              "  color: #f1f1f1;\n",
              "}\n",
              "#T_7a9e4_row1_col1 {\n",
              "  background-color: #16803c;\n",
              "  color: #f1f1f1;\n",
              "}\n",
              "#T_7a9e4_row1_col2 {\n",
              "  background-color: #2d954d;\n",
              "  color: #f1f1f1;\n",
              "}\n",
              "#T_7a9e4_row1_col3 {\n",
              "  background-color: #2e964d;\n",
              "  color: #f1f1f1;\n",
              "}\n",
              "#T_7a9e4_row1_col5 {\n",
              "  background-color: #d6efd0;\n",
              "  color: #000000;\n",
              "}\n",
              "</style>\n",
              "<table id=\"T_7a9e4_\" class=\"dataframe\">\n",
              "  <thead>\n",
              "    <tr>\n",
              "      <th class=\"blank level0\" >&nbsp;</th>\n",
              "      <th class=\"col_heading level0 col0\" >mse</th>\n",
              "      <th class=\"col_heading level0 col1\" >rmse</th>\n",
              "      <th class=\"col_heading level0 col2\" >mae</th>\n",
              "      <th class=\"col_heading level0 col3\" >nmae</th>\n",
              "      <th class=\"col_heading level0 col4\" >mape</th>\n",
              "      <th class=\"col_heading level0 col5\" >r2</th>\n",
              "    </tr>\n",
              "  </thead>\n",
              "  <tbody>\n",
              "    <tr>\n",
              "      <th id=\"T_7a9e4_level0_row0\" class=\"row_heading level0 row0\" >linear</th>\n",
              "      <td id=\"T_7a9e4_row0_col0\" class=\"data row0 col0\" >0.463000</td>\n",
              "      <td id=\"T_7a9e4_row0_col1\" class=\"data row0 col1\" >0.680000</td>\n",
              "      <td id=\"T_7a9e4_row0_col2\" class=\"data row0 col2\" >0.501000</td>\n",
              "      <td id=\"T_7a9e4_row0_col3\" class=\"data row0 col3\" >0.721000</td>\n",
              "      <td id=\"T_7a9e4_row0_col4\" class=\"data row0 col4\" >671.832000</td>\n",
              "      <td id=\"T_7a9e4_row0_col5\" class=\"data row0 col5\" >0.537000</td>\n",
              "    </tr>\n",
              "    <tr>\n",
              "      <th id=\"T_7a9e4_level0_row1\" class=\"row_heading level0 row1\" >quad</th>\n",
              "      <td id=\"T_7a9e4_row1_col0\" class=\"data row1 col0\" >0.343000</td>\n",
              "      <td id=\"T_7a9e4_row1_col1\" class=\"data row1 col1\" >0.586000</td>\n",
              "      <td id=\"T_7a9e4_row1_col2\" class=\"data row1 col2\" >0.445000</td>\n",
              "      <td id=\"T_7a9e4_row1_col3\" class=\"data row1 col3\" >0.640000</td>\n",
              "      <td id=\"T_7a9e4_row1_col4\" class=\"data row1 col4\" >713.233000</td>\n",
              "      <td id=\"T_7a9e4_row1_col5\" class=\"data row1 col5\" >0.657000</td>\n",
              "    </tr>\n",
              "    <tr>\n",
              "      <th id=\"T_7a9e4_level0_row2\" class=\"row_heading level0 row2\" >cubic</th>\n",
              "      <td id=\"T_7a9e4_row2_col0\" class=\"data row2 col0\" >0.315000</td>\n",
              "      <td id=\"T_7a9e4_row2_col1\" class=\"data row2 col1\" >0.562000</td>\n",
              "      <td id=\"T_7a9e4_row2_col2\" class=\"data row2 col2\" >0.422000</td>\n",
              "      <td id=\"T_7a9e4_row2_col3\" class=\"data row2 col3\" >0.606000</td>\n",
              "      <td id=\"T_7a9e4_row2_col4\" class=\"data row2 col4\" >652.893000</td>\n",
              "      <td id=\"T_7a9e4_row2_col5\" class=\"data row2 col5\" >0.685000</td>\n",
              "    </tr>\n",
              "  </tbody>\n",
              "</table>\n"
            ]
          },
          "metadata": {},
          "execution_count": 33
        }
      ]
    },
    {
      "cell_type": "markdown",
      "source": [
        "#### **그래프 시각화**"
      ],
      "metadata": {
        "id": "aNIjJ9smCf9F"
      }
    },
    {
      "cell_type": "code",
      "source": [
        "draw_data()\n",
        "X_every = np.arange(-2,4,0.1).reshape(-1,1)\n",
        "plt.plot(X_every, lr1.predict(X_every), label = 'Linear', linewidth =3, linestyle =':') # 1차항\n",
        "plt.plot(X_every, lr2.predict(quad.transform(X_every)), label = 'Quadratic', linewidth =3) # 2차항\n",
        "plt.plot(X_every, lr3.predict(cubic.transform(X_every)), label = 'Cubic', linewidth =3, linestyle ='--') # 3차항\n",
        "plt.legend()\n",
        "plt.show"
      ],
      "metadata": {
        "id": "irw_FWuHRPra",
        "colab": {
          "base_uri": "https://localhost:8080/",
          "height": 297
        },
        "outputId": "f0e7c038-9543-4109-9658-841d86bb8544"
      },
      "execution_count": null,
      "outputs": [
        {
          "output_type": "execute_result",
          "data": {
            "text/plain": [
              "<function matplotlib.pyplot.show>"
            ]
          },
          "metadata": {},
          "execution_count": 44
        },
        {
          "output_type": "display_data",
          "data": {
            "text/plain": [
              "<Figure size 432x288 with 1 Axes>"
            ],
            "image/png": "[encoded data removed]"
          },
          "metadata": {
            "needs_background": "light"
          }
        }
      ]
    },
    {
      "cell_type": "markdown",
      "source": [
        "## **랜덤 포레스트를 사용하여 비선형 관계 다루기**\n",
        "---\n",
        "\n",
        "![](https://img1.daumcdn.net/thumb/R1280x0/?scode=mtistory2&fname=https%3A%2F%2Fblog.kakaocdn.net%2Fdn%2F96F6N%2FbtqwVglgV2S%2FYTCytd7Z2egbnbJM29MJv1%2Fimg.png)\n",
        "\n",
        "*출처:  ratsgo's blog"
      ],
      "metadata": {
        "id": "o_Z_UJB-bM6R"
      }
    },
    {
      "cell_type": "markdown",
      "source": [
        "### **| 결정트리 회귀**\n",
        "* Decision Tree"
      ],
      "metadata": {
        "id": "JmqniPTaf0sE"
      }
    },
    {
      "cell_type": "markdown",
      "source": [
        "#### **모델 학습**"
      ],
      "metadata": {
        "id": "U9AXb-Z5EV9C"
      }
    },
    {
      "cell_type": "code",
      "source": [
        "from sklearn.tree import DecisionTreeRegressor\n",
        "\n",
        "tree = DecisionTreeRegressor(random_state = 1, max_depth = 3)\n",
        "tree.fit(X_train, y_train)"
      ],
      "metadata": {
        "id": "jBKTe-_bgNDi",
        "colab": {
          "base_uri": "https://localhost:8080/"
        },
        "outputId": "9c0cc13d-116f-4396-afbe-e203a2575cb6"
      },
      "execution_count": null,
      "outputs": [
        {
          "output_type": "execute_result",
          "data": {
            "text/plain": [
              "DecisionTreeRegressor(max_depth=3, random_state=1)"
            ]
          },
          "metadata": {},
          "execution_count": 46
        }
      ]
    },
    {
      "cell_type": "markdown",
      "source": [
        "#### **테스트셋 성능비교**"
      ],
      "metadata": {
        "id": "p0j-4TSyEY0a"
      }
    },
    {
      "cell_type": "code",
      "source": [
        "y_pred = tree.predict(X_test)\n",
        "score = regression_scores(y_test, y_pred)\n",
        "df_scores.loc['tree'] = score\n",
        "df_scores\n",
        "df_scores.style.background_gradient(cmap='Greens_r')"
      ],
      "metadata": {
        "id": "22aKQ3OJ9v8n",
        "colab": {
          "base_uri": "https://localhost:8080/",
          "height": 175
        },
        "outputId": "e4fb1127-97aa-431c-941d-bc81e44482ab"
      },
      "execution_count": null,
      "outputs": [
        {
          "output_type": "execute_result",
          "data": {
            "text/plain": [
              "<pandas.io.formats.style.Styler at 0x7ff3ebd1bad0>"
            ],
            "text/html": [
              "<style type=\"text/css\">\n",
              "#T_e6390_row0_col0, #T_e6390_row0_col1, #T_e6390_row0_col2, #T_e6390_row0_col3, #T_e6390_row1_col4, #T_e6390_row3_col5 {\n",
              "  background-color: #f7fcf5;\n",
              "  color: #000000;\n",
              "}\n",
              "#T_e6390_row0_col4 {\n",
              "  background-color: #b5e1ae;\n",
              "  color: #000000;\n",
              "}\n",
              "#T_e6390_row0_col5, #T_e6390_row3_col0, #T_e6390_row3_col1, #T_e6390_row3_col2, #T_e6390_row3_col3, #T_e6390_row3_col4 {\n",
              "  background-color: #00441b;\n",
              "  color: #f1f1f1;\n",
              "}\n",
              "#T_e6390_row1_col0 {\n",
              "  background-color: #1e8741;\n",
              "  color: #f1f1f1;\n",
              "}\n",
              "#T_e6390_row1_col1 {\n",
              "  background-color: #248c46;\n",
              "  color: #f1f1f1;\n",
              "}\n",
              "#T_e6390_row1_col2 {\n",
              "  background-color: #5ab769;\n",
              "  color: #f1f1f1;\n",
              "}\n",
              "#T_e6390_row1_col3 {\n",
              "  background-color: #58b668;\n",
              "  color: #f1f1f1;\n",
              "}\n",
              "#T_e6390_row1_col5 {\n",
              "  background-color: #cbebc5;\n",
              "  color: #000000;\n",
              "}\n",
              "#T_e6390_row2_col0 {\n",
              "  background-color: #005522;\n",
              "  color: #f1f1f1;\n",
              "}\n",
              "#T_e6390_row2_col1 {\n",
              "  background-color: #005924;\n",
              "  color: #f1f1f1;\n",
              "}\n",
              "#T_e6390_row2_col2 {\n",
              "  background-color: #157f3b;\n",
              "  color: #f1f1f1;\n",
              "}\n",
              "#T_e6390_row2_col3 {\n",
              "  background-color: #147e3a;\n",
              "  color: #f1f1f1;\n",
              "}\n",
              "#T_e6390_row2_col4 {\n",
              "  background-color: #84cc83;\n",
              "  color: #000000;\n",
              "}\n",
              "#T_e6390_row2_col5 {\n",
              "  background-color: #f0f9ec;\n",
              "  color: #000000;\n",
              "}\n",
              "</style>\n",
              "<table id=\"T_e6390_\" class=\"dataframe\">\n",
              "  <thead>\n",
              "    <tr>\n",
              "      <th class=\"blank level0\" >&nbsp;</th>\n",
              "      <th class=\"col_heading level0 col0\" >mse</th>\n",
              "      <th class=\"col_heading level0 col1\" >rmse</th>\n",
              "      <th class=\"col_heading level0 col2\" >mae</th>\n",
              "      <th class=\"col_heading level0 col3\" >nmae</th>\n",
              "      <th class=\"col_heading level0 col4\" >mape</th>\n",
              "      <th class=\"col_heading level0 col5\" >r2</th>\n",
              "    </tr>\n",
              "  </thead>\n",
              "  <tbody>\n",
              "    <tr>\n",
              "      <th id=\"T_e6390_level0_row0\" class=\"row_heading level0 row0\" >linear</th>\n",
              "      <td id=\"T_e6390_row0_col0\" class=\"data row0 col0\" >0.463000</td>\n",
              "      <td id=\"T_e6390_row0_col1\" class=\"data row0 col1\" >0.680000</td>\n",
              "      <td id=\"T_e6390_row0_col2\" class=\"data row0 col2\" >0.501000</td>\n",
              "      <td id=\"T_e6390_row0_col3\" class=\"data row0 col3\" >0.721000</td>\n",
              "      <td id=\"T_e6390_row0_col4\" class=\"data row0 col4\" >671.832000</td>\n",
              "      <td id=\"T_e6390_row0_col5\" class=\"data row0 col5\" >0.537000</td>\n",
              "    </tr>\n",
              "    <tr>\n",
              "      <th id=\"T_e6390_level0_row1\" class=\"row_heading level0 row1\" >quad</th>\n",
              "      <td id=\"T_e6390_row1_col0\" class=\"data row1 col0\" >0.343000</td>\n",
              "      <td id=\"T_e6390_row1_col1\" class=\"data row1 col1\" >0.586000</td>\n",
              "      <td id=\"T_e6390_row1_col2\" class=\"data row1 col2\" >0.445000</td>\n",
              "      <td id=\"T_e6390_row1_col3\" class=\"data row1 col3\" >0.640000</td>\n",
              "      <td id=\"T_e6390_row1_col4\" class=\"data row1 col4\" >713.233000</td>\n",
              "      <td id=\"T_e6390_row1_col5\" class=\"data row1 col5\" >0.657000</td>\n",
              "    </tr>\n",
              "    <tr>\n",
              "      <th id=\"T_e6390_level0_row2\" class=\"row_heading level0 row2\" >cubic</th>\n",
              "      <td id=\"T_e6390_row2_col0\" class=\"data row2 col0\" >0.315000</td>\n",
              "      <td id=\"T_e6390_row2_col1\" class=\"data row2 col1\" >0.562000</td>\n",
              "      <td id=\"T_e6390_row2_col2\" class=\"data row2 col2\" >0.422000</td>\n",
              "      <td id=\"T_e6390_row2_col3\" class=\"data row2 col3\" >0.606000</td>\n",
              "      <td id=\"T_e6390_row2_col4\" class=\"data row2 col4\" >652.893000</td>\n",
              "      <td id=\"T_e6390_row2_col5\" class=\"data row2 col5\" >0.685000</td>\n",
              "    </tr>\n",
              "    <tr>\n",
              "      <th id=\"T_e6390_level0_row3\" class=\"row_heading level0 row3\" >tree</th>\n",
              "      <td id=\"T_e6390_row3_col0\" class=\"data row3 col0\" >0.307000</td>\n",
              "      <td id=\"T_e6390_row3_col1\" class=\"data row3 col1\" >0.554000</td>\n",
              "      <td id=\"T_e6390_row3_col2\" class=\"data row3 col2\" >0.402000</td>\n",
              "      <td id=\"T_e6390_row3_col3\" class=\"data row3 col3\" >0.578000</td>\n",
              "      <td id=\"T_e6390_row3_col4\" class=\"data row3 col4\" >580.727000</td>\n",
              "      <td id=\"T_e6390_row3_col5\" class=\"data row3 col5\" >0.693000</td>\n",
              "    </tr>\n",
              "  </tbody>\n",
              "</table>\n"
            ]
          },
          "metadata": {},
          "execution_count": 50
        }
      ]
    },
    {
      "cell_type": "markdown",
      "source": [
        "#### **그래프 시각화**"
      ],
      "metadata": {
        "id": "J1EfnMS-Eb0T"
      }
    },
    {
      "cell_type": "code",
      "source": [
        "draw_data()\n",
        "plt.plot(X_every, tree.predict(X_every))\n",
        "plt.show()"
      ],
      "metadata": {
        "id": "wefFK6Ivatq5",
        "colab": {
          "base_uri": "https://localhost:8080/",
          "height": 279
        },
        "outputId": "664b3631-6b20-40bf-d3f6-7987936afa72"
      },
      "execution_count": null,
      "outputs": [
        {
          "output_type": "display_data",
          "data": {
            "text/plain": [
              "<Figure size 432x288 with 1 Axes>"
            ],
            "image/png": "[encoded data removed]"
          },
          "metadata": {
            "needs_background": "light"
          }
        }
      ]
    },
    {
      "cell_type": "markdown",
      "source": [
        "### **| 랜덤 포레스트 회귀 (Random Forest Regressor)**"
      ],
      "metadata": {
        "id": "l1XVbkXFD7Rm"
      }
    },
    {
      "cell_type": "markdown",
      "source": [
        "#### **모델 학습**"
      ],
      "metadata": {
        "id": "vPA4opI3EAza"
      }
    },
    {
      "cell_type": "code",
      "source": [
        "from sklearn.ensemble import RandomForestRegressor\n",
        "\n",
        "forest = RandomForestRegressor(random_state = 1)\n",
        "forest.fit(X_train, y_train)"
      ],
      "metadata": {
        "id": "M_wdfRw0bQhp",
        "colab": {
          "base_uri": "https://localhost:8080/"
        },
        "outputId": "604a23b6-6bdc-4341-a769-67357a8609c8"
      },
      "execution_count": null,
      "outputs": [
        {
          "output_type": "execute_result",
          "data": {
            "text/plain": [
              "RandomForestRegressor(random_state=1)"
            ]
          },
          "metadata": {},
          "execution_count": 53
        }
      ]
    },
    {
      "cell_type": "markdown",
      "source": [
        "#### **테스트셋 성능 비교**"
      ],
      "metadata": {
        "id": "uLPJ4OV6EFyT"
      }
    },
    {
      "cell_type": "code",
      "source": [
        "y_pred = forest.predict(X_test)\n",
        "score = regression_scores(y_test, y_pred)\n",
        "df_scores.loc['forest'] = score\n",
        "df_scores\n",
        "df_scores.style.background_gradient(cmap='Greens_r')"
      ],
      "metadata": {
        "id": "thihkhhg91d0",
        "colab": {
          "base_uri": "https://localhost:8080/",
          "height": 206
        },
        "outputId": "0a7dc655-d8ab-4918-adb6-fc4c9267c426"
      },
      "execution_count": null,
      "outputs": [
        {
          "output_type": "execute_result",
          "data": {
            "text/plain": [
              "<pandas.io.formats.style.Styler at 0x7ff3ebd8c210>"
            ],
            "text/html": [
              "<style type=\"text/css\">\n",
              "#T_fa0b5_row0_col0, #T_fa0b5_row0_col1, #T_fa0b5_row0_col2, #T_fa0b5_row0_col3, #T_fa0b5_row1_col4, #T_fa0b5_row3_col5 {\n",
              "  background-color: #f7fcf5;\n",
              "  color: #000000;\n",
              "}\n",
              "#T_fa0b5_row0_col4 {\n",
              "  background-color: #d9f0d3;\n",
              "  color: #000000;\n",
              "}\n",
              "#T_fa0b5_row0_col5, #T_fa0b5_row3_col0, #T_fa0b5_row3_col1, #T_fa0b5_row3_col2, #T_fa0b5_row3_col3, #T_fa0b5_row4_col4 {\n",
              "  background-color: #00441b;\n",
              "  color: #f1f1f1;\n",
              "}\n",
              "#T_fa0b5_row1_col0 {\n",
              "  background-color: #1e8741;\n",
              "  color: #f1f1f1;\n",
              "}\n",
              "#T_fa0b5_row1_col1 {\n",
              "  background-color: #248c46;\n",
              "  color: #f1f1f1;\n",
              "}\n",
              "#T_fa0b5_row1_col2, #T_fa0b5_row3_col4 {\n",
              "  background-color: #5ab769;\n",
              "  color: #f1f1f1;\n",
              "}\n",
              "#T_fa0b5_row1_col3 {\n",
              "  background-color: #58b668;\n",
              "  color: #f1f1f1;\n",
              "}\n",
              "#T_fa0b5_row1_col5 {\n",
              "  background-color: #cbebc5;\n",
              "  color: #000000;\n",
              "}\n",
              "#T_fa0b5_row2_col0 {\n",
              "  background-color: #005522;\n",
              "  color: #f1f1f1;\n",
              "}\n",
              "#T_fa0b5_row2_col1 {\n",
              "  background-color: #005924;\n",
              "  color: #f1f1f1;\n",
              "}\n",
              "#T_fa0b5_row2_col2 {\n",
              "  background-color: #157f3b;\n",
              "  color: #f1f1f1;\n",
              "}\n",
              "#T_fa0b5_row2_col3 {\n",
              "  background-color: #147e3a;\n",
              "  color: #f1f1f1;\n",
              "}\n",
              "#T_fa0b5_row2_col4 {\n",
              "  background-color: #c6e8bf;\n",
              "  color: #000000;\n",
              "}\n",
              "#T_fa0b5_row2_col5 {\n",
              "  background-color: #f0f9ec;\n",
              "  color: #000000;\n",
              "}\n",
              "#T_fa0b5_row4_col0 {\n",
              "  background-color: #def2d9;\n",
              "  color: #000000;\n",
              "}\n",
              "#T_fa0b5_row4_col1 {\n",
              "  background-color: #e3f4de;\n",
              "  color: #000000;\n",
              "}\n",
              "#T_fa0b5_row4_col2, #T_fa0b5_row4_col3 {\n",
              "  background-color: #c7e9c0;\n",
              "  color: #000000;\n",
              "}\n",
              "#T_fa0b5_row4_col5 {\n",
              "  background-color: #087432;\n",
              "  color: #f1f1f1;\n",
              "}\n",
              "</style>\n",
              "<table id=\"T_fa0b5_\" class=\"dataframe\">\n",
              "  <thead>\n",
              "    <tr>\n",
              "      <th class=\"blank level0\" >&nbsp;</th>\n",
              "      <th class=\"col_heading level0 col0\" >mse</th>\n",
              "      <th class=\"col_heading level0 col1\" >rmse</th>\n",
              "      <th class=\"col_heading level0 col2\" >mae</th>\n",
              "      <th class=\"col_heading level0 col3\" >nmae</th>\n",
              "      <th class=\"col_heading level0 col4\" >mape</th>\n",
              "      <th class=\"col_heading level0 col5\" >r2</th>\n",
              "    </tr>\n",
              "  </thead>\n",
              "  <tbody>\n",
              "    <tr>\n",
              "      <th id=\"T_fa0b5_level0_row0\" class=\"row_heading level0 row0\" >linear</th>\n",
              "      <td id=\"T_fa0b5_row0_col0\" class=\"data row0 col0\" >0.463000</td>\n",
              "      <td id=\"T_fa0b5_row0_col1\" class=\"data row0 col1\" >0.680000</td>\n",
              "      <td id=\"T_fa0b5_row0_col2\" class=\"data row0 col2\" >0.501000</td>\n",
              "      <td id=\"T_fa0b5_row0_col3\" class=\"data row0 col3\" >0.721000</td>\n",
              "      <td id=\"T_fa0b5_row0_col4\" class=\"data row0 col4\" >671.832000</td>\n",
              "      <td id=\"T_fa0b5_row0_col5\" class=\"data row0 col5\" >0.537000</td>\n",
              "    </tr>\n",
              "    <tr>\n",
              "      <th id=\"T_fa0b5_level0_row1\" class=\"row_heading level0 row1\" >quad</th>\n",
              "      <td id=\"T_fa0b5_row1_col0\" class=\"data row1 col0\" >0.343000</td>\n",
              "      <td id=\"T_fa0b5_row1_col1\" class=\"data row1 col1\" >0.586000</td>\n",
              "      <td id=\"T_fa0b5_row1_col2\" class=\"data row1 col2\" >0.445000</td>\n",
              "      <td id=\"T_fa0b5_row1_col3\" class=\"data row1 col3\" >0.640000</td>\n",
              "      <td id=\"T_fa0b5_row1_col4\" class=\"data row1 col4\" >713.233000</td>\n",
              "      <td id=\"T_fa0b5_row1_col5\" class=\"data row1 col5\" >0.657000</td>\n",
              "    </tr>\n",
              "    <tr>\n",
              "      <th id=\"T_fa0b5_level0_row2\" class=\"row_heading level0 row2\" >cubic</th>\n",
              "      <td id=\"T_fa0b5_row2_col0\" class=\"data row2 col0\" >0.315000</td>\n",
              "      <td id=\"T_fa0b5_row2_col1\" class=\"data row2 col1\" >0.562000</td>\n",
              "      <td id=\"T_fa0b5_row2_col2\" class=\"data row2 col2\" >0.422000</td>\n",
              "      <td id=\"T_fa0b5_row2_col3\" class=\"data row2 col3\" >0.606000</td>\n",
              "      <td id=\"T_fa0b5_row2_col4\" class=\"data row2 col4\" >652.893000</td>\n",
              "      <td id=\"T_fa0b5_row2_col5\" class=\"data row2 col5\" >0.685000</td>\n",
              "    </tr>\n",
              "    <tr>\n",
              "      <th id=\"T_fa0b5_level0_row3\" class=\"row_heading level0 row3\" >tree</th>\n",
              "      <td id=\"T_fa0b5_row3_col0\" class=\"data row3 col0\" >0.307000</td>\n",
              "      <td id=\"T_fa0b5_row3_col1\" class=\"data row3 col1\" >0.554000</td>\n",
              "      <td id=\"T_fa0b5_row3_col2\" class=\"data row3 col2\" >0.402000</td>\n",
              "      <td id=\"T_fa0b5_row3_col3\" class=\"data row3 col3\" >0.578000</td>\n",
              "      <td id=\"T_fa0b5_row3_col4\" class=\"data row3 col4\" >580.727000</td>\n",
              "      <td id=\"T_fa0b5_row3_col5\" class=\"data row3 col5\" >0.693000</td>\n",
              "    </tr>\n",
              "    <tr>\n",
              "      <th id=\"T_fa0b5_level0_row4\" class=\"row_heading level0 row4\" >forest</th>\n",
              "      <td id=\"T_fa0b5_row4_col0\" class=\"data row4 col0\" >0.439000</td>\n",
              "      <td id=\"T_fa0b5_row4_col1\" class=\"data row4 col1\" >0.663000</td>\n",
              "      <td id=\"T_fa0b5_row4_col2\" class=\"data row4 col2\" >0.476000</td>\n",
              "      <td id=\"T_fa0b5_row4_col3\" class=\"data row4 col3\" >0.685000</td>\n",
              "      <td id=\"T_fa0b5_row4_col4\" class=\"data row4 col4\" >478.131000</td>\n",
              "      <td id=\"T_fa0b5_row4_col5\" class=\"data row4 col5\" >0.561000</td>\n",
              "    </tr>\n",
              "  </tbody>\n",
              "</table>\n"
            ]
          },
          "metadata": {},
          "execution_count": 58
        }
      ]
    },
    {
      "cell_type": "markdown",
      "source": [
        "#### **그래프 시각화**"
      ],
      "metadata": {
        "id": "9yj-SJ85ESGc"
      }
    },
    {
      "cell_type": "code",
      "source": [
        "draw_data()\n",
        "plt.plot(X_every, forest.predict(X_every))\n",
        "plt.show()"
      ],
      "metadata": {
        "id": "Zipzp2MBf400",
        "colab": {
          "base_uri": "https://localhost:8080/",
          "height": 279
        },
        "outputId": "97b5642e-c7f0-458e-dbdf-154eef2fa9f3"
      },
      "execution_count": null,
      "outputs": [
        {
          "output_type": "display_data",
          "data": {
            "text/plain": [
              "<Figure size 432x288 with 1 Axes>"
            ],
            "image/png": "[encoded data removed]"
          },
          "metadata": {
            "needs_background": "light"
          }
        }
      ]
    },
    {
      "cell_type": "markdown",
      "source": [
        "### **| 엑스트라 트리 (Extra Tree Regressor)**"
      ],
      "metadata": {
        "id": "J6xmuPP6LZjz"
      }
    },
    {
      "cell_type": "markdown",
      "source": [
        "#### **모델 학습**"
      ],
      "metadata": {
        "id": "hC2KVu-XLZj5"
      }
    },
    {
      "cell_type": "code",
      "source": [
        "from sklearn.ensemble import ExtraTreesRegressor\n",
        "\n",
        "et = ExtraTreesRegressor(random_state = 1)\n",
        "et.fit(X_train, y_train)"
      ],
      "metadata": {
        "id": "w63LEOBVLZj5",
        "colab": {
          "base_uri": "https://localhost:8080/"
        },
        "outputId": "34a59824-e170-4054-fc0e-7dc644f26e66"
      },
      "execution_count": null,
      "outputs": [
        {
          "output_type": "execute_result",
          "data": {
            "text/plain": [
              "ExtraTreesRegressor(random_state=1)"
            ]
          },
          "metadata": {},
          "execution_count": 54
        }
      ]
    },
    {
      "cell_type": "markdown",
      "source": [
        "#### **테스트셋 성능 비교**"
      ],
      "metadata": {
        "id": "exSV_oihLZj5"
      }
    },
    {
      "cell_type": "code",
      "source": [
        "y_pred = et.predict(X_test)\n",
        "score = regression_scores(y_test, y_pred)\n",
        "df_scores.loc['et'] = score\n",
        "df_scores\n",
        "df_scores.style.background_gradient(cmap='Greens_r')"
      ],
      "metadata": {
        "id": "iF7cDoxQLZj5",
        "colab": {
          "base_uri": "https://localhost:8080/",
          "height": 238
        },
        "outputId": "8e9db71a-b0dc-414b-d475-f6338eb48db7"
      },
      "execution_count": null,
      "outputs": [
        {
          "output_type": "execute_result",
          "data": {
            "text/plain": [
              "<pandas.io.formats.style.Styler at 0x7ff3eb8b2190>"
            ],
            "text/html": [
              "<style type=\"text/css\">\n",
              "#T_fdea5_row0_col0, #T_fdea5_row0_col1, #T_fdea5_row0_col2, #T_fdea5_row0_col3, #T_fdea5_row1_col4, #T_fdea5_row3_col5 {\n",
              "  background-color: #f7fcf5;\n",
              "  color: #000000;\n",
              "}\n",
              "#T_fdea5_row0_col4 {\n",
              "  background-color: #e2f4dd;\n",
              "  color: #000000;\n",
              "}\n",
              "#T_fdea5_row0_col5, #T_fdea5_row3_col0, #T_fdea5_row3_col1, #T_fdea5_row3_col2, #T_fdea5_row3_col3, #T_fdea5_row5_col4 {\n",
              "  background-color: #00441b;\n",
              "  color: #f1f1f1;\n",
              "}\n",
              "#T_fdea5_row1_col0 {\n",
              "  background-color: #1e8741;\n",
              "  color: #f1f1f1;\n",
              "}\n",
              "#T_fdea5_row1_col1 {\n",
              "  background-color: #248c46;\n",
              "  color: #f1f1f1;\n",
              "}\n",
              "#T_fdea5_row1_col2 {\n",
              "  background-color: #5ab769;\n",
              "  color: #f1f1f1;\n",
              "}\n",
              "#T_fdea5_row1_col3 {\n",
              "  background-color: #58b668;\n",
              "  color: #f1f1f1;\n",
              "}\n",
              "#T_fdea5_row1_col5 {\n",
              "  background-color: #cbebc5;\n",
              "  color: #000000;\n",
              "}\n",
              "#T_fdea5_row2_col0 {\n",
              "  background-color: #005522;\n",
              "  color: #f1f1f1;\n",
              "}\n",
              "#T_fdea5_row2_col1 {\n",
              "  background-color: #005924;\n",
              "  color: #f1f1f1;\n",
              "}\n",
              "#T_fdea5_row2_col2 {\n",
              "  background-color: #157f3b;\n",
              "  color: #f1f1f1;\n",
              "}\n",
              "#T_fdea5_row2_col3 {\n",
              "  background-color: #147e3a;\n",
              "  color: #f1f1f1;\n",
              "}\n",
              "#T_fdea5_row2_col4 {\n",
              "  background-color: #d2edcc;\n",
              "  color: #000000;\n",
              "}\n",
              "#T_fdea5_row2_col5 {\n",
              "  background-color: #f0f9ec;\n",
              "  color: #000000;\n",
              "}\n",
              "#T_fdea5_row3_col4 {\n",
              "  background-color: #87cd86;\n",
              "  color: #000000;\n",
              "}\n",
              "#T_fdea5_row4_col0 {\n",
              "  background-color: #def2d9;\n",
              "  color: #000000;\n",
              "}\n",
              "#T_fdea5_row4_col1 {\n",
              "  background-color: #e3f4de;\n",
              "  color: #000000;\n",
              "}\n",
              "#T_fdea5_row4_col2, #T_fdea5_row4_col3 {\n",
              "  background-color: #c7e9c0;\n",
              "  color: #000000;\n",
              "}\n",
              "#T_fdea5_row4_col4 {\n",
              "  background-color: #16803c;\n",
              "  color: #f1f1f1;\n",
              "}\n",
              "#T_fdea5_row4_col5 {\n",
              "  background-color: #087432;\n",
              "  color: #f1f1f1;\n",
              "}\n",
              "#T_fdea5_row5_col0 {\n",
              "  background-color: #dcf2d7;\n",
              "  color: #000000;\n",
              "}\n",
              "#T_fdea5_row5_col1 {\n",
              "  background-color: #e1f3dc;\n",
              "  color: #000000;\n",
              "}\n",
              "#T_fdea5_row5_col2, #T_fdea5_row5_col3 {\n",
              "  background-color: #c9eac2;\n",
              "  color: #000000;\n",
              "}\n",
              "#T_fdea5_row5_col5 {\n",
              "  background-color: #0a7633;\n",
              "  color: #f1f1f1;\n",
              "}\n",
              "</style>\n",
              "<table id=\"T_fdea5_\" class=\"dataframe\">\n",
              "  <thead>\n",
              "    <tr>\n",
              "      <th class=\"blank level0\" >&nbsp;</th>\n",
              "      <th class=\"col_heading level0 col0\" >mse</th>\n",
              "      <th class=\"col_heading level0 col1\" >rmse</th>\n",
              "      <th class=\"col_heading level0 col2\" >mae</th>\n",
              "      <th class=\"col_heading level0 col3\" >nmae</th>\n",
              "      <th class=\"col_heading level0 col4\" >mape</th>\n",
              "      <th class=\"col_heading level0 col5\" >r2</th>\n",
              "    </tr>\n",
              "  </thead>\n",
              "  <tbody>\n",
              "    <tr>\n",
              "      <th id=\"T_fdea5_level0_row0\" class=\"row_heading level0 row0\" >linear</th>\n",
              "      <td id=\"T_fdea5_row0_col0\" class=\"data row0 col0\" >0.463000</td>\n",
              "      <td id=\"T_fdea5_row0_col1\" class=\"data row0 col1\" >0.680000</td>\n",
              "      <td id=\"T_fdea5_row0_col2\" class=\"data row0 col2\" >0.501000</td>\n",
              "      <td id=\"T_fdea5_row0_col3\" class=\"data row0 col3\" >0.721000</td>\n",
              "      <td id=\"T_fdea5_row0_col4\" class=\"data row0 col4\" >671.832000</td>\n",
              "      <td id=\"T_fdea5_row0_col5\" class=\"data row0 col5\" >0.537000</td>\n",
              "    </tr>\n",
              "    <tr>\n",
              "      <th id=\"T_fdea5_level0_row1\" class=\"row_heading level0 row1\" >quad</th>\n",
              "      <td id=\"T_fdea5_row1_col0\" class=\"data row1 col0\" >0.343000</td>\n",
              "      <td id=\"T_fdea5_row1_col1\" class=\"data row1 col1\" >0.586000</td>\n",
              "      <td id=\"T_fdea5_row1_col2\" class=\"data row1 col2\" >0.445000</td>\n",
              "      <td id=\"T_fdea5_row1_col3\" class=\"data row1 col3\" >0.640000</td>\n",
              "      <td id=\"T_fdea5_row1_col4\" class=\"data row1 col4\" >713.233000</td>\n",
              "      <td id=\"T_fdea5_row1_col5\" class=\"data row1 col5\" >0.657000</td>\n",
              "    </tr>\n",
              "    <tr>\n",
              "      <th id=\"T_fdea5_level0_row2\" class=\"row_heading level0 row2\" >cubic</th>\n",
              "      <td id=\"T_fdea5_row2_col0\" class=\"data row2 col0\" >0.315000</td>\n",
              "      <td id=\"T_fdea5_row2_col1\" class=\"data row2 col1\" >0.562000</td>\n",
              "      <td id=\"T_fdea5_row2_col2\" class=\"data row2 col2\" >0.422000</td>\n",
              "      <td id=\"T_fdea5_row2_col3\" class=\"data row2 col3\" >0.606000</td>\n",
              "      <td id=\"T_fdea5_row2_col4\" class=\"data row2 col4\" >652.893000</td>\n",
              "      <td id=\"T_fdea5_row2_col5\" class=\"data row2 col5\" >0.685000</td>\n",
              "    </tr>\n",
              "    <tr>\n",
              "      <th id=\"T_fdea5_level0_row3\" class=\"row_heading level0 row3\" >tree</th>\n",
              "      <td id=\"T_fdea5_row3_col0\" class=\"data row3 col0\" >0.307000</td>\n",
              "      <td id=\"T_fdea5_row3_col1\" class=\"data row3 col1\" >0.554000</td>\n",
              "      <td id=\"T_fdea5_row3_col2\" class=\"data row3 col2\" >0.402000</td>\n",
              "      <td id=\"T_fdea5_row3_col3\" class=\"data row3 col3\" >0.578000</td>\n",
              "      <td id=\"T_fdea5_row3_col4\" class=\"data row3 col4\" >580.727000</td>\n",
              "      <td id=\"T_fdea5_row3_col5\" class=\"data row3 col5\" >0.693000</td>\n",
              "    </tr>\n",
              "    <tr>\n",
              "      <th id=\"T_fdea5_level0_row4\" class=\"row_heading level0 row4\" >forest</th>\n",
              "      <td id=\"T_fdea5_row4_col0\" class=\"data row4 col0\" >0.439000</td>\n",
              "      <td id=\"T_fdea5_row4_col1\" class=\"data row4 col1\" >0.663000</td>\n",
              "      <td id=\"T_fdea5_row4_col2\" class=\"data row4 col2\" >0.476000</td>\n",
              "      <td id=\"T_fdea5_row4_col3\" class=\"data row4 col3\" >0.685000</td>\n",
              "      <td id=\"T_fdea5_row4_col4\" class=\"data row4 col4\" >478.131000</td>\n",
              "      <td id=\"T_fdea5_row4_col5\" class=\"data row4 col5\" >0.561000</td>\n",
              "    </tr>\n",
              "    <tr>\n",
              "      <th id=\"T_fdea5_level0_row5\" class=\"row_heading level0 row5\" >et</th>\n",
              "      <td id=\"T_fdea5_row5_col0\" class=\"data row5 col0\" >0.438000</td>\n",
              "      <td id=\"T_fdea5_row5_col1\" class=\"data row5 col1\" >0.662000</td>\n",
              "      <td id=\"T_fdea5_row5_col2\" class=\"data row5 col2\" >0.477000</td>\n",
              "      <td id=\"T_fdea5_row5_col3\" class=\"data row5 col3\" >0.686000</td>\n",
              "      <td id=\"T_fdea5_row5_col4\" class=\"data row5 col4\" >417.761000</td>\n",
              "      <td id=\"T_fdea5_row5_col5\" class=\"data row5 col5\" >0.562000</td>\n",
              "    </tr>\n",
              "  </tbody>\n",
              "</table>\n"
            ]
          },
          "metadata": {},
          "execution_count": 60
        }
      ]
    },
    {
      "cell_type": "markdown",
      "source": [
        "#### **그래프 시각화**"
      ],
      "metadata": {
        "id": "RWMOqMszLZj5"
      }
    },
    {
      "cell_type": "code",
      "source": [
        "draw_data()\n",
        "plt.plot(X_every, et.predict(X_every))\n",
        "plt.show()"
      ],
      "metadata": {
        "id": "SAm2hvuYLZj5",
        "colab": {
          "base_uri": "https://localhost:8080/",
          "height": 279
        },
        "outputId": "9fa64819-6aa2-48f7-a0d9-01f0ed380a0f"
      },
      "execution_count": null,
      "outputs": [
        {
          "output_type": "display_data",
          "data": {
            "text/plain": [
              "<Figure size 432x288 with 1 Axes>"
            ],
            "image/png": "[encoded data removed]"
          },
          "metadata": {
            "needs_background": "light"
          }
        }
      ]
    },
    {
      "cell_type": "markdown",
      "source": [
        "### **| Gradient Boosting Regressor**"
      ],
      "metadata": {
        "id": "k8XiGE3NMED_"
      }
    },
    {
      "cell_type": "markdown",
      "source": [
        "#### **모델 학습**"
      ],
      "metadata": {
        "id": "OuQDDlYoMEEE"
      }
    },
    {
      "cell_type": "code",
      "source": [
        "from sklearn.ensemble import GradientBoostingRegressor\n",
        "gb = GradientBoostingRegressor(random_state = 1)\n",
        "gb.fit(X_train, y_train)"
      ],
      "metadata": {
        "id": "JuqxOkcjMEEF",
        "colab": {
          "base_uri": "https://localhost:8080/"
        },
        "outputId": "4b7bf91c-8f81-4620-9ace-0da9448fc618"
      },
      "execution_count": null,
      "outputs": [
        {
          "output_type": "execute_result",
          "data": {
            "text/plain": [
              "GradientBoostingRegressor(random_state=1)"
            ]
          },
          "metadata": {},
          "execution_count": 55
        }
      ]
    },
    {
      "cell_type": "markdown",
      "source": [
        "#### **테스트셋 성능 비교**"
      ],
      "metadata": {
        "id": "gCjS_nhuMEEF"
      }
    },
    {
      "cell_type": "code",
      "source": [
        "y_pred = gb.predict(X_test)\n",
        "score = regression_scores(y_test, y_pred)\n",
        "df_scores.loc['gb'] = score\n",
        "df_scores\n",
        "df_scores.style.background_gradient(cmap='Greens_r')"
      ],
      "metadata": {
        "id": "m2EaO6yuMEEF",
        "colab": {
          "base_uri": "https://localhost:8080/",
          "height": 269
        },
        "outputId": "e9772dab-c41c-4a24-c170-f81ed6098934"
      },
      "execution_count": null,
      "outputs": [
        {
          "output_type": "execute_result",
          "data": {
            "text/plain": [
              "<pandas.io.formats.style.Styler at 0x7ff3e2a20810>"
            ],
            "text/html": [
              "<style type=\"text/css\">\n",
              "#T_e7722_row0_col0, #T_e7722_row0_col1, #T_e7722_row0_col2, #T_e7722_row0_col3, #T_e7722_row1_col4, #T_e7722_row3_col5 {\n",
              "  background-color: #f7fcf5;\n",
              "  color: #000000;\n",
              "}\n",
              "#T_e7722_row0_col4, #T_e7722_row4_col1 {\n",
              "  background-color: #e3f4de;\n",
              "  color: #000000;\n",
              "}\n",
              "#T_e7722_row0_col5, #T_e7722_row3_col0, #T_e7722_row3_col1, #T_e7722_row3_col2, #T_e7722_row3_col3, #T_e7722_row6_col4 {\n",
              "  background-color: #00441b;\n",
              "  color: #f1f1f1;\n",
              "}\n",
              "#T_e7722_row1_col0 {\n",
              "  background-color: #1e8741;\n",
              "  color: #f1f1f1;\n",
              "}\n",
              "#T_e7722_row1_col1 {\n",
              "  background-color: #248c46;\n",
              "  color: #f1f1f1;\n",
              "}\n",
              "#T_e7722_row1_col2 {\n",
              "  background-color: #5ab769;\n",
              "  color: #f1f1f1;\n",
              "}\n",
              "#T_e7722_row1_col3 {\n",
              "  background-color: #58b668;\n",
              "  color: #f1f1f1;\n",
              "}\n",
              "#T_e7722_row1_col5 {\n",
              "  background-color: #cbebc5;\n",
              "  color: #000000;\n",
              "}\n",
              "#T_e7722_row2_col0 {\n",
              "  background-color: #005522;\n",
              "  color: #f1f1f1;\n",
              "}\n",
              "#T_e7722_row2_col1 {\n",
              "  background-color: #005924;\n",
              "  color: #f1f1f1;\n",
              "}\n",
              "#T_e7722_row2_col2 {\n",
              "  background-color: #157f3b;\n",
              "  color: #f1f1f1;\n",
              "}\n",
              "#T_e7722_row2_col3 {\n",
              "  background-color: #147e3a;\n",
              "  color: #f1f1f1;\n",
              "}\n",
              "#T_e7722_row2_col4 {\n",
              "  background-color: #d4eece;\n",
              "  color: #000000;\n",
              "}\n",
              "#T_e7722_row2_col5 {\n",
              "  background-color: #f0f9ec;\n",
              "  color: #000000;\n",
              "}\n",
              "#T_e7722_row3_col4 {\n",
              "  background-color: #8bcf89;\n",
              "  color: #000000;\n",
              "}\n",
              "#T_e7722_row4_col0 {\n",
              "  background-color: #def2d9;\n",
              "  color: #000000;\n",
              "}\n",
              "#T_e7722_row4_col2, #T_e7722_row4_col3 {\n",
              "  background-color: #c7e9c0;\n",
              "  color: #000000;\n",
              "}\n",
              "#T_e7722_row4_col4 {\n",
              "  background-color: #1c8540;\n",
              "  color: #f1f1f1;\n",
              "}\n",
              "#T_e7722_row4_col5 {\n",
              "  background-color: #087432;\n",
              "  color: #f1f1f1;\n",
              "}\n",
              "#T_e7722_row5_col0 {\n",
              "  background-color: #dcf2d7;\n",
              "  color: #000000;\n",
              "}\n",
              "#T_e7722_row5_col1 {\n",
              "  background-color: #e1f3dc;\n",
              "  color: #000000;\n",
              "}\n",
              "#T_e7722_row5_col2, #T_e7722_row5_col3 {\n",
              "  background-color: #c9eac2;\n",
              "  color: #000000;\n",
              "}\n",
              "#T_e7722_row5_col4 {\n",
              "  background-color: #004c1e;\n",
              "  color: #f1f1f1;\n",
              "}\n",
              "#T_e7722_row5_col5 {\n",
              "  background-color: #0a7633;\n",
              "  color: #f1f1f1;\n",
              "}\n",
              "#T_e7722_row6_col0 {\n",
              "  background-color: #117b38;\n",
              "  color: #f1f1f1;\n",
              "}\n",
              "#T_e7722_row6_col1 {\n",
              "  background-color: #16803c;\n",
              "  color: #f1f1f1;\n",
              "}\n",
              "#T_e7722_row6_col2 {\n",
              "  background-color: #005b25;\n",
              "  color: #f1f1f1;\n",
              "}\n",
              "#T_e7722_row6_col3 {\n",
              "  background-color: #005a24;\n",
              "  color: #f1f1f1;\n",
              "}\n",
              "#T_e7722_row6_col5 {\n",
              "  background-color: #d7efd1;\n",
              "  color: #000000;\n",
              "}\n",
              "</style>\n",
              "<table id=\"T_e7722_\" class=\"dataframe\">\n",
              "  <thead>\n",
              "    <tr>\n",
              "      <th class=\"blank level0\" >&nbsp;</th>\n",
              "      <th class=\"col_heading level0 col0\" >mse</th>\n",
              "      <th class=\"col_heading level0 col1\" >rmse</th>\n",
              "      <th class=\"col_heading level0 col2\" >mae</th>\n",
              "      <th class=\"col_heading level0 col3\" >nmae</th>\n",
              "      <th class=\"col_heading level0 col4\" >mape</th>\n",
              "      <th class=\"col_heading level0 col5\" >r2</th>\n",
              "    </tr>\n",
              "  </thead>\n",
              "  <tbody>\n",
              "    <tr>\n",
              "      <th id=\"T_e7722_level0_row0\" class=\"row_heading level0 row0\" >linear</th>\n",
              "      <td id=\"T_e7722_row0_col0\" class=\"data row0 col0\" >0.463000</td>\n",
              "      <td id=\"T_e7722_row0_col1\" class=\"data row0 col1\" >0.680000</td>\n",
              "      <td id=\"T_e7722_row0_col2\" class=\"data row0 col2\" >0.501000</td>\n",
              "      <td id=\"T_e7722_row0_col3\" class=\"data row0 col3\" >0.721000</td>\n",
              "      <td id=\"T_e7722_row0_col4\" class=\"data row0 col4\" >671.832000</td>\n",
              "      <td id=\"T_e7722_row0_col5\" class=\"data row0 col5\" >0.537000</td>\n",
              "    </tr>\n",
              "    <tr>\n",
              "      <th id=\"T_e7722_level0_row1\" class=\"row_heading level0 row1\" >quad</th>\n",
              "      <td id=\"T_e7722_row1_col0\" class=\"data row1 col0\" >0.343000</td>\n",
              "      <td id=\"T_e7722_row1_col1\" class=\"data row1 col1\" >0.586000</td>\n",
              "      <td id=\"T_e7722_row1_col2\" class=\"data row1 col2\" >0.445000</td>\n",
              "      <td id=\"T_e7722_row1_col3\" class=\"data row1 col3\" >0.640000</td>\n",
              "      <td id=\"T_e7722_row1_col4\" class=\"data row1 col4\" >713.233000</td>\n",
              "      <td id=\"T_e7722_row1_col5\" class=\"data row1 col5\" >0.657000</td>\n",
              "    </tr>\n",
              "    <tr>\n",
              "      <th id=\"T_e7722_level0_row2\" class=\"row_heading level0 row2\" >cubic</th>\n",
              "      <td id=\"T_e7722_row2_col0\" class=\"data row2 col0\" >0.315000</td>\n",
              "      <td id=\"T_e7722_row2_col1\" class=\"data row2 col1\" >0.562000</td>\n",
              "      <td id=\"T_e7722_row2_col2\" class=\"data row2 col2\" >0.422000</td>\n",
              "      <td id=\"T_e7722_row2_col3\" class=\"data row2 col3\" >0.606000</td>\n",
              "      <td id=\"T_e7722_row2_col4\" class=\"data row2 col4\" >652.893000</td>\n",
              "      <td id=\"T_e7722_row2_col5\" class=\"data row2 col5\" >0.685000</td>\n",
              "    </tr>\n",
              "    <tr>\n",
              "      <th id=\"T_e7722_level0_row3\" class=\"row_heading level0 row3\" >tree</th>\n",
              "      <td id=\"T_e7722_row3_col0\" class=\"data row3 col0\" >0.307000</td>\n",
              "      <td id=\"T_e7722_row3_col1\" class=\"data row3 col1\" >0.554000</td>\n",
              "      <td id=\"T_e7722_row3_col2\" class=\"data row3 col2\" >0.402000</td>\n",
              "      <td id=\"T_e7722_row3_col3\" class=\"data row3 col3\" >0.578000</td>\n",
              "      <td id=\"T_e7722_row3_col4\" class=\"data row3 col4\" >580.727000</td>\n",
              "      <td id=\"T_e7722_row3_col5\" class=\"data row3 col5\" >0.693000</td>\n",
              "    </tr>\n",
              "    <tr>\n",
              "      <th id=\"T_e7722_level0_row4\" class=\"row_heading level0 row4\" >forest</th>\n",
              "      <td id=\"T_e7722_row4_col0\" class=\"data row4 col0\" >0.439000</td>\n",
              "      <td id=\"T_e7722_row4_col1\" class=\"data row4 col1\" >0.663000</td>\n",
              "      <td id=\"T_e7722_row4_col2\" class=\"data row4 col2\" >0.476000</td>\n",
              "      <td id=\"T_e7722_row4_col3\" class=\"data row4 col3\" >0.685000</td>\n",
              "      <td id=\"T_e7722_row4_col4\" class=\"data row4 col4\" >478.131000</td>\n",
              "      <td id=\"T_e7722_row4_col5\" class=\"data row4 col5\" >0.561000</td>\n",
              "    </tr>\n",
              "    <tr>\n",
              "      <th id=\"T_e7722_level0_row5\" class=\"row_heading level0 row5\" >et</th>\n",
              "      <td id=\"T_e7722_row5_col0\" class=\"data row5 col0\" >0.438000</td>\n",
              "      <td id=\"T_e7722_row5_col1\" class=\"data row5 col1\" >0.662000</td>\n",
              "      <td id=\"T_e7722_row5_col2\" class=\"data row5 col2\" >0.477000</td>\n",
              "      <td id=\"T_e7722_row5_col3\" class=\"data row5 col3\" >0.686000</td>\n",
              "      <td id=\"T_e7722_row5_col4\" class=\"data row5 col4\" >417.761000</td>\n",
              "      <td id=\"T_e7722_row5_col5\" class=\"data row5 col5\" >0.562000</td>\n",
              "    </tr>\n",
              "    <tr>\n",
              "      <th id=\"T_e7722_level0_row6\" class=\"row_heading level0 row6\" >gb</th>\n",
              "      <td id=\"T_e7722_row6_col0\" class=\"data row6 col0\" >0.336000</td>\n",
              "      <td id=\"T_e7722_row6_col1\" class=\"data row6 col1\" >0.580000</td>\n",
              "      <td id=\"T_e7722_row6_col2\" class=\"data row6 col2\" >0.409000</td>\n",
              "      <td id=\"T_e7722_row6_col3\" class=\"data row6 col3\" >0.588000</td>\n",
              "      <td id=\"T_e7722_row6_col4\" class=\"data row6 col4\" >410.178000</td>\n",
              "      <td id=\"T_e7722_row6_col5\" class=\"data row6 col5\" >0.664000</td>\n",
              "    </tr>\n",
              "  </tbody>\n",
              "</table>\n"
            ]
          },
          "metadata": {},
          "execution_count": 62
        }
      ]
    },
    {
      "cell_type": "markdown",
      "source": [
        "#### **그래프 시각화**"
      ],
      "metadata": {
        "id": "VizJqzEyMEEF"
      }
    },
    {
      "cell_type": "code",
      "source": [
        "draw_data()\n",
        "plt.plot(X_every, gb.predict(X_every))\n",
        "plt.show()"
      ],
      "metadata": {
        "id": "HT2r-hT9MEEF",
        "colab": {
          "base_uri": "https://localhost:8080/",
          "height": 279
        },
        "outputId": "6a8a06e5-9db1-4b0d-e855-ea5ea80ade5d"
      },
      "execution_count": null,
      "outputs": [
        {
          "output_type": "display_data",
          "data": {
            "text/plain": [
              "<Figure size 432x288 with 1 Axes>"
            ],
            "image/png": "[encoded data removed]"
          },
          "metadata": {
            "needs_background": "light"
          }
        }
      ]
    },
    {
      "cell_type": "markdown",
      "source": [
        "### **| XGBoost Regressor**"
      ],
      "metadata": {
        "id": "kNc2FzbdMbBX"
      }
    },
    {
      "cell_type": "markdown",
      "source": [
        "#### **모델 학습**"
      ],
      "metadata": {
        "id": "o4GP5G89MbBX"
      }
    },
    {
      "cell_type": "code",
      "source": [
        "from xgboost import XGBRegressor\n",
        "\n",
        "xgb = XGBRegressor(random_state = 1)\n",
        "xgb.fit(X_train, y_train)"
      ],
      "metadata": {
        "colab": {
          "base_uri": "https://localhost:8080/"
        },
        "id": "AjcuzYVOVP76",
        "outputId": "1c48ddc2-8db4-4a6a-9d02-b64c2272a479"
      },
      "execution_count": null,
      "outputs": [
        {
          "output_type": "stream",
          "name": "stdout",
          "text": [
            "[05:14:01] WARNING: /workspace/src/objective/regression_obj.cu:152: reg:linear is now deprecated in favor of reg:squarederror.\n"
          ]
        },
        {
          "output_type": "execute_result",
          "data": {
            "text/plain": [
              "XGBRegressor(random_state=1)"
            ]
          },
          "metadata": {},
          "execution_count": 57
        }
      ]
    },
    {
      "cell_type": "markdown",
      "source": [
        "#### **테스트셋 성능 비교**"
      ],
      "metadata": {
        "id": "JlCj1bdxMbBY"
      }
    },
    {
      "cell_type": "code",
      "source": [
        "y_pred = xgb.predict(X_test)\n",
        "score = regression_scores(y_test, y_pred)\n",
        "df_scores.loc['xgb'] = score\n",
        "df_scores\n",
        "df_scores.style.background_gradient(cmap='Greens_r')"
      ],
      "metadata": {
        "id": "e-Z4OxoFMbBX",
        "colab": {
          "base_uri": "https://localhost:8080/",
          "height": 300
        },
        "outputId": "7941b700-3d60-4275-c699-3e006e2b4a91"
      },
      "execution_count": null,
      "outputs": [
        {
          "output_type": "execute_result",
          "data": {
            "text/plain": [
              "<pandas.io.formats.style.Styler at 0x7ff3e299ed50>"
            ],
            "text/html": [
              "<style type=\"text/css\">\n",
              "#T_d94d7_row0_col0, #T_d94d7_row0_col1, #T_d94d7_row0_col2, #T_d94d7_row0_col3, #T_d94d7_row1_col4, #T_d94d7_row3_col5 {\n",
              "  background-color: #f7fcf5;\n",
              "  color: #000000;\n",
              "}\n",
              "#T_d94d7_row0_col4 {\n",
              "  background-color: #e4f5df;\n",
              "  color: #000000;\n",
              "}\n",
              "#T_d94d7_row0_col5, #T_d94d7_row3_col0, #T_d94d7_row3_col1, #T_d94d7_row7_col2, #T_d94d7_row7_col3, #T_d94d7_row7_col4 {\n",
              "  background-color: #00441b;\n",
              "  color: #f1f1f1;\n",
              "}\n",
              "#T_d94d7_row1_col0 {\n",
              "  background-color: #1e8741;\n",
              "  color: #f1f1f1;\n",
              "}\n",
              "#T_d94d7_row1_col1 {\n",
              "  background-color: #248c46;\n",
              "  color: #f1f1f1;\n",
              "}\n",
              "#T_d94d7_row1_col2, #T_d94d7_row1_col3 {\n",
              "  background-color: #5eb96b;\n",
              "  color: #f1f1f1;\n",
              "}\n",
              "#T_d94d7_row1_col5 {\n",
              "  background-color: #cbebc5;\n",
              "  color: #000000;\n",
              "}\n",
              "#T_d94d7_row2_col0 {\n",
              "  background-color: #005522;\n",
              "  color: #f1f1f1;\n",
              "}\n",
              "#T_d94d7_row2_col1 {\n",
              "  background-color: #005924;\n",
              "  color: #f1f1f1;\n",
              "}\n",
              "#T_d94d7_row2_col2, #T_d94d7_row2_col3 {\n",
              "  background-color: #19833e;\n",
              "  color: #f1f1f1;\n",
              "}\n",
              "#T_d94d7_row2_col4 {\n",
              "  background-color: #d5efcf;\n",
              "  color: #000000;\n",
              "}\n",
              "#T_d94d7_row2_col5 {\n",
              "  background-color: #f0f9ec;\n",
              "  color: #000000;\n",
              "}\n",
              "#T_d94d7_row3_col2 {\n",
              "  background-color: #004a1e;\n",
              "  color: #f1f1f1;\n",
              "}\n",
              "#T_d94d7_row3_col3 {\n",
              "  background-color: #004c1e;\n",
              "  color: #f1f1f1;\n",
              "}\n",
              "#T_d94d7_row3_col4 {\n",
              "  background-color: #90d18d;\n",
              "  color: #000000;\n",
              "}\n",
              "#T_d94d7_row4_col0 {\n",
              "  background-color: #def2d9;\n",
              "  color: #000000;\n",
              "}\n",
              "#T_d94d7_row4_col1 {\n",
              "  background-color: #e3f4de;\n",
              "  color: #000000;\n",
              "}\n",
              "#T_d94d7_row4_col2 {\n",
              "  background-color: #c8e9c1;\n",
              "  color: #000000;\n",
              "}\n",
              "#T_d94d7_row4_col3 {\n",
              "  background-color: #c9eac2;\n",
              "  color: #000000;\n",
              "}\n",
              "#T_d94d7_row4_col4 {\n",
              "  background-color: #228a44;\n",
              "  color: #f1f1f1;\n",
              "}\n",
              "#T_d94d7_row4_col5 {\n",
              "  background-color: #087432;\n",
              "  color: #f1f1f1;\n",
              "}\n",
              "#T_d94d7_row5_col0 {\n",
              "  background-color: #dcf2d7;\n",
              "  color: #000000;\n",
              "}\n",
              "#T_d94d7_row5_col1 {\n",
              "  background-color: #e1f3dc;\n",
              "  color: #000000;\n",
              "}\n",
              "#T_d94d7_row5_col2, #T_d94d7_row5_col3 {\n",
              "  background-color: #cbeac4;\n",
              "  color: #000000;\n",
              "}\n",
              "#T_d94d7_row5_col4 {\n",
              "  background-color: #005622;\n",
              "  color: #f1f1f1;\n",
              "}\n",
              "#T_d94d7_row5_col5 {\n",
              "  background-color: #0a7633;\n",
              "  color: #f1f1f1;\n",
              "}\n",
              "#T_d94d7_row6_col0 {\n",
              "  background-color: #117b38;\n",
              "  color: #f1f1f1;\n",
              "}\n",
              "#T_d94d7_row6_col1 {\n",
              "  background-color: #16803c;\n",
              "  color: #f1f1f1;\n",
              "}\n",
              "#T_d94d7_row6_col2 {\n",
              "  background-color: #006027;\n",
              "  color: #f1f1f1;\n",
              "}\n",
              "#T_d94d7_row6_col3, #T_d94d7_row7_col0 {\n",
              "  background-color: #006328;\n",
              "  color: #f1f1f1;\n",
              "}\n",
              "#T_d94d7_row6_col4 {\n",
              "  background-color: #004e1f;\n",
              "  color: #f1f1f1;\n",
              "}\n",
              "#T_d94d7_row6_col5 {\n",
              "  background-color: #d7efd1;\n",
              "  color: #000000;\n",
              "}\n",
              "#T_d94d7_row7_col1 {\n",
              "  background-color: #006529;\n",
              "  color: #f1f1f1;\n",
              "}\n",
              "#T_d94d7_row7_col5 {\n",
              "  background-color: #e9f7e5;\n",
              "  color: #000000;\n",
              "}\n",
              "</style>\n",
              "<table id=\"T_d94d7_\" class=\"dataframe\">\n",
              "  <thead>\n",
              "    <tr>\n",
              "      <th class=\"blank level0\" >&nbsp;</th>\n",
              "      <th class=\"col_heading level0 col0\" >mse</th>\n",
              "      <th class=\"col_heading level0 col1\" >rmse</th>\n",
              "      <th class=\"col_heading level0 col2\" >mae</th>\n",
              "      <th class=\"col_heading level0 col3\" >nmae</th>\n",
              "      <th class=\"col_heading level0 col4\" >mape</th>\n",
              "      <th class=\"col_heading level0 col5\" >r2</th>\n",
              "    </tr>\n",
              "  </thead>\n",
              "  <tbody>\n",
              "    <tr>\n",
              "      <th id=\"T_d94d7_level0_row0\" class=\"row_heading level0 row0\" >linear</th>\n",
              "      <td id=\"T_d94d7_row0_col0\" class=\"data row0 col0\" >0.463000</td>\n",
              "      <td id=\"T_d94d7_row0_col1\" class=\"data row0 col1\" >0.680000</td>\n",
              "      <td id=\"T_d94d7_row0_col2\" class=\"data row0 col2\" >0.501000</td>\n",
              "      <td id=\"T_d94d7_row0_col3\" class=\"data row0 col3\" >0.721000</td>\n",
              "      <td id=\"T_d94d7_row0_col4\" class=\"data row0 col4\" >671.832000</td>\n",
              "      <td id=\"T_d94d7_row0_col5\" class=\"data row0 col5\" >0.537000</td>\n",
              "    </tr>\n",
              "    <tr>\n",
              "      <th id=\"T_d94d7_level0_row1\" class=\"row_heading level0 row1\" >quad</th>\n",
              "      <td id=\"T_d94d7_row1_col0\" class=\"data row1 col0\" >0.343000</td>\n",
              "      <td id=\"T_d94d7_row1_col1\" class=\"data row1 col1\" >0.586000</td>\n",
              "      <td id=\"T_d94d7_row1_col2\" class=\"data row1 col2\" >0.445000</td>\n",
              "      <td id=\"T_d94d7_row1_col3\" class=\"data row1 col3\" >0.640000</td>\n",
              "      <td id=\"T_d94d7_row1_col4\" class=\"data row1 col4\" >713.233000</td>\n",
              "      <td id=\"T_d94d7_row1_col5\" class=\"data row1 col5\" >0.657000</td>\n",
              "    </tr>\n",
              "    <tr>\n",
              "      <th id=\"T_d94d7_level0_row2\" class=\"row_heading level0 row2\" >cubic</th>\n",
              "      <td id=\"T_d94d7_row2_col0\" class=\"data row2 col0\" >0.315000</td>\n",
              "      <td id=\"T_d94d7_row2_col1\" class=\"data row2 col1\" >0.562000</td>\n",
              "      <td id=\"T_d94d7_row2_col2\" class=\"data row2 col2\" >0.422000</td>\n",
              "      <td id=\"T_d94d7_row2_col3\" class=\"data row2 col3\" >0.606000</td>\n",
              "      <td id=\"T_d94d7_row2_col4\" class=\"data row2 col4\" >652.893000</td>\n",
              "      <td id=\"T_d94d7_row2_col5\" class=\"data row2 col5\" >0.685000</td>\n",
              "    </tr>\n",
              "    <tr>\n",
              "      <th id=\"T_d94d7_level0_row3\" class=\"row_heading level0 row3\" >tree</th>\n",
              "      <td id=\"T_d94d7_row3_col0\" class=\"data row3 col0\" >0.307000</td>\n",
              "      <td id=\"T_d94d7_row3_col1\" class=\"data row3 col1\" >0.554000</td>\n",
              "      <td id=\"T_d94d7_row3_col2\" class=\"data row3 col2\" >0.402000</td>\n",
              "      <td id=\"T_d94d7_row3_col3\" class=\"data row3 col3\" >0.578000</td>\n",
              "      <td id=\"T_d94d7_row3_col4\" class=\"data row3 col4\" >580.727000</td>\n",
              "      <td id=\"T_d94d7_row3_col5\" class=\"data row3 col5\" >0.693000</td>\n",
              "    </tr>\n",
              "    <tr>\n",
              "      <th id=\"T_d94d7_level0_row4\" class=\"row_heading level0 row4\" >forest</th>\n",
              "      <td id=\"T_d94d7_row4_col0\" class=\"data row4 col0\" >0.439000</td>\n",
              "      <td id=\"T_d94d7_row4_col1\" class=\"data row4 col1\" >0.663000</td>\n",
              "      <td id=\"T_d94d7_row4_col2\" class=\"data row4 col2\" >0.476000</td>\n",
              "      <td id=\"T_d94d7_row4_col3\" class=\"data row4 col3\" >0.685000</td>\n",
              "      <td id=\"T_d94d7_row4_col4\" class=\"data row4 col4\" >478.131000</td>\n",
              "      <td id=\"T_d94d7_row4_col5\" class=\"data row4 col5\" >0.561000</td>\n",
              "    </tr>\n",
              "    <tr>\n",
              "      <th id=\"T_d94d7_level0_row5\" class=\"row_heading level0 row5\" >et</th>\n",
              "      <td id=\"T_d94d7_row5_col0\" class=\"data row5 col0\" >0.438000</td>\n",
              "      <td id=\"T_d94d7_row5_col1\" class=\"data row5 col1\" >0.662000</td>\n",
              "      <td id=\"T_d94d7_row5_col2\" class=\"data row5 col2\" >0.477000</td>\n",
              "      <td id=\"T_d94d7_row5_col3\" class=\"data row5 col3\" >0.686000</td>\n",
              "      <td id=\"T_d94d7_row5_col4\" class=\"data row5 col4\" >417.761000</td>\n",
              "      <td id=\"T_d94d7_row5_col5\" class=\"data row5 col5\" >0.562000</td>\n",
              "    </tr>\n",
              "    <tr>\n",
              "      <th id=\"T_d94d7_level0_row6\" class=\"row_heading level0 row6\" >gb</th>\n",
              "      <td id=\"T_d94d7_row6_col0\" class=\"data row6 col0\" >0.336000</td>\n",
              "      <td id=\"T_d94d7_row6_col1\" class=\"data row6 col1\" >0.580000</td>\n",
              "      <td id=\"T_d94d7_row6_col2\" class=\"data row6 col2\" >0.409000</td>\n",
              "      <td id=\"T_d94d7_row6_col3\" class=\"data row6 col3\" >0.588000</td>\n",
              "      <td id=\"T_d94d7_row6_col4\" class=\"data row6 col4\" >410.178000</td>\n",
              "      <td id=\"T_d94d7_row6_col5\" class=\"data row6 col5\" >0.664000</td>\n",
              "    </tr>\n",
              "    <tr>\n",
              "      <th id=\"T_d94d7_level0_row7\" class=\"row_heading level0 row7\" >xgb</th>\n",
              "      <td id=\"T_d94d7_row7_col0\" class=\"data row7 col0\" >0.322000</td>\n",
              "      <td id=\"T_d94d7_row7_col1\" class=\"data row7 col1\" >0.567000</td>\n",
              "      <td id=\"T_d94d7_row7_col2\" class=\"data row7 col2\" >0.400000</td>\n",
              "      <td id=\"T_d94d7_row7_col3\" class=\"data row7 col3\" >0.574000</td>\n",
              "      <td id=\"T_d94d7_row7_col4\" class=\"data row7 col4\" >400.252000</td>\n",
              "      <td id=\"T_d94d7_row7_col5\" class=\"data row7 col5\" >0.678000</td>\n",
              "    </tr>\n",
              "  </tbody>\n",
              "</table>\n"
            ]
          },
          "metadata": {},
          "execution_count": 64
        }
      ]
    },
    {
      "cell_type": "markdown",
      "source": [
        "#### **그래프 시각화**"
      ],
      "metadata": {
        "id": "YFFUEVtXMbBY"
      }
    },
    {
      "cell_type": "code",
      "source": [
        "draw_data()\n",
        "plt.plot(X_every, xgb.predict(X_every))\n",
        "plt.show()"
      ],
      "metadata": {
        "id": "ChvPJh-nMbBY",
        "colab": {
          "base_uri": "https://localhost:8080/",
          "height": 279
        },
        "outputId": "7a0a4967-19f0-443b-db33-149e2e48d39d"
      },
      "execution_count": null,
      "outputs": [
        {
          "output_type": "display_data",
          "data": {
            "text/plain": [
              "<Figure size 432x288 with 1 Axes>"
            ],
            "image/png": "[encoded data removed]"
          },
          "metadata": {
            "needs_background": "light"
          }
        }
      ]
    },
    {
      "cell_type": "markdown",
      "source": [
        "## **과제1: 주택 데이터셋 다중 회귀 분석**\n",
        "---\n",
        "\n",
        "* 주택 데이터셋의 X의 모든 속성을 이용해 y를 예측합니다.\n",
        "* 지난시간과 이번시간에 배운 회귀 분석 모델을 모두 사용해보고, 성능을 비교해 봅니다.\n",
        "* 단, 다항회귀는 사용하지 마세요.\n",
        "* 사용 모델 : \n",
        "```\n",
        "'linear', 'ridge', 'lasso', 'elastic', 'bayes_ridge', 'tree', 'forest', 'et', 'gb', 'xgb'\n",
        "```"
      ],
      "metadata": {
        "id": "5JWTBCG-EkR1"
      }
    },
    {
      "cell_type": "markdown",
      "source": [
        "#### **데이터 불러오기**"
      ],
      "metadata": {
        "id": "hc-YysUvFJWS"
      }
    },
    {
      "cell_type": "code",
      "source": [
        "X_train, X_test, y_train, y_test = housing_loader() # 속성 선택\n",
        "X_train.shape, X_test.shape, y_train.shape, y_test.shape"
      ],
      "metadata": {
        "id": "qpeyED8xf9gT",
        "colab": {
          "base_uri": "https://localhost:8080/"
        },
        "outputId": "266ed73b-9619-4b4e-ed24-d4c750b6b38c"
      },
      "execution_count": null,
      "outputs": [
        {
          "output_type": "stream",
          "name": "stdout",
          "text": [
            "(506, 14)\n"
          ]
        },
        {
          "output_type": "execute_result",
          "data": {
            "text/plain": [
              "((404, 13), (102, 13), (404,), (102,))"
            ]
          },
          "metadata": {},
          "execution_count": 67
        }
      ]
    },
    {
      "cell_type": "markdown",
      "source": [
        "* 분석 예시"
      ],
      "metadata": {
        "id": "bOGoI8O3GieY"
      }
    },
    {
      "cell_type": "code",
      "source": [
        "from sklearn.linear_model import*\n",
        "linear = LinearRegression()\n",
        "linear.fit(X_train, y_train) "
      ],
      "metadata": {
        "id": "T0rcVkSyoQWp",
        "colab": {
          "base_uri": "https://localhost:8080/"
        },
        "outputId": "c4206f28-d968-4c7c-b22b-6bb730f74e63"
      },
      "execution_count": null,
      "outputs": [
        {
          "output_type": "execute_result",
          "data": {
            "text/plain": [
              "LinearRegression()"
            ]
          },
          "metadata": {},
          "execution_count": 68
        }
      ]
    },
    {
      "cell_type": "code",
      "source": [
        "ridge = Ridge(alpha = 0.1)\n",
        "ridge.fit(X_train, y_train)"
      ],
      "metadata": {
        "colab": {
          "base_uri": "https://localhost:8080/"
        },
        "id": "0dcAFcoLYejA",
        "outputId": "125d7d1e-b207-4362-f083-df98f12c0a4c"
      },
      "execution_count": null,
      "outputs": [
        {
          "output_type": "execute_result",
          "data": {
            "text/plain": [
              "Ridge(alpha=0.1)"
            ]
          },
          "metadata": {},
          "execution_count": 70
        }
      ]
    },
    {
      "cell_type": "code",
      "source": [
        "lasso = Lasso(alpha=0.1)\n",
        "lasso.fit(X_train, y_train)"
      ],
      "metadata": {
        "colab": {
          "base_uri": "https://localhost:8080/"
        },
        "id": "xZFdQ8IQYgEg",
        "outputId": "bea0f877-4a30-4668-8cb2-7b13378f918d"
      },
      "execution_count": null,
      "outputs": [
        {
          "output_type": "execute_result",
          "data": {
            "text/plain": [
              "Lasso(alpha=0.1)"
            ]
          },
          "metadata": {},
          "execution_count": 73
        }
      ]
    },
    {
      "cell_type": "code",
      "source": [
        "elastic = ElasticNet(alpha = 1)\n",
        "elastic.fit(X_train, y_train)"
      ],
      "metadata": {
        "colab": {
          "base_uri": "https://localhost:8080/"
        },
        "id": "TFzPUGMsYiN4",
        "outputId": "70e54e96-f552-4989-e453-bd80613fbe7c"
      },
      "execution_count": null,
      "outputs": [
        {
          "output_type": "execute_result",
          "data": {
            "text/plain": [
              "ElasticNet(alpha=1)"
            ]
          },
          "metadata": {},
          "execution_count": 75
        }
      ]
    },
    {
      "cell_type": "code",
      "source": [
        "bayes_ridge = BayesianRidge()\n",
        "bayes_ridge.fit(X_train, y_train)"
      ],
      "metadata": {
        "colab": {
          "base_uri": "https://localhost:8080/"
        },
        "id": "bdTcNiW8Yiow",
        "outputId": "dce7d3c6-841f-4bef-ba2d-a0c0ebb9b0cb"
      },
      "execution_count": null,
      "outputs": [
        {
          "output_type": "execute_result",
          "data": {
            "text/plain": [
              "BayesianRidge()"
            ]
          },
          "metadata": {},
          "execution_count": 77
        }
      ]
    },
    {
      "cell_type": "code",
      "source": [
        "y_pred = bayes_ridge.predict(X_test)\n",
        "score = regression_scores(y_test, y_pred)\n",
        "df_scores.loc['bayes_ridge'] = score\n",
        "df_scores\n",
        "df_scores.style.background_gradient(cmap='Greens_r')"
      ],
      "metadata": {
        "colab": {
          "base_uri": "https://localhost:8080/",
          "height": 426
        },
        "id": "Ic1yVFOlYJQQ",
        "outputId": "517d603b-bfe9-468a-8b24-0cd26f2c6950"
      },
      "execution_count": null,
      "outputs": [
        {
          "output_type": "execute_result",
          "data": {
            "text/plain": [
              "<pandas.io.formats.style.Styler at 0x7ff3e27e2d90>"
            ],
            "text/html": [
              "<style type=\"text/css\">\n",
              "#T_0d175_row0_col0, #T_0d175_row8_col0, #T_0d175_row10_col4, #T_0d175_row10_col5, #T_0d175_row11_col0, #T_0d175_row11_col1, #T_0d175_row11_col2, #T_0d175_row11_col3 {\n",
              "  background-color: #00441b;\n",
              "  color: #f1f1f1;\n",
              "}\n",
              "#T_0d175_row0_col1, #T_0d175_row8_col1 {\n",
              "  background-color: #00451c;\n",
              "  color: #f1f1f1;\n",
              "}\n",
              "#T_0d175_row0_col2, #T_0d175_row0_col3, #T_0d175_row8_col2, #T_0d175_row8_col3 {\n",
              "  background-color: #00481d;\n",
              "  color: #f1f1f1;\n",
              "}\n",
              "#T_0d175_row0_col4, #T_0d175_row3_col4, #T_0d175_row8_col4 {\n",
              "  background-color: #c7e9c0;\n",
              "  color: #000000;\n",
              "}\n",
              "#T_0d175_row0_col5, #T_0d175_row1_col4, #T_0d175_row8_col5, #T_0d175_row10_col0, #T_0d175_row10_col1, #T_0d175_row10_col2, #T_0d175_row10_col3, #T_0d175_row11_col5 {\n",
              "  background-color: #f7fcf5;\n",
              "  color: #000000;\n",
              "}\n",
              "#T_0d175_row1_col0, #T_0d175_row2_col1, #T_0d175_row9_col1 {\n",
              "  background-color: #1f8742;\n",
              "  color: #f1f1f1;\n",
              "}\n",
              "#T_0d175_row1_col1 {\n",
              "  background-color: #2f974e;\n",
              "  color: #f1f1f1;\n",
              "}\n",
              "#T_0d175_row1_col2 {\n",
              "  background-color: #3ea75a;\n",
              "  color: #f1f1f1;\n",
              "}\n",
              "#T_0d175_row1_col3 {\n",
              "  background-color: #3fa85b;\n",
              "  color: #f1f1f1;\n",
              "}\n",
              "#T_0d175_row1_col5 {\n",
              "  background-color: #cbeac4;\n",
              "  color: #000000;\n",
              "}\n",
              "#T_0d175_row2_col0, #T_0d175_row3_col2, #T_0d175_row3_col3, #T_0d175_row9_col0 {\n",
              "  background-color: #107a37;\n",
              "  color: #f1f1f1;\n",
              "}\n",
              "#T_0d175_row2_col2 {\n",
              "  background-color: #278f48;\n",
              "  color: #f1f1f1;\n",
              "}\n",
              "#T_0d175_row2_col3, #T_0d175_row9_col3 {\n",
              "  background-color: #268e47;\n",
              "  color: #f1f1f1;\n",
              "}\n",
              "#T_0d175_row2_col4 {\n",
              "  background-color: #e7f6e2;\n",
              "  color: #000000;\n",
              "}\n",
              "#T_0d175_row2_col5, #T_0d175_row9_col5 {\n",
              "  background-color: #d8f0d2;\n",
              "  color: #000000;\n",
              "}\n",
              "#T_0d175_row3_col0 {\n",
              "  background-color: #0b7734;\n",
              "  color: #f1f1f1;\n",
              "}\n",
              "#T_0d175_row3_col1 {\n",
              "  background-color: #19833e;\n",
              "  color: #f1f1f1;\n",
              "}\n",
              "#T_0d175_row3_col5 {\n",
              "  background-color: #dbf1d6;\n",
              "  color: #000000;\n",
              "}\n",
              "#T_0d175_row4_col0, #T_0d175_row5_col0 {\n",
              "  background-color: #53b466;\n",
              "  color: #f1f1f1;\n",
              "}\n",
              "#T_0d175_row4_col1, #T_0d175_row4_col2, #T_0d175_row4_col3, #T_0d175_row5_col1 {\n",
              "  background-color: #72c375;\n",
              "  color: #000000;\n",
              "}\n",
              "#T_0d175_row4_col4 {\n",
              "  background-color: #88ce87;\n",
              "  color: #000000;\n",
              "}\n",
              "#T_0d175_row4_col5, #T_0d175_row5_col5 {\n",
              "  background-color: #91d28e;\n",
              "  color: #000000;\n",
              "}\n",
              "#T_0d175_row5_col2, #T_0d175_row5_col3 {\n",
              "  background-color: #73c476;\n",
              "  color: #000000;\n",
              "}\n",
              "#T_0d175_row5_col4 {\n",
              "  background-color: #5db96b;\n",
              "  color: #f1f1f1;\n",
              "}\n",
              "#T_0d175_row6_col0 {\n",
              "  background-color: #1a843f;\n",
              "  color: #f1f1f1;\n",
              "}\n",
              "#T_0d175_row6_col1 {\n",
              "  background-color: #2b934b;\n",
              "  color: #f1f1f1;\n",
              "}\n",
              "#T_0d175_row6_col2, #T_0d175_row6_col3 {\n",
              "  background-color: #18823d;\n",
              "  color: #f1f1f1;\n",
              "}\n",
              "#T_0d175_row6_col4 {\n",
              "  background-color: #56b567;\n",
              "  color: #f1f1f1;\n",
              "}\n",
              "#T_0d175_row6_col5 {\n",
              "  background-color: #ceecc8;\n",
              "  color: #000000;\n",
              "}\n",
              "#T_0d175_row7_col0 {\n",
              "  background-color: #147e3a;\n",
              "  color: #f1f1f1;\n",
              "}\n",
              "#T_0d175_row7_col1 {\n",
              "  background-color: #228a44;\n",
              "  color: #f1f1f1;\n",
              "}\n",
              "#T_0d175_row7_col2 {\n",
              "  background-color: #0d7836;\n",
              "  color: #f1f1f1;\n",
              "}\n",
              "#T_0d175_row7_col3 {\n",
              "  background-color: #0c7735;\n",
              "  color: #f1f1f1;\n",
              "}\n",
              "#T_0d175_row7_col4 {\n",
              "  background-color: #4eb264;\n",
              "  color: #f1f1f1;\n",
              "}\n",
              "#T_0d175_row7_col5 {\n",
              "  background-color: #d4eece;\n",
              "  color: #000000;\n",
              "}\n",
              "#T_0d175_row9_col2 {\n",
              "  background-color: #258d47;\n",
              "  color: #f1f1f1;\n",
              "}\n",
              "#T_0d175_row9_col4 {\n",
              "  background-color: #b5e1ae;\n",
              "  color: #000000;\n",
              "}\n",
              "#T_0d175_row11_col4 {\n",
              "  background-color: #cbebc5;\n",
              "  color: #000000;\n",
              "}\n",
              "</style>\n",
              "<table id=\"T_0d175_\" class=\"dataframe\">\n",
              "  <thead>\n",
              "    <tr>\n",
              "      <th class=\"blank level0\" >&nbsp;</th>\n",
              "      <th class=\"col_heading level0 col0\" >mse</th>\n",
              "      <th class=\"col_heading level0 col1\" >rmse</th>\n",
              "      <th class=\"col_heading level0 col2\" >mae</th>\n",
              "      <th class=\"col_heading level0 col3\" >nmae</th>\n",
              "      <th class=\"col_heading level0 col4\" >mape</th>\n",
              "      <th class=\"col_heading level0 col5\" >r2</th>\n",
              "    </tr>\n",
              "  </thead>\n",
              "  <tbody>\n",
              "    <tr>\n",
              "      <th id=\"T_0d175_level0_row0\" class=\"row_heading level0 row0\" >linear</th>\n",
              "      <td id=\"T_0d175_row0_col0\" class=\"data row0 col0\" >0.222000</td>\n",
              "      <td id=\"T_0d175_row0_col1\" class=\"data row0 col1\" >0.471000</td>\n",
              "      <td id=\"T_0d175_row0_col2\" class=\"data row0 col2\" >0.362000</td>\n",
              "      <td id=\"T_0d175_row0_col3\" class=\"data row0 col3\" >0.521000</td>\n",
              "      <td id=\"T_0d175_row0_col4\" class=\"data row0 col4\" >579.145000</td>\n",
              "      <td id=\"T_0d175_row0_col5\" class=\"data row0 col5\" >0.778000</td>\n",
              "    </tr>\n",
              "    <tr>\n",
              "      <th id=\"T_0d175_level0_row1\" class=\"row_heading level0 row1\" >quad</th>\n",
              "      <td id=\"T_0d175_row1_col0\" class=\"data row1 col0\" >0.343000</td>\n",
              "      <td id=\"T_0d175_row1_col1\" class=\"data row1 col1\" >0.586000</td>\n",
              "      <td id=\"T_0d175_row1_col2\" class=\"data row1 col2\" >0.445000</td>\n",
              "      <td id=\"T_0d175_row1_col3\" class=\"data row1 col3\" >0.640000</td>\n",
              "      <td id=\"T_0d175_row1_col4\" class=\"data row1 col4\" >713.233000</td>\n",
              "      <td id=\"T_0d175_row1_col5\" class=\"data row1 col5\" >0.657000</td>\n",
              "    </tr>\n",
              "    <tr>\n",
              "      <th id=\"T_0d175_level0_row2\" class=\"row_heading level0 row2\" >cubic</th>\n",
              "      <td id=\"T_0d175_row2_col0\" class=\"data row2 col0\" >0.315000</td>\n",
              "      <td id=\"T_0d175_row2_col1\" class=\"data row2 col1\" >0.562000</td>\n",
              "      <td id=\"T_0d175_row2_col2\" class=\"data row2 col2\" >0.422000</td>\n",
              "      <td id=\"T_0d175_row2_col3\" class=\"data row2 col3\" >0.606000</td>\n",
              "      <td id=\"T_0d175_row2_col4\" class=\"data row2 col4\" >652.893000</td>\n",
              "      <td id=\"T_0d175_row2_col5\" class=\"data row2 col5\" >0.685000</td>\n",
              "    </tr>\n",
              "    <tr>\n",
              "      <th id=\"T_0d175_level0_row3\" class=\"row_heading level0 row3\" >tree</th>\n",
              "      <td id=\"T_0d175_row3_col0\" class=\"data row3 col0\" >0.307000</td>\n",
              "      <td id=\"T_0d175_row3_col1\" class=\"data row3 col1\" >0.554000</td>\n",
              "      <td id=\"T_0d175_row3_col2\" class=\"data row3 col2\" >0.402000</td>\n",
              "      <td id=\"T_0d175_row3_col3\" class=\"data row3 col3\" >0.578000</td>\n",
              "      <td id=\"T_0d175_row3_col4\" class=\"data row3 col4\" >580.727000</td>\n",
              "      <td id=\"T_0d175_row3_col5\" class=\"data row3 col5\" >0.693000</td>\n",
              "    </tr>\n",
              "    <tr>\n",
              "      <th id=\"T_0d175_level0_row4\" class=\"row_heading level0 row4\" >forest</th>\n",
              "      <td id=\"T_0d175_row4_col0\" class=\"data row4 col0\" >0.439000</td>\n",
              "      <td id=\"T_0d175_row4_col1\" class=\"data row4 col1\" >0.663000</td>\n",
              "      <td id=\"T_0d175_row4_col2\" class=\"data row4 col2\" >0.476000</td>\n",
              "      <td id=\"T_0d175_row4_col3\" class=\"data row4 col3\" >0.685000</td>\n",
              "      <td id=\"T_0d175_row4_col4\" class=\"data row4 col4\" >478.131000</td>\n",
              "      <td id=\"T_0d175_row4_col5\" class=\"data row4 col5\" >0.561000</td>\n",
              "    </tr>\n",
              "    <tr>\n",
              "      <th id=\"T_0d175_level0_row5\" class=\"row_heading level0 row5\" >et</th>\n",
              "      <td id=\"T_0d175_row5_col0\" class=\"data row5 col0\" >0.438000</td>\n",
              "      <td id=\"T_0d175_row5_col1\" class=\"data row5 col1\" >0.662000</td>\n",
              "      <td id=\"T_0d175_row5_col2\" class=\"data row5 col2\" >0.477000</td>\n",
              "      <td id=\"T_0d175_row5_col3\" class=\"data row5 col3\" >0.686000</td>\n",
              "      <td id=\"T_0d175_row5_col4\" class=\"data row5 col4\" >417.761000</td>\n",
              "      <td id=\"T_0d175_row5_col5\" class=\"data row5 col5\" >0.562000</td>\n",
              "    </tr>\n",
              "    <tr>\n",
              "      <th id=\"T_0d175_level0_row6\" class=\"row_heading level0 row6\" >gb</th>\n",
              "      <td id=\"T_0d175_row6_col0\" class=\"data row6 col0\" >0.336000</td>\n",
              "      <td id=\"T_0d175_row6_col1\" class=\"data row6 col1\" >0.580000</td>\n",
              "      <td id=\"T_0d175_row6_col2\" class=\"data row6 col2\" >0.409000</td>\n",
              "      <td id=\"T_0d175_row6_col3\" class=\"data row6 col3\" >0.588000</td>\n",
              "      <td id=\"T_0d175_row6_col4\" class=\"data row6 col4\" >410.178000</td>\n",
              "      <td id=\"T_0d175_row6_col5\" class=\"data row6 col5\" >0.664000</td>\n",
              "    </tr>\n",
              "    <tr>\n",
              "      <th id=\"T_0d175_level0_row7\" class=\"row_heading level0 row7\" >xgb</th>\n",
              "      <td id=\"T_0d175_row7_col0\" class=\"data row7 col0\" >0.322000</td>\n",
              "      <td id=\"T_0d175_row7_col1\" class=\"data row7 col1\" >0.567000</td>\n",
              "      <td id=\"T_0d175_row7_col2\" class=\"data row7 col2\" >0.400000</td>\n",
              "      <td id=\"T_0d175_row7_col3\" class=\"data row7 col3\" >0.574000</td>\n",
              "      <td id=\"T_0d175_row7_col4\" class=\"data row7 col4\" >400.252000</td>\n",
              "      <td id=\"T_0d175_row7_col5\" class=\"data row7 col5\" >0.678000</td>\n",
              "    </tr>\n",
              "    <tr>\n",
              "      <th id=\"T_0d175_level0_row8\" class=\"row_heading level0 row8\" >ridge</th>\n",
              "      <td id=\"T_0d175_row8_col0\" class=\"data row8 col0\" >0.222000</td>\n",
              "      <td id=\"T_0d175_row8_col1\" class=\"data row8 col1\" >0.471000</td>\n",
              "      <td id=\"T_0d175_row8_col2\" class=\"data row8 col2\" >0.362000</td>\n",
              "      <td id=\"T_0d175_row8_col3\" class=\"data row8 col3\" >0.520000</td>\n",
              "      <td id=\"T_0d175_row8_col4\" class=\"data row8 col4\" >579.405000</td>\n",
              "      <td id=\"T_0d175_row8_col5\" class=\"data row8 col5\" >0.778000</td>\n",
              "    </tr>\n",
              "    <tr>\n",
              "      <th id=\"T_0d175_level0_row9\" class=\"row_heading level0 row9\" >lasso</th>\n",
              "      <td id=\"T_0d175_row9_col0\" class=\"data row9 col0\" >0.315000</td>\n",
              "      <td id=\"T_0d175_row9_col1\" class=\"data row9 col1\" >0.561000</td>\n",
              "      <td id=\"T_0d175_row9_col2\" class=\"data row9 col2\" >0.421000</td>\n",
              "      <td id=\"T_0d175_row9_col3\" class=\"data row9 col3\" >0.606000</td>\n",
              "      <td id=\"T_0d175_row9_col4\" class=\"data row9 col4\" >549.237000</td>\n",
              "      <td id=\"T_0d175_row9_col5\" class=\"data row9 col5\" >0.685000</td>\n",
              "    </tr>\n",
              "    <tr>\n",
              "      <th id=\"T_0d175_level0_row10\" class=\"row_heading level0 row10\" >elastic</th>\n",
              "      <td id=\"T_0d175_row10_col0\" class=\"data row10 col0\" >0.741000</td>\n",
              "      <td id=\"T_0d175_row10_col1\" class=\"data row10 col1\" >0.861000</td>\n",
              "      <td id=\"T_0d175_row10_col2\" class=\"data row10 col2\" >0.596000</td>\n",
              "      <td id=\"T_0d175_row10_col3\" class=\"data row10 col3\" >0.857000</td>\n",
              "      <td id=\"T_0d175_row10_col4\" class=\"data row10 col4\" >184.115000</td>\n",
              "      <td id=\"T_0d175_row10_col5\" class=\"data row10 col5\" >0.259000</td>\n",
              "    </tr>\n",
              "    <tr>\n",
              "      <th id=\"T_0d175_level0_row11\" class=\"row_heading level0 row11\" >bayes_ridge</th>\n",
              "      <td id=\"T_0d175_row11_col0\" class=\"data row11 col0\" >0.220000</td>\n",
              "      <td id=\"T_0d175_row11_col1\" class=\"data row11 col1\" >0.469000</td>\n",
              "      <td id=\"T_0d175_row11_col2\" class=\"data row11 col2\" >0.359000</td>\n",
              "      <td id=\"T_0d175_row11_col3\" class=\"data row11 col3\" >0.516000</td>\n",
              "      <td id=\"T_0d175_row11_col4\" class=\"data row11 col4\" >590.402000</td>\n",
              "      <td id=\"T_0d175_row11_col5\" class=\"data row11 col5\" >0.780000</td>\n",
              "    </tr>\n",
              "  </tbody>\n",
              "</table>\n"
            ]
          },
          "metadata": {},
          "execution_count": 78
        }
      ]
    },
    {
      "cell_type": "code",
      "source": [
        "# 성능을 비교해 볼때 가장 좋은 것은 ridge, bayes_ridge 두 모델이다. \n",
        "# (R2 값이 너무 낮으면 적절하지 않은 모델이다. 그러므로 elastic은 전반적으로 좋은 수치지만 적절하지 않다.)"
      ],
      "metadata": {
        "id": "PrqnE8ryceBP"
      },
      "execution_count": null,
      "outputs": []
    },
    {
      "cell_type": "markdown",
      "source": [
        "## **과제2: 해외 축구 선수 이적료 예측 미션**\n",
        "---\n",
        "\n",
        "* https://dacon.io/competitions/open/235538/overview/description\n",
        "* 수업 시간에 배운 내용들을 적용하여 이적료 예측을 진행하고 리더보드에 결과를 제출합니다."
      ],
      "metadata": {
        "id": "ZFUD38WPFP4Y"
      }
    },
    {
      "cell_type": "code",
      "source": [
        "df=pd.read_csv('/content/sample_data/FIFA_train.csv')\n",
        "df.head()"
      ],
      "metadata": {
        "id": "KKEbLngkFdwk",
        "colab": {
          "base_uri": "https://localhost:8080/",
          "height": 206
        },
        "outputId": "c1fa748e-5852-45ee-e26f-fec1caf82fc4"
      },
      "execution_count": 16,
      "outputs": [
        {
          "output_type": "execute_result",
          "data": {
            "text/plain": [
              "   id          name  age      continent contract_until position prefer_foot  \\\n",
              "0   0      L. Messi   31  south america           2021       ST        left   \n",
              "1   3        De Gea   27         europe           2020       GK       right   \n",
              "2   7     L. Suárez   31  south america           2021       ST       right   \n",
              "3   8  Sergio Ramos   32         europe           2020       DF       right   \n",
              "4   9      J. Oblak   25         europe           2021       GK       right   \n",
              "\n",
              "   reputation  stat_overall  stat_potential  stat_skill_moves        value  \n",
              "0         5.0            94              94               4.0  110500000.0  \n",
              "1         4.0            91              93               1.0   72000000.0  \n",
              "2         5.0            91              91               3.0   80000000.0  \n",
              "3         4.0            91              91               3.0   51000000.0  \n",
              "4         3.0            90              93               1.0   68000000.0  "
            ],
            "text/html": [
              "\n",
              "  <div id=\"df-5bbcd4c4-8aec-4c11-a55c-57c27a31730c\">\n",
              "    <div class=\"colab-df-container\">\n",
              "      <div>\n",
              "<style scoped>\n",
              "    .dataframe tbody tr th:only-of-type {\n",
              "        vertical-align: middle;\n",
              "    }\n",
              "\n",
              "    .dataframe tbody tr th {\n",
              "        vertical-align: top;\n",
              "    }\n",
              "\n",
              "    .dataframe thead th {\n",
              "        text-align: right;\n",
              "    }\n",
              "</style>\n",
              "<table border=\"1\" class=\"dataframe\">\n",
              "  <thead>\n",
              "    <tr style=\"text-align: right;\">\n",
              "      <th></th>\n",
              "      <th>id</th>\n",
              "      <th>name</th>\n",
              "      <th>age</th>\n",
              "      <th>continent</th>\n",
              "      <th>contract_until</th>\n",
              "      <th>position</th>\n",
              "      <th>prefer_foot</th>\n",
              "      <th>reputation</th>\n",
              "      <th>stat_overall</th>\n",
              "      <th>stat_potential</th>\n",
              "      <th>stat_skill_moves</th>\n",
              "      <th>value</th>\n",
              "    </tr>\n",
              "  </thead>\n",
              "  <tbody>\n",
              "    <tr>\n",
              "      <th>0</th>\n",
              "      <td>0</td>\n",
              "      <td>L. Messi</td>\n",
              "      <td>31</td>\n",
              "      <td>south america</td>\n",
              "      <td>2021</td>\n",
              "      <td>ST</td>\n",
              "      <td>left</td>\n",
              "      <td>5.0</td>\n",
              "      <td>94</td>\n",
              "      <td>94</td>\n",
              "      <td>4.0</td>\n",
              "      <td>110500000.0</td>\n",
              "    </tr>\n",
              "    <tr>\n",
              "      <th>1</th>\n",
              "      <td>3</td>\n",
              "      <td>De Gea</td>\n",
              "      <td>27</td>\n",
              "      <td>europe</td>\n",
              "      <td>2020</td>\n",
              "      <td>GK</td>\n",
              "      <td>right</td>\n",
              "      <td>4.0</td>\n",
              "      <td>91</td>\n",
              "      <td>93</td>\n",
              "      <td>1.0</td>\n",
              "      <td>72000000.0</td>\n",
              "    </tr>\n",
              "    <tr>\n",
              "      <th>2</th>\n",
              "      <td>7</td>\n",
              "      <td>L. Suárez</td>\n",
              "      <td>31</td>\n",
              "      <td>south america</td>\n",
              "      <td>2021</td>\n",
              "      <td>ST</td>\n",
              "      <td>right</td>\n",
              "      <td>5.0</td>\n",
              "      <td>91</td>\n",
              "      <td>91</td>\n",
              "      <td>3.0</td>\n",
              "      <td>80000000.0</td>\n",
              "    </tr>\n",
              "    <tr>\n",
              "      <th>3</th>\n",
              "      <td>8</td>\n",
              "      <td>Sergio Ramos</td>\n",
              "      <td>32</td>\n",
              "      <td>europe</td>\n",
              "      <td>2020</td>\n",
              "      <td>DF</td>\n",
              "      <td>right</td>\n",
              "      <td>4.0</td>\n",
              "      <td>91</td>\n",
              "      <td>91</td>\n",
              "      <td>3.0</td>\n",
              "      <td>51000000.0</td>\n",
              "    </tr>\n",
              "    <tr>\n",
              "      <th>4</th>\n",
              "      <td>9</td>\n",
              "      <td>J. Oblak</td>\n",
              "      <td>25</td>\n",
              "      <td>europe</td>\n",
              "      <td>2021</td>\n",
              "      <td>GK</td>\n",
              "      <td>right</td>\n",
              "      <td>3.0</td>\n",
              "      <td>90</td>\n",
              "      <td>93</td>\n",
              "      <td>1.0</td>\n",
              "      <td>68000000.0</td>\n",
              "    </tr>\n",
              "  </tbody>\n",
              "</table>\n",
              "</div>\n",
              "      <button class=\"colab-df-convert\" onclick=\"convertToInteractive('df-5bbcd4c4-8aec-4c11-a55c-57c27a31730c')\"\n",
              "              title=\"Convert this dataframe to an interactive table.\"\n",
              "              style=\"display:none;\">\n",
              "        \n",
              "  <svg xmlns=\"http://www.w3.org/2000/svg\" height=\"24px\"viewBox=\"0 0 24 24\"\n",
              "       width=\"24px\">\n",
              "    <path d=\"M0 0h24v24H0V0z\" fill=\"none\"/>\n",
              "    <path d=\"M18.56 5.44l.94 2.06.94-2.06 2.06-.94-2.06-.94-.94-2.06-.94 2.06-2.06.94zm-11 1L8.5 8.5l.94-2.06 2.06-.94-2.06-.94L8.5 2.5l-.94 2.06-2.06.94zm10 10l.94 2.06.94-2.06 2.06-.94-2.06-.94-.94-2.06-.94 2.06-2.06.94z\"/><path d=\"M17.41 7.96l-1.37-1.37c-.4-.4-.92-.59-1.43-.59-.52 0-1.04.2-1.43.59L10.3 9.45l-7.72 7.72c-.78.78-.78 2.05 0 2.83L4 21.41c.39.39.9.59 1.41.59.51 0 1.02-.2 1.41-.59l7.78-7.78 2.81-2.81c.8-.78.8-2.07 0-2.86zM5.41 20L4 18.59l7.72-7.72 1.47 1.35L5.41 20z\"/>\n",
              "  </svg>\n",
              "      </button>\n",
              "      \n",
              "  <style>\n",
              "    .colab-df-container {\n",
              "      display:flex;\n",
              "      flex-wrap:wrap;\n",
              "      gap: 12px;\n",
              "    }\n",
              "\n",
              "    .colab-df-convert {\n",
              "      background-color: #E8F0FE;\n",
              "      border: none;\n",
              "      border-radius: 50%;\n",
              "      cursor: pointer;\n",
              "      display: none;\n",
              "      fill: #1967D2;\n",
              "      height: 32px;\n",
              "      padding: 0 0 0 0;\n",
              "      width: 32px;\n",
              "    }\n",
              "\n",
              "    .colab-df-convert:hover {\n",
              "      background-color: #E2EBFA;\n",
              "      box-shadow: 0px 1px 2px rgba(60, 64, 67, 0.3), 0px 1px 3px 1px rgba(60, 64, 67, 0.15);\n",
              "      fill: #174EA6;\n",
              "    }\n",
              "\n",
              "    [theme=dark] .colab-df-convert {\n",
              "      background-color: #3B4455;\n",
              "      fill: #D2E3FC;\n",
              "    }\n",
              "\n",
              "    [theme=dark] .colab-df-convert:hover {\n",
              "      background-color: #434B5C;\n",
              "      box-shadow: 0px 1px 3px 1px rgba(0, 0, 0, 0.15);\n",
              "      filter: drop-shadow(0px 1px 2px rgba(0, 0, 0, 0.3));\n",
              "      fill: #FFFFFF;\n",
              "    }\n",
              "  </style>\n",
              "\n",
              "      <script>\n",
              "        const buttonEl =\n",
              "          document.querySelector('#df-5bbcd4c4-8aec-4c11-a55c-57c27a31730c button.colab-df-convert');\n",
              "        buttonEl.style.display =\n",
              "          google.colab.kernel.accessAllowed ? 'block' : 'none';\n",
              "\n",
              "        async function convertToInteractive(key) {\n",
              "          const element = document.querySelector('#df-5bbcd4c4-8aec-4c11-a55c-57c27a31730c');\n",
              "          const dataTable =\n",
              "            await google.colab.kernel.invokeFunction('convertToInteractive',\n",
              "                                                     [key], {});\n",
              "          if (!dataTable) return;\n",
              "\n",
              "          const docLinkHtml = 'Like what you see? Visit the ' +\n",
              "            '<a target=\"_blank\" href=https://colab.research.google.com/notebooks/data_table.ipynb>data table notebook</a>'\n",
              "            + ' to learn more about interactive tables.';\n",
              "          element.innerHTML = '';\n",
              "          dataTable['output_type'] = 'display_data';\n",
              "          await google.colab.output.renderOutput(dataTable, element);\n",
              "          const docLink = document.createElement('div');\n",
              "          docLink.innerHTML = docLinkHtml;\n",
              "          element.appendChild(docLink);\n",
              "        }\n",
              "      </script>\n",
              "    </div>\n",
              "  </div>\n",
              "  "
            ]
          },
          "metadata": {},
          "execution_count": 16
        }
      ]
    },
    {
      "cell_type": "code",
      "source": [
        "df.isnull().sum()"
      ],
      "metadata": {
        "colab": {
          "base_uri": "https://localhost:8080/"
        },
        "id": "1uoyYpt0eamY",
        "outputId": "d4426ecd-6762-4eee-8e83-fe0d8d96cf32"
      },
      "execution_count": 17,
      "outputs": [
        {
          "output_type": "execute_result",
          "data": {
            "text/plain": [
              "id                  0\n",
              "name                0\n",
              "age                 0\n",
              "continent           0\n",
              "contract_until      0\n",
              "position            0\n",
              "prefer_foot         0\n",
              "reputation          0\n",
              "stat_overall        0\n",
              "stat_potential      0\n",
              "stat_skill_moves    0\n",
              "value               0\n",
              "dtype: int64"
            ]
          },
          "metadata": {},
          "execution_count": 17
        }
      ]
    },
    {
      "cell_type": "code",
      "source": [
        "df.info()"
      ],
      "metadata": {
        "colab": {
          "base_uri": "https://localhost:8080/"
        },
        "id": "C7TDflGsfhpH",
        "outputId": "6600105b-22e0-4b08-a87c-f187f2a26b37"
      },
      "execution_count": 18,
      "outputs": [
        {
          "output_type": "stream",
          "name": "stdout",
          "text": [
            "<class 'pandas.core.frame.DataFrame'>\n",
            "RangeIndex: 8932 entries, 0 to 8931\n",
            "Data columns (total 12 columns):\n",
            " #   Column            Non-Null Count  Dtype  \n",
            "---  ------            --------------  -----  \n",
            " 0   id                8932 non-null   int64  \n",
            " 1   name              8932 non-null   object \n",
            " 2   age               8932 non-null   int64  \n",
            " 3   continent         8932 non-null   object \n",
            " 4   contract_until    8932 non-null   object \n",
            " 5   position          8932 non-null   object \n",
            " 6   prefer_foot       8932 non-null   object \n",
            " 7   reputation        8932 non-null   float64\n",
            " 8   stat_overall      8932 non-null   int64  \n",
            " 9   stat_potential    8932 non-null   int64  \n",
            " 10  stat_skill_moves  8932 non-null   float64\n",
            " 11  value             8932 non-null   float64\n",
            "dtypes: float64(3), int64(4), object(5)\n",
            "memory usage: 837.5+ KB\n"
          ]
        }
      ]
    },
    {
      "cell_type": "code",
      "source": [
        "df.describe()"
      ],
      "metadata": {
        "colab": {
          "base_uri": "https://localhost:8080/",
          "height": 300
        },
        "id": "LR6tCsFYfm-n",
        "outputId": "ca666c80-2366-41e2-ac62-16e9509e5396"
      },
      "execution_count": 19,
      "outputs": [
        {
          "output_type": "execute_result",
          "data": {
            "text/plain": [
              "                 id          age   reputation  stat_overall  stat_potential  \\\n",
              "count   8932.000000  8932.000000  8932.000000   8932.000000     8932.000000   \n",
              "mean    7966.775750    25.209136     1.130878     67.091133       71.997201   \n",
              "std     4844.428521     4.635515     0.423792      6.854910        5.988147   \n",
              "min        0.000000    16.000000     1.000000     47.000000       48.000000   \n",
              "25%     3751.750000    21.000000     1.000000     63.000000       68.000000   \n",
              "50%     7696.500000    25.000000     1.000000     67.000000       72.000000   \n",
              "75%    12082.250000    28.000000     1.000000     72.000000       76.000000   \n",
              "max    16948.000000    40.000000     5.000000     94.000000       94.000000   \n",
              "\n",
              "       stat_skill_moves         value  \n",
              "count       8932.000000  8.932000e+03  \n",
              "mean           2.401702  2.778673e+06  \n",
              "std            0.776048  5.840982e+06  \n",
              "min            1.000000  1.000000e+04  \n",
              "25%            2.000000  3.750000e+05  \n",
              "50%            2.000000  8.250000e+05  \n",
              "75%            3.000000  2.600000e+06  \n",
              "max            5.000000  1.105000e+08  "
            ],
            "text/html": [
              "\n",
              "  <div id=\"df-645aff0e-cf07-423b-a216-0b98a7ff787c\">\n",
              "    <div class=\"colab-df-container\">\n",
              "      <div>\n",
              "<style scoped>\n",
              "    .dataframe tbody tr th:only-of-type {\n",
              "        vertical-align: middle;\n",
              "    }\n",
              "\n",
              "    .dataframe tbody tr th {\n",
              "        vertical-align: top;\n",
              "    }\n",
              "\n",
              "    .dataframe thead th {\n",
              "        text-align: right;\n",
              "    }\n",
              "</style>\n",
              "<table border=\"1\" class=\"dataframe\">\n",
              "  <thead>\n",
              "    <tr style=\"text-align: right;\">\n",
              "      <th></th>\n",
              "      <th>id</th>\n",
              "      <th>age</th>\n",
              "      <th>reputation</th>\n",
              "      <th>stat_overall</th>\n",
              "      <th>stat_potential</th>\n",
              "      <th>stat_skill_moves</th>\n",
              "      <th>value</th>\n",
              "    </tr>\n",
              "  </thead>\n",
              "  <tbody>\n",
              "    <tr>\n",
              "      <th>count</th>\n",
              "      <td>8932.000000</td>\n",
              "      <td>8932.000000</td>\n",
              "      <td>8932.000000</td>\n",
              "      <td>8932.000000</td>\n",
              "      <td>8932.000000</td>\n",
              "      <td>8932.000000</td>\n",
              "      <td>8.932000e+03</td>\n",
              "    </tr>\n",
              "    <tr>\n",
              "      <th>mean</th>\n",
              "      <td>7966.775750</td>\n",
              "      <td>25.209136</td>\n",
              "      <td>1.130878</td>\n",
              "      <td>67.091133</td>\n",
              "      <td>71.997201</td>\n",
              "      <td>2.401702</td>\n",
              "      <td>2.778673e+06</td>\n",
              "    </tr>\n",
              "    <tr>\n",
              "      <th>std</th>\n",
              "      <td>4844.428521</td>\n",
              "      <td>4.635515</td>\n",
              "      <td>0.423792</td>\n",
              "      <td>6.854910</td>\n",
              "      <td>5.988147</td>\n",
              "      <td>0.776048</td>\n",
              "      <td>5.840982e+06</td>\n",
              "    </tr>\n",
              "    <tr>\n",
              "      <th>min</th>\n",
              "      <td>0.000000</td>\n",
              "      <td>16.000000</td>\n",
              "      <td>1.000000</td>\n",
              "      <td>47.000000</td>\n",
              "      <td>48.000000</td>\n",
              "      <td>1.000000</td>\n",
              "      <td>1.000000e+04</td>\n",
              "    </tr>\n",
              "    <tr>\n",
              "      <th>25%</th>\n",
              "      <td>3751.750000</td>\n",
              "      <td>21.000000</td>\n",
              "      <td>1.000000</td>\n",
              "      <td>63.000000</td>\n",
              "      <td>68.000000</td>\n",
              "      <td>2.000000</td>\n",
              "      <td>3.750000e+05</td>\n",
              "    </tr>\n",
              "    <tr>\n",
              "      <th>50%</th>\n",
              "      <td>7696.500000</td>\n",
              "      <td>25.000000</td>\n",
              "      <td>1.000000</td>\n",
              "      <td>67.000000</td>\n",
              "      <td>72.000000</td>\n",
              "      <td>2.000000</td>\n",
              "      <td>8.250000e+05</td>\n",
              "    </tr>\n",
              "    <tr>\n",
              "      <th>75%</th>\n",
              "      <td>12082.250000</td>\n",
              "      <td>28.000000</td>\n",
              "      <td>1.000000</td>\n",
              "      <td>72.000000</td>\n",
              "      <td>76.000000</td>\n",
              "      <td>3.000000</td>\n",
              "      <td>2.600000e+06</td>\n",
              "    </tr>\n",
              "    <tr>\n",
              "      <th>max</th>\n",
              "      <td>16948.000000</td>\n",
              "      <td>40.000000</td>\n",
              "      <td>5.000000</td>\n",
              "      <td>94.000000</td>\n",
              "      <td>94.000000</td>\n",
              "      <td>5.000000</td>\n",
              "      <td>1.105000e+08</td>\n",
              "    </tr>\n",
              "  </tbody>\n",
              "</table>\n",
              "</div>\n",
              "      <button class=\"colab-df-convert\" onclick=\"convertToInteractive('df-645aff0e-cf07-423b-a216-0b98a7ff787c')\"\n",
              "              title=\"Convert this dataframe to an interactive table.\"\n",
              "              style=\"display:none;\">\n",
              "        \n",
              "  <svg xmlns=\"http://www.w3.org/2000/svg\" height=\"24px\"viewBox=\"0 0 24 24\"\n",
              "       width=\"24px\">\n",
              "    <path d=\"M0 0h24v24H0V0z\" fill=\"none\"/>\n",
              "    <path d=\"M18.56 5.44l.94 2.06.94-2.06 2.06-.94-2.06-.94-.94-2.06-.94 2.06-2.06.94zm-11 1L8.5 8.5l.94-2.06 2.06-.94-2.06-.94L8.5 2.5l-.94 2.06-2.06.94zm10 10l.94 2.06.94-2.06 2.06-.94-2.06-.94-.94-2.06-.94 2.06-2.06.94z\"/><path d=\"M17.41 7.96l-1.37-1.37c-.4-.4-.92-.59-1.43-.59-.52 0-1.04.2-1.43.59L10.3 9.45l-7.72 7.72c-.78.78-.78 2.05 0 2.83L4 21.41c.39.39.9.59 1.41.59.51 0 1.02-.2 1.41-.59l7.78-7.78 2.81-2.81c.8-.78.8-2.07 0-2.86zM5.41 20L4 18.59l7.72-7.72 1.47 1.35L5.41 20z\"/>\n",
              "  </svg>\n",
              "      </button>\n",
              "      \n",
              "  <style>\n",
              "    .colab-df-container {\n",
              "      display:flex;\n",
              "      flex-wrap:wrap;\n",
              "      gap: 12px;\n",
              "    }\n",
              "\n",
              "    .colab-df-convert {\n",
              "      background-color: #E8F0FE;\n",
              "      border: none;\n",
              "      border-radius: 50%;\n",
              "      cursor: pointer;\n",
              "      display: none;\n",
              "      fill: #1967D2;\n",
              "      height: 32px;\n",
              "      padding: 0 0 0 0;\n",
              "      width: 32px;\n",
              "    }\n",
              "\n",
              "    .colab-df-convert:hover {\n",
              "      background-color: #E2EBFA;\n",
              "      box-shadow: 0px 1px 2px rgba(60, 64, 67, 0.3), 0px 1px 3px 1px rgba(60, 64, 67, 0.15);\n",
              "      fill: #174EA6;\n",
              "    }\n",
              "\n",
              "    [theme=dark] .colab-df-convert {\n",
              "      background-color: #3B4455;\n",
              "      fill: #D2E3FC;\n",
              "    }\n",
              "\n",
              "    [theme=dark] .colab-df-convert:hover {\n",
              "      background-color: #434B5C;\n",
              "      box-shadow: 0px 1px 3px 1px rgba(0, 0, 0, 0.15);\n",
              "      filter: drop-shadow(0px 1px 2px rgba(0, 0, 0, 0.3));\n",
              "      fill: #FFFFFF;\n",
              "    }\n",
              "  </style>\n",
              "\n",
              "      <script>\n",
              "        const buttonEl =\n",
              "          document.querySelector('#df-645aff0e-cf07-423b-a216-0b98a7ff787c button.colab-df-convert');\n",
              "        buttonEl.style.display =\n",
              "          google.colab.kernel.accessAllowed ? 'block' : 'none';\n",
              "\n",
              "        async function convertToInteractive(key) {\n",
              "          const element = document.querySelector('#df-645aff0e-cf07-423b-a216-0b98a7ff787c');\n",
              "          const dataTable =\n",
              "            await google.colab.kernel.invokeFunction('convertToInteractive',\n",
              "                                                     [key], {});\n",
              "          if (!dataTable) return;\n",
              "\n",
              "          const docLinkHtml = 'Like what you see? Visit the ' +\n",
              "            '<a target=\"_blank\" href=https://colab.research.google.com/notebooks/data_table.ipynb>data table notebook</a>'\n",
              "            + ' to learn more about interactive tables.';\n",
              "          element.innerHTML = '';\n",
              "          dataTable['output_type'] = 'display_data';\n",
              "          await google.colab.output.renderOutput(dataTable, element);\n",
              "          const docLink = document.createElement('div');\n",
              "          docLink.innerHTML = docLinkHtml;\n",
              "          element.appendChild(docLink);\n",
              "        }\n",
              "      </script>\n",
              "    </div>\n",
              "  </div>\n",
              "  "
            ]
          },
          "metadata": {},
          "execution_count": 19
        }
      ]
    },
    {
      "cell_type": "code",
      "source": [
        "df.columns"
      ],
      "metadata": {
        "colab": {
          "base_uri": "https://localhost:8080/"
        },
        "id": "GDXhsPWnfpR_",
        "outputId": "79c51e3d-51c6-4974-f4ba-d9d346e82928"
      },
      "execution_count": 20,
      "outputs": [
        {
          "output_type": "execute_result",
          "data": {
            "text/plain": [
              "Index(['id', 'name', 'age', 'continent', 'contract_until', 'position',\n",
              "       'prefer_foot', 'reputation', 'stat_overall', 'stat_potential',\n",
              "       'stat_skill_moves', 'value'],\n",
              "      dtype='object')"
            ]
          },
          "metadata": {},
          "execution_count": 20
        }
      ]
    },
    {
      "cell_type": "code",
      "source": [
        "for col in df.columns:\n",
        "  n_unique = len(df[col].unique())\n",
        "  print(col, len(df[col].unique()))"
      ],
      "metadata": {
        "colab": {
          "base_uri": "https://localhost:8080/"
        },
        "id": "JQWSVvYofxwH",
        "outputId": "6ef1fab2-d403-4092-f645-e982428dd4cc"
      },
      "execution_count": 21,
      "outputs": [
        {
          "output_type": "stream",
          "name": "stdout",
          "text": [
            "id 8932\n",
            "name 8932\n",
            "age 25\n",
            "continent 5\n",
            "contract_until 17\n",
            "position 4\n",
            "prefer_foot 2\n",
            "reputation 5\n",
            "stat_overall 46\n",
            "stat_potential 45\n",
            "stat_skill_moves 5\n",
            "value 198\n"
          ]
        }
      ]
    },
    {
      "cell_type": "code",
      "source": [
        "df.continent.unique()"
      ],
      "metadata": {
        "colab": {
          "base_uri": "https://localhost:8080/"
        },
        "id": "6hXdhducGDGg",
        "outputId": "a0880b94-0cb0-46b3-9358-42a12466ad52"
      },
      "execution_count": 22,
      "outputs": [
        {
          "output_type": "execute_result",
          "data": {
            "text/plain": [
              "array(['south america', 'europe', 'africa', 'asia', 'oceania'],\n",
              "      dtype=object)"
            ]
          },
          "metadata": {},
          "execution_count": 22
        }
      ]
    },
    {
      "cell_type": "code",
      "source": [
        "df = df.drop(['id','name'], axis = 1) # id 와 name 은 필요없는 데이터이기 때문에 삭제\n",
        "df.loc[df.position == 'GK','position'] = 1 # 각각의 포지션을 숫자 범주로 변경 (GK=1, ST=2, MF=3, DF=4) \n",
        "df.loc[df.position == 'ST','position'] = 2\n",
        "df.loc[df.position == 'MF','position'] = 3\n",
        "df.loc[df.position == 'DF','position'] = 4"
      ],
      "metadata": {
        "id": "HZo0r1toiyQu"
      },
      "execution_count": 23,
      "outputs": []
    },
    {
      "cell_type": "code",
      "source": [
        "df.loc[df.prefer_foot == 'left','prefer_foot'] = 0  # 왼발을 0, 오른발을 1로 설정\n",
        "df.loc[df.prefer_foot == 'right','prefer_foot'] = 1"
      ],
      "metadata": {
        "id": "Y2MF193fm2QW"
      },
      "execution_count": 24,
      "outputs": []
    },
    {
      "cell_type": "code",
      "source": [
        "df.loc[df.continent == 'south america','continent'] = 1  # south america = 1 각 대륙을 번호로 설정\n",
        "df.loc[df.continent == 'europe','continent'] = 2  # europe = 2\n",
        "df.loc[df.continent == 'africa','continent'] = 3  # africa = 3\n",
        "df.loc[df.continent == 'asia','continent'] = 4  # asia = 4\n",
        "df.loc[df.continent == 'oceania','continent'] = 5  # oceania = 5"
      ],
      "metadata": {
        "id": "cNg9avA6Fju7"
      },
      "execution_count": 25,
      "outputs": []
    },
    {
      "cell_type": "code",
      "source": [
        "df # 전처리 완료"
      ],
      "metadata": {
        "id": "z_-sr16FGnHm",
        "outputId": "dbba923e-4d2b-46d0-e82d-fff0520093e7",
        "colab": {
          "base_uri": "https://localhost:8080/",
          "height": 424
        }
      },
      "execution_count": 26,
      "outputs": [
        {
          "output_type": "execute_result",
          "data": {
            "text/plain": [
              "      age continent contract_until position prefer_foot  reputation  \\\n",
              "0      31         1           2021        2           0         5.0   \n",
              "1      27         2           2020        1           1         4.0   \n",
              "2      31         1           2021        2           1         5.0   \n",
              "3      32         2           2020        4           1         4.0   \n",
              "4      25         2           2021        1           1         3.0   \n",
              "...   ...       ...            ...      ...         ...         ...   \n",
              "8927   18         3           2019        3           1         1.0   \n",
              "8928   19         2           2020        4           1         1.0   \n",
              "8929   18         1           2021        4           1         1.0   \n",
              "8930   18         2           2021        1           1         1.0   \n",
              "8931   19         2           2020        2           1         1.0   \n",
              "\n",
              "      stat_overall  stat_potential  stat_skill_moves        value  \n",
              "0               94              94               4.0  110500000.0  \n",
              "1               91              93               1.0   72000000.0  \n",
              "2               91              91               3.0   80000000.0  \n",
              "3               91              91               3.0   51000000.0  \n",
              "4               90              93               1.0   68000000.0  \n",
              "...            ...             ...               ...          ...  \n",
              "8927            48              63               3.0      60000.0  \n",
              "8928            47              59               2.0      40000.0  \n",
              "8929            47              64               2.0      50000.0  \n",
              "8930            47              65               1.0      50000.0  \n",
              "8931            47              63               2.0      60000.0  \n",
              "\n",
              "[8932 rows x 10 columns]"
            ],
            "text/html": [
              "\n",
              "  <div id=\"df-b4104be5-14b2-48fc-a0dc-9c5e27ad0bdc\">\n",
              "    <div class=\"colab-df-container\">\n",
              "      <div>\n",
              "<style scoped>\n",
              "    .dataframe tbody tr th:only-of-type {\n",
              "        vertical-align: middle;\n",
              "    }\n",
              "\n",
              "    .dataframe tbody tr th {\n",
              "        vertical-align: top;\n",
              "    }\n",
              "\n",
              "    .dataframe thead th {\n",
              "        text-align: right;\n",
              "    }\n",
              "</style>\n",
              "<table border=\"1\" class=\"dataframe\">\n",
              "  <thead>\n",
              "    <tr style=\"text-align: right;\">\n",
              "      <th></th>\n",
              "      <th>age</th>\n",
              "      <th>continent</th>\n",
              "      <th>contract_until</th>\n",
              "      <th>position</th>\n",
              "      <th>prefer_foot</th>\n",
              "      <th>reputation</th>\n",
              "      <th>stat_overall</th>\n",
              "      <th>stat_potential</th>\n",
              "      <th>stat_skill_moves</th>\n",
              "      <th>value</th>\n",
              "    </tr>\n",
              "  </thead>\n",
              "  <tbody>\n",
              "    <tr>\n",
              "      <th>0</th>\n",
              "      <td>31</td>\n",
              "      <td>1</td>\n",
              "      <td>2021</td>\n",
              "      <td>2</td>\n",
              "      <td>0</td>\n",
              "      <td>5.0</td>\n",
              "      <td>94</td>\n",
              "      <td>94</td>\n",
              "      <td>4.0</td>\n",
              "      <td>110500000.0</td>\n",
              "    </tr>\n",
              "    <tr>\n",
              "      <th>1</th>\n",
              "      <td>27</td>\n",
              "      <td>2</td>\n",
              "      <td>2020</td>\n",
              "      <td>1</td>\n",
              "      <td>1</td>\n",
              "      <td>4.0</td>\n",
              "      <td>91</td>\n",
              "      <td>93</td>\n",
              "      <td>1.0</td>\n",
              "      <td>72000000.0</td>\n",
              "    </tr>\n",
              "    <tr>\n",
              "      <th>2</th>\n",
              "      <td>31</td>\n",
              "      <td>1</td>\n",
              "      <td>2021</td>\n",
              "      <td>2</td>\n",
              "      <td>1</td>\n",
              "      <td>5.0</td>\n",
              "      <td>91</td>\n",
              "      <td>91</td>\n",
              "      <td>3.0</td>\n",
              "      <td>80000000.0</td>\n",
              "    </tr>\n",
              "    <tr>\n",
              "      <th>3</th>\n",
              "      <td>32</td>\n",
              "      <td>2</td>\n",
              "      <td>2020</td>\n",
              "      <td>4</td>\n",
              "      <td>1</td>\n",
              "      <td>4.0</td>\n",
              "      <td>91</td>\n",
              "      <td>91</td>\n",
              "      <td>3.0</td>\n",
              "      <td>51000000.0</td>\n",
              "    </tr>\n",
              "    <tr>\n",
              "      <th>4</th>\n",
              "      <td>25</td>\n",
              "      <td>2</td>\n",
              "      <td>2021</td>\n",
              "      <td>1</td>\n",
              "      <td>1</td>\n",
              "      <td>3.0</td>\n",
              "      <td>90</td>\n",
              "      <td>93</td>\n",
              "      <td>1.0</td>\n",
              "      <td>68000000.0</td>\n",
              "    </tr>\n",
              "    <tr>\n",
              "      <th>...</th>\n",
              "      <td>...</td>\n",
              "      <td>...</td>\n",
              "      <td>...</td>\n",
              "      <td>...</td>\n",
              "      <td>...</td>\n",
              "      <td>...</td>\n",
              "      <td>...</td>\n",
              "      <td>...</td>\n",
              "      <td>...</td>\n",
              "      <td>...</td>\n",
              "    </tr>\n",
              "    <tr>\n",
              "      <th>8927</th>\n",
              "      <td>18</td>\n",
              "      <td>3</td>\n",
              "      <td>2019</td>\n",
              "      <td>3</td>\n",
              "      <td>1</td>\n",
              "      <td>1.0</td>\n",
              "      <td>48</td>\n",
              "      <td>63</td>\n",
              "      <td>3.0</td>\n",
              "      <td>60000.0</td>\n",
              "    </tr>\n",
              "    <tr>\n",
              "      <th>8928</th>\n",
              "      <td>19</td>\n",
              "      <td>2</td>\n",
              "      <td>2020</td>\n",
              "      <td>4</td>\n",
              "      <td>1</td>\n",
              "      <td>1.0</td>\n",
              "      <td>47</td>\n",
              "      <td>59</td>\n",
              "      <td>2.0</td>\n",
              "      <td>40000.0</td>\n",
              "    </tr>\n",
              "    <tr>\n",
              "      <th>8929</th>\n",
              "      <td>18</td>\n",
              "      <td>1</td>\n",
              "      <td>2021</td>\n",
              "      <td>4</td>\n",
              "      <td>1</td>\n",
              "      <td>1.0</td>\n",
              "      <td>47</td>\n",
              "      <td>64</td>\n",
              "      <td>2.0</td>\n",
              "      <td>50000.0</td>\n",
              "    </tr>\n",
              "    <tr>\n",
              "      <th>8930</th>\n",
              "      <td>18</td>\n",
              "      <td>2</td>\n",
              "      <td>2021</td>\n",
              "      <td>1</td>\n",
              "      <td>1</td>\n",
              "      <td>1.0</td>\n",
              "      <td>47</td>\n",
              "      <td>65</td>\n",
              "      <td>1.0</td>\n",
              "      <td>50000.0</td>\n",
              "    </tr>\n",
              "    <tr>\n",
              "      <th>8931</th>\n",
              "      <td>19</td>\n",
              "      <td>2</td>\n",
              "      <td>2020</td>\n",
              "      <td>2</td>\n",
              "      <td>1</td>\n",
              "      <td>1.0</td>\n",
              "      <td>47</td>\n",
              "      <td>63</td>\n",
              "      <td>2.0</td>\n",
              "      <td>60000.0</td>\n",
              "    </tr>\n",
              "  </tbody>\n",
              "</table>\n",
              "<p>8932 rows × 10 columns</p>\n",
              "</div>\n",
              "      <button class=\"colab-df-convert\" onclick=\"convertToInteractive('df-b4104be5-14b2-48fc-a0dc-9c5e27ad0bdc')\"\n",
              "              title=\"Convert this dataframe to an interactive table.\"\n",
              "              style=\"display:none;\">\n",
              "        \n",
              "  <svg xmlns=\"http://www.w3.org/2000/svg\" height=\"24px\"viewBox=\"0 0 24 24\"\n",
              "       width=\"24px\">\n",
              "    <path d=\"M0 0h24v24H0V0z\" fill=\"none\"/>\n",
              "    <path d=\"M18.56 5.44l.94 2.06.94-2.06 2.06-.94-2.06-.94-.94-2.06-.94 2.06-2.06.94zm-11 1L8.5 8.5l.94-2.06 2.06-.94-2.06-.94L8.5 2.5l-.94 2.06-2.06.94zm10 10l.94 2.06.94-2.06 2.06-.94-2.06-.94-.94-2.06-.94 2.06-2.06.94z\"/><path d=\"M17.41 7.96l-1.37-1.37c-.4-.4-.92-.59-1.43-.59-.52 0-1.04.2-1.43.59L10.3 9.45l-7.72 7.72c-.78.78-.78 2.05 0 2.83L4 21.41c.39.39.9.59 1.41.59.51 0 1.02-.2 1.41-.59l7.78-7.78 2.81-2.81c.8-.78.8-2.07 0-2.86zM5.41 20L4 18.59l7.72-7.72 1.47 1.35L5.41 20z\"/>\n",
              "  </svg>\n",
              "      </button>\n",
              "      \n",
              "  <style>\n",
              "    .colab-df-container {\n",
              "      display:flex;\n",
              "      flex-wrap:wrap;\n",
              "      gap: 12px;\n",
              "    }\n",
              "\n",
              "    .colab-df-convert {\n",
              "      background-color: #E8F0FE;\n",
              "      border: none;\n",
              "      border-radius: 50%;\n",
              "      cursor: pointer;\n",
              "      display: none;\n",
              "      fill: #1967D2;\n",
              "      height: 32px;\n",
              "      padding: 0 0 0 0;\n",
              "      width: 32px;\n",
              "    }\n",
              "\n",
              "    .colab-df-convert:hover {\n",
              "      background-color: #E2EBFA;\n",
              "      box-shadow: 0px 1px 2px rgba(60, 64, 67, 0.3), 0px 1px 3px 1px rgba(60, 64, 67, 0.15);\n",
              "      fill: #174EA6;\n",
              "    }\n",
              "\n",
              "    [theme=dark] .colab-df-convert {\n",
              "      background-color: #3B4455;\n",
              "      fill: #D2E3FC;\n",
              "    }\n",
              "\n",
              "    [theme=dark] .colab-df-convert:hover {\n",
              "      background-color: #434B5C;\n",
              "      box-shadow: 0px 1px 3px 1px rgba(0, 0, 0, 0.15);\n",
              "      filter: drop-shadow(0px 1px 2px rgba(0, 0, 0, 0.3));\n",
              "      fill: #FFFFFF;\n",
              "    }\n",
              "  </style>\n",
              "\n",
              "      <script>\n",
              "        const buttonEl =\n",
              "          document.querySelector('#df-b4104be5-14b2-48fc-a0dc-9c5e27ad0bdc button.colab-df-convert');\n",
              "        buttonEl.style.display =\n",
              "          google.colab.kernel.accessAllowed ? 'block' : 'none';\n",
              "\n",
              "        async function convertToInteractive(key) {\n",
              "          const element = document.querySelector('#df-b4104be5-14b2-48fc-a0dc-9c5e27ad0bdc');\n",
              "          const dataTable =\n",
              "            await google.colab.kernel.invokeFunction('convertToInteractive',\n",
              "                                                     [key], {});\n",
              "          if (!dataTable) return;\n",
              "\n",
              "          const docLinkHtml = 'Like what you see? Visit the ' +\n",
              "            '<a target=\"_blank\" href=https://colab.research.google.com/notebooks/data_table.ipynb>data table notebook</a>'\n",
              "            + ' to learn more about interactive tables.';\n",
              "          element.innerHTML = '';\n",
              "          dataTable['output_type'] = 'display_data';\n",
              "          await google.colab.output.renderOutput(dataTable, element);\n",
              "          const docLink = document.createElement('div');\n",
              "          docLink.innerHTML = docLinkHtml;\n",
              "          element.appendChild(docLink);\n",
              "        }\n",
              "      </script>\n",
              "    </div>\n",
              "  </div>\n",
              "  "
            ]
          },
          "metadata": {},
          "execution_count": 26
        }
      ]
    }
  ]
}