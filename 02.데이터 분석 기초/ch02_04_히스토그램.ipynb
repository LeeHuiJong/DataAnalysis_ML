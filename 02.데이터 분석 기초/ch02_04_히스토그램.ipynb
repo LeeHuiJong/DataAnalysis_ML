{
  "nbformat": 4,
  "nbformat_minor": 0,
  "metadata": {
    "colab": {
      "name": "ch02_04_히스토그램.ipynb",
      "provenance": [],
      "collapsed_sections": [],
      "toc_visible": true,
      "include_colab_link": true
    },
    "kernelspec": {
      "name": "python3",
      "display_name": "Python 3"
    },
    "language_info": {
      "name": "python"
    }
  },
  "cells": [
    {
      "cell_type": "markdown",
      "metadata": {
        "id": "view-in-github",
        "colab_type": "text"
      },
      "source": [
        "<a href=\"https://colab.research.google.com/github/LeeHuiJong/SkillTreePython-DataAnalysis/blob/main/ch02_04_%ED%9E%88%EC%8A%A4%ED%86%A0%EA%B7%B8%EB%9E%A8.ipynb\" target=\"_parent\"><img src=\"https://colab.research.google.com/assets/colab-badge.svg\" alt=\"Open In Colab\"/></a>"
      ]
    },
    {
      "cell_type": "markdown",
      "source": [
        "# Ch02.04 히스토그램\n",
        "\n",
        "---\n",
        "* 날짜:\n",
        "* 이름:\n",
        "\n",
        "\n",
        "```\n",
        "import numpy as np\n",
        "import pandas as pd\n",
        "import matplotlib.pyplot as plt\n",
        "import seaborn as sns\n",
        "\n",
        "plt.rcParams['figure.figsize'] = [6, 4]\n",
        "plt.style.use('seaborn-white')\n",
        "sns.set_style('white')\n",
        "\n",
        "```"
      ],
      "metadata": {
        "id": "ylXjSLUxXHxm"
      }
    },
    {
      "cell_type": "code",
      "execution_count": 1,
      "metadata": {
        "id": "TyVLPbux1Yu7"
      },
      "outputs": [],
      "source": [
        "import numpy as np  \n",
        "import pandas as pd\n",
        "import matplotlib.pyplot as plt\n",
        "import seaborn as sns\n",
        "\n",
        "plt.rcParams['figure.figsize'] = [6, 4]\n",
        "plt.style.use('seaborn-white')\n",
        "sns.set_style('white')"
      ]
    },
    {
      "cell_type": "markdown",
      "source": [
        "\n",
        "## **개념정리**\n",
        "---\n",
        "\n",
        "\n"
      ],
      "metadata": {
        "id": "UgGmlC8UejLN"
      }
    },
    {
      "cell_type": "markdown",
      "source": [
        "### (1) Matplotlib 으로 그리기\n"
      ],
      "metadata": {
        "id": "QzMXKYm0F-CE"
      }
    },
    {
      "cell_type": "markdown",
      "source": [
        "#### **| 기본사용**\n",
        "\n",
        "```\n",
        "x = np.random.randn(5000) # 표준정규분포\n",
        "plt.hist(x)\n",
        "plt.show()\n",
        "```"
      ],
      "metadata": {
        "id": "iTQGsPm68SBn"
      }
    },
    {
      "cell_type": "code",
      "source": [
        "x = np.random.randn(5000) # 표준정규분포 \n",
        "x2= np.random.randn(1000) # 연속적인 숫자의 밀도를 보는데 주로 사용하는 그래프\n",
        "plt.hist(x) # 1차원 배열 즉 한 종류의 값 배열만 있어도 히스토그램 형성이 가능  \n",
        "plt.show() # 막대그래프는 x와 y의 값을 정해줘야 한다."
      ],
      "metadata": {
        "id": "9VND05j315g8",
        "colab": {
          "base_uri": "https://localhost:8080/",
          "height": 262
        },
        "outputId": "e4940d8b-8ee5-4d29-bd6a-91b92304b251"
      },
      "execution_count": 161,
      "outputs": [
        {
          "output_type": "display_data",
          "data": {
            "text/plain": [
              "<Figure size 432x288 with 1 Axes>"
            ],
            "image/png": "[encoded data removed]"
          },
          "metadata": {
            "needs_background": "light"
          }
        }
      ]
    },
    {
      "cell_type": "markdown",
      "source": [
        "#### **| 옵션**\n",
        "\n",
        "```\n",
        "plt.hist(data, \n",
        "        bins = 구간개수,\n",
        "        color=색,\n",
        "        edgecolor=테두리 색, \n",
        "        alpha=투명도 (0~1),\n",
        "        density=정규화 여부 (True/False),\n",
        "        cumulative=누적여부 (True/Fasle),  \n",
        "        histtype = 플롯 형식 {'bar', 'barstacked', 'step', 'stepfilled' } default: 'bar'\n",
        "        label = 레이블,\n",
        "        align=눈금 위치 {'left', 'mid', 'right'}, default: 'mid'\n",
        "```"
      ],
      "metadata": {
        "id": "IKDL5iKI7yV2"
      }
    },
    {
      "cell_type": "code",
      "source": [
        "plt.hist(x, \n",
        "        bins = 30,\n",
        "        color='green',\n",
        "        edgecolor=테두리 색, \n",
        "        alpha=0.5,\n",
        "        density=True, #  데이터 개수가 다른 두 범주를 비교할때 True (5000개의 데이터와 1000개의 데이터를 비교할때)\n",
        "        cumulative=누적여부 (True/Fasle),\n",
        "        histtype = 플롯 형식 {'bar', 'barstacked', 'step', 'stepfilled' } default: 'bar'\n",
        "        label = 레이블,\n",
        "        align=눈금 위치 {'left', 'mid', 'right'}, default: 'mid'"
      ],
      "metadata": {
        "id": "c8372IBS2HvO"
      },
      "execution_count": null,
      "outputs": []
    },
    {
      "cell_type": "markdown",
      "source": [
        "#### **| 여러개의 히스토그램**\n",
        "\n",
        "```\n",
        "plt.hist([x1,x2, ..])\n",
        "```"
      ],
      "metadata": {
        "id": "pDDjq1gjA3R-"
      }
    },
    {
      "cell_type": "code",
      "source": [
        "plt.hist(x)\n",
        "plt.hist(x2)"
      ],
      "metadata": {
        "id": "BefgeEDr5QdE",
        "colab": {
          "base_uri": "https://localhost:8080/",
          "height": 354
        },
        "outputId": "27a81409-ee2f-466e-9864-e921afa4ee9d"
      },
      "execution_count": 162,
      "outputs": [
        {
          "output_type": "execute_result",
          "data": {
            "text/plain": [
              "(array([  3.,  20.,  65., 147., 213., 229., 167., 108.,  38.,  10.]),\n",
              " array([-3.02876425, -2.43942896, -1.85009368, -1.2607584 , -0.67142311,\n",
              "        -0.08208783,  0.50724746,  1.09658274,  1.68591803,  2.27525331,\n",
              "         2.8645886 ]),\n",
              " <a list of 10 Patch objects>)"
            ]
          },
          "metadata": {},
          "execution_count": 162
        },
        {
          "output_type": "display_data",
          "data": {
            "text/plain": [
              "<Figure size 432x288 with 1 Axes>"
            ],
            "image/png": "[encoded data removed]"
          },
          "metadata": {
            "needs_background": "light"
          }
        }
      ]
    },
    {
      "cell_type": "markdown",
      "source": [
        "### (2) Seaborn 으로 그리기\n",
        "\n"
      ],
      "metadata": {
        "id": "ggjMd8im8gJx"
      }
    },
    {
      "cell_type": "markdown",
      "source": [
        "#### **| 기본사용**\n",
        "\n",
        "```\n",
        "sns.histplot(x)\n",
        "```"
      ],
      "metadata": {
        "id": "WCVykkIPXTmq"
      }
    },
    {
      "cell_type": "code",
      "source": [
        "sns.histplot(x)"
      ],
      "metadata": {
        "id": "caplckbRZt0Q",
        "colab": {
          "base_uri": "https://localhost:8080/",
          "height": 280
        },
        "outputId": "ece0bc54-fc9d-450d-8c1e-fde2c7cc7ef4"
      },
      "execution_count": 4,
      "outputs": [
        {
          "output_type": "execute_result",
          "data": {
            "text/plain": [
              "<matplotlib.axes._subplots.AxesSubplot at 0x7f8901e2d210>"
            ]
          },
          "metadata": {},
          "execution_count": 4
        },
        {
          "output_type": "display_data",
          "data": {
            "text/plain": [
              "<Figure size 432x288 with 1 Axes>"
            ],
            "image/png": "[encoded data removed]"
          },
          "metadata": {
            "needs_background": "light"
          }
        }
      ]
    },
    {
      "cell_type": "markdown",
      "source": [
        "#### **| 옵션**\n",
        "\n",
        "```\n",
        "seaborn.histplot(data=None, \n",
        "                 bins='auto', # 구간개수\n",
        "                 cumulative=False, # 누적여부\n",
        "                 element='bars', # 플롯형식 {“bars”, “step”, “poly”},\n",
        "                 multiple='layer' # 다중데이터 플롯형식{“layer”, “dodge”, “stack”, “fill”},\n",
        "                 fill=True, # 색칠 여부\n",
        "                 shrink=1, # 너비 감소\n",
        "                 kde=False, # kde선\n",
        "                 color=None, # 색깔\n",
        "                 log_scale=None # 로그스케일)\n",
        "```"
      ],
      "metadata": {
        "id": "TP2JTc1NJChB"
      }
    },
    {
      "cell_type": "code",
      "source": [
        "sns.histplot(data=x, color='g')"
      ],
      "metadata": {
        "id": "egRiCOeWgXkd",
        "colab": {
          "base_uri": "https://localhost:8080/",
          "height": 280
        },
        "outputId": "4c3736e2-24be-4b84-ca56-c52ec1cc741d"
      },
      "execution_count": 156,
      "outputs": [
        {
          "output_type": "execute_result",
          "data": {
            "text/plain": [
              "<matplotlib.axes._subplots.AxesSubplot at 0x7f88f7ce3290>"
            ]
          },
          "metadata": {},
          "execution_count": 156
        },
        {
          "output_type": "display_data",
          "data": {
            "text/plain": [
              "<Figure size 432x288 with 1 Axes>"
            ],
            "image/png": "[encoded data removed]"
          },
          "metadata": {
            "needs_background": "light"
          }
        }
      ]
    },
    {
      "cell_type": "markdown",
      "source": [
        "#### **| 여러개의 히스토그램**\n",
        "\n",
        "```\n",
        "sns.histplot([x1, x2, ...])\n",
        "```"
      ],
      "metadata": {
        "id": "bWRCEHGQCdzN"
      }
    },
    {
      "cell_type": "code",
      "source": [
        "sns.histplot([x,x*2])"
      ],
      "metadata": {
        "id": "ufpGpPv2LpRA",
        "colab": {
          "base_uri": "https://localhost:8080/",
          "height": 280
        },
        "outputId": "dcea5998-9b2f-4b9e-f001-d3be7196610f"
      },
      "execution_count": 7,
      "outputs": [
        {
          "output_type": "execute_result",
          "data": {
            "text/plain": [
              "<matplotlib.axes._subplots.AxesSubplot at 0x7f8901b87a10>"
            ]
          },
          "metadata": {},
          "execution_count": 7
        },
        {
          "output_type": "display_data",
          "data": {
            "text/plain": [
              "<Figure size 432x288 with 1 Axes>"
            ],
            "image/png": "[encoded data removed]"
          },
          "metadata": {
            "needs_background": "light"
          }
        }
      ]
    },
    {
      "cell_type": "markdown",
      "source": [
        "#### **| DataFrame 사용**\n",
        "\n",
        "\n"
      ],
      "metadata": {
        "id": "GCPmXaIIyLcr"
      }
    },
    {
      "cell_type": "markdown",
      "source": [
        "* 데이터 프레임을 만들어 줍니다.\n",
        "\n"
      ],
      "metadata": {
        "id": "3cKlgwTJOzBJ"
      }
    },
    {
      "cell_type": "code",
      "source": [
        "df = pd.DataFrame([x, x*2]).T\n",
        "df.head()"
      ],
      "metadata": {
        "id": "so1ANfnzO4Jh",
        "colab": {
          "base_uri": "https://localhost:8080/",
          "height": 206
        },
        "outputId": "ddbbe96d-e5db-421c-b06d-af969c3064b4"
      },
      "execution_count": 14,
      "outputs": [
        {
          "output_type": "execute_result",
          "data": {
            "text/plain": [
              "          0         1\n",
              "0 -0.522865 -1.045729\n",
              "1  1.187348  2.374697\n",
              "2 -0.323457 -0.646914\n",
              "3 -0.408272 -0.816545\n",
              "4  0.000038  0.000076"
            ],
            "text/html": [
              "\n",
              "  <div id=\"df-339ed9b1-8460-4ab2-811e-113bcac72b03\">\n",
              "    <div class=\"colab-df-container\">\n",
              "      <div>\n",
              "<style scoped>\n",
              "    .dataframe tbody tr th:only-of-type {\n",
              "        vertical-align: middle;\n",
              "    }\n",
              "\n",
              "    .dataframe tbody tr th {\n",
              "        vertical-align: top;\n",
              "    }\n",
              "\n",
              "    .dataframe thead th {\n",
              "        text-align: right;\n",
              "    }\n",
              "</style>\n",
              "<table border=\"1\" class=\"dataframe\">\n",
              "  <thead>\n",
              "    <tr style=\"text-align: right;\">\n",
              "      <th></th>\n",
              "      <th>0</th>\n",
              "      <th>1</th>\n",
              "    </tr>\n",
              "  </thead>\n",
              "  <tbody>\n",
              "    <tr>\n",
              "      <th>0</th>\n",
              "      <td>-0.522865</td>\n",
              "      <td>-1.045729</td>\n",
              "    </tr>\n",
              "    <tr>\n",
              "      <th>1</th>\n",
              "      <td>1.187348</td>\n",
              "      <td>2.374697</td>\n",
              "    </tr>\n",
              "    <tr>\n",
              "      <th>2</th>\n",
              "      <td>-0.323457</td>\n",
              "      <td>-0.646914</td>\n",
              "    </tr>\n",
              "    <tr>\n",
              "      <th>3</th>\n",
              "      <td>-0.408272</td>\n",
              "      <td>-0.816545</td>\n",
              "    </tr>\n",
              "    <tr>\n",
              "      <th>4</th>\n",
              "      <td>0.000038</td>\n",
              "      <td>0.000076</td>\n",
              "    </tr>\n",
              "  </tbody>\n",
              "</table>\n",
              "</div>\n",
              "      <button class=\"colab-df-convert\" onclick=\"convertToInteractive('df-339ed9b1-8460-4ab2-811e-113bcac72b03')\"\n",
              "              title=\"Convert this dataframe to an interactive table.\"\n",
              "              style=\"display:none;\">\n",
              "        \n",
              "  <svg xmlns=\"http://www.w3.org/2000/svg\" height=\"24px\"viewBox=\"0 0 24 24\"\n",
              "       width=\"24px\">\n",
              "    <path d=\"M0 0h24v24H0V0z\" fill=\"none\"/>\n",
              "    <path d=\"M18.56 5.44l.94 2.06.94-2.06 2.06-.94-2.06-.94-.94-2.06-.94 2.06-2.06.94zm-11 1L8.5 8.5l.94-2.06 2.06-.94-2.06-.94L8.5 2.5l-.94 2.06-2.06.94zm10 10l.94 2.06.94-2.06 2.06-.94-2.06-.94-.94-2.06-.94 2.06-2.06.94z\"/><path d=\"M17.41 7.96l-1.37-1.37c-.4-.4-.92-.59-1.43-.59-.52 0-1.04.2-1.43.59L10.3 9.45l-7.72 7.72c-.78.78-.78 2.05 0 2.83L4 21.41c.39.39.9.59 1.41.59.51 0 1.02-.2 1.41-.59l7.78-7.78 2.81-2.81c.8-.78.8-2.07 0-2.86zM5.41 20L4 18.59l7.72-7.72 1.47 1.35L5.41 20z\"/>\n",
              "  </svg>\n",
              "      </button>\n",
              "      \n",
              "  <style>\n",
              "    .colab-df-container {\n",
              "      display:flex;\n",
              "      flex-wrap:wrap;\n",
              "      gap: 12px;\n",
              "    }\n",
              "\n",
              "    .colab-df-convert {\n",
              "      background-color: #E8F0FE;\n",
              "      border: none;\n",
              "      border-radius: 50%;\n",
              "      cursor: pointer;\n",
              "      display: none;\n",
              "      fill: #1967D2;\n",
              "      height: 32px;\n",
              "      padding: 0 0 0 0;\n",
              "      width: 32px;\n",
              "    }\n",
              "\n",
              "    .colab-df-convert:hover {\n",
              "      background-color: #E2EBFA;\n",
              "      box-shadow: 0px 1px 2px rgba(60, 64, 67, 0.3), 0px 1px 3px 1px rgba(60, 64, 67, 0.15);\n",
              "      fill: #174EA6;\n",
              "    }\n",
              "\n",
              "    [theme=dark] .colab-df-convert {\n",
              "      background-color: #3B4455;\n",
              "      fill: #D2E3FC;\n",
              "    }\n",
              "\n",
              "    [theme=dark] .colab-df-convert:hover {\n",
              "      background-color: #434B5C;\n",
              "      box-shadow: 0px 1px 3px 1px rgba(0, 0, 0, 0.15);\n",
              "      filter: drop-shadow(0px 1px 2px rgba(0, 0, 0, 0.3));\n",
              "      fill: #FFFFFF;\n",
              "    }\n",
              "  </style>\n",
              "\n",
              "      <script>\n",
              "        const buttonEl =\n",
              "          document.querySelector('#df-339ed9b1-8460-4ab2-811e-113bcac72b03 button.colab-df-convert');\n",
              "        buttonEl.style.display =\n",
              "          google.colab.kernel.accessAllowed ? 'block' : 'none';\n",
              "\n",
              "        async function convertToInteractive(key) {\n",
              "          const element = document.querySelector('#df-339ed9b1-8460-4ab2-811e-113bcac72b03');\n",
              "          const dataTable =\n",
              "            await google.colab.kernel.invokeFunction('convertToInteractive',\n",
              "                                                     [key], {});\n",
              "          if (!dataTable) return;\n",
              "\n",
              "          const docLinkHtml = 'Like what you see? Visit the ' +\n",
              "            '<a target=\"_blank\" href=https://colab.research.google.com/notebooks/data_table.ipynb>data table notebook</a>'\n",
              "            + ' to learn more about interactive tables.';\n",
              "          element.innerHTML = '';\n",
              "          dataTable['output_type'] = 'display_data';\n",
              "          await google.colab.output.renderOutput(dataTable, element);\n",
              "          const docLink = document.createElement('div');\n",
              "          docLink.innerHTML = docLinkHtml;\n",
              "          element.appendChild(docLink);\n",
              "        }\n",
              "      </script>\n",
              "    </div>\n",
              "  </div>\n",
              "  "
            ]
          },
          "metadata": {},
          "execution_count": 14
        }
      ]
    },
    {
      "cell_type": "markdown",
      "source": [
        "* 데이터프레임에서 기본적으로 플롯을 제공합니다.\n",
        "\n",
        "\n",
        "```\n",
        "df.plot(kind='hist')\n",
        "```\n",
        "\n",
        "\n"
      ],
      "metadata": {
        "id": "j5x-0qTTgqK2"
      }
    },
    {
      "cell_type": "code",
      "source": [
        "df.plot(kind='hist', alpha=0.5)"
      ],
      "metadata": {
        "id": "v4RUwYz5yPRs",
        "colab": {
          "base_uri": "https://localhost:8080/",
          "height": 280
        },
        "outputId": "d0249bbe-92ef-4931-fd64-984d3fd3f46e"
      },
      "execution_count": 16,
      "outputs": [
        {
          "output_type": "execute_result",
          "data": {
            "text/plain": [
              "<matplotlib.axes._subplots.AxesSubplot at 0x7f88ff28bb10>"
            ]
          },
          "metadata": {},
          "execution_count": 16
        },
        {
          "output_type": "display_data",
          "data": {
            "text/plain": [
              "<Figure size 432x288 with 1 Axes>"
            ],
            "image/png": "[encoded data removed]"
          },
          "metadata": {
            "needs_background": "light"
          }
        }
      ]
    },
    {
      "cell_type": "markdown",
      "source": [
        "* 데이터프레임 기반으로 seaborn을 사용합니다.\n",
        "\n",
        "\n",
        "```\n",
        "sns.histplot(data=df, x=x_column)\n",
        "```\n"
      ],
      "metadata": {
        "id": "ycx-4x4Ag94u"
      }
    },
    {
      "cell_type": "code",
      "source": [
        "sns.histplot(data=df)"
      ],
      "metadata": {
        "id": "B8MgiEHyyjUt",
        "colab": {
          "base_uri": "https://localhost:8080/",
          "height": 280
        },
        "outputId": "ceec36ae-1340-48b6-bb6c-49a94e0f6fe3"
      },
      "execution_count": 18,
      "outputs": [
        {
          "output_type": "execute_result",
          "data": {
            "text/plain": [
              "<matplotlib.axes._subplots.AxesSubplot at 0x7f88ff0eead0>"
            ]
          },
          "metadata": {},
          "execution_count": 18
        },
        {
          "output_type": "display_data",
          "data": {
            "text/plain": [
              "<Figure size 432x288 with 1 Axes>"
            ],
            "image/png": "[encoded data removed]"
          },
          "metadata": {
            "needs_background": "light"
          }
        }
      ]
    },
    {
      "cell_type": "markdown",
      "source": [
        "\n",
        "## **실습**\n",
        "---\n"
      ],
      "metadata": {
        "id": "9BldG-nOgeoQ"
      }
    },
    {
      "cell_type": "markdown",
      "source": [
        "### (1) `plt.hist`의 `histtypes` 옵션비교\n",
        "\n",
        "```\n",
        "x1 = np.random.normal(0, 1, 5000)\n",
        "x2 = np.random.normal(0, 3, 5000)\n",
        "x3 = np.random.normal(10, 3, 5000)\n",
        "\n",
        "histtypes=['bar', 'barstacked', 'step', 'stepfilled']\n",
        "\n",
        "```"
      ],
      "metadata": {
        "id": "Sm_irK939Amm"
      }
    },
    {
      "cell_type": "code",
      "source": [
        "x1 = np.random.normal(0, 1, 5000) # .normal 정규분포  평균 0, 편차 1 = 표준정규분포\n",
        "x2 = np.random.normal(0, 3, 5000) #평균 0, 편차 3\n",
        "x3 = np.random.normal(10, 3, 5000) # 평균 10, 편차 3\n",
        "\n",
        "histtypes=['bar', 'barstacked', 'step', 'stepfilled']"
      ],
      "metadata": {
        "id": "JTw_B59906sA"
      },
      "execution_count": 21,
      "outputs": []
    },
    {
      "cell_type": "code",
      "source": [
        "# 2X2 플롯에 그리기"
      ],
      "metadata": {
        "id": "8PWt1kpfkMWG"
      },
      "execution_count": null,
      "outputs": []
    },
    {
      "cell_type": "code",
      "source": [
        "for i, histtype in enumerate(histtypes):\n",
        "  plt.subplot(2,2,i+1)\n",
        "  plt.hist([x1, x2, x3], histtype=histtype, label=['x1','x2','x3'], alpha=0.7, bins=50)\n",
        "  plt.legend()\n",
        "  plt.title(histtype)\n",
        "plt.show()"
      ],
      "metadata": {
        "colab": {
          "base_uri": "https://localhost:8080/",
          "height": 278
        },
        "id": "erITORQ4kS2N",
        "outputId": "8e5eb18a-1b40-471f-b06a-6d9ff659fe1f"
      },
      "execution_count": 27,
      "outputs": [
        {
          "output_type": "display_data",
          "data": {
            "text/plain": [
              "<Figure size 432x288 with 4 Axes>"
            ],
            "image/png": "[encoded data removed]"
          },
          "metadata": {
            "needs_background": "light"
          }
        }
      ]
    },
    {
      "cell_type": "markdown",
      "source": [
        "### (2) 객체지향 사용하기\n",
        "\n",
        "\n",
        "```\n",
        "fig, ax = plt.subplots(2,2, figsize=size)\n",
        "```"
      ],
      "metadata": {
        "id": "TvcoGSW3IO0w"
      }
    },
    {
      "cell_type": "code",
      "source": [
        "fig, ax = plt.subplots(2,2) # fig = 전체그림, ax= 서브플롯\n",
        "ax = ax.flatten()\n",
        "for i, histtype in enumerate(histtypes):\n",
        "  ax[i].hist([x1, x2, x3], histtype=histtype, label=['x1','x2','x3'], alpha=0.7, bins=50)\n",
        "  ax[i].legend()\n",
        "  ax[i].set_title(histtype)\n",
        "plt.show()"
      ],
      "metadata": {
        "id": "9FGstFpUgcIN",
        "colab": {
          "base_uri": "https://localhost:8080/",
          "height": 278
        },
        "outputId": "792999b2-9a92-4c68-e4d3-33677d71e7a8"
      },
      "execution_count": 31,
      "outputs": [
        {
          "output_type": "display_data",
          "data": {
            "text/plain": [
              "<Figure size 432x288 with 4 Axes>"
            ],
            "image/png": "[encoded data removed]"
          },
          "metadata": {
            "needs_background": "light"
          }
        }
      ]
    },
    {
      "cell_type": "markdown",
      "source": [
        "### (3) Iris 데이터 변수별 분포 그리기\n",
        "\n",
        "```\n",
        "           꽃받침 길이   꽃받침 너비   꽃의 길이  꽃의 너비\n",
        " 샘플1      \n",
        " 샘플2 \n",
        " ...\n",
        " 샘플150\n",
        "```\n",
        "\n",
        "\n",
        "```\n",
        "from sklearn.datasets import load_iris\n",
        "iris = load_iris()\n",
        "```\n",
        "\n",
        "\n",
        "* `.feature_names` : 변수 이름\n",
        "* `.target_names` : 타겟 이름\n",
        "* `.data` : 데이터 \n",
        "* `.target` : 타겟\n"
      ],
      "metadata": {
        "id": "QGviht0yPmHr"
      }
    },
    {
      "cell_type": "code",
      "source": [
        "from sklearn.datasets import load_iris\n",
        "iris = load_iris()"
      ],
      "metadata": {
        "id": "A2kQAsaLgdsg"
      },
      "execution_count": 32,
      "outputs": []
    },
    {
      "cell_type": "code",
      "source": [
        "x_names = iris.feature_names\n",
        "y_names = iris.target_names\n",
        "print('x names:', x_names)\n",
        "print('y names:', y_names)"
      ],
      "metadata": {
        "colab": {
          "base_uri": "https://localhost:8080/"
        },
        "id": "jQaJlOoDqd-x",
        "outputId": "abd6aa94-9237-47a3-e22e-07faf3d96ba1"
      },
      "execution_count": 40,
      "outputs": [
        {
          "output_type": "stream",
          "name": "stdout",
          "text": [
            "x names: ['sepal length (cm)', 'sepal width (cm)', 'petal length (cm)', 'petal width (cm)']\n",
            "y names: ['setosa' 'versicolor' 'virginica']\n"
          ]
        }
      ]
    },
    {
      "cell_type": "code",
      "source": [
        "# 데이터셋\n",
        "x_data = iris.data\n",
        "y_data= iris.target\n",
        "print('x:', x_data.shape)\n",
        "print('y:', y_data.shape)"
      ],
      "metadata": {
        "colab": {
          "base_uri": "https://localhost:8080/"
        },
        "id": "N46_jdgRrLpC",
        "outputId": "6d1f3998-a17d-4b45-e1fd-8974312a52a5"
      },
      "execution_count": 52,
      "outputs": [
        {
          "output_type": "stream",
          "name": "stdout",
          "text": [
            "x: (150, 4)\n",
            "y: (150,)\n"
          ]
        }
      ]
    },
    {
      "cell_type": "code",
      "source": [
        "plt.hist(y_data)\n",
        "plt.xticks([0,1,2], y_names)\n",
        "plt.show()\n"
      ],
      "metadata": {
        "colab": {
          "base_uri": "https://localhost:8080/",
          "height": 262
        },
        "id": "nbv4vWhTsNu5",
        "outputId": "073bebc9-98c8-4719-fcf1-b13e31d4c49d"
      },
      "execution_count": 55,
      "outputs": [
        {
          "output_type": "display_data",
          "data": {
            "text/plain": [
              "<Figure size 432x288 with 1 Axes>"
            ],
            "image/png": "[encoded data removed]"
          },
          "metadata": {
            "needs_background": "light"
          }
        }
      ]
    },
    {
      "cell_type": "code",
      "source": [
        "plt.hist(x_data, histtype='stepfilled', bins=30, alpha=0.5, label=x_names)\n",
        "plt.legend()\n",
        "plt.show()"
      ],
      "metadata": {
        "colab": {
          "base_uri": "https://localhost:8080/",
          "height": 262
        },
        "id": "pi-ivN_ptBY2",
        "outputId": "c5e3cb27-835b-4269-b0b9-820d0aded560"
      },
      "execution_count": 51,
      "outputs": [
        {
          "output_type": "display_data",
          "data": {
            "text/plain": [
              "<Figure size 432x288 with 1 Axes>"
            ],
            "image/png": "[encoded data removed]"
          },
          "metadata": {
            "needs_background": "light"
          }
        }
      ]
    },
    {
      "cell_type": "code",
      "source": [
        "plt.hist(x_names, histtype='stepfilled', alpha=0.5)\n",
        "plt.legend()\n",
        "plt.show()"
      ],
      "metadata": {
        "colab": {
          "base_uri": "https://localhost:8080/",
          "height": 280
        },
        "id": "Fiop15RywYVY",
        "outputId": "f6787baa-edcb-42a8-9870-dfd1d76eb8a5"
      },
      "execution_count": 64,
      "outputs": [
        {
          "output_type": "stream",
          "name": "stderr",
          "text": [
            "No handles with labels found to put in legend.\n"
          ]
        },
        {
          "output_type": "display_data",
          "data": {
            "text/plain": [
              "<Figure size 432x288 with 1 Axes>"
            ],
            "image/png": "[encoded data removed]"
          },
          "metadata": {
            "needs_background": "light"
          }
        }
      ]
    },
    {
      "cell_type": "code",
      "source": [
        "_[:,0]"
      ],
      "metadata": {
        "id": "thQSy6RFu1Nb"
      },
      "execution_count": null,
      "outputs": []
    },
    {
      "cell_type": "code",
      "source": [
        "x_data[:,0:2]"
      ],
      "metadata": {
        "id": "845JbEyiyy_t"
      },
      "execution_count": null,
      "outputs": []
    },
    {
      "cell_type": "code",
      "source": [
        "plt.hist(x_data[:,:2], alpha=0.5)"
      ],
      "metadata": {
        "colab": {
          "base_uri": "https://localhost:8080/",
          "height": 335
        },
        "id": "5GZe_LK8yLGV",
        "outputId": "3b1fac0d-390c-4969-8b5b-4edea2e98386"
      },
      "execution_count": 165,
      "outputs": [
        {
          "output_type": "execute_result",
          "data": {
            "text/plain": [
              "(array([[ 0.,  0.,  0.,  1., 21., 37., 36., 35., 13.,  7.],\n",
              "        [19., 75., 44., 11.,  1.,  0.,  0.,  0.,  0.,  0.]]),\n",
              " array([2.  , 2.59, 3.18, 3.77, 4.36, 4.95, 5.54, 6.13, 6.72, 7.31, 7.9 ]),\n",
              " <a list of 2 Lists of Patches objects>)"
            ]
          },
          "metadata": {},
          "execution_count": 165
        },
        {
          "output_type": "display_data",
          "data": {
            "text/plain": [
              "<Figure size 432x288 with 1 Axes>"
            ],
            "image/png": "[encoded data removed]"
          },
          "metadata": {
            "needs_background": "light"
          }
        }
      ]
    },
    {
      "cell_type": "code",
      "source": [
        "plt.hist(x_data[:,2:], alpha=0.5)"
      ],
      "metadata": {
        "colab": {
          "base_uri": "https://localhost:8080/",
          "height": 335
        },
        "id": "ogRggMv7yi0l",
        "outputId": "bbd54b30-4e9a-4b34-efd9-7ee571e90367"
      },
      "execution_count": 166,
      "outputs": [
        {
          "output_type": "execute_result",
          "data": {
            "text/plain": [
              "(array([[ 0., 24., 26.,  0.,  5., 14., 30., 26., 19.,  6.],\n",
              "        [50., 36., 47., 17.,  0.,  0.,  0.,  0.,  0.,  0.]]),\n",
              " array([0.1 , 0.78, 1.46, 2.14, 2.82, 3.5 , 4.18, 4.86, 5.54, 6.22, 6.9 ]),\n",
              " <a list of 2 Lists of Patches objects>)"
            ]
          },
          "metadata": {},
          "execution_count": 166
        },
        {
          "output_type": "display_data",
          "data": {
            "text/plain": [
              "<Figure size 432x288 with 1 Axes>"
            ],
            "image/png": "[encoded data removed]"
          },
          "metadata": {
            "needs_background": "light"
          }
        }
      ]
    },
    {
      "cell_type": "markdown",
      "source": [
        "\n",
        "## **과제**\n",
        "---\n"
      ],
      "metadata": {
        "id": "P-ZNWdUxYGqn"
      }
    },
    {
      "cell_type": "markdown",
      "source": [
        "* petal 끼리 / sepal 끼리 나눠서 그리기\n",
        "* 2 x 1"
      ],
      "metadata": {
        "id": "DmkeG8hMuPi0"
      }
    },
    {
      "cell_type": "code",
      "source": [
        "plt.subplot(211)\n",
        "plt.hist(x_data[:,:2],alpha=0.5, bins=25,histtype='stepfilled',label=x_names[:2])\n",
        "plt.legend()\n",
        "plt.subplot(212)\n",
        "plt.hist(x_data[:,2:],alpha=0.5, histtype='stepfilled', bins=25,label=x_names[2:])\n",
        "plt.legend()\n",
        "plt.show()"
      ],
      "metadata": {
        "colab": {
          "base_uri": "https://localhost:8080/",
          "height": 262
        },
        "id": "FRVcjJBnudMc",
        "outputId": "1800d37e-ea88-493f-ca18-8f1deb4ae59d"
      },
      "execution_count": 158,
      "outputs": [
        {
          "output_type": "display_data",
          "data": {
            "text/plain": [
              "<Figure size 432x288 with 2 Axes>"
            ],
            "image/png": "[encoded data removed]"
          },
          "metadata": {
            "needs_background": "light"
          }
        }
      ]
    },
    {
      "cell_type": "markdown",
      "source": [
        "### (1)  지수분포(exponential distribution) 그리기\n",
        "\n",
        "\n"
      ],
      "metadata": {
        "id": "Enwz_K4DUqjW"
      }
    },
    {
      "cell_type": "markdown",
      "source": [
        "* 지수분포의 확률밀도 함수는 다음과 같습니다.\n",
        "\n",
        "\n",
        "![](https://wikimedia.org/api/rest_v1/media/math/render/svg/7ae26c8e2d08abfda4102c31e1f380e7fa9068b7)\n",
        "\n",
        "* 아래와 같이 넘파이 함수를 이용해 확률밀도 함수를 따르는 데이터셋을 얻을 수 있습니다.\n",
        "\n",
        "```\n",
        "np.random.exponential(scale=lambda, size=데이터개수)\n",
        "```\n",
        "\n",
        "* lambda 값이 각각 `0.5, 1, 2`일 때의 지수분포를 따르는 데이터를 `10000`개씩 뽑고 각 데이터셋의 밀도분포를 그리세요.\n",
        "\n",
        "\n",
        "\n",
        "* 3개의 데이터셋을 비교하고, lambda 값에 따라 데이터가 어떻게 샘플링 되는지 간단히 설명하세요."
      ],
      "metadata": {
        "id": "MIbBkbRNfAs8"
      }
    },
    {
      "cell_type": "code",
      "source": [
        "a=np.random.exponential(scale=0.5, size=10000)"
      ],
      "metadata": {
        "id": "cD9VpwIFggPn"
      },
      "execution_count": 89,
      "outputs": []
    },
    {
      "cell_type": "code",
      "source": [
        "b=np.random.exponential(scale=1, size=10000)"
      ],
      "metadata": {
        "id": "fQE33uQN-B0P"
      },
      "execution_count": 90,
      "outputs": []
    },
    {
      "cell_type": "code",
      "source": [
        "c=np.random.exponential(scale=2, size=10000)"
      ],
      "metadata": {
        "id": "uer0uiDv-CqP"
      },
      "execution_count": 91,
      "outputs": []
    },
    {
      "cell_type": "code",
      "source": [
        "plt.subplot(3,1,1)\n",
        "plt.hist(a, alpha=0.5, bins=100)\n",
        "plt.subplot(3,1,2)\n",
        "plt.hist(b, alpha=0.5, bins=100)\n",
        "plt.subplot(3,1,3)\n",
        "plt.hist(c, alpha=0.5, bins=100)\n",
        "\n",
        "plt.show"
      ],
      "metadata": {
        "colab": {
          "base_uri": "https://localhost:8080/",
          "height": 280
        },
        "id": "7ekkH8zy-L8s",
        "outputId": "8ca16a92-91df-4a50-fa39-925d68f84ee6"
      },
      "execution_count": 110,
      "outputs": [
        {
          "output_type": "execute_result",
          "data": {
            "text/plain": [
              "<function matplotlib.pyplot.show>"
            ]
          },
          "metadata": {},
          "execution_count": 110
        },
        {
          "output_type": "display_data",
          "data": {
            "text/plain": [
              "<Figure size 432x288 with 3 Axes>"
            ],
            "image/png": "[encoded data removed]"
          },
          "metadata": {
            "needs_background": "light"
          }
        }
      ]
    },
    {
      "cell_type": "code",
      "source": [
        "for scale in [0.5, 1, 2]:\n",
        "  xs=np.random.exponential(scale=scale, size=10000)\n",
        "  plt.hist(xs, alpha=0.7, bins=20, histtype= 'step', linewidth=3, density=True, label=f'lambda={scale}')\n",
        "  plt.xlim([0, 10]) \n",
        "  plt.legend()"
      ],
      "metadata": {
        "colab": {
          "base_uri": "https://localhost:8080/",
          "height": 262
        },
        "id": "qTi33HzGHxdj",
        "outputId": "1a24f77c-ceee-499d-d473-2243fb110746"
      },
      "execution_count": 151,
      "outputs": [
        {
          "output_type": "display_data",
          "data": {
            "text/plain": [
              "<Figure size 432x288 with 1 Axes>"
            ],
            "image/png": "[encoded data removed]"
          },
          "metadata": {
            "needs_background": "light"
          }
        }
      ]
    },
    {
      "cell_type": "markdown",
      "source": [
        "### (2) 캘리포니아 집값 데이터 변수별 분포 그리기\n",
        "\n"
      ],
      "metadata": {
        "id": "FGUSYEG-ETnb"
      }
    },
    {
      "cell_type": "markdown",
      "source": [
        "* `/content/sample_data/california_housing_test.csv`을 불러오세요.\n",
        "* 9개의 변수의 분포를 3 x 3 figure에 `seaborn`을 이용해 그려주세요.\n",
        "* `kde` 선을 (histplot 옵션 )추가해 주세요.\n",
        "\n",
        "```\n",
        "df=pd.read_csv('/content/sample_data/california_housing_test.csv')\n",
        "```"
      ],
      "metadata": {
        "id": "JHAzswnDfCRD"
      }
    },
    {
      "cell_type": "code",
      "source": [
        "df=pd.read_csv('/content/sample_data/california_housing_test.csv')\n",
        "df"
      ],
      "metadata": {
        "id": "P7dp-QNshMN3",
        "colab": {
          "base_uri": "https://localhost:8080/",
          "height": 424
        },
        "outputId": "1af0046f-6a1e-4c87-bfed-1730c6a13521"
      },
      "execution_count": 112,
      "outputs": [
        {
          "output_type": "execute_result",
          "data": {
            "text/plain": [
              "      longitude  latitude  housing_median_age  total_rooms  total_bedrooms  \\\n",
              "0       -122.05     37.37                27.0       3885.0           661.0   \n",
              "1       -118.30     34.26                43.0       1510.0           310.0   \n",
              "2       -117.81     33.78                27.0       3589.0           507.0   \n",
              "3       -118.36     33.82                28.0         67.0            15.0   \n",
              "4       -119.67     36.33                19.0       1241.0           244.0   \n",
              "...         ...       ...                 ...          ...             ...   \n",
              "2995    -119.86     34.42                23.0       1450.0           642.0   \n",
              "2996    -118.14     34.06                27.0       5257.0          1082.0   \n",
              "2997    -119.70     36.30                10.0        956.0           201.0   \n",
              "2998    -117.12     34.10                40.0         96.0            14.0   \n",
              "2999    -119.63     34.42                42.0       1765.0           263.0   \n",
              "\n",
              "      population  households  median_income  median_house_value  \n",
              "0         1537.0       606.0         6.6085            344700.0  \n",
              "1          809.0       277.0         3.5990            176500.0  \n",
              "2         1484.0       495.0         5.7934            270500.0  \n",
              "3           49.0        11.0         6.1359            330000.0  \n",
              "4          850.0       237.0         2.9375             81700.0  \n",
              "...          ...         ...            ...                 ...  \n",
              "2995      1258.0       607.0         1.1790            225000.0  \n",
              "2996      3496.0      1036.0         3.3906            237200.0  \n",
              "2997       693.0       220.0         2.2895             62000.0  \n",
              "2998        46.0        14.0         3.2708            162500.0  \n",
              "2999       753.0       260.0         8.5608            500001.0  \n",
              "\n",
              "[3000 rows x 9 columns]"
            ],
            "text/html": [
              "\n",
              "  <div id=\"df-fe7c82b1-ca7e-47bd-9a27-4834f0ad3744\">\n",
              "    <div class=\"colab-df-container\">\n",
              "      <div>\n",
              "<style scoped>\n",
              "    .dataframe tbody tr th:only-of-type {\n",
              "        vertical-align: middle;\n",
              "    }\n",
              "\n",
              "    .dataframe tbody tr th {\n",
              "        vertical-align: top;\n",
              "    }\n",
              "\n",
              "    .dataframe thead th {\n",
              "        text-align: right;\n",
              "    }\n",
              "</style>\n",
              "<table border=\"1\" class=\"dataframe\">\n",
              "  <thead>\n",
              "    <tr style=\"text-align: right;\">\n",
              "      <th></th>\n",
              "      <th>longitude</th>\n",
              "      <th>latitude</th>\n",
              "      <th>housing_median_age</th>\n",
              "      <th>total_rooms</th>\n",
              "      <th>total_bedrooms</th>\n",
              "      <th>population</th>\n",
              "      <th>households</th>\n",
              "      <th>median_income</th>\n",
              "      <th>median_house_value</th>\n",
              "    </tr>\n",
              "  </thead>\n",
              "  <tbody>\n",
              "    <tr>\n",
              "      <th>0</th>\n",
              "      <td>-122.05</td>\n",
              "      <td>37.37</td>\n",
              "      <td>27.0</td>\n",
              "      <td>3885.0</td>\n",
              "      <td>661.0</td>\n",
              "      <td>1537.0</td>\n",
              "      <td>606.0</td>\n",
              "      <td>6.6085</td>\n",
              "      <td>344700.0</td>\n",
              "    </tr>\n",
              "    <tr>\n",
              "      <th>1</th>\n",
              "      <td>-118.30</td>\n",
              "      <td>34.26</td>\n",
              "      <td>43.0</td>\n",
              "      <td>1510.0</td>\n",
              "      <td>310.0</td>\n",
              "      <td>809.0</td>\n",
              "      <td>277.0</td>\n",
              "      <td>3.5990</td>\n",
              "      <td>176500.0</td>\n",
              "    </tr>\n",
              "    <tr>\n",
              "      <th>2</th>\n",
              "      <td>-117.81</td>\n",
              "      <td>33.78</td>\n",
              "      <td>27.0</td>\n",
              "      <td>3589.0</td>\n",
              "      <td>507.0</td>\n",
              "      <td>1484.0</td>\n",
              "      <td>495.0</td>\n",
              "      <td>5.7934</td>\n",
              "      <td>270500.0</td>\n",
              "    </tr>\n",
              "    <tr>\n",
              "      <th>3</th>\n",
              "      <td>-118.36</td>\n",
              "      <td>33.82</td>\n",
              "      <td>28.0</td>\n",
              "      <td>67.0</td>\n",
              "      <td>15.0</td>\n",
              "      <td>49.0</td>\n",
              "      <td>11.0</td>\n",
              "      <td>6.1359</td>\n",
              "      <td>330000.0</td>\n",
              "    </tr>\n",
              "    <tr>\n",
              "      <th>4</th>\n",
              "      <td>-119.67</td>\n",
              "      <td>36.33</td>\n",
              "      <td>19.0</td>\n",
              "      <td>1241.0</td>\n",
              "      <td>244.0</td>\n",
              "      <td>850.0</td>\n",
              "      <td>237.0</td>\n",
              "      <td>2.9375</td>\n",
              "      <td>81700.0</td>\n",
              "    </tr>\n",
              "    <tr>\n",
              "      <th>...</th>\n",
              "      <td>...</td>\n",
              "      <td>...</td>\n",
              "      <td>...</td>\n",
              "      <td>...</td>\n",
              "      <td>...</td>\n",
              "      <td>...</td>\n",
              "      <td>...</td>\n",
              "      <td>...</td>\n",
              "      <td>...</td>\n",
              "    </tr>\n",
              "    <tr>\n",
              "      <th>2995</th>\n",
              "      <td>-119.86</td>\n",
              "      <td>34.42</td>\n",
              "      <td>23.0</td>\n",
              "      <td>1450.0</td>\n",
              "      <td>642.0</td>\n",
              "      <td>1258.0</td>\n",
              "      <td>607.0</td>\n",
              "      <td>1.1790</td>\n",
              "      <td>225000.0</td>\n",
              "    </tr>\n",
              "    <tr>\n",
              "      <th>2996</th>\n",
              "      <td>-118.14</td>\n",
              "      <td>34.06</td>\n",
              "      <td>27.0</td>\n",
              "      <td>5257.0</td>\n",
              "      <td>1082.0</td>\n",
              "      <td>3496.0</td>\n",
              "      <td>1036.0</td>\n",
              "      <td>3.3906</td>\n",
              "      <td>237200.0</td>\n",
              "    </tr>\n",
              "    <tr>\n",
              "      <th>2997</th>\n",
              "      <td>-119.70</td>\n",
              "      <td>36.30</td>\n",
              "      <td>10.0</td>\n",
              "      <td>956.0</td>\n",
              "      <td>201.0</td>\n",
              "      <td>693.0</td>\n",
              "      <td>220.0</td>\n",
              "      <td>2.2895</td>\n",
              "      <td>62000.0</td>\n",
              "    </tr>\n",
              "    <tr>\n",
              "      <th>2998</th>\n",
              "      <td>-117.12</td>\n",
              "      <td>34.10</td>\n",
              "      <td>40.0</td>\n",
              "      <td>96.0</td>\n",
              "      <td>14.0</td>\n",
              "      <td>46.0</td>\n",
              "      <td>14.0</td>\n",
              "      <td>3.2708</td>\n",
              "      <td>162500.0</td>\n",
              "    </tr>\n",
              "    <tr>\n",
              "      <th>2999</th>\n",
              "      <td>-119.63</td>\n",
              "      <td>34.42</td>\n",
              "      <td>42.0</td>\n",
              "      <td>1765.0</td>\n",
              "      <td>263.0</td>\n",
              "      <td>753.0</td>\n",
              "      <td>260.0</td>\n",
              "      <td>8.5608</td>\n",
              "      <td>500001.0</td>\n",
              "    </tr>\n",
              "  </tbody>\n",
              "</table>\n",
              "<p>3000 rows × 9 columns</p>\n",
              "</div>\n",
              "      <button class=\"colab-df-convert\" onclick=\"convertToInteractive('df-fe7c82b1-ca7e-47bd-9a27-4834f0ad3744')\"\n",
              "              title=\"Convert this dataframe to an interactive table.\"\n",
              "              style=\"display:none;\">\n",
              "        \n",
              "  <svg xmlns=\"http://www.w3.org/2000/svg\" height=\"24px\"viewBox=\"0 0 24 24\"\n",
              "       width=\"24px\">\n",
              "    <path d=\"M0 0h24v24H0V0z\" fill=\"none\"/>\n",
              "    <path d=\"M18.56 5.44l.94 2.06.94-2.06 2.06-.94-2.06-.94-.94-2.06-.94 2.06-2.06.94zm-11 1L8.5 8.5l.94-2.06 2.06-.94-2.06-.94L8.5 2.5l-.94 2.06-2.06.94zm10 10l.94 2.06.94-2.06 2.06-.94-2.06-.94-.94-2.06-.94 2.06-2.06.94z\"/><path d=\"M17.41 7.96l-1.37-1.37c-.4-.4-.92-.59-1.43-.59-.52 0-1.04.2-1.43.59L10.3 9.45l-7.72 7.72c-.78.78-.78 2.05 0 2.83L4 21.41c.39.39.9.59 1.41.59.51 0 1.02-.2 1.41-.59l7.78-7.78 2.81-2.81c.8-.78.8-2.07 0-2.86zM5.41 20L4 18.59l7.72-7.72 1.47 1.35L5.41 20z\"/>\n",
              "  </svg>\n",
              "      </button>\n",
              "      \n",
              "  <style>\n",
              "    .colab-df-container {\n",
              "      display:flex;\n",
              "      flex-wrap:wrap;\n",
              "      gap: 12px;\n",
              "    }\n",
              "\n",
              "    .colab-df-convert {\n",
              "      background-color: #E8F0FE;\n",
              "      border: none;\n",
              "      border-radius: 50%;\n",
              "      cursor: pointer;\n",
              "      display: none;\n",
              "      fill: #1967D2;\n",
              "      height: 32px;\n",
              "      padding: 0 0 0 0;\n",
              "      width: 32px;\n",
              "    }\n",
              "\n",
              "    .colab-df-convert:hover {\n",
              "      background-color: #E2EBFA;\n",
              "      box-shadow: 0px 1px 2px rgba(60, 64, 67, 0.3), 0px 1px 3px 1px rgba(60, 64, 67, 0.15);\n",
              "      fill: #174EA6;\n",
              "    }\n",
              "\n",
              "    [theme=dark] .colab-df-convert {\n",
              "      background-color: #3B4455;\n",
              "      fill: #D2E3FC;\n",
              "    }\n",
              "\n",
              "    [theme=dark] .colab-df-convert:hover {\n",
              "      background-color: #434B5C;\n",
              "      box-shadow: 0px 1px 3px 1px rgba(0, 0, 0, 0.15);\n",
              "      filter: drop-shadow(0px 1px 2px rgba(0, 0, 0, 0.3));\n",
              "      fill: #FFFFFF;\n",
              "    }\n",
              "  </style>\n",
              "\n",
              "      <script>\n",
              "        const buttonEl =\n",
              "          document.querySelector('#df-fe7c82b1-ca7e-47bd-9a27-4834f0ad3744 button.colab-df-convert');\n",
              "        buttonEl.style.display =\n",
              "          google.colab.kernel.accessAllowed ? 'block' : 'none';\n",
              "\n",
              "        async function convertToInteractive(key) {\n",
              "          const element = document.querySelector('#df-fe7c82b1-ca7e-47bd-9a27-4834f0ad3744');\n",
              "          const dataTable =\n",
              "            await google.colab.kernel.invokeFunction('convertToInteractive',\n",
              "                                                     [key], {});\n",
              "          if (!dataTable) return;\n",
              "\n",
              "          const docLinkHtml = 'Like what you see? Visit the ' +\n",
              "            '<a target=\"_blank\" href=https://colab.research.google.com/notebooks/data_table.ipynb>data table notebook</a>'\n",
              "            + ' to learn more about interactive tables.';\n",
              "          element.innerHTML = '';\n",
              "          dataTable['output_type'] = 'display_data';\n",
              "          await google.colab.output.renderOutput(dataTable, element);\n",
              "          const docLink = document.createElement('div');\n",
              "          docLink.innerHTML = docLinkHtml;\n",
              "          element.appendChild(docLink);\n",
              "        }\n",
              "      </script>\n",
              "    </div>\n",
              "  </div>\n",
              "  "
            ]
          },
          "metadata": {},
          "execution_count": 112
        }
      ]
    },
    {
      "cell_type": "code",
      "source": [
        "for i, histtype in enumerate(histtypes):\n",
        "  plt.subplot(2,2,i+1)\n",
        "  plt.hist([x1, x2, x3], histtype=histtype, label=['x1','x2','x3'], alpha=0.7, bins=50)\n",
        "  plt.legend()\n",
        "  plt.title(histtype)"
      ],
      "metadata": {
        "id": "8yXODTYcL2S6"
      },
      "execution_count": null,
      "outputs": []
    },
    {
      "cell_type": "code",
      "source": [
        "plt.figure(figsize=(14,8))\n",
        "for i, column in enumerate(df.columns):\n",
        "  plt.subplot(3,3,i+1)\n",
        "  sns.histplot(df[column],kde=True)\n",
        "plt.show()"
      ],
      "metadata": {
        "colab": {
          "base_uri": "https://localhost:8080/",
          "height": 494
        },
        "id": "nV_Qo-H0E9XU",
        "outputId": "c5bd6861-8253-476b-c556-9feb3e895499"
      },
      "execution_count": 149,
      "outputs": [
        {
          "output_type": "display_data",
          "data": {
            "text/plain": [
              "<Figure size 1008x576 with 9 Axes>"
            ],
            "image/png": "[encoded data removed]"
          },
          "metadata": {
            "needs_background": "light"
          }
        }
      ]
    }
  ]
}
