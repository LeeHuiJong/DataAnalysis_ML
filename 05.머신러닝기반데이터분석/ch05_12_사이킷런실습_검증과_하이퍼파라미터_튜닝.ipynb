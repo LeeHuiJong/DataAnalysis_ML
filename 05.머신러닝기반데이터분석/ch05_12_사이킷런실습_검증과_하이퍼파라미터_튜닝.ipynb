{
  "nbformat": 4,
  "nbformat_minor": 0,
  "metadata": {
    "colab": {
      "name": "ch05_12_사이킷런실습_검증과_하이퍼파라미터_튜닝.ipynb",
      "provenance": [],
      "collapsed_sections": [],
      "toc_visible": true,
      "include_colab_link": true
    },
    "kernelspec": {
      "name": "python3",
      "display_name": "Python 3"
    },
    "language_info": {
      "name": "python"
    }
  },
  "cells": [
    {
      "cell_type": "markdown",
      "metadata": {
        "id": "view-in-github",
        "colab_type": "text"
      },
      "source": [
        "<a href=\"https://colab.research.google.com/github/LeeHuiJong/SkillTreePython-DataAnalysis/blob/main/ch05_12_%EC%82%AC%EC%9D%B4%ED%82%B7%EB%9F%B0%EC%8B%A4%EC%8A%B5_%EA%B2%80%EC%A6%9D%EA%B3%BC_%ED%95%98%EC%9D%B4%ED%8D%BC%ED%8C%8C%EB%9D%BC%EB%AF%B8%ED%84%B0_%ED%8A%9C%EB%8B%9D.ipynb\" target=\"_parent\"><img src=\"https://colab.research.google.com/assets/colab-badge.svg\" alt=\"Open In Colab\"/></a>"
      ]
    },
    {
      "cell_type": "markdown",
      "metadata": {
        "id": "wWpXZc2fi39U"
      },
      "source": [
        "# ch05.12. 사이킷런 실습 - 검증과 하이퍼파라미터 튜닝\n",
        "\n",
        "\n",
        "---\n",
        "* 날짜:\n",
        "* 이름:\n",
        "\n",
        "## 학습내용\n",
        "    - 머신러닝 모델 성능 평가하기\n",
        "    - 머신러닝 알고리즘에서 일반적으로 발생하는 문제 분석하기\n",
        "    - 머신러닝 모델 세부 튜닝\n",
        "    - 여러가지 성능 지표를 사용해 모델의 예측 성능 평가하기\n",
        "\n",
        "\n",
        "## 학습자료\n",
        "- [머신러닝 교과서 with파이썬, 사이킷런, 텐서플로](http://www.kyobobook.co.kr/product/detailViewKor.laf?mallGb=KOR&ejkGb=KOR&barcode=9791165215187)\n",
        "- 6장. 모델 평가와 하이퍼파라미터 튜닝의 모범 사례"
      ]
    },
    {
      "cell_type": "markdown",
      "metadata": {
        "id": "kByKdJPApy6P"
      },
      "source": [
        "```\n",
        "import numpy as np\n",
        "import matplotlib.pyplot as plt\n",
        "import seaborn as sns\n",
        "```"
      ]
    },
    {
      "cell_type": "code",
      "source": [
        "import numpy as np\n",
        "import matplotlib.pyplot as plt\n",
        "import seaborn as sns\n",
        "import pandas as pd"
      ],
      "metadata": {
        "id": "YW4q7CsxPlQh"
      },
      "execution_count": 3,
      "outputs": []
    },
    {
      "cell_type": "markdown",
      "source": [
        "## 데이터 소개 : 위스콘신 유방암 데이터셋\n",
        "---\n",
        "\n",
        "* 악성과 양성인 종양 세포 샘플 569개\n",
        "* 열0 : 샘플의 고유 ID\n",
        "* 열1 : 진단 결과 {M: 악성, B: 양성}\n",
        "* 열2 - 열 32 : 디지털 이미지에서 계산된 30개의 실수 값 특성\n",
        "\n"
      ],
      "metadata": {
        "id": "lUVNDZ9puEQN"
      }
    },
    {
      "cell_type": "markdown",
      "source": [
        "### | 데이터 준비\n",
        "\n",
        "```\n",
        "df = pd.read_csv('https://archive.ics.uci.edu/ml/'\n",
        "                 'machine-learning-databases'\n",
        "                 '/breast-cancer-wisconsin/wdbc.data', header=None)\n",
        "```"
      ],
      "metadata": {
        "id": "0omO0XTuuu3t"
      }
    },
    {
      "cell_type": "markdown",
      "source": [
        "* 데이터 로드 및 헤드 확인"
      ],
      "metadata": {
        "id": "hJC6gAfqugeu"
      }
    },
    {
      "cell_type": "code",
      "source": [
        "df = pd.read_csv('https://archive.ics.uci.edu/ml/'\n",
        "                 'machine-learning-databases'\n",
        "                 '/breast-cancer-wisconsin/wdbc.data', header=None)\n",
        "df.head()"
      ],
      "metadata": {
        "id": "JxtlJvM5uJYS",
        "colab": {
          "base_uri": "https://localhost:8080/",
          "height": 236
        },
        "outputId": "2ffb6008-2474-42d1-abbc-d24119c4a88b"
      },
      "execution_count": 18,
      "outputs": [
        {
          "output_type": "execute_result",
          "data": {
            "text/plain": [
              "         0  1      2      3       4       5        6        7       8   \\\n",
              "0    842302  M  17.99  10.38  122.80  1001.0  0.11840  0.27760  0.3001   \n",
              "1    842517  M  20.57  17.77  132.90  1326.0  0.08474  0.07864  0.0869   \n",
              "2  84300903  M  19.69  21.25  130.00  1203.0  0.10960  0.15990  0.1974   \n",
              "3  84348301  M  11.42  20.38   77.58   386.1  0.14250  0.28390  0.2414   \n",
              "4  84358402  M  20.29  14.34  135.10  1297.0  0.10030  0.13280  0.1980   \n",
              "\n",
              "        9   ...     22     23      24      25      26      27      28      29  \\\n",
              "0  0.14710  ...  25.38  17.33  184.60  2019.0  0.1622  0.6656  0.7119  0.2654   \n",
              "1  0.07017  ...  24.99  23.41  158.80  1956.0  0.1238  0.1866  0.2416  0.1860   \n",
              "2  0.12790  ...  23.57  25.53  152.50  1709.0  0.1444  0.4245  0.4504  0.2430   \n",
              "3  0.10520  ...  14.91  26.50   98.87   567.7  0.2098  0.8663  0.6869  0.2575   \n",
              "4  0.10430  ...  22.54  16.67  152.20  1575.0  0.1374  0.2050  0.4000  0.1625   \n",
              "\n",
              "       30       31  \n",
              "0  0.4601  0.11890  \n",
              "1  0.2750  0.08902  \n",
              "2  0.3613  0.08758  \n",
              "3  0.6638  0.17300  \n",
              "4  0.2364  0.07678  \n",
              "\n",
              "[5 rows x 32 columns]"
            ],
            "text/html": [
              "\n",
              "  <div id=\"df-0d54ea80-6e5c-4004-8d0c-378b374a95bc\">\n",
              "    <div class=\"colab-df-container\">\n",
              "      <div>\n",
              "<style scoped>\n",
              "    .dataframe tbody tr th:only-of-type {\n",
              "        vertical-align: middle;\n",
              "    }\n",
              "\n",
              "    .dataframe tbody tr th {\n",
              "        vertical-align: top;\n",
              "    }\n",
              "\n",
              "    .dataframe thead th {\n",
              "        text-align: right;\n",
              "    }\n",
              "</style>\n",
              "<table border=\"1\" class=\"dataframe\">\n",
              "  <thead>\n",
              "    <tr style=\"text-align: right;\">\n",
              "      <th></th>\n",
              "      <th>0</th>\n",
              "      <th>1</th>\n",
              "      <th>2</th>\n",
              "      <th>3</th>\n",
              "      <th>4</th>\n",
              "      <th>5</th>\n",
              "      <th>6</th>\n",
              "      <th>7</th>\n",
              "      <th>8</th>\n",
              "      <th>9</th>\n",
              "      <th>...</th>\n",
              "      <th>22</th>\n",
              "      <th>23</th>\n",
              "      <th>24</th>\n",
              "      <th>25</th>\n",
              "      <th>26</th>\n",
              "      <th>27</th>\n",
              "      <th>28</th>\n",
              "      <th>29</th>\n",
              "      <th>30</th>\n",
              "      <th>31</th>\n",
              "    </tr>\n",
              "  </thead>\n",
              "  <tbody>\n",
              "    <tr>\n",
              "      <th>0</th>\n",
              "      <td>842302</td>\n",
              "      <td>M</td>\n",
              "      <td>17.99</td>\n",
              "      <td>10.38</td>\n",
              "      <td>122.80</td>\n",
              "      <td>1001.0</td>\n",
              "      <td>0.11840</td>\n",
              "      <td>0.27760</td>\n",
              "      <td>0.3001</td>\n",
              "      <td>0.14710</td>\n",
              "      <td>...</td>\n",
              "      <td>25.38</td>\n",
              "      <td>17.33</td>\n",
              "      <td>184.60</td>\n",
              "      <td>2019.0</td>\n",
              "      <td>0.1622</td>\n",
              "      <td>0.6656</td>\n",
              "      <td>0.7119</td>\n",
              "      <td>0.2654</td>\n",
              "      <td>0.4601</td>\n",
              "      <td>0.11890</td>\n",
              "    </tr>\n",
              "    <tr>\n",
              "      <th>1</th>\n",
              "      <td>842517</td>\n",
              "      <td>M</td>\n",
              "      <td>20.57</td>\n",
              "      <td>17.77</td>\n",
              "      <td>132.90</td>\n",
              "      <td>1326.0</td>\n",
              "      <td>0.08474</td>\n",
              "      <td>0.07864</td>\n",
              "      <td>0.0869</td>\n",
              "      <td>0.07017</td>\n",
              "      <td>...</td>\n",
              "      <td>24.99</td>\n",
              "      <td>23.41</td>\n",
              "      <td>158.80</td>\n",
              "      <td>1956.0</td>\n",
              "      <td>0.1238</td>\n",
              "      <td>0.1866</td>\n",
              "      <td>0.2416</td>\n",
              "      <td>0.1860</td>\n",
              "      <td>0.2750</td>\n",
              "      <td>0.08902</td>\n",
              "    </tr>\n",
              "    <tr>\n",
              "      <th>2</th>\n",
              "      <td>84300903</td>\n",
              "      <td>M</td>\n",
              "      <td>19.69</td>\n",
              "      <td>21.25</td>\n",
              "      <td>130.00</td>\n",
              "      <td>1203.0</td>\n",
              "      <td>0.10960</td>\n",
              "      <td>0.15990</td>\n",
              "      <td>0.1974</td>\n",
              "      <td>0.12790</td>\n",
              "      <td>...</td>\n",
              "      <td>23.57</td>\n",
              "      <td>25.53</td>\n",
              "      <td>152.50</td>\n",
              "      <td>1709.0</td>\n",
              "      <td>0.1444</td>\n",
              "      <td>0.4245</td>\n",
              "      <td>0.4504</td>\n",
              "      <td>0.2430</td>\n",
              "      <td>0.3613</td>\n",
              "      <td>0.08758</td>\n",
              "    </tr>\n",
              "    <tr>\n",
              "      <th>3</th>\n",
              "      <td>84348301</td>\n",
              "      <td>M</td>\n",
              "      <td>11.42</td>\n",
              "      <td>20.38</td>\n",
              "      <td>77.58</td>\n",
              "      <td>386.1</td>\n",
              "      <td>0.14250</td>\n",
              "      <td>0.28390</td>\n",
              "      <td>0.2414</td>\n",
              "      <td>0.10520</td>\n",
              "      <td>...</td>\n",
              "      <td>14.91</td>\n",
              "      <td>26.50</td>\n",
              "      <td>98.87</td>\n",
              "      <td>567.7</td>\n",
              "      <td>0.2098</td>\n",
              "      <td>0.8663</td>\n",
              "      <td>0.6869</td>\n",
              "      <td>0.2575</td>\n",
              "      <td>0.6638</td>\n",
              "      <td>0.17300</td>\n",
              "    </tr>\n",
              "    <tr>\n",
              "      <th>4</th>\n",
              "      <td>84358402</td>\n",
              "      <td>M</td>\n",
              "      <td>20.29</td>\n",
              "      <td>14.34</td>\n",
              "      <td>135.10</td>\n",
              "      <td>1297.0</td>\n",
              "      <td>0.10030</td>\n",
              "      <td>0.13280</td>\n",
              "      <td>0.1980</td>\n",
              "      <td>0.10430</td>\n",
              "      <td>...</td>\n",
              "      <td>22.54</td>\n",
              "      <td>16.67</td>\n",
              "      <td>152.20</td>\n",
              "      <td>1575.0</td>\n",
              "      <td>0.1374</td>\n",
              "      <td>0.2050</td>\n",
              "      <td>0.4000</td>\n",
              "      <td>0.1625</td>\n",
              "      <td>0.2364</td>\n",
              "      <td>0.07678</td>\n",
              "    </tr>\n",
              "  </tbody>\n",
              "</table>\n",
              "<p>5 rows × 32 columns</p>\n",
              "</div>\n",
              "      <button class=\"colab-df-convert\" onclick=\"convertToInteractive('df-0d54ea80-6e5c-4004-8d0c-378b374a95bc')\"\n",
              "              title=\"Convert this dataframe to an interactive table.\"\n",
              "              style=\"display:none;\">\n",
              "        \n",
              "  <svg xmlns=\"http://www.w3.org/2000/svg\" height=\"24px\"viewBox=\"0 0 24 24\"\n",
              "       width=\"24px\">\n",
              "    <path d=\"M0 0h24v24H0V0z\" fill=\"none\"/>\n",
              "    <path d=\"M18.56 5.44l.94 2.06.94-2.06 2.06-.94-2.06-.94-.94-2.06-.94 2.06-2.06.94zm-11 1L8.5 8.5l.94-2.06 2.06-.94-2.06-.94L8.5 2.5l-.94 2.06-2.06.94zm10 10l.94 2.06.94-2.06 2.06-.94-2.06-.94-.94-2.06-.94 2.06-2.06.94z\"/><path d=\"M17.41 7.96l-1.37-1.37c-.4-.4-.92-.59-1.43-.59-.52 0-1.04.2-1.43.59L10.3 9.45l-7.72 7.72c-.78.78-.78 2.05 0 2.83L4 21.41c.39.39.9.59 1.41.59.51 0 1.02-.2 1.41-.59l7.78-7.78 2.81-2.81c.8-.78.8-2.07 0-2.86zM5.41 20L4 18.59l7.72-7.72 1.47 1.35L5.41 20z\"/>\n",
              "  </svg>\n",
              "      </button>\n",
              "      \n",
              "  <style>\n",
              "    .colab-df-container {\n",
              "      display:flex;\n",
              "      flex-wrap:wrap;\n",
              "      gap: 12px;\n",
              "    }\n",
              "\n",
              "    .colab-df-convert {\n",
              "      background-color: #E8F0FE;\n",
              "      border: none;\n",
              "      border-radius: 50%;\n",
              "      cursor: pointer;\n",
              "      display: none;\n",
              "      fill: #1967D2;\n",
              "      height: 32px;\n",
              "      padding: 0 0 0 0;\n",
              "      width: 32px;\n",
              "    }\n",
              "\n",
              "    .colab-df-convert:hover {\n",
              "      background-color: #E2EBFA;\n",
              "      box-shadow: 0px 1px 2px rgba(60, 64, 67, 0.3), 0px 1px 3px 1px rgba(60, 64, 67, 0.15);\n",
              "      fill: #174EA6;\n",
              "    }\n",
              "\n",
              "    [theme=dark] .colab-df-convert {\n",
              "      background-color: #3B4455;\n",
              "      fill: #D2E3FC;\n",
              "    }\n",
              "\n",
              "    [theme=dark] .colab-df-convert:hover {\n",
              "      background-color: #434B5C;\n",
              "      box-shadow: 0px 1px 3px 1px rgba(0, 0, 0, 0.15);\n",
              "      filter: drop-shadow(0px 1px 2px rgba(0, 0, 0, 0.3));\n",
              "      fill: #FFFFFF;\n",
              "    }\n",
              "  </style>\n",
              "\n",
              "      <script>\n",
              "        const buttonEl =\n",
              "          document.querySelector('#df-0d54ea80-6e5c-4004-8d0c-378b374a95bc button.colab-df-convert');\n",
              "        buttonEl.style.display =\n",
              "          google.colab.kernel.accessAllowed ? 'block' : 'none';\n",
              "\n",
              "        async function convertToInteractive(key) {\n",
              "          const element = document.querySelector('#df-0d54ea80-6e5c-4004-8d0c-378b374a95bc');\n",
              "          const dataTable =\n",
              "            await google.colab.kernel.invokeFunction('convertToInteractive',\n",
              "                                                     [key], {});\n",
              "          if (!dataTable) return;\n",
              "\n",
              "          const docLinkHtml = 'Like what you see? Visit the ' +\n",
              "            '<a target=\"_blank\" href=https://colab.research.google.com/notebooks/data_table.ipynb>data table notebook</a>'\n",
              "            + ' to learn more about interactive tables.';\n",
              "          element.innerHTML = '';\n",
              "          dataTable['output_type'] = 'display_data';\n",
              "          await google.colab.output.renderOutput(dataTable, element);\n",
              "          const docLink = document.createElement('div');\n",
              "          docLink.innerHTML = docLinkHtml;\n",
              "          element.appendChild(docLink);\n",
              "        }\n",
              "      </script>\n",
              "    </div>\n",
              "  </div>\n",
              "  "
            ]
          },
          "metadata": {},
          "execution_count": 18
        }
      ]
    },
    {
      "cell_type": "code",
      "source": [
        "df.shape"
      ],
      "metadata": {
        "colab": {
          "base_uri": "https://localhost:8080/"
        },
        "id": "VlHccHMJ23GA",
        "outputId": "3b3482e4-56d7-4200-d777-7a76e78a354a"
      },
      "execution_count": 6,
      "outputs": [
        {
          "output_type": "execute_result",
          "data": {
            "text/plain": [
              "(569, 32)"
            ]
          },
          "metadata": {},
          "execution_count": 6
        }
      ]
    },
    {
      "cell_type": "code",
      "source": [
        "df[1].unique()"
      ],
      "metadata": {
        "colab": {
          "base_uri": "https://localhost:8080/"
        },
        "id": "oFU57dtS3Qs5",
        "outputId": "a2759309-5eda-42fd-a9e2-ec9990a48d03"
      },
      "execution_count": 15,
      "outputs": [
        {
          "output_type": "execute_result",
          "data": {
            "text/plain": [
              "array(['M', 'B'], dtype=object)"
            ]
          },
          "metadata": {},
          "execution_count": 15
        }
      ]
    },
    {
      "cell_type": "markdown",
      "source": [
        "* y 클래스별 개수 시각화"
      ],
      "metadata": {
        "id": "xDOKD0BZui_E"
      }
    },
    {
      "cell_type": "code",
      "source": [
        "_=sns.countplot(data = df, x=1)  # 불균형 클래스"
      ],
      "metadata": {
        "id": "iOJ3cG3EuKt0",
        "colab": {
          "base_uri": "https://localhost:8080/",
          "height": 279
        },
        "outputId": "5f8f16b6-1e6f-4430-b559-21e757c02971"
      },
      "execution_count": 10,
      "outputs": [
        {
          "output_type": "display_data",
          "data": {
            "text/plain": [
              "<Figure size 432x288 with 1 Axes>"
            ],
            "image/png": "[encoded data removed]"
          },
          "metadata": {
            "needs_background": "light"
          }
        }
      ]
    },
    {
      "cell_type": "markdown",
      "source": [
        "### | 데이터 전처리"
      ],
      "metadata": {
        "id": "er6DYjlBuziU"
      }
    },
    {
      "cell_type": "markdown",
      "source": [
        "* 판다스에서 정수 인코딩 하기"
      ],
      "metadata": {
        "id": "MD1_RBZ-vPx9"
      }
    },
    {
      "cell_type": "code",
      "source": [
        "# y값 열1의 B = 0,  M = 1\n",
        "\n",
        "df[1] = df[1].map({'B' : 0, 'M' : 1})"
      ],
      "metadata": {
        "id": "vmK_tYxxvToE"
      },
      "execution_count": 16,
      "outputs": []
    },
    {
      "cell_type": "code",
      "source": [
        "df"
      ],
      "metadata": {
        "id": "f_jhMw7-v-ED",
        "colab": {
          "base_uri": "https://localhost:8080/",
          "height": 424
        },
        "outputId": "e40006d4-db6d-445c-9c17-af50e81e0df0"
      },
      "execution_count": 17,
      "outputs": [
        {
          "output_type": "execute_result",
          "data": {
            "text/plain": [
              "           0   1      2      3       4       5        6        7        8   \\\n",
              "0      842302   1  17.99  10.38  122.80  1001.0  0.11840  0.27760  0.30010   \n",
              "1      842517   1  20.57  17.77  132.90  1326.0  0.08474  0.07864  0.08690   \n",
              "2    84300903   1  19.69  21.25  130.00  1203.0  0.10960  0.15990  0.19740   \n",
              "3    84348301   1  11.42  20.38   77.58   386.1  0.14250  0.28390  0.24140   \n",
              "4    84358402   1  20.29  14.34  135.10  1297.0  0.10030  0.13280  0.19800   \n",
              "..        ...  ..    ...    ...     ...     ...      ...      ...      ...   \n",
              "564    926424   1  21.56  22.39  142.00  1479.0  0.11100  0.11590  0.24390   \n",
              "565    926682   1  20.13  28.25  131.20  1261.0  0.09780  0.10340  0.14400   \n",
              "566    926954   1  16.60  28.08  108.30   858.1  0.08455  0.10230  0.09251   \n",
              "567    927241   1  20.60  29.33  140.10  1265.0  0.11780  0.27700  0.35140   \n",
              "568     92751   0   7.76  24.54   47.92   181.0  0.05263  0.04362  0.00000   \n",
              "\n",
              "          9   ...      22     23      24      25       26       27      28  \\\n",
              "0    0.14710  ...  25.380  17.33  184.60  2019.0  0.16220  0.66560  0.7119   \n",
              "1    0.07017  ...  24.990  23.41  158.80  1956.0  0.12380  0.18660  0.2416   \n",
              "2    0.12790  ...  23.570  25.53  152.50  1709.0  0.14440  0.42450  0.4504   \n",
              "3    0.10520  ...  14.910  26.50   98.87   567.7  0.20980  0.86630  0.6869   \n",
              "4    0.10430  ...  22.540  16.67  152.20  1575.0  0.13740  0.20500  0.4000   \n",
              "..       ...  ...     ...    ...     ...     ...      ...      ...     ...   \n",
              "564  0.13890  ...  25.450  26.40  166.10  2027.0  0.14100  0.21130  0.4107   \n",
              "565  0.09791  ...  23.690  38.25  155.00  1731.0  0.11660  0.19220  0.3215   \n",
              "566  0.05302  ...  18.980  34.12  126.70  1124.0  0.11390  0.30940  0.3403   \n",
              "567  0.15200  ...  25.740  39.42  184.60  1821.0  0.16500  0.86810  0.9387   \n",
              "568  0.00000  ...   9.456  30.37   59.16   268.6  0.08996  0.06444  0.0000   \n",
              "\n",
              "         29      30       31  \n",
              "0    0.2654  0.4601  0.11890  \n",
              "1    0.1860  0.2750  0.08902  \n",
              "2    0.2430  0.3613  0.08758  \n",
              "3    0.2575  0.6638  0.17300  \n",
              "4    0.1625  0.2364  0.07678  \n",
              "..      ...     ...      ...  \n",
              "564  0.2216  0.2060  0.07115  \n",
              "565  0.1628  0.2572  0.06637  \n",
              "566  0.1418  0.2218  0.07820  \n",
              "567  0.2650  0.4087  0.12400  \n",
              "568  0.0000  0.2871  0.07039  \n",
              "\n",
              "[569 rows x 32 columns]"
            ],
            "text/html": [
              "\n",
              "  <div id=\"df-b95cb006-2abc-4941-be2f-5f5bd547aecb\">\n",
              "    <div class=\"colab-df-container\">\n",
              "      <div>\n",
              "<style scoped>\n",
              "    .dataframe tbody tr th:only-of-type {\n",
              "        vertical-align: middle;\n",
              "    }\n",
              "\n",
              "    .dataframe tbody tr th {\n",
              "        vertical-align: top;\n",
              "    }\n",
              "\n",
              "    .dataframe thead th {\n",
              "        text-align: right;\n",
              "    }\n",
              "</style>\n",
              "<table border=\"1\" class=\"dataframe\">\n",
              "  <thead>\n",
              "    <tr style=\"text-align: right;\">\n",
              "      <th></th>\n",
              "      <th>0</th>\n",
              "      <th>1</th>\n",
              "      <th>2</th>\n",
              "      <th>3</th>\n",
              "      <th>4</th>\n",
              "      <th>5</th>\n",
              "      <th>6</th>\n",
              "      <th>7</th>\n",
              "      <th>8</th>\n",
              "      <th>9</th>\n",
              "      <th>...</th>\n",
              "      <th>22</th>\n",
              "      <th>23</th>\n",
              "      <th>24</th>\n",
              "      <th>25</th>\n",
              "      <th>26</th>\n",
              "      <th>27</th>\n",
              "      <th>28</th>\n",
              "      <th>29</th>\n",
              "      <th>30</th>\n",
              "      <th>31</th>\n",
              "    </tr>\n",
              "  </thead>\n",
              "  <tbody>\n",
              "    <tr>\n",
              "      <th>0</th>\n",
              "      <td>842302</td>\n",
              "      <td>1</td>\n",
              "      <td>17.99</td>\n",
              "      <td>10.38</td>\n",
              "      <td>122.80</td>\n",
              "      <td>1001.0</td>\n",
              "      <td>0.11840</td>\n",
              "      <td>0.27760</td>\n",
              "      <td>0.30010</td>\n",
              "      <td>0.14710</td>\n",
              "      <td>...</td>\n",
              "      <td>25.380</td>\n",
              "      <td>17.33</td>\n",
              "      <td>184.60</td>\n",
              "      <td>2019.0</td>\n",
              "      <td>0.16220</td>\n",
              "      <td>0.66560</td>\n",
              "      <td>0.7119</td>\n",
              "      <td>0.2654</td>\n",
              "      <td>0.4601</td>\n",
              "      <td>0.11890</td>\n",
              "    </tr>\n",
              "    <tr>\n",
              "      <th>1</th>\n",
              "      <td>842517</td>\n",
              "      <td>1</td>\n",
              "      <td>20.57</td>\n",
              "      <td>17.77</td>\n",
              "      <td>132.90</td>\n",
              "      <td>1326.0</td>\n",
              "      <td>0.08474</td>\n",
              "      <td>0.07864</td>\n",
              "      <td>0.08690</td>\n",
              "      <td>0.07017</td>\n",
              "      <td>...</td>\n",
              "      <td>24.990</td>\n",
              "      <td>23.41</td>\n",
              "      <td>158.80</td>\n",
              "      <td>1956.0</td>\n",
              "      <td>0.12380</td>\n",
              "      <td>0.18660</td>\n",
              "      <td>0.2416</td>\n",
              "      <td>0.1860</td>\n",
              "      <td>0.2750</td>\n",
              "      <td>0.08902</td>\n",
              "    </tr>\n",
              "    <tr>\n",
              "      <th>2</th>\n",
              "      <td>84300903</td>\n",
              "      <td>1</td>\n",
              "      <td>19.69</td>\n",
              "      <td>21.25</td>\n",
              "      <td>130.00</td>\n",
              "      <td>1203.0</td>\n",
              "      <td>0.10960</td>\n",
              "      <td>0.15990</td>\n",
              "      <td>0.19740</td>\n",
              "      <td>0.12790</td>\n",
              "      <td>...</td>\n",
              "      <td>23.570</td>\n",
              "      <td>25.53</td>\n",
              "      <td>152.50</td>\n",
              "      <td>1709.0</td>\n",
              "      <td>0.14440</td>\n",
              "      <td>0.42450</td>\n",
              "      <td>0.4504</td>\n",
              "      <td>0.2430</td>\n",
              "      <td>0.3613</td>\n",
              "      <td>0.08758</td>\n",
              "    </tr>\n",
              "    <tr>\n",
              "      <th>3</th>\n",
              "      <td>84348301</td>\n",
              "      <td>1</td>\n",
              "      <td>11.42</td>\n",
              "      <td>20.38</td>\n",
              "      <td>77.58</td>\n",
              "      <td>386.1</td>\n",
              "      <td>0.14250</td>\n",
              "      <td>0.28390</td>\n",
              "      <td>0.24140</td>\n",
              "      <td>0.10520</td>\n",
              "      <td>...</td>\n",
              "      <td>14.910</td>\n",
              "      <td>26.50</td>\n",
              "      <td>98.87</td>\n",
              "      <td>567.7</td>\n",
              "      <td>0.20980</td>\n",
              "      <td>0.86630</td>\n",
              "      <td>0.6869</td>\n",
              "      <td>0.2575</td>\n",
              "      <td>0.6638</td>\n",
              "      <td>0.17300</td>\n",
              "    </tr>\n",
              "    <tr>\n",
              "      <th>4</th>\n",
              "      <td>84358402</td>\n",
              "      <td>1</td>\n",
              "      <td>20.29</td>\n",
              "      <td>14.34</td>\n",
              "      <td>135.10</td>\n",
              "      <td>1297.0</td>\n",
              "      <td>0.10030</td>\n",
              "      <td>0.13280</td>\n",
              "      <td>0.19800</td>\n",
              "      <td>0.10430</td>\n",
              "      <td>...</td>\n",
              "      <td>22.540</td>\n",
              "      <td>16.67</td>\n",
              "      <td>152.20</td>\n",
              "      <td>1575.0</td>\n",
              "      <td>0.13740</td>\n",
              "      <td>0.20500</td>\n",
              "      <td>0.4000</td>\n",
              "      <td>0.1625</td>\n",
              "      <td>0.2364</td>\n",
              "      <td>0.07678</td>\n",
              "    </tr>\n",
              "    <tr>\n",
              "      <th>...</th>\n",
              "      <td>...</td>\n",
              "      <td>...</td>\n",
              "      <td>...</td>\n",
              "      <td>...</td>\n",
              "      <td>...</td>\n",
              "      <td>...</td>\n",
              "      <td>...</td>\n",
              "      <td>...</td>\n",
              "      <td>...</td>\n",
              "      <td>...</td>\n",
              "      <td>...</td>\n",
              "      <td>...</td>\n",
              "      <td>...</td>\n",
              "      <td>...</td>\n",
              "      <td>...</td>\n",
              "      <td>...</td>\n",
              "      <td>...</td>\n",
              "      <td>...</td>\n",
              "      <td>...</td>\n",
              "      <td>...</td>\n",
              "      <td>...</td>\n",
              "    </tr>\n",
              "    <tr>\n",
              "      <th>564</th>\n",
              "      <td>926424</td>\n",
              "      <td>1</td>\n",
              "      <td>21.56</td>\n",
              "      <td>22.39</td>\n",
              "      <td>142.00</td>\n",
              "      <td>1479.0</td>\n",
              "      <td>0.11100</td>\n",
              "      <td>0.11590</td>\n",
              "      <td>0.24390</td>\n",
              "      <td>0.13890</td>\n",
              "      <td>...</td>\n",
              "      <td>25.450</td>\n",
              "      <td>26.40</td>\n",
              "      <td>166.10</td>\n",
              "      <td>2027.0</td>\n",
              "      <td>0.14100</td>\n",
              "      <td>0.21130</td>\n",
              "      <td>0.4107</td>\n",
              "      <td>0.2216</td>\n",
              "      <td>0.2060</td>\n",
              "      <td>0.07115</td>\n",
              "    </tr>\n",
              "    <tr>\n",
              "      <th>565</th>\n",
              "      <td>926682</td>\n",
              "      <td>1</td>\n",
              "      <td>20.13</td>\n",
              "      <td>28.25</td>\n",
              "      <td>131.20</td>\n",
              "      <td>1261.0</td>\n",
              "      <td>0.09780</td>\n",
              "      <td>0.10340</td>\n",
              "      <td>0.14400</td>\n",
              "      <td>0.09791</td>\n",
              "      <td>...</td>\n",
              "      <td>23.690</td>\n",
              "      <td>38.25</td>\n",
              "      <td>155.00</td>\n",
              "      <td>1731.0</td>\n",
              "      <td>0.11660</td>\n",
              "      <td>0.19220</td>\n",
              "      <td>0.3215</td>\n",
              "      <td>0.1628</td>\n",
              "      <td>0.2572</td>\n",
              "      <td>0.06637</td>\n",
              "    </tr>\n",
              "    <tr>\n",
              "      <th>566</th>\n",
              "      <td>926954</td>\n",
              "      <td>1</td>\n",
              "      <td>16.60</td>\n",
              "      <td>28.08</td>\n",
              "      <td>108.30</td>\n",
              "      <td>858.1</td>\n",
              "      <td>0.08455</td>\n",
              "      <td>0.10230</td>\n",
              "      <td>0.09251</td>\n",
              "      <td>0.05302</td>\n",
              "      <td>...</td>\n",
              "      <td>18.980</td>\n",
              "      <td>34.12</td>\n",
              "      <td>126.70</td>\n",
              "      <td>1124.0</td>\n",
              "      <td>0.11390</td>\n",
              "      <td>0.30940</td>\n",
              "      <td>0.3403</td>\n",
              "      <td>0.1418</td>\n",
              "      <td>0.2218</td>\n",
              "      <td>0.07820</td>\n",
              "    </tr>\n",
              "    <tr>\n",
              "      <th>567</th>\n",
              "      <td>927241</td>\n",
              "      <td>1</td>\n",
              "      <td>20.60</td>\n",
              "      <td>29.33</td>\n",
              "      <td>140.10</td>\n",
              "      <td>1265.0</td>\n",
              "      <td>0.11780</td>\n",
              "      <td>0.27700</td>\n",
              "      <td>0.35140</td>\n",
              "      <td>0.15200</td>\n",
              "      <td>...</td>\n",
              "      <td>25.740</td>\n",
              "      <td>39.42</td>\n",
              "      <td>184.60</td>\n",
              "      <td>1821.0</td>\n",
              "      <td>0.16500</td>\n",
              "      <td>0.86810</td>\n",
              "      <td>0.9387</td>\n",
              "      <td>0.2650</td>\n",
              "      <td>0.4087</td>\n",
              "      <td>0.12400</td>\n",
              "    </tr>\n",
              "    <tr>\n",
              "      <th>568</th>\n",
              "      <td>92751</td>\n",
              "      <td>0</td>\n",
              "      <td>7.76</td>\n",
              "      <td>24.54</td>\n",
              "      <td>47.92</td>\n",
              "      <td>181.0</td>\n",
              "      <td>0.05263</td>\n",
              "      <td>0.04362</td>\n",
              "      <td>0.00000</td>\n",
              "      <td>0.00000</td>\n",
              "      <td>...</td>\n",
              "      <td>9.456</td>\n",
              "      <td>30.37</td>\n",
              "      <td>59.16</td>\n",
              "      <td>268.6</td>\n",
              "      <td>0.08996</td>\n",
              "      <td>0.06444</td>\n",
              "      <td>0.0000</td>\n",
              "      <td>0.0000</td>\n",
              "      <td>0.2871</td>\n",
              "      <td>0.07039</td>\n",
              "    </tr>\n",
              "  </tbody>\n",
              "</table>\n",
              "<p>569 rows × 32 columns</p>\n",
              "</div>\n",
              "      <button class=\"colab-df-convert\" onclick=\"convertToInteractive('df-b95cb006-2abc-4941-be2f-5f5bd547aecb')\"\n",
              "              title=\"Convert this dataframe to an interactive table.\"\n",
              "              style=\"display:none;\">\n",
              "        \n",
              "  <svg xmlns=\"http://www.w3.org/2000/svg\" height=\"24px\"viewBox=\"0 0 24 24\"\n",
              "       width=\"24px\">\n",
              "    <path d=\"M0 0h24v24H0V0z\" fill=\"none\"/>\n",
              "    <path d=\"M18.56 5.44l.94 2.06.94-2.06 2.06-.94-2.06-.94-.94-2.06-.94 2.06-2.06.94zm-11 1L8.5 8.5l.94-2.06 2.06-.94-2.06-.94L8.5 2.5l-.94 2.06-2.06.94zm10 10l.94 2.06.94-2.06 2.06-.94-2.06-.94-.94-2.06-.94 2.06-2.06.94z\"/><path d=\"M17.41 7.96l-1.37-1.37c-.4-.4-.92-.59-1.43-.59-.52 0-1.04.2-1.43.59L10.3 9.45l-7.72 7.72c-.78.78-.78 2.05 0 2.83L4 21.41c.39.39.9.59 1.41.59.51 0 1.02-.2 1.41-.59l7.78-7.78 2.81-2.81c.8-.78.8-2.07 0-2.86zM5.41 20L4 18.59l7.72-7.72 1.47 1.35L5.41 20z\"/>\n",
              "  </svg>\n",
              "      </button>\n",
              "      \n",
              "  <style>\n",
              "    .colab-df-container {\n",
              "      display:flex;\n",
              "      flex-wrap:wrap;\n",
              "      gap: 12px;\n",
              "    }\n",
              "\n",
              "    .colab-df-convert {\n",
              "      background-color: #E8F0FE;\n",
              "      border: none;\n",
              "      border-radius: 50%;\n",
              "      cursor: pointer;\n",
              "      display: none;\n",
              "      fill: #1967D2;\n",
              "      height: 32px;\n",
              "      padding: 0 0 0 0;\n",
              "      width: 32px;\n",
              "    }\n",
              "\n",
              "    .colab-df-convert:hover {\n",
              "      background-color: #E2EBFA;\n",
              "      box-shadow: 0px 1px 2px rgba(60, 64, 67, 0.3), 0px 1px 3px 1px rgba(60, 64, 67, 0.15);\n",
              "      fill: #174EA6;\n",
              "    }\n",
              "\n",
              "    [theme=dark] .colab-df-convert {\n",
              "      background-color: #3B4455;\n",
              "      fill: #D2E3FC;\n",
              "    }\n",
              "\n",
              "    [theme=dark] .colab-df-convert:hover {\n",
              "      background-color: #434B5C;\n",
              "      box-shadow: 0px 1px 3px 1px rgba(0, 0, 0, 0.15);\n",
              "      filter: drop-shadow(0px 1px 2px rgba(0, 0, 0, 0.3));\n",
              "      fill: #FFFFFF;\n",
              "    }\n",
              "  </style>\n",
              "\n",
              "      <script>\n",
              "        const buttonEl =\n",
              "          document.querySelector('#df-b95cb006-2abc-4941-be2f-5f5bd547aecb button.colab-df-convert');\n",
              "        buttonEl.style.display =\n",
              "          google.colab.kernel.accessAllowed ? 'block' : 'none';\n",
              "\n",
              "        async function convertToInteractive(key) {\n",
              "          const element = document.querySelector('#df-b95cb006-2abc-4941-be2f-5f5bd547aecb');\n",
              "          const dataTable =\n",
              "            await google.colab.kernel.invokeFunction('convertToInteractive',\n",
              "                                                     [key], {});\n",
              "          if (!dataTable) return;\n",
              "\n",
              "          const docLinkHtml = 'Like what you see? Visit the ' +\n",
              "            '<a target=\"_blank\" href=https://colab.research.google.com/notebooks/data_table.ipynb>data table notebook</a>'\n",
              "            + ' to learn more about interactive tables.';\n",
              "          element.innerHTML = '';\n",
              "          dataTable['output_type'] = 'display_data';\n",
              "          await google.colab.output.renderOutput(dataTable, element);\n",
              "          const docLink = document.createElement('div');\n",
              "          docLink.innerHTML = docLinkHtml;\n",
              "          element.appendChild(docLink);\n",
              "        }\n",
              "      </script>\n",
              "    </div>\n",
              "  </div>\n",
              "  "
            ]
          },
          "metadata": {},
          "execution_count": 17
        }
      ]
    },
    {
      "cell_type": "markdown",
      "source": [
        "* 사이킷런으로 정수 인코딩 하기\n",
        "\n",
        "```\n",
        "from sklearn.preprocessing import LabelEncoder\n",
        "```\n"
      ],
      "metadata": {
        "id": "y07T34b5wHYj"
      }
    },
    {
      "cell_type": "code",
      "source": [
        "from sklearn.preprocessing import LabelEncoder\n",
        "\n",
        "# 넘파이 변환 필요\n",
        "X = df.loc[:,2:].values# 열2 ~ 마지막\n",
        "y = df.loc[:,1].values # 열1\n",
        "print(X.shape, y.shape)\n",
        "print(X[:2], y[:2])\n",
        "\n",
        "# 정수 인코딩\n",
        "le = LabelEncoder()\n",
        "y = le.fit_transform(y)  # 학습과 변환\n",
        "print(X[:2], y[:2])\n",
        "print('인코딩된 클래스 순서:' , le.classes_)"
      ],
      "metadata": {
        "id": "lAOvrrRPuZu1",
        "colab": {
          "base_uri": "https://localhost:8080/"
        },
        "outputId": "32db939a-886f-4beb-a910-14fc63cc2f9d"
      },
      "execution_count": 22,
      "outputs": [
        {
          "output_type": "stream",
          "name": "stdout",
          "text": [
            "(569, 30) (569,)\n",
            "[[1.799e+01 1.038e+01 1.228e+02 1.001e+03 1.184e-01 2.776e-01 3.001e-01\n",
            "  1.471e-01 2.419e-01 7.871e-02 1.095e+00 9.053e-01 8.589e+00 1.534e+02\n",
            "  6.399e-03 4.904e-02 5.373e-02 1.587e-02 3.003e-02 6.193e-03 2.538e+01\n",
            "  1.733e+01 1.846e+02 2.019e+03 1.622e-01 6.656e-01 7.119e-01 2.654e-01\n",
            "  4.601e-01 1.189e-01]\n",
            " [2.057e+01 1.777e+01 1.329e+02 1.326e+03 8.474e-02 7.864e-02 8.690e-02\n",
            "  7.017e-02 1.812e-01 5.667e-02 5.435e-01 7.339e-01 3.398e+00 7.408e+01\n",
            "  5.225e-03 1.308e-02 1.860e-02 1.340e-02 1.389e-02 3.532e-03 2.499e+01\n",
            "  2.341e+01 1.588e+02 1.956e+03 1.238e-01 1.866e-01 2.416e-01 1.860e-01\n",
            "  2.750e-01 8.902e-02]] ['M' 'M']\n",
            "[[1.799e+01 1.038e+01 1.228e+02 1.001e+03 1.184e-01 2.776e-01 3.001e-01\n",
            "  1.471e-01 2.419e-01 7.871e-02 1.095e+00 9.053e-01 8.589e+00 1.534e+02\n",
            "  6.399e-03 4.904e-02 5.373e-02 1.587e-02 3.003e-02 6.193e-03 2.538e+01\n",
            "  1.733e+01 1.846e+02 2.019e+03 1.622e-01 6.656e-01 7.119e-01 2.654e-01\n",
            "  4.601e-01 1.189e-01]\n",
            " [2.057e+01 1.777e+01 1.329e+02 1.326e+03 8.474e-02 7.864e-02 8.690e-02\n",
            "  7.017e-02 1.812e-01 5.667e-02 5.435e-01 7.339e-01 3.398e+00 7.408e+01\n",
            "  5.225e-03 1.308e-02 1.860e-02 1.340e-02 1.389e-02 3.532e-03 2.499e+01\n",
            "  2.341e+01 1.588e+02 1.956e+03 1.238e-01 1.866e-01 2.416e-01 1.860e-01\n",
            "  2.750e-01 8.902e-02]] [1 1]\n",
            "인코딩된 클래스 순서: ['B' 'M']\n"
          ]
        }
      ]
    },
    {
      "cell_type": "markdown",
      "source": [
        "* 샘플에 인코딩 적용"
      ],
      "metadata": {
        "id": "t6MGYF8jxgtr"
      }
    },
    {
      "cell_type": "code",
      "source": [
        "sample = ['M', 'B', 'B', 'M']\n",
        "le.transform(sample)\n"
      ],
      "metadata": {
        "id": "chYZsvc8xWga",
        "colab": {
          "base_uri": "https://localhost:8080/"
        },
        "outputId": "c0bfc9f7-1aee-4286-b217-70b9647c5370"
      },
      "execution_count": 24,
      "outputs": [
        {
          "output_type": "execute_result",
          "data": {
            "text/plain": [
              "array([1, 0, 0, 1])"
            ]
          },
          "metadata": {},
          "execution_count": 24
        }
      ]
    },
    {
      "cell_type": "markdown",
      "source": [
        "* 데이터 분할"
      ],
      "metadata": {
        "id": "FREnQO2XPq9C"
      }
    },
    {
      "cell_type": "code",
      "source": [
        "from sklearn.model_selection import train_test_split\n",
        "\n",
        "X_train ,X_test, y_train, y_test = train_test_split(X, y, \n",
        "                                           test_size = 0.2, \n",
        "                                           stratify = y, # 분리시 y분포가 유사하도록\n",
        "                                           random_state = 1)\n",
        "X_train.shape, X_test.shape, y_train.shape, y_test.shape"
      ],
      "metadata": {
        "id": "Cm4JuXeFPr7Z",
        "colab": {
          "base_uri": "https://localhost:8080/"
        },
        "outputId": "d6ecad0e-9680-4262-a43f-4f6b85768de3"
      },
      "execution_count": 27,
      "outputs": [
        {
          "output_type": "execute_result",
          "data": {
            "text/plain": [
              "((455, 30), (114, 30), (455,), (114,))"
            ]
          },
          "metadata": {},
          "execution_count": 27
        }
      ]
    },
    {
      "cell_type": "markdown",
      "source": [
        "## 효과적인 모델 구상과 평가\n",
        "---"
      ],
      "metadata": {
        "id": "oz72dz7QZXub"
      }
    },
    {
      "cell_type": "markdown",
      "source": [
        "### **| 모델 파이프라인 제작**\n",
        "\n",
        "```\n",
        "sklearn.pipeline.make_pipeline(*steps, \n",
        "                               memory=None, \n",
        "                               verbose=False)\n",
        "\n",
        "```"
      ],
      "metadata": {
        "id": "0lSjpmR1xuPD"
      }
    },
    {
      "cell_type": "markdown",
      "source": [
        "* z-score 스케일링 -> 로지스틱 회귀"
      ],
      "metadata": {
        "id": "0Rb7a6PmZoLi"
      }
    },
    {
      "cell_type": "code",
      "source": [
        "from sklearn.pipeline import make_pipeline\n",
        "from sklearn.preprocessing import StandardScaler\n",
        "from sklearn.linear_model import LogisticRegression\n",
        "from sklearn import set_config\n",
        "\n",
        "set_config(display = 'diagram')\n",
        "pipe_lr = make_pipeline(StandardScaler(),\n",
        "                        LogisticRegression(random_state = 1))\n",
        "pipe_lr.fit(X_train, y_train)"
      ],
      "metadata": {
        "id": "grcfaQDIxx1i",
        "colab": {
          "base_uri": "https://localhost:8080/",
          "height": 126
        },
        "outputId": "633ef2e5-ca43-47f9-acbd-a1a2be0fca4a"
      },
      "execution_count": 32,
      "outputs": [
        {
          "output_type": "execute_result",
          "data": {
            "text/plain": [
              "Pipeline(steps=[('standardscaler', StandardScaler()),\n",
              "                ('logisticregression', LogisticRegression(random_state=1))])"
            ],
            "text/html": [
              "<style>#sk-4035cfab-6c1d-4217-8ae2-99127dcfa4d2 {color: black;background-color: white;}#sk-4035cfab-6c1d-4217-8ae2-99127dcfa4d2 pre{padding: 0;}#sk-4035cfab-6c1d-4217-8ae2-99127dcfa4d2 div.sk-toggleable {background-color: white;}#sk-4035cfab-6c1d-4217-8ae2-99127dcfa4d2 label.sk-toggleable__label {cursor: pointer;display: block;width: 100%;margin-bottom: 0;padding: 0.3em;box-sizing: border-box;text-align: center;}#sk-4035cfab-6c1d-4217-8ae2-99127dcfa4d2 label.sk-toggleable__label-arrow:before {content: \"▸\";float: left;margin-right: 0.25em;color: #696969;}#sk-4035cfab-6c1d-4217-8ae2-99127dcfa4d2 label.sk-toggleable__label-arrow:hover:before {color: black;}#sk-4035cfab-6c1d-4217-8ae2-99127dcfa4d2 div.sk-estimator:hover label.sk-toggleable__label-arrow:before {color: black;}#sk-4035cfab-6c1d-4217-8ae2-99127dcfa4d2 div.sk-toggleable__content {max-height: 0;max-width: 0;overflow: hidden;text-align: left;background-color: #f0f8ff;}#sk-4035cfab-6c1d-4217-8ae2-99127dcfa4d2 div.sk-toggleable__content pre {margin: 0.2em;color: black;border-radius: 0.25em;background-color: #f0f8ff;}#sk-4035cfab-6c1d-4217-8ae2-99127dcfa4d2 input.sk-toggleable__control:checked~div.sk-toggleable__content {max-height: 200px;max-width: 100%;overflow: auto;}#sk-4035cfab-6c1d-4217-8ae2-99127dcfa4d2 input.sk-toggleable__control:checked~label.sk-toggleable__label-arrow:before {content: \"▾\";}#sk-4035cfab-6c1d-4217-8ae2-99127dcfa4d2 div.sk-estimator input.sk-toggleable__control:checked~label.sk-toggleable__label {background-color: #d4ebff;}#sk-4035cfab-6c1d-4217-8ae2-99127dcfa4d2 div.sk-label input.sk-toggleable__control:checked~label.sk-toggleable__label {background-color: #d4ebff;}#sk-4035cfab-6c1d-4217-8ae2-99127dcfa4d2 input.sk-hidden--visually {border: 0;clip: rect(1px 1px 1px 1px);clip: rect(1px, 1px, 1px, 1px);height: 1px;margin: -1px;overflow: hidden;padding: 0;position: absolute;width: 1px;}#sk-4035cfab-6c1d-4217-8ae2-99127dcfa4d2 div.sk-estimator {font-family: monospace;background-color: #f0f8ff;border: 1px dotted black;border-radius: 0.25em;box-sizing: border-box;margin-bottom: 0.5em;}#sk-4035cfab-6c1d-4217-8ae2-99127dcfa4d2 div.sk-estimator:hover {background-color: #d4ebff;}#sk-4035cfab-6c1d-4217-8ae2-99127dcfa4d2 div.sk-parallel-item::after {content: \"\";width: 100%;border-bottom: 1px solid gray;flex-grow: 1;}#sk-4035cfab-6c1d-4217-8ae2-99127dcfa4d2 div.sk-label:hover label.sk-toggleable__label {background-color: #d4ebff;}#sk-4035cfab-6c1d-4217-8ae2-99127dcfa4d2 div.sk-serial::before {content: \"\";position: absolute;border-left: 1px solid gray;box-sizing: border-box;top: 2em;bottom: 0;left: 50%;}#sk-4035cfab-6c1d-4217-8ae2-99127dcfa4d2 div.sk-serial {display: flex;flex-direction: column;align-items: center;background-color: white;padding-right: 0.2em;padding-left: 0.2em;}#sk-4035cfab-6c1d-4217-8ae2-99127dcfa4d2 div.sk-item {z-index: 1;}#sk-4035cfab-6c1d-4217-8ae2-99127dcfa4d2 div.sk-parallel {display: flex;align-items: stretch;justify-content: center;background-color: white;}#sk-4035cfab-6c1d-4217-8ae2-99127dcfa4d2 div.sk-parallel::before {content: \"\";position: absolute;border-left: 1px solid gray;box-sizing: border-box;top: 2em;bottom: 0;left: 50%;}#sk-4035cfab-6c1d-4217-8ae2-99127dcfa4d2 div.sk-parallel-item {display: flex;flex-direction: column;position: relative;background-color: white;}#sk-4035cfab-6c1d-4217-8ae2-99127dcfa4d2 div.sk-parallel-item:first-child::after {align-self: flex-end;width: 50%;}#sk-4035cfab-6c1d-4217-8ae2-99127dcfa4d2 div.sk-parallel-item:last-child::after {align-self: flex-start;width: 50%;}#sk-4035cfab-6c1d-4217-8ae2-99127dcfa4d2 div.sk-parallel-item:only-child::after {width: 0;}#sk-4035cfab-6c1d-4217-8ae2-99127dcfa4d2 div.sk-dashed-wrapped {border: 1px dashed gray;margin: 0 0.4em 0.5em 0.4em;box-sizing: border-box;padding-bottom: 0.4em;background-color: white;position: relative;}#sk-4035cfab-6c1d-4217-8ae2-99127dcfa4d2 div.sk-label label {font-family: monospace;font-weight: bold;background-color: white;display: inline-block;line-height: 1.2em;}#sk-4035cfab-6c1d-4217-8ae2-99127dcfa4d2 div.sk-label-container {position: relative;z-index: 2;text-align: center;}#sk-4035cfab-6c1d-4217-8ae2-99127dcfa4d2 div.sk-container {/* jupyter's `normalize.less` sets `[hidden] { display: none; }` but bootstrap.min.css set `[hidden] { display: none !important; }` so we also need the `!important` here to be able to override the default hidden behavior on the sphinx rendered scikit-learn.org. See: https://github.com/scikit-learn/scikit-learn/issues/21755 */display: inline-block !important;position: relative;}#sk-4035cfab-6c1d-4217-8ae2-99127dcfa4d2 div.sk-text-repr-fallback {display: none;}</style><div id=\"sk-4035cfab-6c1d-4217-8ae2-99127dcfa4d2\" class=\"sk-top-container\"><div class=\"sk-text-repr-fallback\"><pre>Pipeline(steps=[(&#x27;standardscaler&#x27;, StandardScaler()),\n",
              "                (&#x27;logisticregression&#x27;, LogisticRegression(random_state=1))])</pre><b>Please rerun this cell to show the HTML repr or trust the notebook.</b></div><div class=\"sk-container\" hidden><div class=\"sk-item sk-dashed-wrapped\"><div class=\"sk-label-container\"><div class=\"sk-label sk-toggleable\"><input class=\"sk-toggleable__control sk-hidden--visually\" id=\"77a6f61e-8880-4b3e-a47e-ac82b2f01a43\" type=\"checkbox\" ><label for=\"77a6f61e-8880-4b3e-a47e-ac82b2f01a43\" class=\"sk-toggleable__label sk-toggleable__label-arrow\">Pipeline</label><div class=\"sk-toggleable__content\"><pre>Pipeline(steps=[(&#x27;standardscaler&#x27;, StandardScaler()),\n",
              "                (&#x27;logisticregression&#x27;, LogisticRegression(random_state=1))])</pre></div></div></div><div class=\"sk-serial\"><div class=\"sk-item\"><div class=\"sk-estimator sk-toggleable\"><input class=\"sk-toggleable__control sk-hidden--visually\" id=\"676364a9-c4c7-401e-95d7-6a8e780c2a43\" type=\"checkbox\" ><label for=\"676364a9-c4c7-401e-95d7-6a8e780c2a43\" class=\"sk-toggleable__label sk-toggleable__label-arrow\">StandardScaler</label><div class=\"sk-toggleable__content\"><pre>StandardScaler()</pre></div></div></div><div class=\"sk-item\"><div class=\"sk-estimator sk-toggleable\"><input class=\"sk-toggleable__control sk-hidden--visually\" id=\"0e727419-3118-4cf1-ae3d-9105a5544a4e\" type=\"checkbox\" ><label for=\"0e727419-3118-4cf1-ae3d-9105a5544a4e\" class=\"sk-toggleable__label sk-toggleable__label-arrow\">LogisticRegression</label><div class=\"sk-toggleable__content\"><pre>LogisticRegression(random_state=1)</pre></div></div></div></div></div></div></div>"
            ]
          },
          "metadata": {},
          "execution_count": 32
        }
      ]
    },
    {
      "cell_type": "markdown",
      "source": [
        "* z-score 스케일링 -> SVC"
      ],
      "metadata": {
        "id": "ER2pHNXQZucC"
      }
    },
    {
      "cell_type": "code",
      "source": [
        "from sklearn.svm import SVC \n",
        "\n",
        "set_config(display = 'diagram')\n",
        "pipe_svc = make_pipeline(StandardScaler(),\n",
        "                         SVC(random_state = 1))\n",
        "pipe_svc.fit(X_train, y_train)"
      ],
      "metadata": {
        "id": "eO1NQBHUzAM5",
        "colab": {
          "base_uri": "https://localhost:8080/",
          "height": 126
        },
        "outputId": "51c44a92-832b-40bf-c1ec-dc60be65c4e0"
      },
      "execution_count": 33,
      "outputs": [
        {
          "output_type": "execute_result",
          "data": {
            "text/plain": [
              "Pipeline(steps=[('standardscaler', StandardScaler()),\n",
              "                ('svc', SVC(random_state=1))])"
            ],
            "text/html": [
              "<style>#sk-49aff681-636e-4b6f-a6bf-b908d18022e1 {color: black;background-color: white;}#sk-49aff681-636e-4b6f-a6bf-b908d18022e1 pre{padding: 0;}#sk-49aff681-636e-4b6f-a6bf-b908d18022e1 div.sk-toggleable {background-color: white;}#sk-49aff681-636e-4b6f-a6bf-b908d18022e1 label.sk-toggleable__label {cursor: pointer;display: block;width: 100%;margin-bottom: 0;padding: 0.3em;box-sizing: border-box;text-align: center;}#sk-49aff681-636e-4b6f-a6bf-b908d18022e1 label.sk-toggleable__label-arrow:before {content: \"▸\";float: left;margin-right: 0.25em;color: #696969;}#sk-49aff681-636e-4b6f-a6bf-b908d18022e1 label.sk-toggleable__label-arrow:hover:before {color: black;}#sk-49aff681-636e-4b6f-a6bf-b908d18022e1 div.sk-estimator:hover label.sk-toggleable__label-arrow:before {color: black;}#sk-49aff681-636e-4b6f-a6bf-b908d18022e1 div.sk-toggleable__content {max-height: 0;max-width: 0;overflow: hidden;text-align: left;background-color: #f0f8ff;}#sk-49aff681-636e-4b6f-a6bf-b908d18022e1 div.sk-toggleable__content pre {margin: 0.2em;color: black;border-radius: 0.25em;background-color: #f0f8ff;}#sk-49aff681-636e-4b6f-a6bf-b908d18022e1 input.sk-toggleable__control:checked~div.sk-toggleable__content {max-height: 200px;max-width: 100%;overflow: auto;}#sk-49aff681-636e-4b6f-a6bf-b908d18022e1 input.sk-toggleable__control:checked~label.sk-toggleable__label-arrow:before {content: \"▾\";}#sk-49aff681-636e-4b6f-a6bf-b908d18022e1 div.sk-estimator input.sk-toggleable__control:checked~label.sk-toggleable__label {background-color: #d4ebff;}#sk-49aff681-636e-4b6f-a6bf-b908d18022e1 div.sk-label input.sk-toggleable__control:checked~label.sk-toggleable__label {background-color: #d4ebff;}#sk-49aff681-636e-4b6f-a6bf-b908d18022e1 input.sk-hidden--visually {border: 0;clip: rect(1px 1px 1px 1px);clip: rect(1px, 1px, 1px, 1px);height: 1px;margin: -1px;overflow: hidden;padding: 0;position: absolute;width: 1px;}#sk-49aff681-636e-4b6f-a6bf-b908d18022e1 div.sk-estimator {font-family: monospace;background-color: #f0f8ff;border: 1px dotted black;border-radius: 0.25em;box-sizing: border-box;margin-bottom: 0.5em;}#sk-49aff681-636e-4b6f-a6bf-b908d18022e1 div.sk-estimator:hover {background-color: #d4ebff;}#sk-49aff681-636e-4b6f-a6bf-b908d18022e1 div.sk-parallel-item::after {content: \"\";width: 100%;border-bottom: 1px solid gray;flex-grow: 1;}#sk-49aff681-636e-4b6f-a6bf-b908d18022e1 div.sk-label:hover label.sk-toggleable__label {background-color: #d4ebff;}#sk-49aff681-636e-4b6f-a6bf-b908d18022e1 div.sk-serial::before {content: \"\";position: absolute;border-left: 1px solid gray;box-sizing: border-box;top: 2em;bottom: 0;left: 50%;}#sk-49aff681-636e-4b6f-a6bf-b908d18022e1 div.sk-serial {display: flex;flex-direction: column;align-items: center;background-color: white;padding-right: 0.2em;padding-left: 0.2em;}#sk-49aff681-636e-4b6f-a6bf-b908d18022e1 div.sk-item {z-index: 1;}#sk-49aff681-636e-4b6f-a6bf-b908d18022e1 div.sk-parallel {display: flex;align-items: stretch;justify-content: center;background-color: white;}#sk-49aff681-636e-4b6f-a6bf-b908d18022e1 div.sk-parallel::before {content: \"\";position: absolute;border-left: 1px solid gray;box-sizing: border-box;top: 2em;bottom: 0;left: 50%;}#sk-49aff681-636e-4b6f-a6bf-b908d18022e1 div.sk-parallel-item {display: flex;flex-direction: column;position: relative;background-color: white;}#sk-49aff681-636e-4b6f-a6bf-b908d18022e1 div.sk-parallel-item:first-child::after {align-self: flex-end;width: 50%;}#sk-49aff681-636e-4b6f-a6bf-b908d18022e1 div.sk-parallel-item:last-child::after {align-self: flex-start;width: 50%;}#sk-49aff681-636e-4b6f-a6bf-b908d18022e1 div.sk-parallel-item:only-child::after {width: 0;}#sk-49aff681-636e-4b6f-a6bf-b908d18022e1 div.sk-dashed-wrapped {border: 1px dashed gray;margin: 0 0.4em 0.5em 0.4em;box-sizing: border-box;padding-bottom: 0.4em;background-color: white;position: relative;}#sk-49aff681-636e-4b6f-a6bf-b908d18022e1 div.sk-label label {font-family: monospace;font-weight: bold;background-color: white;display: inline-block;line-height: 1.2em;}#sk-49aff681-636e-4b6f-a6bf-b908d18022e1 div.sk-label-container {position: relative;z-index: 2;text-align: center;}#sk-49aff681-636e-4b6f-a6bf-b908d18022e1 div.sk-container {/* jupyter's `normalize.less` sets `[hidden] { display: none; }` but bootstrap.min.css set `[hidden] { display: none !important; }` so we also need the `!important` here to be able to override the default hidden behavior on the sphinx rendered scikit-learn.org. See: https://github.com/scikit-learn/scikit-learn/issues/21755 */display: inline-block !important;position: relative;}#sk-49aff681-636e-4b6f-a6bf-b908d18022e1 div.sk-text-repr-fallback {display: none;}</style><div id=\"sk-49aff681-636e-4b6f-a6bf-b908d18022e1\" class=\"sk-top-container\"><div class=\"sk-text-repr-fallback\"><pre>Pipeline(steps=[(&#x27;standardscaler&#x27;, StandardScaler()),\n",
              "                (&#x27;svc&#x27;, SVC(random_state=1))])</pre><b>Please rerun this cell to show the HTML repr or trust the notebook.</b></div><div class=\"sk-container\" hidden><div class=\"sk-item sk-dashed-wrapped\"><div class=\"sk-label-container\"><div class=\"sk-label sk-toggleable\"><input class=\"sk-toggleable__control sk-hidden--visually\" id=\"5e4b6385-b07d-4b32-b96b-e64b27e8b1b2\" type=\"checkbox\" ><label for=\"5e4b6385-b07d-4b32-b96b-e64b27e8b1b2\" class=\"sk-toggleable__label sk-toggleable__label-arrow\">Pipeline</label><div class=\"sk-toggleable__content\"><pre>Pipeline(steps=[(&#x27;standardscaler&#x27;, StandardScaler()),\n",
              "                (&#x27;svc&#x27;, SVC(random_state=1))])</pre></div></div></div><div class=\"sk-serial\"><div class=\"sk-item\"><div class=\"sk-estimator sk-toggleable\"><input class=\"sk-toggleable__control sk-hidden--visually\" id=\"84d20bf6-7f9f-4f63-a150-1f7eb90fa372\" type=\"checkbox\" ><label for=\"84d20bf6-7f9f-4f63-a150-1f7eb90fa372\" class=\"sk-toggleable__label sk-toggleable__label-arrow\">StandardScaler</label><div class=\"sk-toggleable__content\"><pre>StandardScaler()</pre></div></div></div><div class=\"sk-item\"><div class=\"sk-estimator sk-toggleable\"><input class=\"sk-toggleable__control sk-hidden--visually\" id=\"d68f19c4-2126-4f6a-bbf4-02f58eb40cac\" type=\"checkbox\" ><label for=\"d68f19c4-2126-4f6a-bbf4-02f58eb40cac\" class=\"sk-toggleable__label sk-toggleable__label-arrow\">SVC</label><div class=\"sk-toggleable__content\"><pre>SVC(random_state=1)</pre></div></div></div></div></div></div></div>"
            ]
          },
          "metadata": {},
          "execution_count": 33
        }
      ]
    },
    {
      "cell_type": "markdown",
      "source": [
        "* z-score 스케일링 -> PCA -> SVC"
      ],
      "metadata": {
        "id": "-a5GbBiQZ0GT"
      }
    },
    {
      "cell_type": "code",
      "source": [
        "from sklearn.decomposition import PCA\n",
        "\n",
        "set_config(display = 'diagram')\n",
        "pipe_pcasvc = make_pipeline(StandardScaler(),\n",
        "                        PCA(n_components = 2, random_state = 1),\n",
        "                        SVC(random_state = 1))\n",
        "pipe_pcasvc.fit(X_train, y_train)"
      ],
      "metadata": {
        "id": "eSAbw1Sy0j0W",
        "colab": {
          "base_uri": "https://localhost:8080/",
          "height": 161
        },
        "outputId": "9623f555-cb9f-40af-8e40-d57b93935c7f"
      },
      "execution_count": 34,
      "outputs": [
        {
          "output_type": "execute_result",
          "data": {
            "text/plain": [
              "Pipeline(steps=[('standardscaler', StandardScaler()),\n",
              "                ('pca', PCA(n_components=2, random_state=1)),\n",
              "                ('svc', SVC(random_state=1))])"
            ],
            "text/html": [
              "<style>#sk-80612c22-5edf-4f35-a6aa-18ad018f785e {color: black;background-color: white;}#sk-80612c22-5edf-4f35-a6aa-18ad018f785e pre{padding: 0;}#sk-80612c22-5edf-4f35-a6aa-18ad018f785e div.sk-toggleable {background-color: white;}#sk-80612c22-5edf-4f35-a6aa-18ad018f785e label.sk-toggleable__label {cursor: pointer;display: block;width: 100%;margin-bottom: 0;padding: 0.3em;box-sizing: border-box;text-align: center;}#sk-80612c22-5edf-4f35-a6aa-18ad018f785e label.sk-toggleable__label-arrow:before {content: \"▸\";float: left;margin-right: 0.25em;color: #696969;}#sk-80612c22-5edf-4f35-a6aa-18ad018f785e label.sk-toggleable__label-arrow:hover:before {color: black;}#sk-80612c22-5edf-4f35-a6aa-18ad018f785e div.sk-estimator:hover label.sk-toggleable__label-arrow:before {color: black;}#sk-80612c22-5edf-4f35-a6aa-18ad018f785e div.sk-toggleable__content {max-height: 0;max-width: 0;overflow: hidden;text-align: left;background-color: #f0f8ff;}#sk-80612c22-5edf-4f35-a6aa-18ad018f785e div.sk-toggleable__content pre {margin: 0.2em;color: black;border-radius: 0.25em;background-color: #f0f8ff;}#sk-80612c22-5edf-4f35-a6aa-18ad018f785e input.sk-toggleable__control:checked~div.sk-toggleable__content {max-height: 200px;max-width: 100%;overflow: auto;}#sk-80612c22-5edf-4f35-a6aa-18ad018f785e input.sk-toggleable__control:checked~label.sk-toggleable__label-arrow:before {content: \"▾\";}#sk-80612c22-5edf-4f35-a6aa-18ad018f785e div.sk-estimator input.sk-toggleable__control:checked~label.sk-toggleable__label {background-color: #d4ebff;}#sk-80612c22-5edf-4f35-a6aa-18ad018f785e div.sk-label input.sk-toggleable__control:checked~label.sk-toggleable__label {background-color: #d4ebff;}#sk-80612c22-5edf-4f35-a6aa-18ad018f785e input.sk-hidden--visually {border: 0;clip: rect(1px 1px 1px 1px);clip: rect(1px, 1px, 1px, 1px);height: 1px;margin: -1px;overflow: hidden;padding: 0;position: absolute;width: 1px;}#sk-80612c22-5edf-4f35-a6aa-18ad018f785e div.sk-estimator {font-family: monospace;background-color: #f0f8ff;border: 1px dotted black;border-radius: 0.25em;box-sizing: border-box;margin-bottom: 0.5em;}#sk-80612c22-5edf-4f35-a6aa-18ad018f785e div.sk-estimator:hover {background-color: #d4ebff;}#sk-80612c22-5edf-4f35-a6aa-18ad018f785e div.sk-parallel-item::after {content: \"\";width: 100%;border-bottom: 1px solid gray;flex-grow: 1;}#sk-80612c22-5edf-4f35-a6aa-18ad018f785e div.sk-label:hover label.sk-toggleable__label {background-color: #d4ebff;}#sk-80612c22-5edf-4f35-a6aa-18ad018f785e div.sk-serial::before {content: \"\";position: absolute;border-left: 1px solid gray;box-sizing: border-box;top: 2em;bottom: 0;left: 50%;}#sk-80612c22-5edf-4f35-a6aa-18ad018f785e div.sk-serial {display: flex;flex-direction: column;align-items: center;background-color: white;padding-right: 0.2em;padding-left: 0.2em;}#sk-80612c22-5edf-4f35-a6aa-18ad018f785e div.sk-item {z-index: 1;}#sk-80612c22-5edf-4f35-a6aa-18ad018f785e div.sk-parallel {display: flex;align-items: stretch;justify-content: center;background-color: white;}#sk-80612c22-5edf-4f35-a6aa-18ad018f785e div.sk-parallel::before {content: \"\";position: absolute;border-left: 1px solid gray;box-sizing: border-box;top: 2em;bottom: 0;left: 50%;}#sk-80612c22-5edf-4f35-a6aa-18ad018f785e div.sk-parallel-item {display: flex;flex-direction: column;position: relative;background-color: white;}#sk-80612c22-5edf-4f35-a6aa-18ad018f785e div.sk-parallel-item:first-child::after {align-self: flex-end;width: 50%;}#sk-80612c22-5edf-4f35-a6aa-18ad018f785e div.sk-parallel-item:last-child::after {align-self: flex-start;width: 50%;}#sk-80612c22-5edf-4f35-a6aa-18ad018f785e div.sk-parallel-item:only-child::after {width: 0;}#sk-80612c22-5edf-4f35-a6aa-18ad018f785e div.sk-dashed-wrapped {border: 1px dashed gray;margin: 0 0.4em 0.5em 0.4em;box-sizing: border-box;padding-bottom: 0.4em;background-color: white;position: relative;}#sk-80612c22-5edf-4f35-a6aa-18ad018f785e div.sk-label label {font-family: monospace;font-weight: bold;background-color: white;display: inline-block;line-height: 1.2em;}#sk-80612c22-5edf-4f35-a6aa-18ad018f785e div.sk-label-container {position: relative;z-index: 2;text-align: center;}#sk-80612c22-5edf-4f35-a6aa-18ad018f785e div.sk-container {/* jupyter's `normalize.less` sets `[hidden] { display: none; }` but bootstrap.min.css set `[hidden] { display: none !important; }` so we also need the `!important` here to be able to override the default hidden behavior on the sphinx rendered scikit-learn.org. See: https://github.com/scikit-learn/scikit-learn/issues/21755 */display: inline-block !important;position: relative;}#sk-80612c22-5edf-4f35-a6aa-18ad018f785e div.sk-text-repr-fallback {display: none;}</style><div id=\"sk-80612c22-5edf-4f35-a6aa-18ad018f785e\" class=\"sk-top-container\"><div class=\"sk-text-repr-fallback\"><pre>Pipeline(steps=[(&#x27;standardscaler&#x27;, StandardScaler()),\n",
              "                (&#x27;pca&#x27;, PCA(n_components=2, random_state=1)),\n",
              "                (&#x27;svc&#x27;, SVC(random_state=1))])</pre><b>Please rerun this cell to show the HTML repr or trust the notebook.</b></div><div class=\"sk-container\" hidden><div class=\"sk-item sk-dashed-wrapped\"><div class=\"sk-label-container\"><div class=\"sk-label sk-toggleable\"><input class=\"sk-toggleable__control sk-hidden--visually\" id=\"d4a1df99-3e77-41ef-be36-82c58c7c5df5\" type=\"checkbox\" ><label for=\"d4a1df99-3e77-41ef-be36-82c58c7c5df5\" class=\"sk-toggleable__label sk-toggleable__label-arrow\">Pipeline</label><div class=\"sk-toggleable__content\"><pre>Pipeline(steps=[(&#x27;standardscaler&#x27;, StandardScaler()),\n",
              "                (&#x27;pca&#x27;, PCA(n_components=2, random_state=1)),\n",
              "                (&#x27;svc&#x27;, SVC(random_state=1))])</pre></div></div></div><div class=\"sk-serial\"><div class=\"sk-item\"><div class=\"sk-estimator sk-toggleable\"><input class=\"sk-toggleable__control sk-hidden--visually\" id=\"0b924de9-f1a4-4149-bae0-d1184fd1687a\" type=\"checkbox\" ><label for=\"0b924de9-f1a4-4149-bae0-d1184fd1687a\" class=\"sk-toggleable__label sk-toggleable__label-arrow\">StandardScaler</label><div class=\"sk-toggleable__content\"><pre>StandardScaler()</pre></div></div></div><div class=\"sk-item\"><div class=\"sk-estimator sk-toggleable\"><input class=\"sk-toggleable__control sk-hidden--visually\" id=\"6b25414e-3b3d-4c68-9c8f-1a9a8f69f746\" type=\"checkbox\" ><label for=\"6b25414e-3b3d-4c68-9c8f-1a9a8f69f746\" class=\"sk-toggleable__label sk-toggleable__label-arrow\">PCA</label><div class=\"sk-toggleable__content\"><pre>PCA(n_components=2, random_state=1)</pre></div></div></div><div class=\"sk-item\"><div class=\"sk-estimator sk-toggleable\"><input class=\"sk-toggleable__control sk-hidden--visually\" id=\"00d31291-49d1-4fd5-93aa-977ef30ff620\" type=\"checkbox\" ><label for=\"00d31291-49d1-4fd5-93aa-977ef30ff620\" class=\"sk-toggleable__label sk-toggleable__label-arrow\">SVC</label><div class=\"sk-toggleable__content\"><pre>SVC(random_state=1)</pre></div></div></div></div></div></div></div>"
            ]
          },
          "metadata": {},
          "execution_count": 34
        }
      ]
    },
    {
      "cell_type": "markdown",
      "source": [
        "### **| k-겹 교차 검증을 사용한 모델 성능 평가**"
      ],
      "metadata": {
        "id": "8mVKy1E8UlPP"
      }
    },
    {
      "cell_type": "markdown",
      "source": [
        "#### **홀드아웃(holdout cross-validation)**\n",
        "\n",
        "<p align='center'>\n",
        "<img src=https://git.io/JtsTo?raw=true width=600>\n",
        "</p>\n",
        "\n",
        "* 초기 데이터셋을 별도의 훈련 데이터셋과 테스트 데이터셋으로 분리\n",
        "* 성능 향상을 위해 하이퍼파라미터를 튜닝하고 비교하는 과정을 모델 선택이라고 한다.\n",
        "* 하이퍼파라미터 튜닝의 기준은 테스트셋이고 따라서 하이퍼파라미터를 튜닝하는 과정에서 테스트셋도 모델 선택의 일부가 되버린다.\n",
        "* 홀드아웃 방법은 데이터를 훈련 데이터, 검증 데이터, 테스트 데이터셋 세가지로 나누는 것. \n",
        "* 훈련 데이터셋 : 학습 파라미터 조정\n",
        "* 검증 데이터셋 : 하이퍼 파라미터 조정\n",
        "* 테스트 데이터셋 : 최종 성능 평가"
      ],
      "metadata": {
        "id": "5ricSHxSUxM2"
      }
    },
    {
      "cell_type": "markdown",
      "source": [
        "#### **k-겹 교차검증(k-fold cross-validation)**\n",
        "\n",
        "<p align='center'>\n",
        "<img src=https://git.io/JtsT6?raw=true width=600>\n",
        "</p>\n",
        "\n",
        "\n",
        "* 중복을 허용하지 않고 훈련 데이터셋을 k개의 폴드로 랜덤하게 나눈다.\n",
        "* k-1개의 폴드로 모델 훈련을 k번 하여 k개의 모델 확보\n",
        "* k개 모델에 대한 k번의 성능 평가 진행\n",
        "* 일반적으로 최적의 하이퍼파라미터 값을 찾기 위해 사용\n",
        "* 최적의 하이퍼파라미터를 찾은 후에는 전체 훈련 데이터셋을 사용해 모델을 재훈련\n",
        "* 최종 성능 추정은 독립적인 테스트셋(이제껏 사용하지 않은 데이터)을 사용하여 추정.\n"
      ],
      "metadata": {
        "id": "ymoHxEVYVruW"
      }
    },
    {
      "cell_type": "markdown",
      "source": [
        "```\n",
        "sklearn.model_selection.cross_validate(estimator, \n",
        "                                       X, y=None, \n",
        "                                       groups=None,\n",
        "                                       scoring=None, \n",
        "                                       cv=None, \n",
        "                                       n_jobs=None,\n",
        "                                       verbose=0,\n",
        "                                       fit_params=None,\n",
        "                                       pre_dispatch='2*n_jobs', \n",
        "                                       return_train_score=False, \n",
        "                                       return_estimator=False, \n",
        "                                       error_score=nan)\n",
        "```"
      ],
      "metadata": {
        "id": "uskpiAzQ1hgh"
      }
    },
    {
      "cell_type": "code",
      "source": [
        "sklearn.model_selection.cross_validate(estimator, # 모델\n",
        "                                       X, y=None, # 데이터\n",
        "                                       groups=None,\n",
        "                                       scoring=None, \n",
        "                                       cv=None, # cross_validation 교차 검증, k\n",
        "                                       n_jobs=None,\n",
        "                                       verbose=0,\n",
        "                                       fit_params=None,\n",
        "                                       pre_dispatch='2*n_jobs', \n",
        "                                       return_train_score=False, \n",
        "                                       return_estimator=False, \n",
        "                                       error_score=nan)"
      ],
      "metadata": {
        "id": "eTinmPKyGVWR"
      },
      "execution_count": null,
      "outputs": []
    },
    {
      "cell_type": "code",
      "source": [
        "# train.csv -> 정답 있음\n",
        "# trian.csv -> train : 모델 학습\n",
        "#           -> valiid : 파라미터 튜닝 및 평가\n",
        "\n",
        "# X_train, y_train, X_test, y_test = train_test_split(x_train, y_train) > 홀드아웃 방식\n",
        "# cross_validate(x_train, y_train) -> k겹 교차방식"
      ],
      "metadata": {
        "id": "b58_hb5D-xq7"
      },
      "execution_count": null,
      "outputs": []
    },
    {
      "cell_type": "code",
      "source": [
        "from sklearn.model_selection import cross_validate\n",
        "\n",
        "df = pd.DataFrame()\n",
        "for pipe in ['pipe_lr', 'pipe_svc', 'pipe_pcasvc']:\n",
        "  scores = cross_validate(estimator = eval(pipe),\n",
        "                          X = X_train, y = y_train,\n",
        "                          scoring = ['accuracy'],\n",
        "                          cv = 10)\n",
        "  df[pipe] = scores['test_accuracy']\n",
        "  mean_score = np.mean(scores['test_accuracy']).round(3)\n",
        "  print(f'{pipe} 평균성능: {mean_score}')"
      ],
      "metadata": {
        "colab": {
          "base_uri": "https://localhost:8080/"
        },
        "id": "KLplrD2WGMuz",
        "outputId": "6907ca4c-2c83-4564-fb4d-2908f9c1a757"
      },
      "execution_count": 44,
      "outputs": [
        {
          "output_type": "stream",
          "name": "stdout",
          "text": [
            "pipe_lr 평균성능: 0.98\n",
            "pipe_svc 평균성능: 0.978\n",
            "pipe_pcasvc 평균성능: 0.932\n"
          ]
        }
      ]
    },
    {
      "cell_type": "code",
      "source": [
        "df"
      ],
      "metadata": {
        "colab": {
          "base_uri": "https://localhost:8080/",
          "height": 363
        },
        "id": "8BAuyvieIeed",
        "outputId": "ade05894-5493-4798-af90-4e139f0a362c"
      },
      "execution_count": 45,
      "outputs": [
        {
          "output_type": "execute_result",
          "data": {
            "text/plain": [
              "    pipe_lr  pipe_svc  pipe_pcasvc\n",
              "0  1.000000  1.000000     0.913043\n",
              "1  0.978261  0.978261     0.934783\n",
              "2  1.000000  1.000000     0.913043\n",
              "3  0.978261  0.978261     0.956522\n",
              "4  0.934783  0.934783     0.869565\n",
              "5  0.955556  0.933333     0.955556\n",
              "6  0.977778  0.977778     0.977778\n",
              "7  0.977778  0.977778     0.866667\n",
              "8  1.000000  1.000000     0.977778\n",
              "9  1.000000  1.000000     0.955556"
            ],
            "text/html": [
              "\n",
              "  <div id=\"df-18827446-e24a-4680-b889-4aeb7acfbfe3\">\n",
              "    <div class=\"colab-df-container\">\n",
              "      <div>\n",
              "<style scoped>\n",
              "    .dataframe tbody tr th:only-of-type {\n",
              "        vertical-align: middle;\n",
              "    }\n",
              "\n",
              "    .dataframe tbody tr th {\n",
              "        vertical-align: top;\n",
              "    }\n",
              "\n",
              "    .dataframe thead th {\n",
              "        text-align: right;\n",
              "    }\n",
              "</style>\n",
              "<table border=\"1\" class=\"dataframe\">\n",
              "  <thead>\n",
              "    <tr style=\"text-align: right;\">\n",
              "      <th></th>\n",
              "      <th>pipe_lr</th>\n",
              "      <th>pipe_svc</th>\n",
              "      <th>pipe_pcasvc</th>\n",
              "    </tr>\n",
              "  </thead>\n",
              "  <tbody>\n",
              "    <tr>\n",
              "      <th>0</th>\n",
              "      <td>1.000000</td>\n",
              "      <td>1.000000</td>\n",
              "      <td>0.913043</td>\n",
              "    </tr>\n",
              "    <tr>\n",
              "      <th>1</th>\n",
              "      <td>0.978261</td>\n",
              "      <td>0.978261</td>\n",
              "      <td>0.934783</td>\n",
              "    </tr>\n",
              "    <tr>\n",
              "      <th>2</th>\n",
              "      <td>1.000000</td>\n",
              "      <td>1.000000</td>\n",
              "      <td>0.913043</td>\n",
              "    </tr>\n",
              "    <tr>\n",
              "      <th>3</th>\n",
              "      <td>0.978261</td>\n",
              "      <td>0.978261</td>\n",
              "      <td>0.956522</td>\n",
              "    </tr>\n",
              "    <tr>\n",
              "      <th>4</th>\n",
              "      <td>0.934783</td>\n",
              "      <td>0.934783</td>\n",
              "      <td>0.869565</td>\n",
              "    </tr>\n",
              "    <tr>\n",
              "      <th>5</th>\n",
              "      <td>0.955556</td>\n",
              "      <td>0.933333</td>\n",
              "      <td>0.955556</td>\n",
              "    </tr>\n",
              "    <tr>\n",
              "      <th>6</th>\n",
              "      <td>0.977778</td>\n",
              "      <td>0.977778</td>\n",
              "      <td>0.977778</td>\n",
              "    </tr>\n",
              "    <tr>\n",
              "      <th>7</th>\n",
              "      <td>0.977778</td>\n",
              "      <td>0.977778</td>\n",
              "      <td>0.866667</td>\n",
              "    </tr>\n",
              "    <tr>\n",
              "      <th>8</th>\n",
              "      <td>1.000000</td>\n",
              "      <td>1.000000</td>\n",
              "      <td>0.977778</td>\n",
              "    </tr>\n",
              "    <tr>\n",
              "      <th>9</th>\n",
              "      <td>1.000000</td>\n",
              "      <td>1.000000</td>\n",
              "      <td>0.955556</td>\n",
              "    </tr>\n",
              "  </tbody>\n",
              "</table>\n",
              "</div>\n",
              "      <button class=\"colab-df-convert\" onclick=\"convertToInteractive('df-18827446-e24a-4680-b889-4aeb7acfbfe3')\"\n",
              "              title=\"Convert this dataframe to an interactive table.\"\n",
              "              style=\"display:none;\">\n",
              "        \n",
              "  <svg xmlns=\"http://www.w3.org/2000/svg\" height=\"24px\"viewBox=\"0 0 24 24\"\n",
              "       width=\"24px\">\n",
              "    <path d=\"M0 0h24v24H0V0z\" fill=\"none\"/>\n",
              "    <path d=\"M18.56 5.44l.94 2.06.94-2.06 2.06-.94-2.06-.94-.94-2.06-.94 2.06-2.06.94zm-11 1L8.5 8.5l.94-2.06 2.06-.94-2.06-.94L8.5 2.5l-.94 2.06-2.06.94zm10 10l.94 2.06.94-2.06 2.06-.94-2.06-.94-.94-2.06-.94 2.06-2.06.94z\"/><path d=\"M17.41 7.96l-1.37-1.37c-.4-.4-.92-.59-1.43-.59-.52 0-1.04.2-1.43.59L10.3 9.45l-7.72 7.72c-.78.78-.78 2.05 0 2.83L4 21.41c.39.39.9.59 1.41.59.51 0 1.02-.2 1.41-.59l7.78-7.78 2.81-2.81c.8-.78.8-2.07 0-2.86zM5.41 20L4 18.59l7.72-7.72 1.47 1.35L5.41 20z\"/>\n",
              "  </svg>\n",
              "      </button>\n",
              "      \n",
              "  <style>\n",
              "    .colab-df-container {\n",
              "      display:flex;\n",
              "      flex-wrap:wrap;\n",
              "      gap: 12px;\n",
              "    }\n",
              "\n",
              "    .colab-df-convert {\n",
              "      background-color: #E8F0FE;\n",
              "      border: none;\n",
              "      border-radius: 50%;\n",
              "      cursor: pointer;\n",
              "      display: none;\n",
              "      fill: #1967D2;\n",
              "      height: 32px;\n",
              "      padding: 0 0 0 0;\n",
              "      width: 32px;\n",
              "    }\n",
              "\n",
              "    .colab-df-convert:hover {\n",
              "      background-color: #E2EBFA;\n",
              "      box-shadow: 0px 1px 2px rgba(60, 64, 67, 0.3), 0px 1px 3px 1px rgba(60, 64, 67, 0.15);\n",
              "      fill: #174EA6;\n",
              "    }\n",
              "\n",
              "    [theme=dark] .colab-df-convert {\n",
              "      background-color: #3B4455;\n",
              "      fill: #D2E3FC;\n",
              "    }\n",
              "\n",
              "    [theme=dark] .colab-df-convert:hover {\n",
              "      background-color: #434B5C;\n",
              "      box-shadow: 0px 1px 3px 1px rgba(0, 0, 0, 0.15);\n",
              "      filter: drop-shadow(0px 1px 2px rgba(0, 0, 0, 0.3));\n",
              "      fill: #FFFFFF;\n",
              "    }\n",
              "  </style>\n",
              "\n",
              "      <script>\n",
              "        const buttonEl =\n",
              "          document.querySelector('#df-18827446-e24a-4680-b889-4aeb7acfbfe3 button.colab-df-convert');\n",
              "        buttonEl.style.display =\n",
              "          google.colab.kernel.accessAllowed ? 'block' : 'none';\n",
              "\n",
              "        async function convertToInteractive(key) {\n",
              "          const element = document.querySelector('#df-18827446-e24a-4680-b889-4aeb7acfbfe3');\n",
              "          const dataTable =\n",
              "            await google.colab.kernel.invokeFunction('convertToInteractive',\n",
              "                                                     [key], {});\n",
              "          if (!dataTable) return;\n",
              "\n",
              "          const docLinkHtml = 'Like what you see? Visit the ' +\n",
              "            '<a target=\"_blank\" href=https://colab.research.google.com/notebooks/data_table.ipynb>data table notebook</a>'\n",
              "            + ' to learn more about interactive tables.';\n",
              "          element.innerHTML = '';\n",
              "          dataTable['output_type'] = 'display_data';\n",
              "          await google.colab.output.renderOutput(dataTable, element);\n",
              "          const docLink = document.createElement('div');\n",
              "          docLink.innerHTML = docLinkHtml;\n",
              "          element.appendChild(docLink);\n",
              "        }\n",
              "      </script>\n",
              "    </div>\n",
              "  </div>\n",
              "  "
            ]
          },
          "metadata": {},
          "execution_count": 45
        }
      ]
    },
    {
      "cell_type": "code",
      "source": [
        "sns.lineplot(data = df)"
      ],
      "metadata": {
        "colab": {
          "base_uri": "https://localhost:8080/",
          "height": 283
        },
        "id": "3mLpabgpIisG",
        "outputId": "c3c9e40a-1064-4ce7-e2d2-b2919365c94a"
      },
      "execution_count": 46,
      "outputs": [
        {
          "output_type": "execute_result",
          "data": {
            "text/plain": [
              "<matplotlib.axes._subplots.AxesSubplot at 0x7f2d5f8822d0>"
            ]
          },
          "metadata": {},
          "execution_count": 46
        },
        {
          "output_type": "display_data",
          "data": {
            "text/plain": [
              "<Figure size 432x288 with 1 Axes>"
            ],
            "image/png": "[encoded data removed]"
          },
          "metadata": {
            "needs_background": "light"
          }
        }
      ]
    },
    {
      "cell_type": "markdown",
      "source": [
        "## 머신러닝 성능향상을 위한 디버깅과 튜닝\n",
        "---"
      ],
      "metadata": {
        "id": "t0rPOASjgsSA"
      }
    },
    {
      "cell_type": "markdown",
      "source": [
        "### **| 알고리즘 디버깅**\n",
        "\n"
      ],
      "metadata": {
        "id": "Qu1b38gU0mQ7"
      }
    },
    {
      "cell_type": "markdown",
      "source": [
        "#### **학습 곡선**\n",
        "\n",
        "    - 주어진 훈련 데이터셋에 비해 모델이 너무 복잡하면 모델이 과대적합되고 처음 본 데이터에 잘 일반화 되지 못하는 경향이 생긴다.\n",
        "    - 이를 해결하는 가장 효과적인 방법은 훈련 샘플을 더 모으기\n",
        "    - 하지만 데이터를 모으는 비용과 시간이 소요되기 때문에 훈련 정확도와 검증 정확도를 훈련 데이터 셋 크기 함수로 그래프를 그린다.\n",
        "    - x축 : 데이터의 개수\n",
        "    - y축 : 성능\n",
        "\n",
        "\n",
        "\n",
        "<p align='center'>\n",
        "<img src=https://git.io/JtsTi?=true width=600>\n",
        "</p>\n",
        "\n",
        "\n",
        "    과소 적합 \n",
        "      - 훈련 정확도와 테스트 정확도가 모두 낮다\n",
        "      - 일반적으로 모델이 훈련 데이터에 대해서도 학습을 못한 상태\n",
        "      - 이를 해결하기 위한 일반적인 방법\n",
        "\n",
        "\n",
        "    과대 적합\n",
        "      - 훈련 정확도와 테스트 정확도의 차이가 큼\n",
        "      - 모델이 테스트 데이터에 대해 일반화(generaliztion)을 하지 못하는 상태\n",
        "      - 이를 해결하기 위한 일반적인 방법\n",
        "\n",
        "\n",
        "\n",
        "\n",
        "\n",
        "```\n",
        "sklearn.model_selection.learning_curve(estimator, \n",
        "                                      X, y, \n",
        "                                      groups=None\n",
        "                                      train_sizes=array([0.1, 0.33, 0.55, 0.78, 1.]), \n",
        "                                      cv=None, \n",
        "                                      scoring=None,\n",
        "                                      exploit_incremental_learning=False, \n",
        "                                      n_jobs=None, pre_dispatch='all', \n",
        "                                      verbose=0, \n",
        "                                      shuffle=False, \n",
        "                                      random_state=None, \n",
        "                                      error_score=nan, \n",
        "                                      return_times=False, \n",
        "                                      fit_params=None)[source]\n",
        "```"
      ],
      "metadata": {
        "id": "g-kf_SRABCvi"
      }
    },
    {
      "cell_type": "code",
      "source": [
        "from sklearn.model_selection import learning_curve\n",
        "\n",
        "train_sizes, train_scores, valid_scores = learning_curve(estimator = pipe_lr,\n",
        "                                                        X = X_train, y = y_train,\n",
        "                                                        train_sizes = np.linspace(0.1, 1, 10),\n",
        "                                                        cv = 5, #교차검증 기본값이 (k=5)\n",
        "                                                        shuffle = True)\n",
        "print(train_sizes)\n",
        "print(train_scores.shape)\n",
        "print(valid_scores.shape)\n",
        "\n",
        "pd.DataFrame(train_scores)"
      ],
      "metadata": {
        "id": "a-kJLsRfA9C6",
        "colab": {
          "base_uri": "https://localhost:8080/",
          "height": 418
        },
        "outputId": "60041e71-62b9-4e1f-9b12-b1c6b6f3c63c"
      },
      "execution_count": 69,
      "outputs": [
        {
          "output_type": "stream",
          "name": "stdout",
          "text": [
            "[ 36  72 109 145 182 218 254 291 327 364]\n",
            "(10, 5)\n",
            "(10, 5)\n"
          ]
        },
        {
          "output_type": "execute_result",
          "data": {
            "text/plain": [
              "          0         1         2         3         4\n",
              "0  1.000000  0.972222  1.000000  1.000000  1.000000\n",
              "1  1.000000  0.972222  1.000000  0.986111  0.958333\n",
              "2  0.972477  0.981651  1.000000  0.990826  0.981651\n",
              "3  0.972414  0.986207  1.000000  0.986207  0.986207\n",
              "4  0.978022  0.989011  1.000000  0.989011  0.978022\n",
              "5  0.981651  0.990826  1.000000  0.990826  0.981651\n",
              "6  0.980315  0.992126  1.000000  0.988189  0.984252\n",
              "7  0.982818  0.989691  1.000000  0.986254  0.986254\n",
              "8  0.984709  0.990826  1.000000  0.987768  0.987768\n",
              "9  0.983516  0.989011  0.994505  0.989011  0.989011"
            ],
            "text/html": [
              "\n",
              "  <div id=\"df-e5e5e7d3-e18b-4a6e-b045-08afc46a7960\">\n",
              "    <div class=\"colab-df-container\">\n",
              "      <div>\n",
              "<style scoped>\n",
              "    .dataframe tbody tr th:only-of-type {\n",
              "        vertical-align: middle;\n",
              "    }\n",
              "\n",
              "    .dataframe tbody tr th {\n",
              "        vertical-align: top;\n",
              "    }\n",
              "\n",
              "    .dataframe thead th {\n",
              "        text-align: right;\n",
              "    }\n",
              "</style>\n",
              "<table border=\"1\" class=\"dataframe\">\n",
              "  <thead>\n",
              "    <tr style=\"text-align: right;\">\n",
              "      <th></th>\n",
              "      <th>0</th>\n",
              "      <th>1</th>\n",
              "      <th>2</th>\n",
              "      <th>3</th>\n",
              "      <th>4</th>\n",
              "    </tr>\n",
              "  </thead>\n",
              "  <tbody>\n",
              "    <tr>\n",
              "      <th>0</th>\n",
              "      <td>1.000000</td>\n",
              "      <td>0.972222</td>\n",
              "      <td>1.000000</td>\n",
              "      <td>1.000000</td>\n",
              "      <td>1.000000</td>\n",
              "    </tr>\n",
              "    <tr>\n",
              "      <th>1</th>\n",
              "      <td>1.000000</td>\n",
              "      <td>0.972222</td>\n",
              "      <td>1.000000</td>\n",
              "      <td>0.986111</td>\n",
              "      <td>0.958333</td>\n",
              "    </tr>\n",
              "    <tr>\n",
              "      <th>2</th>\n",
              "      <td>0.972477</td>\n",
              "      <td>0.981651</td>\n",
              "      <td>1.000000</td>\n",
              "      <td>0.990826</td>\n",
              "      <td>0.981651</td>\n",
              "    </tr>\n",
              "    <tr>\n",
              "      <th>3</th>\n",
              "      <td>0.972414</td>\n",
              "      <td>0.986207</td>\n",
              "      <td>1.000000</td>\n",
              "      <td>0.986207</td>\n",
              "      <td>0.986207</td>\n",
              "    </tr>\n",
              "    <tr>\n",
              "      <th>4</th>\n",
              "      <td>0.978022</td>\n",
              "      <td>0.989011</td>\n",
              "      <td>1.000000</td>\n",
              "      <td>0.989011</td>\n",
              "      <td>0.978022</td>\n",
              "    </tr>\n",
              "    <tr>\n",
              "      <th>5</th>\n",
              "      <td>0.981651</td>\n",
              "      <td>0.990826</td>\n",
              "      <td>1.000000</td>\n",
              "      <td>0.990826</td>\n",
              "      <td>0.981651</td>\n",
              "    </tr>\n",
              "    <tr>\n",
              "      <th>6</th>\n",
              "      <td>0.980315</td>\n",
              "      <td>0.992126</td>\n",
              "      <td>1.000000</td>\n",
              "      <td>0.988189</td>\n",
              "      <td>0.984252</td>\n",
              "    </tr>\n",
              "    <tr>\n",
              "      <th>7</th>\n",
              "      <td>0.982818</td>\n",
              "      <td>0.989691</td>\n",
              "      <td>1.000000</td>\n",
              "      <td>0.986254</td>\n",
              "      <td>0.986254</td>\n",
              "    </tr>\n",
              "    <tr>\n",
              "      <th>8</th>\n",
              "      <td>0.984709</td>\n",
              "      <td>0.990826</td>\n",
              "      <td>1.000000</td>\n",
              "      <td>0.987768</td>\n",
              "      <td>0.987768</td>\n",
              "    </tr>\n",
              "    <tr>\n",
              "      <th>9</th>\n",
              "      <td>0.983516</td>\n",
              "      <td>0.989011</td>\n",
              "      <td>0.994505</td>\n",
              "      <td>0.989011</td>\n",
              "      <td>0.989011</td>\n",
              "    </tr>\n",
              "  </tbody>\n",
              "</table>\n",
              "</div>\n",
              "      <button class=\"colab-df-convert\" onclick=\"convertToInteractive('df-e5e5e7d3-e18b-4a6e-b045-08afc46a7960')\"\n",
              "              title=\"Convert this dataframe to an interactive table.\"\n",
              "              style=\"display:none;\">\n",
              "        \n",
              "  <svg xmlns=\"http://www.w3.org/2000/svg\" height=\"24px\"viewBox=\"0 0 24 24\"\n",
              "       width=\"24px\">\n",
              "    <path d=\"M0 0h24v24H0V0z\" fill=\"none\"/>\n",
              "    <path d=\"M18.56 5.44l.94 2.06.94-2.06 2.06-.94-2.06-.94-.94-2.06-.94 2.06-2.06.94zm-11 1L8.5 8.5l.94-2.06 2.06-.94-2.06-.94L8.5 2.5l-.94 2.06-2.06.94zm10 10l.94 2.06.94-2.06 2.06-.94-2.06-.94-.94-2.06-.94 2.06-2.06.94z\"/><path d=\"M17.41 7.96l-1.37-1.37c-.4-.4-.92-.59-1.43-.59-.52 0-1.04.2-1.43.59L10.3 9.45l-7.72 7.72c-.78.78-.78 2.05 0 2.83L4 21.41c.39.39.9.59 1.41.59.51 0 1.02-.2 1.41-.59l7.78-7.78 2.81-2.81c.8-.78.8-2.07 0-2.86zM5.41 20L4 18.59l7.72-7.72 1.47 1.35L5.41 20z\"/>\n",
              "  </svg>\n",
              "      </button>\n",
              "      \n",
              "  <style>\n",
              "    .colab-df-container {\n",
              "      display:flex;\n",
              "      flex-wrap:wrap;\n",
              "      gap: 12px;\n",
              "    }\n",
              "\n",
              "    .colab-df-convert {\n",
              "      background-color: #E8F0FE;\n",
              "      border: none;\n",
              "      border-radius: 50%;\n",
              "      cursor: pointer;\n",
              "      display: none;\n",
              "      fill: #1967D2;\n",
              "      height: 32px;\n",
              "      padding: 0 0 0 0;\n",
              "      width: 32px;\n",
              "    }\n",
              "\n",
              "    .colab-df-convert:hover {\n",
              "      background-color: #E2EBFA;\n",
              "      box-shadow: 0px 1px 2px rgba(60, 64, 67, 0.3), 0px 1px 3px 1px rgba(60, 64, 67, 0.15);\n",
              "      fill: #174EA6;\n",
              "    }\n",
              "\n",
              "    [theme=dark] .colab-df-convert {\n",
              "      background-color: #3B4455;\n",
              "      fill: #D2E3FC;\n",
              "    }\n",
              "\n",
              "    [theme=dark] .colab-df-convert:hover {\n",
              "      background-color: #434B5C;\n",
              "      box-shadow: 0px 1px 3px 1px rgba(0, 0, 0, 0.15);\n",
              "      filter: drop-shadow(0px 1px 2px rgba(0, 0, 0, 0.3));\n",
              "      fill: #FFFFFF;\n",
              "    }\n",
              "  </style>\n",
              "\n",
              "      <script>\n",
              "        const buttonEl =\n",
              "          document.querySelector('#df-e5e5e7d3-e18b-4a6e-b045-08afc46a7960 button.colab-df-convert');\n",
              "        buttonEl.style.display =\n",
              "          google.colab.kernel.accessAllowed ? 'block' : 'none';\n",
              "\n",
              "        async function convertToInteractive(key) {\n",
              "          const element = document.querySelector('#df-e5e5e7d3-e18b-4a6e-b045-08afc46a7960');\n",
              "          const dataTable =\n",
              "            await google.colab.kernel.invokeFunction('convertToInteractive',\n",
              "                                                     [key], {});\n",
              "          if (!dataTable) return;\n",
              "\n",
              "          const docLinkHtml = 'Like what you see? Visit the ' +\n",
              "            '<a target=\"_blank\" href=https://colab.research.google.com/notebooks/data_table.ipynb>data table notebook</a>'\n",
              "            + ' to learn more about interactive tables.';\n",
              "          element.innerHTML = '';\n",
              "          dataTable['output_type'] = 'display_data';\n",
              "          await google.colab.output.renderOutput(dataTable, element);\n",
              "          const docLink = document.createElement('div');\n",
              "          docLink.innerHTML = docLinkHtml;\n",
              "          element.appendChild(docLink);\n",
              "        }\n",
              "      </script>\n",
              "    </div>\n",
              "  </div>\n",
              "  "
            ]
          },
          "metadata": {},
          "execution_count": 69
        }
      ]
    },
    {
      "cell_type": "markdown",
      "source": [
        "* 시각화"
      ],
      "metadata": {
        "id": "Wk4u3xNmIItn"
      }
    },
    {
      "cell_type": "code",
      "source": [
        "def draw_learning_curve(train_sizes, train_scores, valid_scores):\n",
        "\n",
        "  train_mean = np.mean(train_scores, axis = 1)\n",
        "  valid_mean = np.mean(valid_scores, axis = 1)\n",
        "  \n",
        "  # 학습곡선 : 샘플개수에 따른 데이터 성능\n",
        "  plt.plot(train_sizes, train_mean,\n",
        "          color='blue', marker='o',\n",
        "          markersize=5, label='Training accuracy')\n",
        "\n",
        "  plt.plot(train_sizes, valid_mean,\n",
        "          color='green', linestyle='--', marker='s', \n",
        "          markersize=5, label='Validation accuracy')\n",
        "\n",
        "  # 오차범위 시각화\n",
        "  train_std = np.std(train_scores, axis = 1) \n",
        "  valid_std = np.std(train_scores, axis = 1)\n",
        "  plt.fill_between(train_sizes, train_mean+train_std, train_mean-train_std,\n",
        "                  alpha=0.15, color='blue')\n",
        "  \n",
        "  plt.fill_between(train_sizes, valid_mean+valid_std, valid_mean-valid_std,\n",
        "                  alpha=0.15, color='green')\n",
        "  \n",
        "  plt.grid()\n",
        "  plt.xlabel('Number of training dataset')\n",
        "  plt.ylabel('Accuracy')\n",
        "  plt.legend(loc='lower right')\n",
        "  plt.ylim([0.8, 1.03])\n",
        "  plt.tight_layout()\n",
        "  plt.title('Accuracy according to number of training dataset')\n",
        "  plt.show()\n",
        "\n",
        "draw_learning_curve(train_sizes, train_scores, valid_scores)"
      ],
      "metadata": {
        "id": "QvUDlb4Z1SMZ",
        "colab": {
          "base_uri": "https://localhost:8080/",
          "height": 313
        },
        "outputId": "37188915-a4a6-4f5b-cb11-b5a53ff1d765"
      },
      "execution_count": 56,
      "outputs": [
        {
          "output_type": "display_data",
          "data": {
            "text/plain": [
              "<Figure size 432x288 with 1 Axes>"
            ],
            "image/png": "[encoded data removed]"
          },
          "metadata": {
            "needs_background": "light"
          }
        }
      ]
    },
    {
      "cell_type": "markdown",
      "source": [
        "* 생성한 파이프라인에 대한 학습 곡선 시각화"
      ],
      "metadata": {
        "id": "ByxO9njX0V8M"
      }
    },
    {
      "cell_type": "code",
      "source": [
        "from sklearn.model_selection import learning_curve\n",
        "for pipe in ['pipe_lr', 'pipe_svc', 'pipe_pcasvc']:\n",
        "  train_sizes, train_scores, valid_scores = learning_curve(estimator = eval(pipe),\n",
        "                                                          X = X_train, y = y_train,\n",
        "                                                          train_sizes = np.linspace(0.1, 1, 10),\n",
        "                                                          cv = 5, #교차검증 기본값이 (k=5)\n",
        "                                                          shuffle = True)\n",
        "  draw_learning_curve(train_sizes, train_scores, valid_scores)"
      ],
      "metadata": {
        "id": "bHBcFTbkaStz",
        "colab": {
          "base_uri": "https://localhost:8080/",
          "height": 905
        },
        "outputId": "9546c908-fde6-4ef3-fa0f-bdb3434f9e4c"
      },
      "execution_count": 57,
      "outputs": [
        {
          "output_type": "display_data",
          "data": {
            "text/plain": [
              "<Figure size 432x288 with 1 Axes>"
            ],
            "image/png": "[encoded data removed]"
          },
          "metadata": {
            "needs_background": "light"
          }
        },
        {
          "output_type": "display_data",
          "data": {
            "text/plain": [
              "<Figure size 432x288 with 1 Axes>"
            ],
            "image/png": "[encoded data removed]"
          },
          "metadata": {
            "needs_background": "light"
          }
        },
        {
          "output_type": "display_data",
          "data": {
            "text/plain": [
              "<Figure size 432x288 with 1 Axes>"
            ],
            "image/png": "[encoded data removed]"
          },
          "metadata": {
            "needs_background": "light"
          }
        }
      ]
    },
    {
      "cell_type": "markdown",
      "source": [
        "#### **검증 곡선**\n",
        "\n",
        "\n",
        "* x축 : 특정 하이퍼파라미터의 값\n",
        "* y축 : 성능\n",
        "\n",
        "\n",
        "```\n",
        "sklearn.model_selection.validation_curve(estimator, \n",
        "                                        X, y, *, \n",
        "                                        param_name, \n",
        "                                        param_range,\n",
        "                                        groups=None, \n",
        "                                        cv=None, \n",
        "                                        scoring=None,\n",
        "                                        n_jobs=None,\n",
        "                                        pre_dispatch='all', \n",
        "                                        verbose=0, \n",
        "                                        error_score=nan, \n",
        "                                        fit_params=None)[source]\n",
        "```"
      ],
      "metadata": {
        "id": "ID6Kfj7sJW4V"
      }
    },
    {
      "cell_type": "code",
      "source": [
        "from sklearn.model_selection import validation_curve\n",
        "\n",
        "pr = [0.001, 0.01, 0.1, 1, 10, 100, 1000]\n",
        "train_scores, valid_scores = validation_curve(estimator = pipe_pcasvc,\n",
        "                                              X = X_train,\n",
        "                                              y = y_train,\n",
        "                                              cv = 5,\n",
        "                                              param_name = 'svc__C',\n",
        "                                              param_range = pr)\n",
        "print(train_scores.shape)\n",
        "print(valid_scores.shape)"
      ],
      "metadata": {
        "id": "nO6FbPQOJcWk",
        "colab": {
          "base_uri": "https://localhost:8080/"
        },
        "outputId": "12e76e43-6fd8-42e4-8e10-cf563bb8d111"
      },
      "execution_count": 75,
      "outputs": [
        {
          "output_type": "stream",
          "name": "stdout",
          "text": [
            "(7, 5)\n",
            "(7, 5)\n"
          ]
        }
      ]
    },
    {
      "cell_type": "code",
      "source": [
        "from sklearn.model_selection import learning_curve\n",
        "train_sizes, train_scores, valid_scores = learning_curve(estimator = pipe_lr,\n",
        "                                                        X = X_train, \n",
        "                                                        y = y_train,\n",
        "                                                        train_sizes = np.linspace(0.1, 1, 10),\n",
        "                                                        cv = 5, # 교차검증 : 기본값 = 5\n",
        "                                                        shuffle = True)\n",
        "print(train_sizes)\n",
        "print(train_scores.shape)\n",
        "print(valid_scores.shape)\n",
        "\n",
        "pd.DataFrame(train_scores)"
      ],
      "metadata": {
        "id": "olj3D0JPbujT"
      },
      "execution_count": null,
      "outputs": []
    },
    {
      "cell_type": "markdown",
      "source": [
        "* 시각화\n"
      ],
      "metadata": {
        "id": "FZC55CWzL1qU"
      }
    },
    {
      "cell_type": "code",
      "source": [
        "def draw_validation_curve(param_range, train_scores, valid_scores):\n",
        "  train_mean = np.mean(train_scores, axis = 1)\n",
        "  valid_mean = np.mean(valid_scores, axis = 1)\n",
        "  \n",
        "  # 검증곡선 : 파라미터 값에 따른 데이터 성능\n",
        "  plt.plot( param_range, train_mean,\n",
        "          color='blue', marker='o',\n",
        "          markersize=5, label='Training accuracy')\n",
        "\n",
        "  plt.plot( param_range, valid_mean,\n",
        "          color='green', linestyle='--', marker='s', \n",
        "          markersize=5, label='Validation accuracy')\n",
        "\n",
        "  # 오차범위 시각화\n",
        "  train_std = np.std(train_scores, axis = 1) \n",
        "  valid_std = np.std(train_scores, axis = 1)\n",
        "  plt.fill_between(param_range, train_mean+train_std, train_mean-train_std,\n",
        "                  alpha=0.15, color='blue')\n",
        "  \n",
        "  plt.fill_between(param_range, valid_mean+valid_std, valid_mean-valid_std,\n",
        "                  alpha=0.15, color='green')\n",
        "  \n",
        "  plt.grid()\n",
        "  plt.xlabel('Parameter range')\n",
        "  plt.ylabel('Accuracy')\n",
        "  plt.legend(loc='lower right')\n",
        "  plt.ylim([0.5, 1.03])\n",
        "  plt.xscale('log')\n",
        "  plt.tight_layout()\n",
        "  plt.title('Accuracy according to parameter range')\n",
        "  plt.show()\n",
        "\n",
        "draw_validation_curve(pr, train_scores, valid_scores)"
      ],
      "metadata": {
        "id": "wihgarxu2kdh",
        "colab": {
          "base_uri": "https://localhost:8080/",
          "height": 313
        },
        "outputId": "f0b35a5c-c3f0-4301-fb97-b3dc8b9e6cd9"
      },
      "execution_count": 79,
      "outputs": [
        {
          "output_type": "display_data",
          "data": {
            "text/plain": [
              "<Figure size 432x288 with 1 Axes>"
            ],
            "image/png": "[encoded data removed]"
          },
          "metadata": {
            "needs_background": "light"
          }
        }
      ]
    },
    {
      "cell_type": "markdown",
      "source": [
        "### **| 하이퍼파라미터 튜닝**\n",
        "\n",
        "\n",
        "    - 머신 러닝에는 두가지 파라미터가 존재\n",
        "    * 학습 파라미터 \n",
        "      * 훈련 데이터를 통해 모델 알고리즘이 자동으로 학습되는 데이터\n",
        "      * 로지스틱 회귀의 가중치 \n",
        "\n",
        "    * 하이퍼파라미터 \n",
        "      * 로지스틱 회귀의 규제 매개변수\n",
        "      * 결정트리의 깊이\n"
      ],
      "metadata": {
        "id": "3bJgSIIw4aFR"
      }
    },
    {
      "cell_type": "markdown",
      "source": [
        "#### **그리드 서치를 사용한 하이퍼파라미터 튜닝**\n",
        "\n",
        "```\n",
        "class sklearn.model_selection.GridSearchCV(estimator,\n",
        "                                           param_grid,\n",
        "                                           scoring=None,\n",
        "                                           n_jobs=None,\n",
        "                                           refit=True,\n",
        "                                           cv=None, \n",
        "                                           verbose=0,\n",
        "                                           pre_dispatch='2*n_jobs', \n",
        "                                           error_score=nan, \n",
        "                                           return_train_score=False)\n",
        "```"
      ],
      "metadata": {
        "id": "vuh69TPJvAb_"
      }
    },
    {
      "cell_type": "markdown",
      "source": [
        "* pipe_pcasvc 그리드 서치 진행하기"
      ],
      "metadata": {
        "id": "nHXdAIVTWJW1"
      }
    },
    {
      "cell_type": "code",
      "source": [
        "from sklearn.model_selection import GridSearchCV\n",
        "\n",
        "param_grid = [{'svc__C' : [0.1, 1, 10, 100],\n",
        "               'svc__gamma' : [0.01, 0.01, 0.1, 1],\n",
        "               'pca__n_components': [10, 15, 20],\n",
        "               'svc__kernel' : ['linear', 'rbf']}]\n",
        "gs = GridSearchCV( estimator = pipe_pcasvc,\n",
        "                  scoring = 'accuracy',\n",
        "                  cv = 10, # k=10 교차검증\n",
        "                  param_grid = param_grid,\n",
        "                  refit = True,  # 훈련후 바로 사용가능\n",
        "                  return_train_score = True) # 훈련 성능 리턴\n",
        "\n",
        "# gs 는 하나의 모델 fit을 통해 최적의 하이퍼파라미터로 튜닝\n",
        "gs.fit(X_train, y_train)\n",
        "print(f'최적의 하이퍼파라미터 셋: {gs.best_params_}')\n",
        "print(f'훈련데이터 성능: {gs.best_score_}')\n",
        "print(f'테스트데이터 평가: {gs.score(X_test, y_test)}')"
      ],
      "metadata": {
        "id": "DrPL8V79MrRr",
        "colab": {
          "base_uri": "https://localhost:8080/"
        },
        "outputId": "3188f5f8-a06a-4f0b-bfb5-e62d2be2bd30"
      },
      "execution_count": 87,
      "outputs": [
        {
          "output_type": "stream",
          "name": "stdout",
          "text": [
            "최적의 하이퍼파라미터 셋: {'pca__n_components': 15, 'svc__C': 0.1, 'svc__gamma': 0.01, 'svc__kernel': 'linear'}\n",
            "훈련데이터 성능: 0.9824637681159419\n",
            "테스트데이터 평가: 0.9736842105263158\n"
          ]
        }
      ]
    },
    {
      "cell_type": "code",
      "source": [
        "# 파이프라인 : z-score -> DecisionTree\n",
        "# 그리드서치 : max_depth, criterion\n",
        "# 최적 성능 평가"
      ],
      "metadata": {
        "id": "4SooKCfMk5-e"
      },
      "execution_count": null,
      "outputs": []
    },
    {
      "cell_type": "code",
      "source": [
        "from sklearn.tree import DecisionTreeClassifier, plot_tree\n",
        "set_config(display = 'diagram')\n",
        "pipe_tree = make_pipeline(StandardScaler(),\n",
        "                         DecisionTreeClassifier(random_state = 1))\n",
        "pipe_tree.fit(X_train, y_train)"
      ],
      "metadata": {
        "colab": {
          "base_uri": "https://localhost:8080/",
          "height": 126
        },
        "id": "F7uCKJWClxNX",
        "outputId": "f95d4910-7e37-4881-cdc4-229e362e38ce"
      },
      "execution_count": 94,
      "outputs": [
        {
          "output_type": "execute_result",
          "data": {
            "text/plain": [
              "Pipeline(steps=[('standardscaler', StandardScaler()),\n",
              "                ('decisiontreeclassifier',\n",
              "                 DecisionTreeClassifier(random_state=1))])"
            ],
            "text/html": [
              "<style>#sk-4489ce30-de7e-4e53-b8d2-d66504c770f4 {color: black;background-color: white;}#sk-4489ce30-de7e-4e53-b8d2-d66504c770f4 pre{padding: 0;}#sk-4489ce30-de7e-4e53-b8d2-d66504c770f4 div.sk-toggleable {background-color: white;}#sk-4489ce30-de7e-4e53-b8d2-d66504c770f4 label.sk-toggleable__label {cursor: pointer;display: block;width: 100%;margin-bottom: 0;padding: 0.3em;box-sizing: border-box;text-align: center;}#sk-4489ce30-de7e-4e53-b8d2-d66504c770f4 label.sk-toggleable__label-arrow:before {content: \"▸\";float: left;margin-right: 0.25em;color: #696969;}#sk-4489ce30-de7e-4e53-b8d2-d66504c770f4 label.sk-toggleable__label-arrow:hover:before {color: black;}#sk-4489ce30-de7e-4e53-b8d2-d66504c770f4 div.sk-estimator:hover label.sk-toggleable__label-arrow:before {color: black;}#sk-4489ce30-de7e-4e53-b8d2-d66504c770f4 div.sk-toggleable__content {max-height: 0;max-width: 0;overflow: hidden;text-align: left;background-color: #f0f8ff;}#sk-4489ce30-de7e-4e53-b8d2-d66504c770f4 div.sk-toggleable__content pre {margin: 0.2em;color: black;border-radius: 0.25em;background-color: #f0f8ff;}#sk-4489ce30-de7e-4e53-b8d2-d66504c770f4 input.sk-toggleable__control:checked~div.sk-toggleable__content {max-height: 200px;max-width: 100%;overflow: auto;}#sk-4489ce30-de7e-4e53-b8d2-d66504c770f4 input.sk-toggleable__control:checked~label.sk-toggleable__label-arrow:before {content: \"▾\";}#sk-4489ce30-de7e-4e53-b8d2-d66504c770f4 div.sk-estimator input.sk-toggleable__control:checked~label.sk-toggleable__label {background-color: #d4ebff;}#sk-4489ce30-de7e-4e53-b8d2-d66504c770f4 div.sk-label input.sk-toggleable__control:checked~label.sk-toggleable__label {background-color: #d4ebff;}#sk-4489ce30-de7e-4e53-b8d2-d66504c770f4 input.sk-hidden--visually {border: 0;clip: rect(1px 1px 1px 1px);clip: rect(1px, 1px, 1px, 1px);height: 1px;margin: -1px;overflow: hidden;padding: 0;position: absolute;width: 1px;}#sk-4489ce30-de7e-4e53-b8d2-d66504c770f4 div.sk-estimator {font-family: monospace;background-color: #f0f8ff;border: 1px dotted black;border-radius: 0.25em;box-sizing: border-box;margin-bottom: 0.5em;}#sk-4489ce30-de7e-4e53-b8d2-d66504c770f4 div.sk-estimator:hover {background-color: #d4ebff;}#sk-4489ce30-de7e-4e53-b8d2-d66504c770f4 div.sk-parallel-item::after {content: \"\";width: 100%;border-bottom: 1px solid gray;flex-grow: 1;}#sk-4489ce30-de7e-4e53-b8d2-d66504c770f4 div.sk-label:hover label.sk-toggleable__label {background-color: #d4ebff;}#sk-4489ce30-de7e-4e53-b8d2-d66504c770f4 div.sk-serial::before {content: \"\";position: absolute;border-left: 1px solid gray;box-sizing: border-box;top: 2em;bottom: 0;left: 50%;}#sk-4489ce30-de7e-4e53-b8d2-d66504c770f4 div.sk-serial {display: flex;flex-direction: column;align-items: center;background-color: white;padding-right: 0.2em;padding-left: 0.2em;}#sk-4489ce30-de7e-4e53-b8d2-d66504c770f4 div.sk-item {z-index: 1;}#sk-4489ce30-de7e-4e53-b8d2-d66504c770f4 div.sk-parallel {display: flex;align-items: stretch;justify-content: center;background-color: white;}#sk-4489ce30-de7e-4e53-b8d2-d66504c770f4 div.sk-parallel::before {content: \"\";position: absolute;border-left: 1px solid gray;box-sizing: border-box;top: 2em;bottom: 0;left: 50%;}#sk-4489ce30-de7e-4e53-b8d2-d66504c770f4 div.sk-parallel-item {display: flex;flex-direction: column;position: relative;background-color: white;}#sk-4489ce30-de7e-4e53-b8d2-d66504c770f4 div.sk-parallel-item:first-child::after {align-self: flex-end;width: 50%;}#sk-4489ce30-de7e-4e53-b8d2-d66504c770f4 div.sk-parallel-item:last-child::after {align-self: flex-start;width: 50%;}#sk-4489ce30-de7e-4e53-b8d2-d66504c770f4 div.sk-parallel-item:only-child::after {width: 0;}#sk-4489ce30-de7e-4e53-b8d2-d66504c770f4 div.sk-dashed-wrapped {border: 1px dashed gray;margin: 0 0.4em 0.5em 0.4em;box-sizing: border-box;padding-bottom: 0.4em;background-color: white;position: relative;}#sk-4489ce30-de7e-4e53-b8d2-d66504c770f4 div.sk-label label {font-family: monospace;font-weight: bold;background-color: white;display: inline-block;line-height: 1.2em;}#sk-4489ce30-de7e-4e53-b8d2-d66504c770f4 div.sk-label-container {position: relative;z-index: 2;text-align: center;}#sk-4489ce30-de7e-4e53-b8d2-d66504c770f4 div.sk-container {/* jupyter's `normalize.less` sets `[hidden] { display: none; }` but bootstrap.min.css set `[hidden] { display: none !important; }` so we also need the `!important` here to be able to override the default hidden behavior on the sphinx rendered scikit-learn.org. See: https://github.com/scikit-learn/scikit-learn/issues/21755 */display: inline-block !important;position: relative;}#sk-4489ce30-de7e-4e53-b8d2-d66504c770f4 div.sk-text-repr-fallback {display: none;}</style><div id=\"sk-4489ce30-de7e-4e53-b8d2-d66504c770f4\" class=\"sk-top-container\"><div class=\"sk-text-repr-fallback\"><pre>Pipeline(steps=[(&#x27;standardscaler&#x27;, StandardScaler()),\n",
              "                (&#x27;decisiontreeclassifier&#x27;,\n",
              "                 DecisionTreeClassifier(random_state=1))])</pre><b>Please rerun this cell to show the HTML repr or trust the notebook.</b></div><div class=\"sk-container\" hidden><div class=\"sk-item sk-dashed-wrapped\"><div class=\"sk-label-container\"><div class=\"sk-label sk-toggleable\"><input class=\"sk-toggleable__control sk-hidden--visually\" id=\"5ac32d25-9601-4c03-848a-032e138a1522\" type=\"checkbox\" ><label for=\"5ac32d25-9601-4c03-848a-032e138a1522\" class=\"sk-toggleable__label sk-toggleable__label-arrow\">Pipeline</label><div class=\"sk-toggleable__content\"><pre>Pipeline(steps=[(&#x27;standardscaler&#x27;, StandardScaler()),\n",
              "                (&#x27;decisiontreeclassifier&#x27;,\n",
              "                 DecisionTreeClassifier(random_state=1))])</pre></div></div></div><div class=\"sk-serial\"><div class=\"sk-item\"><div class=\"sk-estimator sk-toggleable\"><input class=\"sk-toggleable__control sk-hidden--visually\" id=\"ee231602-b5f1-4b57-987d-7e88ac166cfe\" type=\"checkbox\" ><label for=\"ee231602-b5f1-4b57-987d-7e88ac166cfe\" class=\"sk-toggleable__label sk-toggleable__label-arrow\">StandardScaler</label><div class=\"sk-toggleable__content\"><pre>StandardScaler()</pre></div></div></div><div class=\"sk-item\"><div class=\"sk-estimator sk-toggleable\"><input class=\"sk-toggleable__control sk-hidden--visually\" id=\"bd1802d9-6bd5-448c-9e45-4a0db0789a87\" type=\"checkbox\" ><label for=\"bd1802d9-6bd5-448c-9e45-4a0db0789a87\" class=\"sk-toggleable__label sk-toggleable__label-arrow\">DecisionTreeClassifier</label><div class=\"sk-toggleable__content\"><pre>DecisionTreeClassifier(random_state=1)</pre></div></div></div></div></div></div></div>"
            ]
          },
          "metadata": {},
          "execution_count": 94
        }
      ]
    },
    {
      "cell_type": "code",
      "source": [
        "param_grid = [{'decisiontreeclassifier__max_depth' : [2,3,4,5,6,7,8,9,10,11,12],\n",
        "               'decisiontreeclassifier__criterion' : ['entropy','gini']}]\n",
        "tree_gs = GridSearchCV( estimator = pipe_tree,\n",
        "                  scoring = 'accuracy',\n",
        "                  cv = 10, # k=10 교차검증\n",
        "                  param_grid = param_grid,\n",
        "                  refit = True,  # 훈련후 바로 사용가능\n",
        "                  return_train_score = True) # 훈련 성능 리턴\n",
        "\n",
        "# gs 는 하나의 모델 fit을 통해 최적의 하이퍼파라미터로 튜닝\n",
        "tree_gs.fit(X_train, y_train)\n",
        "print(f'최적의 하이퍼파라미터 셋: {tree_gs.best_params_}')\n",
        "print(f'훈련데이터 성능: {tree_gs.best_score_}')\n",
        "print(f'테스트데이터 평가: {tree_gs.score(X_test, y_test)}')"
      ],
      "metadata": {
        "colab": {
          "base_uri": "https://localhost:8080/"
        },
        "id": "sLlLWjWVmGet",
        "outputId": "109ca5e2-d96d-441e-dba8-b9760eb48f73"
      },
      "execution_count": 97,
      "outputs": [
        {
          "output_type": "stream",
          "name": "stdout",
          "text": [
            "최적의 하이퍼파라미터 셋: {'decisiontreeclassifier__criterion': 'gini', 'decisiontreeclassifier__max_depth': 7}\n",
            "훈련데이터 성능: 0.9583091787439614\n",
            "테스트데이터 평가: 0.9298245614035088\n"
          ]
        }
      ]
    },
    {
      "cell_type": "markdown",
      "source": [
        "## 여러가지 성능 평가 지표\n",
        "---\n"
      ],
      "metadata": {
        "id": "cH8EMf98wWf9"
      }
    },
    {
      "cell_type": "markdown",
      "source": [
        "### | 오차행렬 (confusion matrix)\n",
        "\n",
        "<p align='center'>\n",
        "<img src=https://git.io/JtsT1?=true width=400>\n",
        "</p>"
      ],
      "metadata": {
        "id": "oc2vVBLTwls_"
      }
    },
    {
      "cell_type": "code",
      "source": [
        "# 분류에서의 성능평가"
      ],
      "metadata": {
        "id": "3JJijb5r1eUj"
      },
      "execution_count": null,
      "outputs": []
    },
    {
      "cell_type": "markdown",
      "source": [
        "* 함수구현"
      ],
      "metadata": {
        "id": "-I69M31SRvyw"
      }
    },
    {
      "cell_type": "code",
      "source": [
        "from sklearn.metrics import confusion_matrix, ConfusionMatrixDisplay\n",
        "def draw_cm(model, X, y, title='', labels='', cmap='Blues'):\n",
        "  y_pred = model.predict(X) # 예측\n",
        "  cm = confusion_matrix(y, y_pred) # 혼돈 행렬 구하기\n",
        "  if not labels: labels=np.arange(len(y))\n",
        "  ConfusionMatrixDisplay(cm, display_labels=labels).plot(cmap=cmap) # 시각화\n",
        "  if title: plt.title(title)"
      ],
      "metadata": {
        "id": "geRbJPUkwoMw"
      },
      "execution_count": 99,
      "outputs": []
    },
    {
      "cell_type": "markdown",
      "source": [
        "* 시각화"
      ],
      "metadata": {
        "id": "EDQ39LbhRwul"
      }
    },
    {
      "cell_type": "code",
      "source": [
        "draw_cm(pipe_lr, X_test, y_test, labels=['False', 'True'])"
      ],
      "metadata": {
        "id": "JrT0QdXHw8xN",
        "colab": {
          "base_uri": "https://localhost:8080/",
          "height": 280
        },
        "outputId": "e0ccaf8a-11de-4477-d67c-1a3b2a0a9b9c"
      },
      "execution_count": 107,
      "outputs": [
        {
          "output_type": "display_data",
          "data": {
            "text/plain": [
              "<Figure size 432x288 with 2 Axes>"
            ],
            "image/png": "[encoded data removed]"
          },
          "metadata": {
            "needs_background": "light"
          }
        }
      ]
    },
    {
      "cell_type": "markdown",
      "source": [
        "#### **예측 오차와 예측 정확도**\n",
        "\n",
        "* 예측 오차\n",
        "\\begin{split}\n",
        "ERR = \\frac{잘못된 예측 개수}{전체 샘플 개수}\n",
        "\\end{split}\n",
        "\n",
        "* 예측 정확도\n",
        "\n",
        "\\begin{split}\n",
        "ACC = \\frac{잘된 예측 개수}{전체 샘플 개수} = 1-ERR\n",
        "\\end{split}"
      ],
      "metadata": {
        "id": "qJODnUJswXCJ"
      }
    },
    {
      "cell_type": "code",
      "source": [
        "from sklearn.metrics import accuracy_score\n",
        "\n",
        "ERR = 2/114\n",
        "ACC = 112/114\n",
        "print(f'예측 오차 {ERR:.3f}') \n",
        "print(f'예측 정확도 {ACC:.3f}')\n",
        "\n",
        "ACC = accuracy_score(y_test, pipe_lr.predict(X_test))\n",
        "ERR = 1-ACC\n",
        "print(f'예측 오차 {ERR:.3f}') \n",
        "print(f'예측 정확도 {ACC:.3f}')"
      ],
      "metadata": {
        "id": "0yAMmB4v0Wnh",
        "colab": {
          "base_uri": "https://localhost:8080/"
        },
        "outputId": "42a5cc28-ddea-44bc-c45b-a2fe5012450f"
      },
      "execution_count": 106,
      "outputs": [
        {
          "output_type": "stream",
          "name": "stdout",
          "text": [
            "예측 오차 0.018\n",
            "예측 정확도 0.982\n",
            "예측 오차 0.018\n",
            "예측 정확도 0.982\n"
          ]
        }
      ]
    },
    {
      "cell_type": "markdown",
      "source": [
        "### **| 분류 모델의 성능 최적화**"
      ],
      "metadata": {
        "id": "P2L6OOYyWnLU"
      }
    },
    {
      "cell_type": "markdown",
      "source": [
        "\n",
        "#### **TPR (True Positive Rate), FPR (False Positive Rate)**\n",
        "\n",
        "* TPR\n",
        "\n",
        "\\begin{split}\n",
        "TPR = \\frac{TP}{P} = \\frac{TP}{FN+TP} = \\frac{모델이 True로 예측한 샘플}{실제 True인 샘플}\n",
        "\\end{split}\n",
        "\n",
        "* FPR\n",
        "\n",
        "\\begin{split}\n",
        "FPR = \\frac{FP}{N} = \\frac{FP}{FP+TN} = \\frac{모델이 True로 예측한 샘플}{실제 False인 샘플}\n",
        "\\end{split}\n",
        "\n",
        "\\begin{split}\n",
        "\\end{split}\n",
        "\n",
        "    - TPR과 FPR은 클래스 비율이 다른 경우 유용한 성능 지표\n",
        "    - 종양진단 문제에서 환자가 적절한 치료를 받을 수 있도록 악성 종양을 감지하는데 관심이 있다.(악성을 악성으로 구분, TN)\n",
        "    - 불필요하게 환자에게 걱정을 끼치지 않도록 양성 샘플을 악성 샘플로 분류되는 경우(FP)를 줄이는것이 중요\n"
      ],
      "metadata": {
        "id": "IgmEh4pyyxm8"
      }
    },
    {
      "cell_type": "code",
      "source": [
        "TPR = 41/42\n",
        "FPR =2/72   \n",
        "\n",
        "# 종양이라고 전부 잡으면 TPR = 1, 전부 정상이라고 하면 FPR = 0. 그렇기 때문에 같이 사용해야한다.\n",
        "print(f'TPR : {TPR:.3f}') # 종양을 제대로 진한한 경우 = 높을수록 좋음\n",
        "print(f'FPR : {FPR:.3f}') # 종양이라고 잘못 진단한 경우 = 낮을수록 좋음"
      ],
      "metadata": {
        "id": "csb093Elyxm8",
        "colab": {
          "base_uri": "https://localhost:8080/"
        },
        "outputId": "2c67a449-dbe6-4f12-b2e6-137aa901d6c3"
      },
      "execution_count": 109,
      "outputs": [
        {
          "output_type": "stream",
          "name": "stdout",
          "text": [
            "TPR : 0.976\n",
            "FPR : 0.028\n"
          ]
        }
      ]
    },
    {
      "cell_type": "markdown",
      "source": [
        "#### **정밀도 (Precisison)와 재현율(Recall)**\n",
        "\n",
        "* 정밀도\n",
        "\n",
        "\\begin{split}\n",
        "PRE =  \\frac{TP}{TP+FP} = \\frac{실제로  True인 샘플}{모델이 True로 예측한 샘플}\n",
        "\\end{split}\n",
        "\n",
        "* 재현율\n",
        "\n",
        "\\begin{split}\n",
        "REC = TPR = \\frac{모델이 True로 예측한 샘플}{실제 True인 샘플}\n",
        "\\end{split}\n",
        "\n",
        "\\begin{split}\n",
        "\\end{split}\n",
        "\n",
        "\n",
        "    - 정밀도로 모델을 최적화 하면 생기는 일\n",
        "      * 모델이 정상군을 정상이라고 판단하도록 한다.\n",
        "      * 정상군을 감지하는데 효과적\n",
        "      * 악성 종양을 정상으로 잘못 판단 할 수 있다. \n",
        "\n",
        "    - 재현율로 모델을 최적화 하면 생기는 일\n",
        "      * 모델이 악성 종양을 정상이라고 판단하는 경우를 최소화 하게 된다. \n",
        "      * 악성 종양을 감지하는데 효과적\n",
        "      * 정상군도 악성 종양으로 잘못 판단 할 수 있다. \n",
        "\n"
      ],
      "metadata": {
        "id": "cGmcAlJm1GCM"
      }
    },
    {
      "cell_type": "code",
      "source": [
        "from sklearn.metrics import precision_score, recall_score\n",
        "\n",
        "REC = TPR\n",
        "PRE = 41/42\n",
        "\n",
        "# 종양이라고 전부 잡으면 TPR = 1, 전부 정상이라고 하면 FPR = 0. 그렇기 때문에 같이 사용해야한다.\n",
        "print(f'REC : {REC:.3f}') # 종양을 제대로 진한한 경우 = 높을수록 좋음\n",
        "print(f'PRE : {PRE:.3f}') # 종양이라고 잘못 진단한 경우 = 낮을수록 좋음\n",
        "\n",
        "\n",
        "REC = recall_score(y_test, pipe_lr.predict(X_test))\n",
        "PRE = precision_score(y_test, pipe_lr.predict(X_test))\n",
        "\n",
        "# 종양이라고 전부 잡으면 TPR = 1, 전부 정상이라고 하면 FPR = 0. 그렇기 때문에 같이 사용해야한다.\n",
        "print(f'REC : {REC:.3f}') # 종양을 제대로 진한한 경우 = 높을수록 좋음\n",
        "print(f'PRE : {PRE:.3f}')"
      ],
      "metadata": {
        "id": "Cyv4SlbGPizB",
        "colab": {
          "base_uri": "https://localhost:8080/"
        },
        "outputId": "7ae2fca3-efd7-4ee2-88bc-0b5d667a97b1"
      },
      "execution_count": 112,
      "outputs": [
        {
          "output_type": "stream",
          "name": "stdout",
          "text": [
            "REC : 0.976\n",
            "PRE : 0.976\n",
            "REC : 0.976\n",
            "PRE : 0.976\n"
          ]
        }
      ]
    },
    {
      "cell_type": "markdown",
      "source": [
        "#### **F1-score**\n",
        "\n",
        "\\begin{split}\n",
        "F1 = 2\\frac{PRE \\times REC}{PRE+REC}\n",
        "\\end{split}\n"
      ],
      "metadata": {
        "id": "XShhbRwo3zpF"
      }
    },
    {
      "cell_type": "code",
      "source": [
        "from sklearn.metrics import f1_score\n",
        "F1 = 2*(PRE*REC)/(PRE+REC)\n",
        "print(f'F1_score: {F1:.3f}')\n",
        "F1 = f1_score(y_test, pipe_lr.predict(X_test))\n",
        "print(f'F1_score: {F1:.3f}')"
      ],
      "metadata": {
        "id": "Be58lAgY4sHc",
        "colab": {
          "base_uri": "https://localhost:8080/"
        },
        "outputId": "52a4a8fe-391e-414e-db9a-86e382d3c543"
      },
      "execution_count": 117,
      "outputs": [
        {
          "output_type": "stream",
          "name": "stdout",
          "text": [
            "F1_score: 0.976\n",
            "F1_score: 0.976\n"
          ]
        }
      ]
    },
    {
      "cell_type": "markdown",
      "source": [
        "#### **AUC**\n",
        "* ROC 곡선 아래에 면적"
      ],
      "metadata": {
        "id": "drwN42K_AsI7"
      }
    },
    {
      "cell_type": "code",
      "source": [
        "from sklearn.metrics import roc_auc_score\n",
        "print(f'AUC: {roc_auc_score(y_test, pipe_lr.predict(X_test)):.3f}')"
      ],
      "metadata": {
        "id": "0UXuXDx4AsI7",
        "colab": {
          "base_uri": "https://localhost:8080/"
        },
        "outputId": "9d4858fa-e29b-4212-daad-c8f788b84e55"
      },
      "execution_count": 120,
      "outputs": [
        {
          "output_type": "stream",
          "name": "stdout",
          "text": [
            "AUC: 0.981\n"
          ]
        }
      ]
    },
    {
      "cell_type": "markdown",
      "source": [
        "### **| 성능 평가 기준 바꿔서 검증하기**"
      ],
      "metadata": {
        "id": "soPAPsaHXCPV"
      }
    },
    {
      "cell_type": "markdown",
      "source": [
        "* pipe_pcasvc 그리드 서치 진행하기, 성능은 AUC"
      ],
      "metadata": {
        "id": "gNij21ieXBmc"
      }
    },
    {
      "cell_type": "code",
      "source": [
        "from sklearn.model_selection import GridSearchCV\n",
        "from sklearn. metrics import make_scorer\n",
        "auc_score = make_scorer(score_func = roc_auc_score, greater_is_better = True)\n",
        "param_grid = [{'svc__C' : [0.1, 1, 10, 100],\n",
        "               'svc__gamma' : [0.01, 0.01, 0.1, 1],\n",
        "               'pca__n_components': [10, 15, 20],\n",
        "               'svc__kernel' : ['linear', 'rbf']}]\n",
        "gs = GridSearchCV( estimator = pipe_pcasvc,\n",
        "                  scoring = auc_score,\n",
        "                  cv = 10, # k=10 교차검증\n",
        "                  param_grid = param_grid,\n",
        "                  refit = True,  # 훈련후 바로 사용가능\n",
        "                  return_train_score = True) # 훈련 성능 리턴\n",
        "\n",
        "# gs 는 하나의 모델 fit을 통해 최적의 하이퍼파라미터로 튜닝\n",
        "gs.fit(X_train, y_train)\n",
        "print(f'최적의 하이퍼파라미터 셋: {gs.best_params_}')\n",
        "print(f'훈련데이터 성능: {gs.best_score_}')\n",
        "print(f'테스트데이터 평가: {gs.score(X_test, y_test)}')"
      ],
      "metadata": {
        "id": "0oWR9XTzXBmc",
        "colab": {
          "base_uri": "https://localhost:8080/"
        },
        "outputId": "ddd7a537-1368-4469-bb0e-df1329c9306c"
      },
      "execution_count": 121,
      "outputs": [
        {
          "output_type": "stream",
          "name": "stdout",
          "text": [
            "최적의 하이퍼파라미터 셋: {'pca__n_components': 15, 'svc__C': 0.1, 'svc__gamma': 0.01, 'svc__kernel': 'linear'}\n",
            "훈련데이터 성능: 0.9788430889597219\n",
            "테스트데이터 평가: 0.9692460317460317\n"
          ]
        }
      ]
    },
    {
      "cell_type": "markdown",
      "source": [
        "### | ROC (Receiver Operating Characteristic)\n",
        "\n",
        "    - 분류기의 임계값을 바꾸어 가며 계산된 fPR과 TPR 점수를 시각화한 플롯\n",
        "\n",
        "    - ROC그래프의 대각선은 랜덤 추측인 경우이며 완벽한 분류기라면 왼쪽 위를 향하는 그래프가 그려진다.\n",
        "\n",
        "    - ROC곡선의 아래 면적을 ROC AUC (ROC Area Under the Curve) 라 하며 성능 지표로 사용된다.\n",
        "\n"
      ],
      "metadata": {
        "id": "w4RWpL3kAMqt"
      }
    },
    {
      "cell_type": "code",
      "source": [
        "# 모델의 아웃풋(y_pred) : 0~1 확률 -> 0.5 기준으로 나누면 0 or 1"
      ],
      "metadata": {
        "id": "WaVp75mNCUzR"
      },
      "execution_count": null,
      "outputs": []
    },
    {
      "cell_type": "code",
      "source": [
        "from sklearn.metrics import plot_roc_curve\n",
        "\n",
        "fig, ax = plt.subplots(1)\n",
        "roc_test = plot_roc_curve(pipe_lr, X_test, y_test,\n",
        "                        ax=ax, name='Logistic Regression Testset')\n",
        "roc_train = plot_roc_curve(pipe_lr, X_train, y_train,\n",
        "                           ax=ax, name='Logistic Regression Trainset')\n",
        "\n",
        "\n",
        "plt.plot([0, 0, 1], [0, 1, 1],\n",
        "         linestyle=':', color='b', alpha=.5,\n",
        "         label='Perfect performance')\n",
        "plt.plot([0, 1], [0, 1],\n",
        "         linestyle=':', color='k', alpha=.5,\n",
        "         label='Random guessing')\n",
        "plt.xlim([-0.1, 0.2])\n",
        "plt.ylim([0.8, 1.05])\n",
        "\n",
        "plt.legend()\n",
        "plt.show()"
      ],
      "metadata": {
        "id": "dqGFjAqd8_gg",
        "colab": {
          "base_uri": "https://localhost:8080/",
          "height": 376
        },
        "outputId": "86962221-4af2-44a2-df16-c19839d9e3a9"
      },
      "execution_count": 127,
      "outputs": [
        {
          "output_type": "stream",
          "name": "stderr",
          "text": [
            "/usr/local/lib/python3.7/dist-packages/sklearn/utils/deprecation.py:87: FutureWarning: Function plot_roc_curve is deprecated; Function :func:`plot_roc_curve` is deprecated in 1.0 and will be removed in 1.2. Use one of the class methods: :meth:`sklearn.metric.RocCurveDisplay.from_predictions` or :meth:`sklearn.metric.RocCurveDisplay.from_estimator`.\n",
            "  warnings.warn(msg, category=FutureWarning)\n",
            "/usr/local/lib/python3.7/dist-packages/sklearn/utils/deprecation.py:87: FutureWarning: Function plot_roc_curve is deprecated; Function :func:`plot_roc_curve` is deprecated in 1.0 and will be removed in 1.2. Use one of the class methods: :meth:`sklearn.metric.RocCurveDisplay.from_predictions` or :meth:`sklearn.metric.RocCurveDisplay.from_estimator`.\n",
            "  warnings.warn(msg, category=FutureWarning)\n"
          ]
        },
        {
          "output_type": "display_data",
          "data": {
            "text/plain": [
              "<Figure size 432x288 with 1 Axes>"
            ],
            "image/png": "[encoded data removed]"
          },
          "metadata": {
            "needs_background": "light"
          }
        }
      ]
    },
    {
      "cell_type": "markdown",
      "source": [
        "### **| 다중 분류의 성능 지표**\n",
        "\n",
        "\n",
        "\\begin{split}\n",
        "\\end{split}\n",
        "\n",
        "* 마크로 평균 \n",
        "\n",
        "\\begin{split}\n",
        "PRE_{macro} = \\frac{PRE_1 + ... PRE_k}{k}\n",
        "\\end{split}\n",
        "\n",
        "\n",
        "* 마이크로 평균 \n",
        "\n",
        "\\begin{split}\n",
        "PRE_{micro} = \\frac{TP_1 + ... TP_k}{TP_1 + ...+ TP_k + FP_1 +  ... + FP_k}\n",
        "\\end{split}\n",
        "\n",
        "\\begin{split}\n",
        "\\end{split}\n",
        "\n",
        "\n",
        "    - 마크로 평균 방식에서는 가장 빈도 높은 클래스 레이블의 성능이 영향을 미치게 된다.\n",
        "\n",
        "    - 마이크로 평균은 각 샘플이나 예측에 동일한 가중치를 부여\n",
        "\n",
        "    - 사이킷런에서 다중 분류 모델을 평가하면 정규화 또는 가중치가 적용된 마크로 평균이 기본적으로 적용된다.\n",
        "\n",
        "    - 마크로 평균은 샘플 개수에 가중치가 부여되므로 레이블마다 샘플 개수가 다른 불균형한 클래스를 다룰 때 유용\n"
      ],
      "metadata": {
        "id": "nFurBOdnC3Am"
      }
    },
    {
      "cell_type": "code",
      "source": [
        "from sklearn.metrics import make_scorer\n",
        "\n",
        "macro = make_scorer(score_func=precision_score,\n",
        "                    pos_label = 1,\n",
        "                    greater_is_better=True) # 이진분류의 precision과 동일\n",
        "\n",
        "micro = make_scorer(score_func=precision_score,\n",
        "                    pos_label = 1,\n",
        "                    greater_is_better=True,\n",
        "                    average = 'micro')"
      ],
      "metadata": {
        "id": "vUs-aXDrE0JU"
      },
      "execution_count": 128,
      "outputs": []
    }
  ]
}
