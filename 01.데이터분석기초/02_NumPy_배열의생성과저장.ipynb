{
  "nbformat": 4,
  "nbformat_minor": 0,
  "metadata": {
    "colab": {
      "name": "02_NumPy-배열의생성과저장.ipynb",
      "provenance": [],
      "collapsed_sections": [],
      "include_colab_link": true
    },
    "kernelspec": {
      "name": "python3",
      "display_name": "Python 3"
    },
    "language_info": {
      "name": "python"
    }
  },
  "cells": [
    {
      "cell_type": "markdown",
      "metadata": {
        "id": "view-in-github",
        "colab_type": "text"
      },
      "source": [
        "<a href=\"https://colab.research.google.com/github/LeeHuiJong/SkillTreePython-DataAnalysis/blob/main/02_NumPy_%EB%B0%B0%EC%97%B4%EC%9D%98%EC%83%9D%EC%84%B1%EA%B3%BC%EC%A0%80%EC%9E%A5.ipynb\" target=\"_parent\"><img src=\"https://colab.research.google.com/assets/colab-badge.svg\" alt=\"Open In Colab\"/></a>"
      ]
    },
    {
      "cell_type": "markdown",
      "metadata": {
        "id": "jgFAOz-Tw1VI"
      },
      "source": [
        "# CH02. Numpy  - 배열의 생성과 저장\n",
        "\n",
        "---\n",
        "* 날짜:\n",
        "* 이름:\n"
      ]
    },
    {
      "cell_type": "markdown",
      "source": [
        "## 개념정리\n",
        "\n",
        "`Numpy`(Numerical Python)는 포괄적인 함수, 난수생성, 선형대수학 등 고성능 수학 및 과학 계산에 효울적인 파이썬 라이브러리 입니다. 계산의 편리를 위한 배열(array)를 제공하며 이 배열은 파이썬의 list와 비슷하지만 다차원 데이터를 처리할 수 있고 더 효과적인 다차원 연산이 가능합니다. `Numpy`는 데이터과학의 핵심이라 할 수 있습니다.\n",
        "\n",
        "\n",
        "> [NumPy Hompage](https://numpy.org/)\n",
        "\n",
        "\n",
        "\n",
        "```\n",
        "import numpy as np\n",
        "```\n"
      ],
      "metadata": {
        "id": "i1Rco0Orob6Z"
      }
    },
    {
      "cell_type": "code",
      "source": [
        "import numpy as np"
      ],
      "metadata": {
        "id": "3IDspyuAtqd7"
      },
      "execution_count": 6,
      "outputs": []
    },
    {
      "cell_type": "markdown",
      "metadata": {
        "id": "HjPXsM8C5ULZ"
      },
      "source": [
        "---\n",
        "### **(1) 리스트와 배열**\n",
        "---\n",
        "\n",
        "넘파이의 배열은 파이썬 리스트와 잘 호환 됩니다. 리스트를 생성해 봅시다. \n",
        "\n",
        "```\n",
        "l = [1,2,3,4,5]\n",
        "```\n"
      ]
    },
    {
      "cell_type": "code",
      "source": [
        "l=[1,2,3,4,5] # 중요한것은 데이터의 shape(이 데이터는 1차원)\n",
        "\n",
        "l1= [[1,2],\n",
        "     [3,4]] # 이러한 행렬의 데이터는 list로 분석하기에는 한계가 있다."
      ],
      "metadata": {
        "id": "NHAp3qbStddi"
      },
      "execution_count": 4,
      "outputs": []
    },
    {
      "cell_type": "markdown",
      "source": [
        "* `np.array(l)` : 리스트 `l`을 넘파이 배열로 변환합니다. \n",
        "\n",
        "이제 이 리스트를 넘파이 배열로 변환해 봅시다. \n",
        "\n",
        "```\n",
        "a = np.array(l)\n",
        "```"
      ],
      "metadata": {
        "id": "_uucUoA4fcgT"
      }
    },
    {
      "cell_type": "code",
      "metadata": {
        "id": "9pxx7Zy53xFz",
        "colab": {
          "base_uri": "https://localhost:8080/"
        },
        "outputId": "e904fc36-6c67-447a-ecf2-17a812fc7889"
      },
      "source": [
        "a=np.array(l)\n",
        "print(a)"
      ],
      "execution_count": 7,
      "outputs": [
        {
          "output_type": "stream",
          "name": "stdout",
          "text": [
            "[1 2 3 4 5]\n"
          ]
        }
      ]
    },
    {
      "cell_type": "markdown",
      "source": [
        "데이터 분석에서 중요한 것은 데이터의 형태 `shape` 입니다. 항상 데이터의 `shape`를 중간중간 확인하는 것을 잊지 마세요. 넘파이 배열에서는 형태를 `.shape`를 써서 확인합니다. \n",
        "\n",
        "* `.shape` : 넘파이 배열의 형태 (shape)를 반환합니다.\n",
        "\n",
        "```\n",
        "a.shape\n",
        "```"
      ],
      "metadata": {
        "id": "LA9jo1F0fe2S"
      }
    },
    {
      "cell_type": "code",
      "source": [
        "a.shape"
      ],
      "metadata": {
        "id": "iT9T5BGTfDJG",
        "colab": {
          "base_uri": "https://localhost:8080/"
        },
        "outputId": "5b40c5b0-d875-4311-9a5b-547ba94afee7"
      },
      "execution_count": 8,
      "outputs": [
        {
          "output_type": "execute_result",
          "data": {
            "text/plain": [
              "(5,)"
            ]
          },
          "metadata": {},
          "execution_count": 8
        }
      ]
    },
    {
      "cell_type": "markdown",
      "source": [
        "#### **| 연습문제**\n",
        "\n",
        "\n"
      ],
      "metadata": {
        "id": "NQ_GbYiXLN2i"
      }
    },
    {
      "cell_type": "markdown",
      "source": [
        "**연습 01**\n",
        "\n",
        "아래 그림과 같은 1차원 배열을 생성하고 `shape`를 확인해 보세요.\n",
        "\n",
        "<p align='center'>\n",
        "<img src=https://github.com/yebiny/SkillTreePython-DataAnalysis/blob/main/imgs/ch0102-01.png?raw=trueA width=240>\n",
        "</p>"
      ],
      "metadata": {
        "id": "ey_R7ZgXnHdp"
      }
    },
    {
      "cell_type": "code",
      "source": [
        "a1=np.array([1,4,1,0,1,2])\n",
        "a1, a.shape"
      ],
      "metadata": {
        "id": "XUKKRTSJAsMa",
        "colab": {
          "base_uri": "https://localhost:8080/"
        },
        "outputId": "107289f4-7de7-4499-c699-43ec60cdc28a"
      },
      "execution_count": 10,
      "outputs": [
        {
          "output_type": "execute_result",
          "data": {
            "text/plain": [
              "(array([1, 4, 1, 0, 1, 2]), (5,))"
            ]
          },
          "metadata": {},
          "execution_count": 10
        }
      ]
    },
    {
      "cell_type": "markdown",
      "source": [
        "**연습 02**\n",
        "\n",
        "아래 그림과 같은 2차원 배열을 생성하고 `shape`를 확인해 보세요. `shape`는 `(5,2)` 이 되게 하세요.\n",
        "\n",
        "<p align='center'>\n",
        "<img src=https://github.com/yebiny/SkillTreePython-DataAnalysis/blob/main/imgs/ch0102-02.png?raw=trueA width=80>\n",
        "</p>"
      ],
      "metadata": {
        "id": "INo5QbOMAsrz"
      }
    },
    {
      "cell_type": "code",
      "source": [
        "a2= np.array([[1,4],\n",
        "              [1,0],\n",
        "              [1,3],\n",
        "              [2,2],\n",
        "              [0,2]])\n",
        "\n",
        "a2, a2.shape"
      ],
      "metadata": {
        "colab": {
          "base_uri": "https://localhost:8080/"
        },
        "id": "0FiBeBs5X9cl",
        "outputId": "6b94d5c6-1915-405a-8ebc-445527b3f062"
      },
      "execution_count": 15,
      "outputs": [
        {
          "output_type": "execute_result",
          "data": {
            "text/plain": [
              "(array([[1, 4],\n",
              "        [1, 0],\n",
              "        [1, 3],\n",
              "        [2, 2],\n",
              "        [0, 2]]), (5, 2))"
            ]
          },
          "metadata": {},
          "execution_count": 15
        }
      ]
    },
    {
      "cell_type": "markdown",
      "source": [
        "**연습 03**\n",
        "\n",
        "아래 그림과 같은 2차원 배열을 생성하고 `shape`를 확인해 보세요. `shape`는 `(2,3)` 가 되게 하세요.\n",
        "\n",
        "<p align='center'>\n",
        "<img src=https://github.com/yebiny/SkillTreePython-DataAnalysis/blob/main/imgs/ch0102-03.png?raw=trueA width=120>\n",
        "</p>"
      ],
      "metadata": {
        "id": "HJjDfShsAtvU"
      }
    },
    {
      "cell_type": "code",
      "source": [
        "a3= np.array([[1,4,1],\n",
        "              [1,0,0]])\n",
        "a3, a3.shape"
      ],
      "metadata": {
        "id": "uas_Ih4NAtvU",
        "colab": {
          "base_uri": "https://localhost:8080/"
        },
        "outputId": "acbc6de4-e3cc-40d1-b66e-6abaf4a43140"
      },
      "execution_count": 16,
      "outputs": [
        {
          "output_type": "execute_result",
          "data": {
            "text/plain": [
              "(array([[1, 4, 1],\n",
              "        [1, 0, 0]]), (2, 3))"
            ]
          },
          "metadata": {},
          "execution_count": 16
        }
      ]
    },
    {
      "cell_type": "markdown",
      "source": [
        "**연습 04**\n",
        "\n",
        "위에서 만든 배열을 겹쳐서 3차원으로 확장해 보았습니다. 아래 그림과 같은 3차원 배열을 생성하고 `shape`를 확인해 보세요.\n",
        "\n",
        "<p align='center'>\n",
        "<img src=https://github.com/yebiny/SkillTreePython-DataAnalysis/blob/main/imgs/ch0102-04.png?raw=trueA width=120>\n",
        "</p>"
      ],
      "metadata": {
        "id": "UKEOKblMAt-c"
      }
    },
    {
      "cell_type": "code",
      "source": [
        "np.zeros((2,2,3))"
      ],
      "metadata": {
        "colab": {
          "base_uri": "https://localhost:8080/"
        },
        "id": "FNYll7v0_dpT",
        "outputId": "b0984bc2-5a7d-4879-8ccd-f3440522a09d"
      },
      "execution_count": 136,
      "outputs": [
        {
          "output_type": "execute_result",
          "data": {
            "text/plain": [
              "array([[[0., 0., 0.],\n",
              "        [0., 0., 0.]],\n",
              "\n",
              "       [[0., 0., 0.],\n",
              "        [0., 0., 0.]]])"
            ]
          },
          "metadata": {},
          "execution_count": 136
        }
      ]
    },
    {
      "cell_type": "code",
      "source": [
        "a4= np.array([[[1,4,1],\n",
        "               [1,0,0]],\n",
        "              [[1,4,1],\n",
        "               [1,0,0]]]) # shape 를 잘 모를 경우 np.zeros((shape))나 np.ones((shape)) 를 이용해 shape를 구현 한 후에 참고하면 편하다\n",
        "\n",
        "a4 , a4.shape  # shape=(2,2,3)"
      ],
      "metadata": {
        "id": "0mrII1a3At-c",
        "colab": {
          "base_uri": "https://localhost:8080/"
        },
        "outputId": "2589a1d1-5194-4012-f07d-087b450f70ca"
      },
      "execution_count": 137,
      "outputs": [
        {
          "output_type": "execute_result",
          "data": {
            "text/plain": [
              "(array([[[1, 4, 1],\n",
              "         [1, 0, 0]],\n",
              " \n",
              "        [[1, 4, 1],\n",
              "         [1, 0, 0]]]), (2, 2, 3))"
            ]
          },
          "metadata": {},
          "execution_count": 137
        }
      ]
    },
    {
      "cell_type": "markdown",
      "metadata": {
        "id": "4_c_ih5uuesx"
      },
      "source": [
        "---\n",
        "### **(2) 기본 배열 생성**\n",
        "---\n",
        "\n",
        "\n",
        "* `np.empty(shape)` : `shape` 형태를 가진 빈 배열을 생성합니다. \n",
        "\n",
        "\n",
        "넘파이에서 배열을 생성하기 위해서는 기본적으로 생성할 배열에 대한 형태(shape)를 알고, 이를 기입해야 합니다. \n",
        "\n",
        "우선 위에서 만들었던 리스트와 같이 길이 5의 빈 배열을 만들어 봅시다. \n",
        "\n",
        "\n",
        "이렇게 생성된 배열에는 예상하지 못한 임의의 값이 들어있습니다. \n",
        "\n",
        "```\n",
        "a = np.empty(5)\n",
        "print(a)\n",
        "```\n"
      ]
    },
    {
      "cell_type": "code",
      "source": [
        "a=np.empty((3))\n",
        "a, a.shape"
      ],
      "metadata": {
        "id": "iPTHwWQEuesz",
        "colab": {
          "base_uri": "https://localhost:8080/"
        },
        "outputId": "8118e6f1-2524-467e-e184-a9d2b6d7f4bc"
      },
      "execution_count": 19,
      "outputs": [
        {
          "output_type": "execute_result",
          "data": {
            "text/plain": [
              "(array([0.75, 0.75, 0.  ]), (3,))"
            ]
          },
          "metadata": {},
          "execution_count": 19
        }
      ]
    },
    {
      "cell_type": "markdown",
      "source": [
        "#### **| 초기값 정하기**\n",
        "\n",
        "특정 형태의 배열을 만들고 초기값을 바로 세팅하고 싶다면 다음 함수를 사용합니다. \n",
        "\n",
        "* `np.zeros(shape)` : `shape` 형태를 가지고 모든 값이 `0`인 배열을 생성합니다. \n",
        "* `np.ones(shape)` : `shape` 형태를 가지고 모든 값이 `1`인 배열을 생성합니다.\n",
        "* `np.full(shape, n)` : `shape` 형태를 가지고 모든 값이 `n`인 배열을 생성합니다.\n",
        "* `np.eye(n)` : `n x n` 의 단위행렬(identity matrix)를 생성합니다. \n",
        "\n",
        "\n",
        "단위행렬이란 주대각선의 원소가 모두 1이고 나머지 원소는 모두 0인 정사각 행렬입니다. \n",
        "\n",
        "`np.eye`를 이용해 `3x3` 단위행렬을 만들고 어떻게 생겼는지 확인해 봅시다. \n",
        "\n",
        "```\n",
        "np.eye(3)\n",
        "```\n",
        "\n",
        "\n",
        "\n"
      ],
      "metadata": {
        "id": "1tfrhr8r1_zo"
      }
    },
    {
      "cell_type": "code",
      "source": [
        "np.eye(3)"
      ],
      "metadata": {
        "id": "qbCFXw__3d6h",
        "colab": {
          "base_uri": "https://localhost:8080/"
        },
        "outputId": "659ca0ea-3597-4945-e880-b28b26837902"
      },
      "execution_count": 21,
      "outputs": [
        {
          "output_type": "execute_result",
          "data": {
            "text/plain": [
              "array([[1., 0., 0.],\n",
              "       [0., 1., 0.],\n",
              "       [0., 0., 1.]])"
            ]
          },
          "metadata": {},
          "execution_count": 21
        }
      ]
    },
    {
      "cell_type": "markdown",
      "source": [
        "길이가 `10`이고 모든 값이 `2` 로 이루어진 배열을 생성해 봅시다. \n",
        "\n",
        "```\n",
        "np.full(10, 2)\n",
        "\n",
        "```"
      ],
      "metadata": {
        "id": "FUPRtWGL3d-0"
      }
    },
    {
      "cell_type": "code",
      "source": [
        "np.full(10,2)"
      ],
      "metadata": {
        "id": "si97tNl7vSST",
        "colab": {
          "base_uri": "https://localhost:8080/"
        },
        "outputId": "48864338-5a82-402f-981c-b39f67062c85"
      },
      "execution_count": 22,
      "outputs": [
        {
          "output_type": "execute_result",
          "data": {
            "text/plain": [
              "array([2, 2, 2, 2, 2, 2, 2, 2, 2, 2])"
            ]
          },
          "metadata": {},
          "execution_count": 22
        }
      ]
    },
    {
      "cell_type": "code",
      "source": [
        "np.full((5,3),2)"
      ],
      "metadata": {
        "colab": {
          "base_uri": "https://localhost:8080/"
        },
        "id": "J_BtkJAycZvD",
        "outputId": "c8963c0b-ab4e-48da-c9a6-564c59632a6c"
      },
      "execution_count": 24,
      "outputs": [
        {
          "output_type": "execute_result",
          "data": {
            "text/plain": [
              "array([[2, 2, 2],\n",
              "       [2, 2, 2],\n",
              "       [2, 2, 2],\n",
              "       [2, 2, 2],\n",
              "       [2, 2, 2]])"
            ]
          },
          "metadata": {},
          "execution_count": 24
        }
      ]
    },
    {
      "cell_type": "markdown",
      "source": [
        "#### **| 값 범위 정하기**\n",
        "\n",
        "파이썬의 `range`와 마찬가지로 넘파이에도 값의 범위를 정해주는 함수들이 있습니다. \n",
        "\n",
        "* `np.arrange(start, end, step)` : 파이썬의 `range` 와 알고리즘이 똑같으며 값의 시작, 끝, 스텝을 지정할 수 있습니다. \n",
        "\n",
        "* `np.linspace(start, end, bins)` : 값의 시작, 끝, 그리고 이 사이를 몇개로 나눌 것인지 정합니다. \n",
        "\n",
        "* `np.logspace(start, end, bins)` : `np.linspace()`와 논리가 같으나 이를 로그 스케일로 생성합니다. \n",
        "\n",
        "\n",
        "```\n",
        "np.arange(0,100,10)\n",
        "```\n",
        "\n",
        "\n",
        "\n"
      ],
      "metadata": {
        "id": "sb9wEPV131Ex"
      }
    },
    {
      "cell_type": "code",
      "source": [
        "np.arange(0,100,10)"
      ],
      "metadata": {
        "id": "0dCf2s6l31E4",
        "colab": {
          "base_uri": "https://localhost:8080/"
        },
        "outputId": "99d68f35-42ad-4eec-fae0-3afb4b9e725a"
      },
      "execution_count": 25,
      "outputs": [
        {
          "output_type": "execute_result",
          "data": {
            "text/plain": [
              "array([ 0, 10, 20, 30, 40, 50, 60, 70, 80, 90])"
            ]
          },
          "metadata": {},
          "execution_count": 25
        }
      ]
    },
    {
      "cell_type": "markdown",
      "source": [
        "위와 똑같은 결과를 `linspace`를 이용해 얻기 위해서는 처음값 위 배열의 처음 값 `0`, 끝값`90`, 배열의 총 길이 `10`을 적어줘야 합니다.  \n",
        "\n",
        "```\n",
        "np.linspace(0,90,10)\n",
        "```"
      ],
      "metadata": {
        "id": "GJA-3R-U43eq"
      }
    },
    {
      "cell_type": "code",
      "source": [
        "np.linspace(0,90,10)"
      ],
      "metadata": {
        "id": "Fyg_F14p4sOv",
        "colab": {
          "base_uri": "https://localhost:8080/"
        },
        "outputId": "96ecd6ec-2291-4d2a-bd70-305a304ea225"
      },
      "execution_count": 28,
      "outputs": [
        {
          "output_type": "execute_result",
          "data": {
            "text/plain": [
              "array([ 0., 10., 20., 30., 40., 50., 60., 70., 80., 90.])"
            ]
          },
          "metadata": {},
          "execution_count": 28
        }
      ]
    },
    {
      "cell_type": "markdown",
      "metadata": {
        "id": "fZH9KG0L5dE4"
      },
      "source": [
        "\n",
        "#### **| 형태 복사하기**\n",
        "\n",
        "\n",
        "이미 생성되어 있는 배열과 똑같은 `shape`를 쉽게 만들기 위해서는 `_like` 함수를 사용합니다.\n",
        "\n",
        "* `np.empty_like(a)` :배열 `a`와 같은 형태를 가진 빈 배열을 생성합니다. \n",
        "* `np.zeros_like(a)` : 배열 `a`와 같은 형태를 가지고 모든 값이 `0`인 배열을 생성합니다.  \n",
        "* `np.ones_like(a)` : 배열 `a`와 같은 형태를 가지고 모든 값이 `1`인 배열을 생성합니다.  \n",
        "* `np.full_like(a, n)` : 배열 `a`와 같은 형태를 가지고 모든 값이 `n`인 배열을 생성합니다.  \n",
        "\n",
        "\n",
        "\n",
        "배열 `a`가 다음과 같이 정의 되어 있고 앞서 배운 `ones`를 이용해 `a`와 형태가 같지만 값이 모두 `1`인 배열 `b`를 만들어 봅시다. \n",
        "\n",
        "```\n",
        "a = np.array([1,2,3,4,5,6])\n",
        "b = np.ones(6)\n",
        "print(b)\n",
        "```\n"
      ]
    },
    {
      "cell_type": "code",
      "source": [
        "a=np.array([1,2,3,4,5])\n",
        "b=np.ones(6)\n",
        "b"
      ],
      "metadata": {
        "id": "qTPBGFPT5dE5",
        "colab": {
          "base_uri": "https://localhost:8080/"
        },
        "outputId": "37857b38-d560-412c-dcad-bb65f7b35f4e"
      },
      "execution_count": 29,
      "outputs": [
        {
          "output_type": "execute_result",
          "data": {
            "text/plain": [
              "array([1., 1., 1., 1., 1., 1.])"
            ]
          },
          "metadata": {},
          "execution_count": 29
        }
      ]
    },
    {
      "cell_type": "markdown",
      "source": [
        "이를 `np.oens_like`를 이용하면 아래와 같이 작성하면 됩니다.\n",
        "\n",
        "보통 모방하는 배열 `a`의 정확한 형태를 모르거나, `a` 가 변수처럼 상황마다 달라 정확한 `shape`를 얻기 힘들때 유용하게 사용됩니다.\n",
        "\n",
        "```\n",
        "b = np.ones_like(a)\n",
        "b\n",
        "```"
      ],
      "metadata": {
        "id": "rkIjU2Ls2zwb"
      }
    },
    {
      "cell_type": "code",
      "source": [
        "b=np.ones_like(a) # shape가 계속 변해서 오류가 날때 쓴다\n",
        "b"
      ],
      "metadata": {
        "id": "_h47FbmY8sYR",
        "colab": {
          "base_uri": "https://localhost:8080/"
        },
        "outputId": "a6465dd5-8bd8-4559-ba50-ae528f666201"
      },
      "execution_count": 30,
      "outputs": [
        {
          "output_type": "execute_result",
          "data": {
            "text/plain": [
              "array([1, 1, 1, 1, 1])"
            ]
          },
          "metadata": {},
          "execution_count": 30
        }
      ]
    },
    {
      "cell_type": "markdown",
      "metadata": {
        "id": "aA1w3P11_Hum"
      },
      "source": [
        "---\n",
        "### **(3) 랜덤 배열 생성**\n",
        "---\n",
        "\n",
        "\n",
        "| 함수 | 설명 |\n",
        "|--|--|\n",
        "| `seed` | 난수 발생시 시드 지정|\n",
        "| `permutation` | 임의의 순열 반환|\n",
        "| `shuffle` | 배열의 순서 섞기 |\n",
        "| `randint` | 특정 범위의 표본(정수) 추출 |\n",
        "| `random` | 균등분포를 따르는 0~1 사이 표본 추출|\n",
        "| `rand` | 균등분포를 따르는 0~1 사이 표본 추출|\n",
        "| `randn` | 표준정규분포를 따르는 표본 추출 |\n",
        "| `normal` | 정규분포를 따르는 표본 추출 |\n",
        "| `beta` | 베타분포를 따르는 표본 추출 |\n",
        "| `chisquare` | 카이제곱분포를 따르는 표본 추출 |\n",
        "| `gamma` | 감마분포를 따르는 표본 추출 |\n",
        "\n",
        "파이썬 라이브러리 `random`과 비슷하게 넘파이에도 랜덤값을 얻는 다양한 함수를 제공합니다. \n",
        "\n",
        "각종 분포에 대한 자세한 설명은 이후 데이터분석 수업에서 알아보도록 하고, 지금은 다양한 분포에 대한 표본을 넘파이를 통해 추출할 수 있다는 것만 알고 계시면 됩니다.\n",
        "\n",
        "이번 시간에는 간단한 함수 몇가지만 사용해 보도록 하겠습니다."
      ]
    },
    {
      "cell_type": "markdown",
      "source": [
        "* `np.random.randint(i1,i2, shape)` `i1` 이상 `i2` 미만 랜덤값을 지니는 `shape` 형태의 배열을 생성합니다.\n",
        "\n",
        "```\n",
        "np.random.randint(0,10, (2,3))\n",
        "```\n"
      ],
      "metadata": {
        "id": "mP4AQHPZKuHy"
      }
    },
    {
      "cell_type": "code",
      "source": [
        "np.random.randint(0,10,(2,3))"
      ],
      "metadata": {
        "id": "ht0iRhxs___x",
        "colab": {
          "base_uri": "https://localhost:8080/"
        },
        "outputId": "269bc00f-d625-4bea-bc7e-047522efc525"
      },
      "execution_count": 31,
      "outputs": [
        {
          "output_type": "execute_result",
          "data": {
            "text/plain": [
              "array([[4, 0, 6],\n",
              "       [5, 3, 3]])"
            ]
          },
          "metadata": {},
          "execution_count": 31
        }
      ]
    },
    {
      "cell_type": "markdown",
      "source": [
        "* `np.random.seed(n)` : 랜덤값 생성 규칙을 정합니다. (`n`은 자연수)정합니다. \n",
        "\n",
        "\n",
        "같은 `seed`에서 코드를 실행하면 똑같은 랜덤 값이 나오게 됩니다. 주로 코드를 실행하여 결과를 재현할 수 있도록 하기 위해 사용됩니다. \n",
        "\n",
        "```\n",
        "np.random.seed(42)\n",
        "np.random.randint(0,10, (2,3))\n",
        "```"
      ],
      "metadata": {
        "id": "lvLkyh0_LIUR"
      }
    },
    {
      "cell_type": "code",
      "source": [
        "np.random.seed(42)\n",
        "np.random.randint(0,10,(2,3))"
      ],
      "metadata": {
        "id": "42lpSwpCEczR",
        "colab": {
          "base_uri": "https://localhost:8080/"
        },
        "outputId": "61364c17-2a57-465d-cd6a-26e0abe64777"
      },
      "execution_count": 34,
      "outputs": [
        {
          "output_type": "execute_result",
          "data": {
            "text/plain": [
              "array([[6, 3, 7],\n",
              "       [4, 6, 9]])"
            ]
          },
          "metadata": {},
          "execution_count": 34
        }
      ]
    },
    {
      "cell_type": "markdown",
      "source": [
        "#### **| 균등 분포**\n",
        "\n",
        "균등 분포란 모든 곳에서의 확률이 일정한 분포를 말합니다. \n",
        "\n",
        "<p align='center'>\n",
        "<img src=https://github.com/yebiny/SkillTreePython-DataAnalysis/blob/main/imgs/ch0102-05.PNG?raw=trueA width=300>\n",
        "</p>\n",
        "\n",
        "\n",
        "* `np.random.random((shape))` : `0~1` 사이 균등분포를 가지는  `shape` 형태의 배열을 생성합니다.\n",
        "\n",
        "* `np.random.rand(shape)` : `0~1` 사이 균등분포를 가지는  `shape` 형태의 배열을 생성합니다.\n",
        "\n",
        "\n",
        "```\n",
        "print(np.random.random((3,2)))\n",
        "print(np.random.rand(3,2))\n",
        "```\n",
        "`random.random`과 `random.rand` 둘다 똑같이 균등분포를 가지는 랜덤값을 출력합니다. 차이점은 `shape`를 `random.random`은 괄호 안에 넣어주어야 한다는 것입니다."
      ],
      "metadata": {
        "id": "GZSCgAtUKTZU"
      }
    },
    {
      "cell_type": "code",
      "source": [
        "print(np.random.random((3,2)))\n",
        "print(np.random.rand(3,2))"
      ],
      "metadata": {
        "id": "bifOlRS8_Hus",
        "colab": {
          "base_uri": "https://localhost:8080/"
        },
        "outputId": "0461d2d5-6ca3-46f8-f331-870dd45b7cef"
      },
      "execution_count": 38,
      "outputs": [
        {
          "output_type": "stream",
          "name": "stdout",
          "text": [
            "[[0.36636184 0.45606998]\n",
            " [0.78517596 0.19967378]\n",
            " [0.51423444 0.59241457]]\n",
            "[[0.04645041 0.60754485]\n",
            " [0.17052412 0.06505159]\n",
            " [0.94888554 0.96563203]]\n"
          ]
        }
      ]
    },
    {
      "cell_type": "markdown",
      "source": [
        "#### **| 표준정규분포**\n",
        "\n",
        "표준정규분포는 평균이 `0`이고 편차가 `1`인 가우스(정규) 분포를 뜻합니다. \n",
        "\n",
        "<p align='center'>\n",
        "<img src=https://github.com/yebiny/SkillTreePython-DataAnalysis/blob/main/imgs/ch0102-06.PNG?raw=trueA width=300>\n",
        "</p>\n",
        "\n",
        "* `np.random.randn(shape)` : 표준정규분포를 따르는 `shape` 형태의 배열을 생성합니다.\n",
        "\n",
        "\n",
        "```\n",
        "np.random.randn(3,2)\n",
        "```\n"
      ],
      "metadata": {
        "id": "5m2ywtWHUSeT"
      }
    },
    {
      "cell_type": "code",
      "source": [
        "np.random.randn(3,2)  # 0을 기점으로 하므로 마이너스 값도 나온다"
      ],
      "metadata": {
        "id": "_Vp0mD7GUSea",
        "colab": {
          "base_uri": "https://localhost:8080/"
        },
        "outputId": "1b3b137b-ef3f-4ed2-a5b1-a1f8fce95ea4"
      },
      "execution_count": 36,
      "outputs": [
        {
          "output_type": "execute_result",
          "data": {
            "text/plain": [
              "array([[-2.61254901,  0.95036968],\n",
              "       [ 0.81644508, -1.523876  ],\n",
              "       [-0.42804606, -0.74240684]])"
            ]
          },
          "metadata": {},
          "execution_count": 36
        }
      ]
    },
    {
      "cell_type": "markdown",
      "metadata": {
        "id": "-J3bxEmza3Ai"
      },
      "source": [
        "---\n",
        "### **(4) 데이터 타입**\n",
        "---\n",
        "\n",
        "배열을 만들 때 어떤 값으로 채워져 있는지 이해해야 합니다. \n",
        "\n",
        "아래와 같이 배열 `a`,`b`,`c`를 생성합니다.\n",
        "\n",
        "```\n",
        "a = np.array([1,2,3,4])\n",
        "b = np.zeros(4)\n",
        "c = np.zeros_like(a)\n",
        "print(a)\n",
        "print(b)\n",
        "print(c)\n",
        "```"
      ]
    },
    {
      "cell_type": "code",
      "source": [
        "a= np.array([1,2,3,4])\n",
        "b= np.zeros(4)\n",
        "c= np.zeros_like(a)\n",
        "print(a)\n",
        "print(b) # 실수\n",
        "print(c)"
      ],
      "metadata": {
        "id": "5oYeNlrJcD7I",
        "colab": {
          "base_uri": "https://localhost:8080/"
        },
        "outputId": "5c94ee8e-b378-40c9-f95f-181b8aa573da"
      },
      "execution_count": 40,
      "outputs": [
        {
          "output_type": "stream",
          "name": "stdout",
          "text": [
            "[1 2 3 4]\n",
            "[0. 0. 0. 0.]\n",
            "[0 0 0 0]\n"
          ]
        }
      ]
    },
    {
      "cell_type": "markdown",
      "source": [
        "`b`와 `c`는 `0`으로만 이루어져 있고 형태도 똑같습니다. 하지만 각 요소들은 다른 데이터 타입을 가지고 있습니다. 확인해 봅시다.\n",
        "\n",
        "```\n",
        "[type(x) for x in b], [type(x) for x in c]\n",
        "```"
      ],
      "metadata": {
        "id": "CQJuviOrc70N"
      }
    },
    {
      "cell_type": "code",
      "source": [
        "[type(x) for x in b], [type(x) for x in c]"
      ],
      "metadata": {
        "id": "t7tIdf3_ce34",
        "colab": {
          "base_uri": "https://localhost:8080/"
        },
        "outputId": "a8aab20c-93c3-4698-ba04-1ccdce8dfee6"
      },
      "execution_count": 42,
      "outputs": [
        {
          "output_type": "execute_result",
          "data": {
            "text/plain": [
              "([numpy.float64, numpy.float64, numpy.float64, numpy.float64],\n",
              " [numpy.int64, numpy.int64, numpy.int64, numpy.int64])"
            ]
          },
          "metadata": {},
          "execution_count": 42
        }
      ]
    },
    {
      "cell_type": "markdown",
      "source": [
        "#### **| 여러가지 타입**\n",
        "\n",
        "| 함수 | 설명 |\n",
        "|--|--|\n",
        "| `bool_` | 불리언(Boolean)|\n",
        "| `int8(,16,32,64)` | 정수(-128 ~ 127)|\n",
        "| `uint8(,16,32,64)` | 부호없는 정수 (0~ 255)(자연수) |\n",
        "| `int_` | =`int64`|\n",
        "| `float16(,32,64)` | 소수점|\n",
        "| `float_` | =`float64` |\n",
        "| `complex64(,128)` | 복소수|\n",
        "| `complex_` | =`complex128` |\n",
        "\n",
        "\n",
        "\n",
        "* `np.---(dtype=type)` : 배열 생성시 `type`을 지정해 줍니다.\n",
        "\n",
        "배열 `b`를 생성할 때 `int8` 타입으로 생성해 봅시다.\n",
        "\n",
        "```\n",
        "b = np.zeros(4, dtype='int8')\n",
        "b, [type(x) for x in b]\n",
        "```\n"
      ],
      "metadata": {
        "id": "dhGOzS6ddNuM"
      }
    },
    {
      "cell_type": "code",
      "source": [
        "b=np.zeros(4, dtype='int8')\n",
        "b, [type(x) for x in b]"
      ],
      "metadata": {
        "id": "qCkSjHDzdzDN",
        "colab": {
          "base_uri": "https://localhost:8080/"
        },
        "outputId": "c942a55b-d728-41ba-c651-9ccc382cddcf"
      },
      "execution_count": 44,
      "outputs": [
        {
          "output_type": "execute_result",
          "data": {
            "text/plain": [
              "(array([0, 0, 0, 0], dtype=int8),\n",
              " [numpy.int8, numpy.int8, numpy.int8, numpy.int8])"
            ]
          },
          "metadata": {},
          "execution_count": 44
        }
      ]
    },
    {
      "cell_type": "markdown",
      "metadata": {
        "id": "ecqdIs3QAoz1"
      },
      "source": [
        "### **(5) 배열 입출력**\n",
        "\n"
      ]
    },
    {
      "cell_type": "markdown",
      "source": [
        "#### **| 저장**\n",
        "\n",
        "* `np.save(save_path, a)` : 배열 `a` 한개를 경로 `save_path`에 저장합니다. \n",
        "\n",
        "```\n",
        "np.save('test1', a)\n",
        "```"
      ],
      "metadata": {
        "id": "u_Ai8eSHAoz3"
      }
    },
    {
      "cell_type": "code",
      "source": [
        "a"
      ],
      "metadata": {
        "colab": {
          "base_uri": "https://localhost:8080/"
        },
        "id": "sJwYAJy5k5EP",
        "outputId": "3bd99945-bbf4-4288-80ba-793d5adf6657"
      },
      "execution_count": 45,
      "outputs": [
        {
          "output_type": "execute_result",
          "data": {
            "text/plain": [
              "array([1, 2, 3, 4])"
            ]
          },
          "metadata": {},
          "execution_count": 45
        }
      ]
    },
    {
      "cell_type": "code",
      "source": [
        "np.save('test1',a)"
      ],
      "metadata": {
        "id": "KmZx6DXd0Mpd"
      },
      "execution_count": 46,
      "outputs": []
    },
    {
      "cell_type": "markdown",
      "source": [
        "* `np.savez(save_path, a1, a2, ...)` : 배열  여러개를 경로 `save_path`에 저장합니다. \n",
        "\n",
        "```\n",
        "np.savez('test2', a, a)\n",
        "```"
      ],
      "metadata": {
        "id": "1MRSrKkZAy0s"
      }
    },
    {
      "cell_type": "code",
      "source": [
        "np.savez('test2',a,b)"
      ],
      "metadata": {
        "id": "TNFkSBXQ0NpA"
      },
      "execution_count": 47,
      "outputs": []
    },
    {
      "cell_type": "markdown",
      "source": [
        "저장 시 각 배열에 대한 이름을 지정해 줄수 있습니다.\n",
        "```\n",
        "np.savez('test3', a1=a, a2=a)\n",
        "```"
      ],
      "metadata": {
        "id": "jd6R6eB0lYqq"
      }
    },
    {
      "cell_type": "code",
      "source": [
        "np.savez('test3',arr_a=a,arr_b=b)"
      ],
      "metadata": {
        "id": "xobc2d4xlnZd"
      },
      "execution_count": 48,
      "outputs": []
    },
    {
      "cell_type": "markdown",
      "source": [
        "#### **| 불러오기**\n",
        "\n",
        "* `np.load(file_path)` : 넘파이 배열이 저장된 파일로부터 객체를 불러옵니다. \n",
        "\n",
        "\n",
        "```\n",
        "a_npy = np.load('test.npy')\n",
        "```"
      ],
      "metadata": {
        "id": "bC04-YDYA2Cw"
      }
    },
    {
      "cell_type": "code",
      "source": [
        "test1=np.load('test1.npy')\n",
        "test1"
      ],
      "metadata": {
        "id": "n71fHGpN0OkE",
        "colab": {
          "base_uri": "https://localhost:8080/"
        },
        "outputId": "a77b58ab-a23d-43b6-dc4d-5dc797ed376a"
      },
      "execution_count": 127,
      "outputs": [
        {
          "output_type": "execute_result",
          "data": {
            "text/plain": [
              "array([1, 2, 3, 4])"
            ]
          },
          "metadata": {},
          "execution_count": 127
        }
      ]
    },
    {
      "cell_type": "markdown",
      "source": [
        "배열이 여러개 들어간 `npz` 파일을 불러올 때는 어떤 이름으로 각 배열이 저장되어 있는지 확인해 볼 필요가 있습니다.\n",
        "\n",
        "```\n",
        "a_npz = np.load('test3.npz')\n",
        "for a in a_npz:\n",
        "  print(a)\n",
        "```"
      ],
      "metadata": {
        "id": "DO3ddZJtku78"
      }
    },
    {
      "cell_type": "code",
      "source": [
        "a_npz = np.load('test3.npz')\n",
        "for a in a_npz:\n",
        "  print(a)"
      ],
      "metadata": {
        "colab": {
          "base_uri": "https://localhost:8080/"
        },
        "id": "oyAim1yZ8MRc",
        "outputId": "93a6823b-b1bd-48db-b6b4-914e8bd16071"
      },
      "execution_count": 128,
      "outputs": [
        {
          "output_type": "stream",
          "name": "stdout",
          "text": [
            "arr_a\n",
            "arr_b\n"
          ]
        }
      ]
    },
    {
      "cell_type": "code",
      "source": [
        "test2=np.load('test3.npz')\n",
        "for i in test2:\n",
        "  print(i)"
      ],
      "metadata": {
        "id": "0w8C5GAskxhS",
        "colab": {
          "base_uri": "https://localhost:8080/"
        },
        "outputId": "1c13433f-aad3-424d-ad29-2f2e8f058b53"
      },
      "execution_count": 53,
      "outputs": [
        {
          "output_type": "stream",
          "name": "stdout",
          "text": [
            "arr_a\n",
            "arr_b\n"
          ]
        }
      ]
    },
    {
      "cell_type": "markdown",
      "source": [
        "이름 확인 후 인덱싱을 통해 각 배열에 접근 할 수 있습니다.\n",
        "\n",
        "```\n",
        "print(a_npz['a1'], a_npz['a2'])\n",
        "```"
      ],
      "metadata": {
        "id": "iPCDsC7SmGl7"
      }
    },
    {
      "cell_type": "code",
      "source": [
        "print(a_npz['arr_a'], a_npz['arr_b'])"
      ],
      "metadata": {
        "id": "Q0QcJ87smH2G",
        "colab": {
          "base_uri": "https://localhost:8080/"
        },
        "outputId": "98b99ecd-e007-44f0-eb87-714dc07e736d"
      },
      "execution_count": 130,
      "outputs": [
        {
          "output_type": "stream",
          "name": "stdout",
          "text": [
            "[1 2 3 4] [0 0 0 0]\n"
          ]
        }
      ]
    },
    {
      "cell_type": "markdown",
      "source": [
        "## 문제풀이\n",
        "---\n"
      ],
      "metadata": {
        "id": "1Zo86GIRD8iE"
      }
    },
    {
      "cell_type": "markdown",
      "metadata": {
        "id": "d9o7kBXoNlE3"
      },
      "source": [
        "**예제 01**\n",
        "\n",
        "아래그림과 같이 `shape`가 `(4)` 인 배열을 생성하고 `a1`로 바인딩 하세요.\n",
        "\n",
        "<p align='center'>\n",
        "<img src=https://github.com/yebiny/SkillTreePython-DataAnalysis/blob/main/imgs/ch0102-07.png?raw=trueA width=180>\n",
        "</p>"
      ]
    },
    {
      "cell_type": "code",
      "source": [
        "a1= np.array([2,4,1,3])\n",
        "a1, a.shape"
      ],
      "metadata": {
        "id": "vsrl4JZ5NasG",
        "colab": {
          "base_uri": "https://localhost:8080/"
        },
        "outputId": "44942038-5a7a-46cc-8828-850d430457bd"
      },
      "execution_count": 59,
      "outputs": [
        {
          "output_type": "execute_result",
          "data": {
            "text/plain": [
              "(array([2, 4, 1, 3]), (4,))"
            ]
          },
          "metadata": {},
          "execution_count": 59
        }
      ]
    },
    {
      "cell_type": "markdown",
      "metadata": {
        "id": "VGBXSucnmUvV"
      },
      "source": [
        "**예제 02**\n",
        "\n",
        "`a1`와 `shape`가 똑같고 모든 값이 `1`인 배열을 생성하세요."
      ]
    },
    {
      "cell_type": "code",
      "metadata": {
        "id": "nbG4Fj4emUvW",
        "colab": {
          "base_uri": "https://localhost:8080/"
        },
        "outputId": "07f7c1c6-b662-44ec-8250-6cf02bc88b2b"
      },
      "source": [
        "a=np.ones(4)\n",
        "a, a.shape"
      ],
      "execution_count": 64,
      "outputs": [
        {
          "output_type": "execute_result",
          "data": {
            "text/plain": [
              "(array([1., 1., 1., 1.]), (4,))"
            ]
          },
          "metadata": {},
          "execution_count": 64
        }
      ]
    },
    {
      "cell_type": "markdown",
      "source": [
        "**예제 03**\n",
        "\n",
        "`a1`와 모든 값이 같지만 `shape`가 `(1,4)`인 배열을 생성하세요."
      ],
      "metadata": {
        "id": "LWA987CQNayh"
      }
    },
    {
      "cell_type": "code",
      "metadata": {
        "id": "Gwir0bafNlE9",
        "colab": {
          "base_uri": "https://localhost:8080/"
        },
        "outputId": "92abea99-ddb6-4406-efad-f3ae84aff695"
      },
      "source": [
        "a3=np.array([[2,4,1,3]])\n",
        "a3, a3.shape"
      ],
      "execution_count": 78,
      "outputs": [
        {
          "output_type": "execute_result",
          "data": {
            "text/plain": [
              "(array([[2, 4, 1, 3]]), (1, 4))"
            ]
          },
          "metadata": {},
          "execution_count": 78
        }
      ]
    },
    {
      "cell_type": "markdown",
      "metadata": {
        "id": "2jlL6dLjYcFZ"
      },
      "source": [
        "**예제 04**\n",
        "\n",
        "아래그림과 같이 `shape`가 `(4,2)`인 배열을 생성하고 `a2`로 바인딩 하세요.\n",
        "\n",
        "\n",
        "<p align='center'>\n",
        "<img src=https://github.com/yebiny/SkillTreePython-DataAnalysis/blob/main/imgs/ch0102-08.png?raw=trueA width=80>\n",
        "</p>\n"
      ]
    },
    {
      "cell_type": "code",
      "source": [
        "a2=np.array([[1,0],\n",
        "             [1,0],\n",
        "             [3,2],\n",
        "             [1,1]])\n",
        "a2, a2.shape"
      ],
      "metadata": {
        "id": "1GDlXW0kYcFg",
        "colab": {
          "base_uri": "https://localhost:8080/"
        },
        "outputId": "ea655c8e-d9b5-4e05-a111-3856e5f2475b"
      },
      "execution_count": 66,
      "outputs": [
        {
          "output_type": "execute_result",
          "data": {
            "text/plain": [
              "(array([[1, 0],\n",
              "        [1, 0],\n",
              "        [3, 2],\n",
              "        [1, 1]]), (4, 2))"
            ]
          },
          "metadata": {},
          "execution_count": 66
        }
      ]
    },
    {
      "cell_type": "markdown",
      "metadata": {
        "id": "bWhgW8HPNsKV"
      },
      "source": [
        "**예제 05**\n",
        "\n",
        "`a2`와 `shape`가 똑같고 모든 값이 `0`인 배열을 생성하세요."
      ]
    },
    {
      "cell_type": "code",
      "metadata": {
        "id": "kl547eOiNsKW",
        "colab": {
          "base_uri": "https://localhost:8080/"
        },
        "outputId": "cf732ed3-4d76-46f3-ad6f-d2d32f228f38"
      },
      "source": [
        "a4=np.zeros_like(a2)\n",
        "a4, a4.shape"
      ],
      "execution_count": 77,
      "outputs": [
        {
          "output_type": "execute_result",
          "data": {
            "text/plain": [
              "(array([[0, 0],\n",
              "        [0, 0],\n",
              "        [0, 0],\n",
              "        [0, 0]]), (4, 2))"
            ]
          },
          "metadata": {},
          "execution_count": 77
        }
      ]
    },
    {
      "cell_type": "code",
      "source": [
        "a5=np.zeros((4,1,2))\n",
        "a5"
      ],
      "metadata": {
        "colab": {
          "base_uri": "https://localhost:8080/"
        },
        "id": "CD2YT-kWpIit",
        "outputId": "ad8b2dd9-5388-4499-edc0-9fe7f14aae61"
      },
      "execution_count": 76,
      "outputs": [
        {
          "output_type": "execute_result",
          "data": {
            "text/plain": [
              "array([[[0., 0.]],\n",
              "\n",
              "       [[0., 0.]],\n",
              "\n",
              "       [[0., 0.]],\n",
              "\n",
              "       [[0., 0.]]])"
            ]
          },
          "metadata": {},
          "execution_count": 76
        }
      ]
    },
    {
      "cell_type": "markdown",
      "source": [
        "**예제 06**\n",
        "\n",
        "`a2`와 모든 값이 같지만 `shape`가 `(4,1,2)`인 배열을 생성하세요."
      ],
      "metadata": {
        "id": "SfamwcIMYgKh"
      }
    },
    {
      "cell_type": "code",
      "metadata": {
        "id": "PDmrw5QVYgKh",
        "colab": {
          "base_uri": "https://localhost:8080/"
        },
        "outputId": "b2155b60-aca8-4105-8078-9143e70b9bb1"
      },
      "source": [
        "a6=np.array([[[1,0]],\n",
        "             [[1,0]],\n",
        "             [[3,2]],\n",
        "             [[1,1]]])\n",
        "a6, a6.shape"
      ],
      "execution_count": 79,
      "outputs": [
        {
          "output_type": "execute_result",
          "data": {
            "text/plain": [
              "(array([[[1, 0]],\n",
              " \n",
              "        [[1, 0]],\n",
              " \n",
              "        [[3, 2]],\n",
              " \n",
              "        [[1, 1]]]), (4, 1, 2))"
            ]
          },
          "metadata": {},
          "execution_count": 79
        }
      ]
    },
    {
      "cell_type": "markdown",
      "metadata": {
        "id": "ELhN6-RuNufU"
      },
      "source": [
        "**예제 07**\n",
        "\n",
        "`a2`와 모든 값이 같지만 아래와 같이 전치된 배열을 생성하세요.\n",
        "\n",
        "\n",
        "<p align='center'>\n",
        "<img src=https://github.com/yebiny/SkillTreePython-DataAnalysis/blob/main/imgs/ch0102-09.png?raw=trueA width=180>\n",
        "</p>"
      ]
    },
    {
      "cell_type": "code",
      "metadata": {
        "id": "Hb-2MyUeNufU",
        "colab": {
          "base_uri": "https://localhost:8080/"
        },
        "outputId": "976d7694-b622-491b-ba34-778c9b4072d7"
      },
      "source": [
        "a7= np.array([[1,1,3,1],\n",
        "              [0,0,2,1]])\n",
        "a7, a7.shape"
      ],
      "execution_count": 80,
      "outputs": [
        {
          "output_type": "execute_result",
          "data": {
            "text/plain": [
              "(array([[1, 1, 3, 1],\n",
              "        [0, 0, 2, 1]]), (2, 4))"
            ]
          },
          "metadata": {},
          "execution_count": 80
        }
      ]
    },
    {
      "cell_type": "markdown",
      "metadata": {
        "id": "rreOszCZN9MN"
      },
      "source": [
        "**예제 08**\n",
        "\n",
        "모든 값이 `3`이고 `shape`가 `(5,1,2)`인 3차원 배열을 생성 후 `shape`를 확인하세요."
      ]
    },
    {
      "cell_type": "code",
      "metadata": {
        "id": "2dSGS_JGN9MN",
        "colab": {
          "base_uri": "https://localhost:8080/"
        },
        "outputId": "5c9245e5-6c0c-4523-cf90-c14956006b1d"
      },
      "source": [
        "a8= np.full((5,1,2), 3)\n",
        "a8, a8.shape"
      ],
      "execution_count": 82,
      "outputs": [
        {
          "output_type": "execute_result",
          "data": {
            "text/plain": [
              "(array([[[3, 3]],\n",
              " \n",
              "        [[3, 3]],\n",
              " \n",
              "        [[3, 3]],\n",
              " \n",
              "        [[3, 3]],\n",
              " \n",
              "        [[3, 3]]]), (5, 1, 2))"
            ]
          },
          "metadata": {},
          "execution_count": 82
        }
      ]
    },
    {
      "cell_type": "markdown",
      "metadata": {
        "id": "hoHUjY84N-9e"
      },
      "source": [
        "**예제 09**\n",
        "\n",
        "모든 값이 `3`이고 `shape`가 `(1,2,5)`인 3차원 배열을 생성 후 `shape`를 확인하세요."
      ]
    },
    {
      "cell_type": "code",
      "metadata": {
        "id": "zCT5tTr9N-9e",
        "colab": {
          "base_uri": "https://localhost:8080/"
        },
        "outputId": "3158d8e7-645e-4611-a2b2-6c579ef36361"
      },
      "source": [
        "a9= np.full((1,2,5), 3)\n",
        "a9, a9.shape"
      ],
      "execution_count": 83,
      "outputs": [
        {
          "output_type": "execute_result",
          "data": {
            "text/plain": [
              "(array([[[3, 3, 3, 3, 3],\n",
              "         [3, 3, 3, 3, 3]]]), (1, 2, 5))"
            ]
          },
          "metadata": {},
          "execution_count": 83
        }
      ]
    },
    {
      "cell_type": "markdown",
      "metadata": {
        "id": "pae3A4KzmmX-"
      },
      "source": [
        "**예제 10**\n",
        "\n",
        "모든 값이 3이고 shape가 `(2,1,3)`인 3차원 배열을 리스트를 이용해 직접 만들고 `shape`를 확인하세요."
      ]
    },
    {
      "cell_type": "code",
      "metadata": {
        "id": "auOb2ffPmmX-",
        "colab": {
          "base_uri": "https://localhost:8080/"
        },
        "outputId": "8e38ef4f-0b25-4565-b935-392c27c7fd0b"
      },
      "source": [
        "a10= np.full((2,1,3), 3)\n",
        "a10, a10.shape"
      ],
      "execution_count": 84,
      "outputs": [
        {
          "output_type": "execute_result",
          "data": {
            "text/plain": [
              "(array([[[3, 3, 3]],\n",
              " \n",
              "        [[3, 3, 3]]]), (2, 1, 3))"
            ]
          },
          "metadata": {},
          "execution_count": 84
        }
      ]
    },
    {
      "cell_type": "markdown",
      "metadata": {
        "id": "e-kN0jFgoZMA"
      },
      "source": [
        "**예제 11**\n",
        "\n",
        "1에서 100까지 홀수값만을 가지는 배열을 `np.arange`를 이용해 생성하세요.\n"
      ]
    },
    {
      "cell_type": "code",
      "metadata": {
        "id": "_muP8BzQoZMA",
        "colab": {
          "base_uri": "https://localhost:8080/"
        },
        "outputId": "5cdb559f-6cbe-480e-cb0d-eb827a1b58f9"
      },
      "source": [
        "l=np.arange(1,100,2)\n",
        "l, len(l)"
      ],
      "execution_count": 90,
      "outputs": [
        {
          "output_type": "execute_result",
          "data": {
            "text/plain": [
              "(array([ 1,  3,  5,  7,  9, 11, 13, 15, 17, 19, 21, 23, 25, 27, 29, 31, 33,\n",
              "        35, 37, 39, 41, 43, 45, 47, 49, 51, 53, 55, 57, 59, 61, 63, 65, 67,\n",
              "        69, 71, 73, 75, 77, 79, 81, 83, 85, 87, 89, 91, 93, 95, 97, 99]), 50)"
            ]
          },
          "metadata": {},
          "execution_count": 90
        }
      ]
    },
    {
      "cell_type": "markdown",
      "metadata": {
        "id": "ZqsMlzO8opjT"
      },
      "source": [
        "**예제 12**\n",
        "\n",
        "1에서 100까지 홀수값만을 가지는 배열을 `np.linspace`를 이용해 생성하세요."
      ]
    },
    {
      "cell_type": "code",
      "metadata": {
        "id": "a2nn99BvopjT",
        "colab": {
          "base_uri": "https://localhost:8080/"
        },
        "outputId": "aae2f9ed-54e3-4fc8-fdff-a9e6e666e2de"
      },
      "source": [
        "np.linspace(1,99,50)"
      ],
      "execution_count": 92,
      "outputs": [
        {
          "output_type": "execute_result",
          "data": {
            "text/plain": [
              "array([ 1.,  3.,  5.,  7.,  9., 11., 13., 15., 17., 19., 21., 23., 25.,\n",
              "       27., 29., 31., 33., 35., 37., 39., 41., 43., 45., 47., 49., 51.,\n",
              "       53., 55., 57., 59., 61., 63., 65., 67., 69., 71., 73., 75., 77.,\n",
              "       79., 81., 83., 85., 87., 89., 91., 93., 95., 97., 99.])"
            ]
          },
          "metadata": {},
          "execution_count": 92
        }
      ]
    },
    {
      "cell_type": "markdown",
      "metadata": {
        "id": "mr5GzUWQnEHl"
      },
      "source": [
        "**예제 13**\n",
        "\n",
        "`shape`가 `(5,5)`인 단위행렬(Identity matrix)를 생성하세요.\n"
      ]
    },
    {
      "cell_type": "code",
      "metadata": {
        "id": "tGu1fVwMnEHt",
        "colab": {
          "base_uri": "https://localhost:8080/"
        },
        "outputId": "c22427a7-048a-4a5e-b408-08964d62cb10"
      },
      "source": [
        "np.eye(5)"
      ],
      "execution_count": 94,
      "outputs": [
        {
          "output_type": "execute_result",
          "data": {
            "text/plain": [
              "array([[1., 0., 0., 0., 0.],\n",
              "       [0., 1., 0., 0., 0.],\n",
              "       [0., 0., 1., 0., 0.],\n",
              "       [0., 0., 0., 1., 0.],\n",
              "       [0., 0., 0., 0., 1.]])"
            ]
          },
          "metadata": {},
          "execution_count": 94
        }
      ]
    },
    {
      "cell_type": "markdown",
      "metadata": {
        "id": "esX8x6evnohw"
      },
      "source": [
        "**예제 14**\n",
        "\n",
        "`shape`가 `(10,5)`이고 균등분포를 따르는 배열을 생성하세요. 랜덤시드를 `42`로 정해주세요.\n"
      ]
    },
    {
      "cell_type": "code",
      "metadata": {
        "id": "s6YjEalLnohy",
        "colab": {
          "base_uri": "https://localhost:8080/"
        },
        "outputId": "ee3a5f96-d08f-4fd8-f033-43100ef4548b"
      },
      "source": [
        "np.random.seed(42)\n",
        "np.random.random((10,5)) # np.random.randint(i1,i2, shape) i1 이상 i2 미만\n",
        "                         # np.random.random((shape))"
      ],
      "execution_count": 97,
      "outputs": [
        {
          "output_type": "execute_result",
          "data": {
            "text/plain": [
              "array([[0.37454012, 0.95071431, 0.73199394, 0.59865848, 0.15601864],\n",
              "       [0.15599452, 0.05808361, 0.86617615, 0.60111501, 0.70807258],\n",
              "       [0.02058449, 0.96990985, 0.83244264, 0.21233911, 0.18182497],\n",
              "       [0.18340451, 0.30424224, 0.52475643, 0.43194502, 0.29122914],\n",
              "       [0.61185289, 0.13949386, 0.29214465, 0.36636184, 0.45606998],\n",
              "       [0.78517596, 0.19967378, 0.51423444, 0.59241457, 0.04645041],\n",
              "       [0.60754485, 0.17052412, 0.06505159, 0.94888554, 0.96563203],\n",
              "       [0.80839735, 0.30461377, 0.09767211, 0.68423303, 0.44015249],\n",
              "       [0.12203823, 0.49517691, 0.03438852, 0.9093204 , 0.25877998],\n",
              "       [0.66252228, 0.31171108, 0.52006802, 0.54671028, 0.18485446]])"
            ]
          },
          "metadata": {},
          "execution_count": 97
        }
      ]
    },
    {
      "cell_type": "markdown",
      "metadata": {
        "id": "VsBSmv3PZx2a"
      },
      "source": [
        "**예제 15**\n",
        "\n",
        "`shape`가 `(10,5)`이고 표준정규분포를 따르는 배열을 생성하세요. 랜덤시드를 `42`로 정해주세요.\n"
      ]
    },
    {
      "cell_type": "code",
      "metadata": {
        "id": "_QAt1iGIZx2b",
        "colab": {
          "base_uri": "https://localhost:8080/"
        },
        "outputId": "19980512-dd85-488d-ff87-be3773735916"
      },
      "source": [
        "np.random.seed(42)\n",
        "np.random.randn(10,5)  # np.random.randn(shape)\n",
        "                       # 위의 균등분포와 비슷하지만 () 하나가 없다"
      ],
      "execution_count": 99,
      "outputs": [
        {
          "output_type": "execute_result",
          "data": {
            "text/plain": [
              "array([[ 0.49671415, -0.1382643 ,  0.64768854,  1.52302986, -0.23415337],\n",
              "       [-0.23413696,  1.57921282,  0.76743473, -0.46947439,  0.54256004],\n",
              "       [-0.46341769, -0.46572975,  0.24196227, -1.91328024, -1.72491783],\n",
              "       [-0.56228753, -1.01283112,  0.31424733, -0.90802408, -1.4123037 ],\n",
              "       [ 1.46564877, -0.2257763 ,  0.0675282 , -1.42474819, -0.54438272],\n",
              "       [ 0.11092259, -1.15099358,  0.37569802, -0.60063869, -0.29169375],\n",
              "       [-0.60170661,  1.85227818, -0.01349722, -1.05771093,  0.82254491],\n",
              "       [-1.22084365,  0.2088636 , -1.95967012, -1.32818605,  0.19686124],\n",
              "       [ 0.73846658,  0.17136828, -0.11564828, -0.3011037 , -1.47852199],\n",
              "       [-0.71984421, -0.46063877,  1.05712223,  0.34361829, -1.76304016]])"
            ]
          },
          "metadata": {},
          "execution_count": 99
        }
      ]
    },
    {
      "cell_type": "markdown",
      "metadata": {
        "id": "sh0m2tMqo5zj"
      },
      "source": [
        "**예제 16**\n",
        "\n",
        "`a1`의 `shape`와 데이터 `type`을 확인하세요. 모든 값을 `int64`로 변경하고 타입을 확인하세요."
      ]
    },
    {
      "cell_type": "code",
      "source": [
        "a1, a1.shape,type(a1)"
      ],
      "metadata": {
        "colab": {
          "base_uri": "https://localhost:8080/"
        },
        "id": "_z0e6ViouitN",
        "outputId": "1bed1c85-a5c5-4b9a-b2ee-7b4ca9f99f6d"
      },
      "execution_count": 103,
      "outputs": [
        {
          "output_type": "execute_result",
          "data": {
            "text/plain": [
              "(array([2, 4, 1, 3]), (4,), numpy.ndarray)"
            ]
          },
          "metadata": {},
          "execution_count": 103
        }
      ]
    },
    {
      "cell_type": "code",
      "source": [
        "a16=np.zeros_like(4,dtype='int8')\n",
        "a16"
      ],
      "metadata": {
        "colab": {
          "base_uri": "https://localhost:8080/"
        },
        "id": "Ltty1S8K6GE2",
        "outputId": "7e24350d-93c0-4d86-c04b-d114bb763658"
      },
      "execution_count": 109,
      "outputs": [
        {
          "output_type": "execute_result",
          "data": {
            "text/plain": [
              "array(0, dtype=int8)"
            ]
          },
          "metadata": {},
          "execution_count": 109
        }
      ]
    },
    {
      "cell_type": "code",
      "metadata": {
        "id": "8-2I_n6So5zj",
        "colab": {
          "base_uri": "https://localhost:8080/"
        },
        "outputId": "60995e15-8343-41c4-833a-cb87f5ab7cb6"
      },
      "source": [
        "a16= np.array([2,4,1,3],dtype='int8')\n",
        "a16 , type(a16)"
      ],
      "execution_count": 107,
      "outputs": [
        {
          "output_type": "execute_result",
          "data": {
            "text/plain": [
              "(array([2, 4, 1, 3], dtype=int8), numpy.ndarray)"
            ]
          },
          "metadata": {},
          "execution_count": 107
        }
      ]
    },
    {
      "cell_type": "markdown",
      "metadata": {
        "id": "e4F4JeTRaOHB"
      },
      "source": [
        "**예제 17**\n",
        "\n",
        "`a2`의 `shape`와 데이터 `type`을 확인하세요. 모든 값을 `float64`로 변경하고 타입을 확인하세요."
      ]
    },
    {
      "cell_type": "code",
      "metadata": {
        "id": "iIleUzXWaOHB",
        "colab": {
          "base_uri": "https://localhost:8080/"
        },
        "outputId": "ce32e517-5314-4fd9-dda8-c292e0b6dca8"
      },
      "source": [
        "a2, type(a2)"
      ],
      "execution_count": 110,
      "outputs": [
        {
          "output_type": "execute_result",
          "data": {
            "text/plain": [
              "(array([[1, 0],\n",
              "        [1, 0],\n",
              "        [3, 2],\n",
              "        [1, 1]]), numpy.ndarray)"
            ]
          },
          "metadata": {},
          "execution_count": 110
        }
      ]
    },
    {
      "cell_type": "code",
      "source": [
        "a17= np.array([[1, 0],\n",
        "               [1, 0],\n",
        "               [3, 2],\n",
        "               [1, 1]],dtype='int8')\n",
        "a17 , type(a17)"
      ],
      "metadata": {
        "colab": {
          "base_uri": "https://localhost:8080/"
        },
        "id": "hrQ1N1Pp6VNc",
        "outputId": "e3ae42b4-1f81-4b90-e635-db1d82a4a9a3"
      },
      "execution_count": 112,
      "outputs": [
        {
          "output_type": "execute_result",
          "data": {
            "text/plain": [
              "(array([[1, 0],\n",
              "        [1, 0],\n",
              "        [3, 2],\n",
              "        [1, 1]], dtype=int8), numpy.ndarray)"
            ]
          },
          "metadata": {},
          "execution_count": 112
        }
      ]
    },
    {
      "cell_type": "markdown",
      "metadata": {
        "id": "gPc8HSQ7mxLt"
      },
      "source": [
        "**예제 18**\n",
        "\n",
        "`a1`을 `.npy`파일로 저장하세요. 경로는 `02_quest18.npy` 입니다."
      ]
    },
    {
      "cell_type": "code",
      "metadata": {
        "id": "gpSqudjHmxLu"
      },
      "source": [
        "# np.save(save_path, a) save_path 에 배열 a 한개를 저장\n",
        "np.save('02_quest18.npy', a1)"
      ],
      "execution_count": 114,
      "outputs": []
    },
    {
      "cell_type": "markdown",
      "metadata": {
        "id": "KDC4PphcmXW8"
      },
      "source": [
        "**예제 18**\n",
        "\n",
        "`a1`과 `a2`를 `npz`파일로 저장하세요. 경로는 `02_quest19.npz` 입니다."
      ]
    },
    {
      "cell_type": "code",
      "metadata": {
        "id": "KpWdY0u3mXW8"
      },
      "source": [
        "# np.savez(save_path, a1, a2, ...)\n",
        "np.savez('02_quest19.npz', a1, a2)"
      ],
      "execution_count": 116,
      "outputs": []
    },
    {
      "cell_type": "markdown",
      "metadata": {
        "id": "E2pIiC6HmhMm"
      },
      "source": [
        "**예제 20**\n",
        "\n",
        "위에서 저장한 파일을 모두 불러오고 저장된 배열들을 출력하세요."
      ]
    },
    {
      "cell_type": "code",
      "metadata": {
        "id": "g_B8ESAymhMm",
        "colab": {
          "base_uri": "https://localhost:8080/"
        },
        "outputId": "4cf3fc05-ca7d-4fed-a1fd-6373933f5848"
      },
      "source": [
        "# np.load(file_path) 불러오기\n",
        "np.load('02_quest18.npy')"
      ],
      "execution_count": 117,
      "outputs": [
        {
          "output_type": "execute_result",
          "data": {
            "text/plain": [
              "array([2, 4, 1, 3])"
            ]
          },
          "metadata": {},
          "execution_count": 117
        }
      ]
    },
    {
      "cell_type": "code",
      "source": [
        "test=np.load('02_quest19.npz')\n",
        "for i in test:\n",
        "  print(i)"
      ],
      "metadata": {
        "colab": {
          "base_uri": "https://localhost:8080/"
        },
        "id": "RxIGNiH-7v78",
        "outputId": "e80c0c34-a26e-48b6-8352-a36d69ff7fa3"
      },
      "execution_count": 125,
      "outputs": [
        {
          "output_type": "stream",
          "name": "stdout",
          "text": [
            "arr_0\n",
            "arr_1\n"
          ]
        }
      ]
    },
    {
      "cell_type": "code",
      "source": [
        "print(test['arr_1'], test['arr_0'])"
      ],
      "metadata": {
        "colab": {
          "base_uri": "https://localhost:8080/"
        },
        "id": "8F9WK4U-8WBr",
        "outputId": "e74cea02-274a-43d4-fef5-f2d26c906f20"
      },
      "execution_count": 132,
      "outputs": [
        {
          "output_type": "stream",
          "name": "stdout",
          "text": [
            "[[1 0]\n",
            " [1 0]\n",
            " [3 2]\n",
            " [1 1]] [2 4 1 3]\n"
          ]
        }
      ]
    },
    {
      "cell_type": "markdown",
      "source": [
        "**예제 21**\n",
        "\n",
        "`ch02_quest18.npy`와 `ch02_quest19.npy` 를 깃허브 `results`폴더에 추가해 주세요."
      ],
      "metadata": {
        "id": "6-xtu1pBXTsB"
      }
    },
    {
      "cell_type": "code",
      "source": [
        ""
      ],
      "metadata": {
        "id": "6vvCEgzCXw4t"
      },
      "execution_count": null,
      "outputs": []
    }
  ]
}
