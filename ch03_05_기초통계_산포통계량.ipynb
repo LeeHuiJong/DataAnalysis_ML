{
  "nbformat": 4,
  "nbformat_minor": 0,
  "metadata": {
    "colab": {
      "name": "ch03_05_기초통계_산포통계량.ipynb",
      "provenance": [],
      "collapsed_sections": [],
      "toc_visible": true,
      "include_colab_link": true
    },
    "kernelspec": {
      "name": "python3",
      "display_name": "Python 3"
    },
    "language_info": {
      "name": "python"
    }
  },
  "cells": [
    {
      "cell_type": "markdown",
      "metadata": {
        "id": "view-in-github",
        "colab_type": "text"
      },
      "source": [
        "<a href=\"https://colab.research.google.com/github/LeeHuiJong/SkillTreePython-DataAnalysis/blob/main/ch03_05_%EA%B8%B0%EC%B4%88%ED%86%B5%EA%B3%84_%EC%82%B0%ED%8F%AC%ED%86%B5%EA%B3%84%EB%9F%89.ipynb\" target=\"_parent\"><img src=\"https://colab.research.google.com/assets/colab-badge.svg\" alt=\"Open In Colab\"/></a>"
      ]
    },
    {
      "cell_type": "markdown",
      "source": [
        "# ch03.05. 기초통계 - 산포통계량\n",
        "---\n",
        "* 날짜:\n",
        "* 이름:\n",
        "\n",
        "## 학습내용\n",
        "    * 산포 통계량\n",
        "      - 분산\n",
        "      - 표준편차\n",
        "      - 변동계수\n",
        "      - 스케일링\n",
        "      - 범위와 사분위 범위"
      ],
      "metadata": {
        "id": "wWpXZc2fi39U"
      }
    },
    {
      "cell_type": "code",
      "source": [
        "import numpy as np\n",
        "import matplotlib.pyplot as plt\n",
        "import pandas as pd\n",
        "import seaborn as sns"
      ],
      "metadata": {
        "id": "uYLRSgCqw4YZ"
      },
      "execution_count": 1,
      "outputs": []
    },
    {
      "cell_type": "markdown",
      "source": [
        "##  산포 통계\n",
        "---\n",
        "\n",
        "* 산포란 데이터가 얼마나 퍼져있는지를 의미\n",
        "\n",
        "* 따라서 산포 통계량이란 데이터의 산포를 나타내는 통계량이라 할 수 있다."
      ],
      "metadata": {
        "id": "rx3G1AI_nCTw"
      }
    },
    {
      "cell_type": "markdown",
      "source": [
        "### **| 데이터 생성**\n",
        "\n",
        "```\n",
        "# 아래의 함수는 정규분포를 따르는 랜덤한 실수를 반환합니다.\n",
        "np.random.normal(loc, scale, size)\n",
        "# loc = 평균\n",
        "# scale = 표준편차\n",
        "# size = 추출할 데이터(표본)의 크기\n",
        "```\n"
      ],
      "metadata": {
        "id": "Qamnn6ffuxFL"
      }
    },
    {
      "cell_type": "markdown",
      "source": [
        "* 평균 0, 표준편차 1인 정규분포 데이터 1000개를 생성하기"
      ],
      "metadata": {
        "id": "T8BAXON4vIxO"
      }
    },
    {
      "cell_type": "code",
      "source": [
        "# 넘파이 랜덤 시드 0으로 설정\n",
        "np.random.seed(0)\n",
        "# 넘파이 배열 `a1`로 바인딩\n",
        "a1 = np.random.normal(0, 1, 1000)\n",
        "# 판다스 시리즈 `s1`로 바인딩\n",
        "s1 = pd.Series(a1)"
      ],
      "metadata": {
        "id": "QGUgicvFFpBp"
      },
      "execution_count": 57,
      "outputs": []
    },
    {
      "cell_type": "markdown",
      "source": [
        "* 평균 0, 표준편차 3인 정규분포 데이터 1000개를 생성하기"
      ],
      "metadata": {
        "id": "AS6fAssFvJdi"
      }
    },
    {
      "cell_type": "code",
      "source": [
        "# 넘파이 랜덤 시드 0으로 설정\n",
        "np.random.seed(0)\n",
        "# 넘파이 배열 `a3`로 바인딩\n",
        "a3 = np.random.normal(0, 3, 1000)\n",
        "# 판다스 시리즈 `s3`로 바인딩\n",
        "s3 = pd.Series(a3)"
      ],
      "metadata": {
        "id": "4L4smlIDvPA5"
      },
      "execution_count": 58,
      "outputs": []
    },
    {
      "cell_type": "markdown",
      "source": [
        "* `a1`와 `a3`의 분포 그리기"
      ],
      "metadata": {
        "id": "tiM7-w9kvR7W"
      }
    },
    {
      "cell_type": "code",
      "source": [
        "plt.hist(a1)"
      ],
      "metadata": {
        "id": "gz9cjV1FwGQH",
        "colab": {
          "base_uri": "https://localhost:8080/",
          "height": 361
        },
        "outputId": "f2e2fbc1-9053-43c2-b9af-c96b39fb29e9"
      },
      "execution_count": 59,
      "outputs": [
        {
          "output_type": "execute_result",
          "data": {
            "text/plain": [
              "(array([  9.,  20.,  70., 146., 217., 239., 160.,  86.,  38.,  15.]),\n",
              " array([-3.04614305, -2.46559324, -1.88504342, -1.3044936 , -0.72394379,\n",
              "        -0.14339397,  0.43715585,  1.01770566,  1.59825548,  2.1788053 ,\n",
              "         2.75935511]),\n",
              " <a list of 10 Patch objects>)"
            ]
          },
          "metadata": {},
          "execution_count": 59
        },
        {
          "output_type": "display_data",
          "data": {
            "text/plain": [
              "<Figure size 432x288 with 1 Axes>"
            ],
            "image/png": "[encoded data removed]"
          },
          "metadata": {
            "needs_background": "light"
          }
        }
      ]
    },
    {
      "cell_type": "code",
      "source": [
        "plt.hist(a3)"
      ],
      "metadata": {
        "colab": {
          "base_uri": "https://localhost:8080/",
          "height": 361
        },
        "id": "Q19gmE9EQ0jE",
        "outputId": "a3fa739f-f4d8-47b9-996b-cf1b1e765df8"
      },
      "execution_count": 60,
      "outputs": [
        {
          "output_type": "execute_result",
          "data": {
            "text/plain": [
              "(array([  9.,  20.,  70., 146., 217., 239., 160.,  86.,  38.,  15.]),\n",
              " array([-9.13842916, -7.39677971, -5.65513026, -3.91348081, -2.17183136,\n",
              "        -0.43018191,  1.31146754,  3.05311699,  4.79476644,  6.53641589,\n",
              "         8.27806534]),\n",
              " <a list of 10 Patch objects>)"
            ]
          },
          "metadata": {},
          "execution_count": 60
        },
        {
          "output_type": "display_data",
          "data": {
            "text/plain": [
              "<Figure size 432x288 with 1 Axes>"
            ],
            "image/png": "[encoded data removed]"
          },
          "metadata": {
            "needs_background": "light"
          }
        }
      ]
    },
    {
      "cell_type": "markdown",
      "metadata": {
        "id": "YUHtaUMySASi"
      },
      "source": [
        "### **| 분산**\n",
        "\n",
        "\\begin{align}\n",
        "var(x) = \\frac{\\sum^{n}_{i=1}(x_i-\\mu)^2}{n-1} \n",
        "\\end{align}\n",
        "\\begin{align}\n",
        " & \\\\\n",
        " & x_i :? \\\\\n",
        " & \\mu : ?\\\\\n",
        " & n : ?\\\\ \n",
        "\\end{align}\n",
        "\n",
        "\n",
        "```\n",
        "np.var(a, ddof) \n",
        "a.var(ddof)\n",
        "s.var(ddof)\n",
        "```"
      ]
    },
    {
      "cell_type": "markdown",
      "source": [
        "* `a1`과 `a3`의 분산을 계산"
      ],
      "metadata": {
        "id": "XsFgISoBwYFX"
      }
    },
    {
      "cell_type": "code",
      "execution_count": 61,
      "metadata": {
        "id": "SXfmaEFfSASj",
        "colab": {
          "base_uri": "https://localhost:8080/"
        },
        "outputId": "bb7a76ca-ddf9-45d2-e4da-fae92f405d38"
      },
      "outputs": [
        {
          "output_type": "execute_result",
          "data": {
            "text/plain": [
              "0.9752096659781323"
            ]
          },
          "metadata": {},
          "execution_count": 61
        }
      ],
      "source": [
        "np.var(a1, ddof=1) # a1 의 분산"
      ]
    },
    {
      "cell_type": "code",
      "source": [
        "np.var(a3, ddof=1) # a3 의 분산"
      ],
      "metadata": {
        "colab": {
          "base_uri": "https://localhost:8080/"
        },
        "id": "j2DNqXUISTMU",
        "outputId": "6ed20d80-b648-4c36-cf85-93f37dae4e8c"
      },
      "execution_count": 62,
      "outputs": [
        {
          "output_type": "execute_result",
          "data": {
            "text/plain": [
              "8.776886993803192"
            ]
          },
          "metadata": {},
          "execution_count": 62
        }
      ]
    },
    {
      "cell_type": "markdown",
      "metadata": {
        "id": "Nx5x3UnTSASk"
      },
      "source": [
        "### **| 표준편차**\n",
        "\n",
        "\n",
        "\\begin{align}\n",
        "std(x)= \\sqrt{var(x)} = \n",
        "\\sqrt{\\frac{\\sum^{n}_{i=1}(x_i-\\mu)^2}{n-1}} \n",
        "\\end{align}\n",
        "\\begin{align}\n",
        " & \\\\\n",
        " & x_i : ? \\\\\n",
        " & \\mu : ?\\\\\n",
        " & n : ?\\\\ \n",
        "\\end{align}\n",
        "\n",
        "\n",
        "```\n",
        "np.std(a, ddof) \n",
        "a.std(ddof)\n",
        "s.std(ddof)\n",
        "```"
      ]
    },
    {
      "cell_type": "markdown",
      "source": [
        "* `a1`과 `a3`의 표준편차 계산"
      ],
      "metadata": {
        "id": "JS7Nh7HIwx3l"
      }
    },
    {
      "cell_type": "code",
      "execution_count": 63,
      "metadata": {
        "id": "dXnFgMtnwx3m",
        "colab": {
          "base_uri": "https://localhost:8080/"
        },
        "outputId": "b763d935-a141-4921-a95e-216f55ebe8a3"
      },
      "outputs": [
        {
          "output_type": "execute_result",
          "data": {
            "text/plain": [
              "0.9875270456945128"
            ]
          },
          "metadata": {},
          "execution_count": 63
        }
      ],
      "source": [
        "np.std(a1, ddof=1) # a1 의 표준편차"
      ]
    },
    {
      "cell_type": "code",
      "source": [
        "np.std(a3, ddof=1) # a3 의 표준편차"
      ],
      "metadata": {
        "colab": {
          "base_uri": "https://localhost:8080/"
        },
        "id": "paG5AEDZSHIq",
        "outputId": "a5318697-0238-4683-f1ac-dd0c35be27fe"
      },
      "execution_count": 64,
      "outputs": [
        {
          "output_type": "execute_result",
          "data": {
            "text/plain": [
              "2.9625811370835384"
            ]
          },
          "metadata": {},
          "execution_count": 64
        }
      ]
    },
    {
      "cell_type": "markdown",
      "source": [
        "* `a1`의 분산과 `a1`의 표준편차제곱을 비교"
      ],
      "metadata": {
        "id": "KTIXQnIkw9iQ"
      }
    },
    {
      "cell_type": "code",
      "source": [
        "np.var(a1, ddof=1) # a1 의 분산"
      ],
      "metadata": {
        "id": "R7gkCYF1xC06",
        "colab": {
          "base_uri": "https://localhost:8080/"
        },
        "outputId": "851fa993-e5c7-4bc7-e469-27d03e7a1a6c"
      },
      "execution_count": 65,
      "outputs": [
        {
          "output_type": "execute_result",
          "data": {
            "text/plain": [
              "0.9752096659781323"
            ]
          },
          "metadata": {},
          "execution_count": 65
        }
      ]
    },
    {
      "cell_type": "code",
      "source": [
        "np.std(a1, ddof=1)**2 # a1 의 표준편차"
      ],
      "metadata": {
        "colab": {
          "base_uri": "https://localhost:8080/"
        },
        "id": "5vHm8mHFSoQI",
        "outputId": "f2f6cd0d-95b7-404a-8405-217c871ec6d2"
      },
      "execution_count": 66,
      "outputs": [
        {
          "output_type": "execute_result",
          "data": {
            "text/plain": [
              "0.9752096659781323"
            ]
          },
          "metadata": {},
          "execution_count": 66
        }
      ]
    },
    {
      "cell_type": "code",
      "source": [
        "# 분산과 표준편차의 제곱은 같은 값을 지닌다."
      ],
      "metadata": {
        "id": "wumanDWNSuFE"
      },
      "execution_count": 67,
      "outputs": []
    },
    {
      "cell_type": "markdown",
      "source": [
        "### **| 변동계수**\n",
        "\n",
        "분산 혹은 표준편차를 스케일에 영향을 받지 않도록 데이터를 스케일링 한 후 분산 혹은 표준편차를 계산\n",
        "\n",
        "\n",
        "\\begin{align}\n",
        "변동계수 = \\frac{var(x) \\ or \\ std(x) }{Scale(x)} \n",
        "\\end{align}\n"
      ],
      "metadata": {
        "id": "G6ilAY14xkFc"
      }
    },
    {
      "cell_type": "markdown",
      "metadata": {
        "id": "KY2wlX1ASASl"
      },
      "source": [
        "#### **변동계수의 필요성**"
      ]
    },
    {
      "cell_type": "markdown",
      "source": [
        "* `a1`의 모든 요소에 10을 곱한 배열 `a10`을 생성"
      ],
      "metadata": {
        "id": "QFH6d7L9xSK9"
      }
    },
    {
      "cell_type": "code",
      "execution_count": 68,
      "metadata": {
        "scrolled": true,
        "id": "m5lYDjtESASm"
      },
      "outputs": [],
      "source": [
        "a10 = a1*10"
      ]
    },
    {
      "cell_type": "markdown",
      "source": [
        "* `a1`과 `a10`의 분산 계산"
      ],
      "metadata": {
        "id": "2MWKjJX0xki1"
      }
    },
    {
      "cell_type": "code",
      "source": [
        "np.var(a1, ddof=1) # a1 의 분산"
      ],
      "metadata": {
        "id": "sgoJOUH3xopo",
        "colab": {
          "base_uri": "https://localhost:8080/"
        },
        "outputId": "5f358a41-60fe-43b6-9b99-e4c2f61c29a0"
      },
      "execution_count": 69,
      "outputs": [
        {
          "output_type": "execute_result",
          "data": {
            "text/plain": [
              "0.9752096659781323"
            ]
          },
          "metadata": {},
          "execution_count": 69
        }
      ]
    },
    {
      "cell_type": "code",
      "source": [
        "np.var(a10, ddof=1) # a10 의 분산"
      ],
      "metadata": {
        "colab": {
          "base_uri": "https://localhost:8080/"
        },
        "id": "_l3z43tpS6-h",
        "outputId": "f7a47a15-d03c-4d4a-a028-f4c0bad041c9"
      },
      "execution_count": 70,
      "outputs": [
        {
          "output_type": "execute_result",
          "data": {
            "text/plain": [
              "97.52096659781323"
            ]
          },
          "metadata": {},
          "execution_count": 70
        }
      ]
    },
    {
      "cell_type": "code",
      "source": [
        "# a1의 분산에 10을 곱한것은 a1의 모든 요소에 10을 곱한 값들의 분산과 동일하다.\n",
        "# 프린트에 나온 분산의 성질을 보여주는 예시다."
      ],
      "metadata": {
        "id": "vkCEkAhKS_3i"
      },
      "execution_count": 71,
      "outputs": []
    },
    {
      "cell_type": "markdown",
      "metadata": {
        "id": "MdTQTl-ZSASo"
      },
      "source": [
        "#### **스케일링: min-max**\n",
        "\n",
        "**min-max scaling** : 최대값을 1로, 최소값을 0으로 스케일링 하는  기법.\n",
        "\n",
        "\\begin{align}\n",
        "minmax(x)=\\frac{x-min(x)}{max(x)-min(x)}\n",
        "\\end{align}\n",
        "\n",
        "\\begin{align}\n",
        " & \\\\\n",
        " & x : ? \\\\\n",
        " & min(x) : ?\\\\\n",
        " & max(x) : ?\\\\ \n",
        "\\end{align}\n",
        "\n"
      ]
    },
    {
      "cell_type": "markdown",
      "source": [
        "* min-max 함수 생성"
      ],
      "metadata": {
        "id": "ZtfohRLysjzk"
      }
    },
    {
      "cell_type": "code",
      "source": [
        "def mm(x):\n",
        "  return (x-min(x))/(max(x)-min(x))"
      ],
      "metadata": {
        "id": "59mzhjd5r4j2"
      },
      "execution_count": 72,
      "outputs": []
    },
    {
      "cell_type": "markdown",
      "source": [
        "* `a1`을 min-max scaling 하여 `a1_minmax` 로 바인딩"
      ],
      "metadata": {
        "id": "y2-9KhEksc2A"
      }
    },
    {
      "cell_type": "code",
      "execution_count": 73,
      "metadata": {
        "id": "xTMzYDPHSASo"
      },
      "outputs": [],
      "source": [
        "a1_minmax = mm(a1)"
      ]
    },
    {
      "cell_type": "markdown",
      "source": [
        "* `a10`을 min-max scaling 하여 `a10_minmax` 로 바인딩"
      ],
      "metadata": {
        "id": "k_Ci-tvAyC1W"
      }
    },
    {
      "cell_type": "code",
      "execution_count": 74,
      "metadata": {
        "id": "ceA7GBikyC1W"
      },
      "outputs": [],
      "source": [
        "a10_minmax = mm(a10)"
      ]
    },
    {
      "cell_type": "markdown",
      "source": [
        "* `a1`과 `a1_minmax`의 분포를 (1x2) 플롯에 그려 비교하기"
      ],
      "metadata": {
        "id": "hpHAqKBZyIee"
      }
    },
    {
      "cell_type": "code",
      "source": [
        "plt.subplot(121)\n",
        "_=plt.hist(a1)\n",
        "  \n",
        "plt.subplot(122)\n",
        "_=plt.hist(a1_minmax)  # X축의 기준값만 바뀌고 Y값은 동일함. minmax 스케일링을 한 오른쪽 그래프의 X값은 0과 1사이에 분포한다."
      ],
      "metadata": {
        "id": "ZHJYrPCSyO4a",
        "colab": {
          "base_uri": "https://localhost:8080/",
          "height": 269
        },
        "outputId": "b725e0ee-7752-4ca6-a1b2-0522cb97430e"
      },
      "execution_count": 75,
      "outputs": [
        {
          "output_type": "display_data",
          "data": {
            "text/plain": [
              "<Figure size 432x288 with 2 Axes>"
            ],
            "image/png": "[encoded data removed]"
          },
          "metadata": {
            "needs_background": "light"
          }
        }
      ]
    },
    {
      "cell_type": "markdown",
      "source": [
        "* `a10`과 `a10_minmax`의 분포를 (1x2) 플롯에 그려 비교하기"
      ],
      "metadata": {
        "id": "ZfJ52b-iysv1"
      }
    },
    {
      "cell_type": "code",
      "source": [
        "plt.subplot(121)\n",
        "_=plt.hist(a10)\n",
        "  \n",
        "plt.subplot(122)\n",
        "_=plt.hist(a10_minmax) # a10 과 a10_minmax 도 위와 동일한 성질을 지닌다. x값이 0에서 1사이에 분포한다."
      ],
      "metadata": {
        "id": "vrBzYymhysv1",
        "colab": {
          "base_uri": "https://localhost:8080/",
          "height": 269
        },
        "outputId": "89494224-3592-407c-fc4f-50bcdf44d3bb"
      },
      "execution_count": 76,
      "outputs": [
        {
          "output_type": "display_data",
          "data": {
            "text/plain": [
              "<Figure size 432x288 with 2 Axes>"
            ],
            "image/png": "[encoded data removed]"
          },
          "metadata": {
            "needs_background": "light"
          }
        }
      ]
    },
    {
      "cell_type": "markdown",
      "source": [
        "* `a1`과 `a10` 두 데이터의 스케일링 전, 후 데이터가 가지는 값의 범위를 요약하기"
      ],
      "metadata": {
        "id": "GxWolaowzd7X"
      }
    },
    {
      "cell_type": "code",
      "source": [
        "print(np.ptp(a1))\n",
        "print(np.ptp(a1_minmax))  # minmax 스케일링은 어떤 값을 해주어도 범위가 1로 고정된다(0이 최소값 1이 최대값으로 고정)"
      ],
      "metadata": {
        "id": "dLdhab_DznRS",
        "colab": {
          "base_uri": "https://localhost:8080/"
        },
        "outputId": "cbf270e5-3b70-4302-d6e2-d9095f0db5f0"
      },
      "execution_count": 77,
      "outputs": [
        {
          "output_type": "stream",
          "name": "stdout",
          "text": [
            "5.805498168821509\n",
            "1.0\n"
          ]
        }
      ]
    },
    {
      "cell_type": "code",
      "source": [
        "print(np.ptp(a10))\n",
        "print(np.ptp(a10_minmax)) # 어떤 값을 곱하든 상관없이 범위가 고정되어 있는것을 알 수 있다."
      ],
      "metadata": {
        "colab": {
          "base_uri": "https://localhost:8080/"
        },
        "id": "0nKh3hFXvdBA",
        "outputId": "f3c166a4-23ce-42a9-834c-2743224b9d42"
      },
      "execution_count": 78,
      "outputs": [
        {
          "output_type": "stream",
          "name": "stdout",
          "text": [
            "58.05498168821509\n",
            "1.0\n"
          ]
        }
      ]
    },
    {
      "cell_type": "markdown",
      "source": [
        "* 스케일링 후 `a1_minmax`, `a10_minmax`의 분산 구하기"
      ],
      "metadata": {
        "id": "hBPs1JzyzuM9"
      }
    },
    {
      "cell_type": "code",
      "source": [
        "np.var(a1_minmax, ddof=1)"
      ],
      "metadata": {
        "id": "11gRv_kUzztl",
        "colab": {
          "base_uri": "https://localhost:8080/"
        },
        "outputId": "ba2c418b-70b0-4f34-ae07-3b4eb00651ca"
      },
      "execution_count": 29,
      "outputs": [
        {
          "output_type": "execute_result",
          "data": {
            "text/plain": [
              "0.028934701900306115"
            ]
          },
          "metadata": {},
          "execution_count": 29
        }
      ]
    },
    {
      "cell_type": "code",
      "source": [
        "np.var(a10_minmax, ddof=1) # 분산은 동일하다."
      ],
      "metadata": {
        "colab": {
          "base_uri": "https://localhost:8080/"
        },
        "id": "RAVHTMHCWg-O",
        "outputId": "07022ec4-3111-462b-cfcd-a4897a58792d"
      },
      "execution_count": 30,
      "outputs": [
        {
          "output_type": "execute_result",
          "data": {
            "text/plain": [
              "0.02893470190030611"
            ]
          },
          "metadata": {},
          "execution_count": 30
        }
      ]
    },
    {
      "cell_type": "markdown",
      "metadata": {
        "id": "URGjKjGdsoqV"
      },
      "source": [
        "#### **스케일링: z-score**\n",
        "\n",
        "**standard(z-socre) scaling** : 평균을 0으로, 표준편차를 1로 스케일링 하는  기법.\n",
        "\n",
        "\\begin{align}\n",
        "\\\\\n",
        "standard(x)=\\frac{x-\\mu}{\\sigma}\n",
        "\\end{align}\n",
        "\\begin{align}\n",
        " & \\\\\n",
        " & x : ? \\\\\n",
        " & \\mu : ?\\\\\n",
        " & \\sigma : ?\\\\ \n",
        "\\end{align}\n"
      ]
    },
    {
      "cell_type": "markdown",
      "source": [
        "* standard 함수 생성"
      ],
      "metadata": {
        "id": "-m5HGk_QsoqV"
      }
    },
    {
      "cell_type": "code",
      "source": [
        "def st(x):\n",
        "  return (x-x.mean())/x.std(ddof=1)"
      ],
      "metadata": {
        "id": "jLIfy5MYsoqW"
      },
      "execution_count": 79,
      "outputs": []
    },
    {
      "cell_type": "markdown",
      "source": [
        "* `a1`을 standard 하여 `a1_standard` 로 바인딩"
      ],
      "metadata": {
        "id": "MLhSVJcJz_Ie"
      }
    },
    {
      "cell_type": "code",
      "execution_count": 80,
      "metadata": {
        "id": "phcra2xpz_If"
      },
      "outputs": [],
      "source": [
        "a1_standard = st(a1)"
      ]
    },
    {
      "cell_type": "markdown",
      "source": [
        "* `a10`을 standard 하여 `a10_standard` 로 바인딩"
      ],
      "metadata": {
        "id": "CXVTHP-2z_If"
      }
    },
    {
      "cell_type": "code",
      "execution_count": 81,
      "metadata": {
        "id": "7xBnlZmIz_If"
      },
      "outputs": [],
      "source": [
        "a10_standard = st(a10)"
      ]
    },
    {
      "cell_type": "markdown",
      "source": [
        "* `a1`과 `a10_standard`의 분포를 (1x2) 플롯에 그려 비교하기"
      ],
      "metadata": {
        "id": "G-zv1Y9Wz_If"
      }
    },
    {
      "cell_type": "code",
      "source": [
        "plt.subplot(121)\n",
        "_=plt.hist(a1)\n",
        "  \n",
        "plt.subplot(122)\n",
        "_=plt.hist(a1_standard) # a10 과 a10을 제로 스코어 스케일링 한 값은 동일한 값을 지닌다."
      ],
      "metadata": {
        "id": "vl70HGvqz_If",
        "colab": {
          "base_uri": "https://localhost:8080/",
          "height": 269
        },
        "outputId": "c271edb0-4941-4269-a1d2-b953b34b3aa3"
      },
      "execution_count": 82,
      "outputs": [
        {
          "output_type": "display_data",
          "data": {
            "text/plain": [
              "<Figure size 432x288 with 2 Axes>"
            ],
            "image/png": "[encoded data removed]"
          },
          "metadata": {
            "needs_background": "light"
          }
        }
      ]
    },
    {
      "cell_type": "markdown",
      "source": [
        "* `a10`과 `a10_standard`의 분포를 (1x2) 플롯에 그려 비교하기"
      ],
      "metadata": {
        "id": "PE9kVQfkz_If"
      }
    },
    {
      "cell_type": "code",
      "source": [
        "plt.subplot(121)\n",
        "_=plt.hist(a10)\n",
        "  \n",
        "plt.subplot(122)\n",
        "_=plt.hist(a10_standard)"
      ],
      "metadata": {
        "id": "t5G7ewP2z_Ig",
        "colab": {
          "base_uri": "https://localhost:8080/",
          "height": 269
        },
        "outputId": "5e779799-038e-494f-81c1-62b0f169fe90"
      },
      "execution_count": 83,
      "outputs": [
        {
          "output_type": "display_data",
          "data": {
            "text/plain": [
              "<Figure size 432x288 with 2 Axes>"
            ],
            "image/png": "[encoded data removed]"
          },
          "metadata": {
            "needs_background": "light"
          }
        }
      ]
    },
    {
      "cell_type": "markdown",
      "source": [
        "* `a1`과 `a10` 두 데이터의 스케일링 전, 후 데이터가 가지는 값의 범위를 요약하기"
      ],
      "metadata": {
        "id": "UhZ-Wploz_Ig"
      }
    },
    {
      "cell_type": "code",
      "source": [
        "print(np.ptp(a1))\n",
        "print(np.ptp(a1_standard)) # z-score 로 스케일링했을때 범위 차이는 거의 동일하다."
      ],
      "metadata": {
        "id": "wHVML9Zpz_Ig",
        "colab": {
          "base_uri": "https://localhost:8080/"
        },
        "outputId": "8f84c365-7d1e-4035-fbe0-92cf05b1e8f6"
      },
      "execution_count": 85,
      "outputs": [
        {
          "output_type": "stream",
          "name": "stdout",
          "text": [
            "5.805498168821509\n",
            "5.87882447790439\n"
          ]
        }
      ]
    },
    {
      "cell_type": "code",
      "source": [
        "print(np.ptp(a10))\n",
        "print(np.ptp(a10_standard)) # z-score의 스케일링한 값의 범위가 5.8788로 고정되어있다(모든 a값에 10을 곱해도 동일하다.)"
      ],
      "metadata": {
        "colab": {
          "base_uri": "https://localhost:8080/"
        },
        "id": "ULUVdiTcvqZh",
        "outputId": "4cff9cc2-bdcd-4ecd-8bcb-dff0a64bfe81"
      },
      "execution_count": 86,
      "outputs": [
        {
          "output_type": "stream",
          "name": "stdout",
          "text": [
            "58.05498168821509\n",
            "5.8788244779043906\n"
          ]
        }
      ]
    },
    {
      "cell_type": "markdown",
      "source": [
        "* 스케일링 후 `a1_standard`, `a10_standard`의 분산 구하기"
      ],
      "metadata": {
        "id": "Za5xe-lDz_Ig"
      }
    },
    {
      "cell_type": "code",
      "source": [
        "np.var(a1_standard, ddof=1) # a1_standard 의 분산"
      ],
      "metadata": {
        "id": "xjgMc74tz_Ig",
        "colab": {
          "base_uri": "https://localhost:8080/"
        },
        "outputId": "c86c0a52-bdfe-4520-817e-0e0f9ecf0348"
      },
      "execution_count": 37,
      "outputs": [
        {
          "output_type": "execute_result",
          "data": {
            "text/plain": [
              "1.0"
            ]
          },
          "metadata": {},
          "execution_count": 37
        }
      ]
    },
    {
      "cell_type": "code",
      "source": [
        "np.var(a10_standard, ddof=1) # a10_standard 의 분산"
      ],
      "metadata": {
        "colab": {
          "base_uri": "https://localhost:8080/"
        },
        "id": "M3Gk60HMY0gE",
        "outputId": "1f204adc-0e07-4119-b6cd-3371dee5bb86"
      },
      "execution_count": 39,
      "outputs": [
        {
          "output_type": "execute_result",
          "data": {
            "text/plain": [
              "1.0000000000000002"
            ]
          },
          "metadata": {},
          "execution_count": 39
        }
      ]
    },
    {
      "cell_type": "markdown",
      "metadata": {
        "id": "Af9cq1EnSASr"
      },
      "source": [
        "### **| 범위와 사분위 범위**\n",
        "\n",
        "<p align='center'>\n",
        "<img src=https://github.com/yebiny/SkillTreePython-DataAnalysis/blob/main/imgs/ch0305-01.png?raw=true?raw=true width=800>\n",
        "</p>\n"
      ]
    },
    {
      "cell_type": "markdown",
      "source": [
        "* `a10` 의 분포 그리기"
      ],
      "metadata": {
        "id": "h-PX4Us32keF"
      }
    },
    {
      "cell_type": "code",
      "execution_count": 47,
      "metadata": {
        "id": "zwnSE67dSASr",
        "colab": {
          "base_uri": "https://localhost:8080/",
          "height": 269
        },
        "outputId": "426c9917-ac7d-442c-c380-b6ebc102cbfe"
      },
      "outputs": [
        {
          "output_type": "display_data",
          "data": {
            "text/plain": [
              "<Figure size 432x288 with 1 Axes>"
            ],
            "image/png": "[encoded data removed]"
          },
          "metadata": {
            "needs_background": "light"
          }
        }
      ],
      "source": [
        "_=plt.hist(a10)"
      ]
    },
    {
      "cell_type": "markdown",
      "source": [
        "#### **범위**\n",
        "\n",
        "\\begin{align}\n",
        "\\\\\n",
        "범위 = max(x)-min(x)\n",
        "\\end{align}\n",
        "\n",
        "```\n",
        "np.ptp(x)\n",
        "```"
      ],
      "metadata": {
        "id": "_RZq1F5xzdbT"
      }
    },
    {
      "cell_type": "markdown",
      "source": [
        "# 새 섹션"
      ],
      "metadata": {
        "id": "OplR93e9KlYL"
      }
    },
    {
      "cell_type": "markdown",
      "source": [
        "* `a10`의 범위 구하기"
      ],
      "metadata": {
        "id": "E21v3wDg3nZy"
      }
    },
    {
      "cell_type": "code",
      "execution_count": 46,
      "metadata": {
        "id": "XC2V_offSASr",
        "colab": {
          "base_uri": "https://localhost:8080/"
        },
        "outputId": "2df80767-b02b-4984-b106-8097e357ef7f"
      },
      "outputs": [
        {
          "output_type": "stream",
          "name": "stdout",
          "text": [
            "58.05498168821509\n",
            "58.05498168821509\n"
          ]
        }
      ],
      "source": [
        "# np.ptp 사용\n",
        "print(np.ptp(a10))\n",
        "# max-min 사용\n",
        "print(max(a10)-min(a10))"
      ]
    },
    {
      "cell_type": "markdown",
      "source": [
        "\n",
        "#### **사분위 범위**\n",
        "\n",
        "\\begin{align}\n",
        "\\\\\n",
        "사분위 범위 = 3사분위수 - 1사분위수 = 하위 75 \\% 수 - 하위 25\\% 수\n",
        "\\end{align}\n",
        "\n",
        "```\n",
        "np.quantile(x, percent)\n",
        "```"
      ],
      "metadata": {
        "id": "LgpC0EN1zjmc"
      }
    },
    {
      "cell_type": "markdown",
      "source": [
        "# 새 섹션"
      ],
      "metadata": {
        "id": "q5oWr7DVKmS8"
      }
    },
    {
      "cell_type": "markdown",
      "source": [
        "* `a10`의 사분위 범위 구하기"
      ],
      "metadata": {
        "id": "x3nqHdR54ILX"
      }
    },
    {
      "cell_type": "code",
      "execution_count": 55,
      "metadata": {
        "id": "Y857hyZ3SASr",
        "colab": {
          "base_uri": "https://localhost:8080/"
        },
        "outputId": "01ea0820-a9c6-44c0-fc0e-95a88799571e"
      },
      "outputs": [
        {
          "output_type": "execute_result",
          "data": {
            "text/plain": [
              "13.053706612482689"
            ]
          },
          "metadata": {},
          "execution_count": 55
        }
      ],
      "source": [
        "np.quantile(a10, 0.75)-np.quantile(a10, 0.25) # 3사분위 - 1사분위"
      ]
    }
  ]
}