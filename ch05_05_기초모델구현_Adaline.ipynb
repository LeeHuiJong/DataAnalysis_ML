{
  "nbformat": 4,
  "nbformat_minor": 0,
  "metadata": {
    "colab": {
      "name": "ch05_05_기초모델구현_Adaline.ipynb",
      "provenance": [],
      "collapsed_sections": [],
      "include_colab_link": true
    },
    "kernelspec": {
      "name": "python3",
      "display_name": "Python 3"
    },
    "language_info": {
      "name": "python"
    }
  },
  "cells": [
    {
      "cell_type": "markdown",
      "metadata": {
        "id": "view-in-github",
        "colab_type": "text"
      },
      "source": [
        "<a href=\"https://colab.research.google.com/github/LeeHuiJong/SkillTreePython-DataAnalysis/blob/main/ch05_05_%EA%B8%B0%EC%B4%88%EB%AA%A8%EB%8D%B8%EA%B5%AC%ED%98%84_Adaline.ipynb\" target=\"_parent\"><img src=\"https://colab.research.google.com/assets/colab-badge.svg\" alt=\"Open In Colab\"/></a>"
      ]
    },
    {
      "cell_type": "markdown",
      "metadata": {
        "id": "wWpXZc2fi39U"
      },
      "source": [
        "# ch05.05. 기초모델 구현 - Adaline\n",
        "---\n",
        "* 날짜:\n",
        "* 이름:\n",
        "\n",
        "## 학습내용\n",
        "    - 이진 분류 개념에 대해 이해한다.\n",
        "    - Adaline 프로세스를 이해한다. \n",
        "    - Adaline 알고리즘을 구현한다.\n",
        "    - 경사하강법에 대해 이해한다."
      ]
    },
    {
      "cell_type": "markdown",
      "metadata": {
        "id": "kByKdJPApy6P"
      },
      "source": [
        "```\n",
        "import numpy as np\n",
        "import matplotlib.pyplot as plt\n",
        "```"
      ]
    },
    {
      "cell_type": "code",
      "execution_count": 1,
      "metadata": {
        "id": "rJvcz-JikHbE"
      },
      "outputs": [],
      "source": [
        "import numpy as np\n",
        "import matplotlib.pyplot as plt"
      ]
    },
    {
      "cell_type": "markdown",
      "source": [
        "## 클래스 작성\n",
        "---"
      ],
      "metadata": {
        "id": "uwMdGM259v98"
      }
    },
    {
      "cell_type": "code",
      "source": [
        "class AdalineGD():\n",
        "  def __init__(self, lr=0.001, random_state=1):\n",
        "    self.lr=lr\n",
        "    self.seed = np.random.RandomState(random_state)\n",
        "\n",
        "  def init_weights(self, X): # 처음의 가중치를 설정해준다.\n",
        "    size = X.shape[1]\n",
        "    self.w = self.seed.normal(0, 0.01, size=size+1) # 정규분포를 따르는 랜덤한 값을 뽑는다 (seed를 정했으므로 값은 계속 바뀌지 않고 뽑힌 그대로 유지된다.)\n",
        "  \n",
        "  def model(self, X): # X에 관한 모델 \n",
        "    return np.dot(X, self.w[:-1])+self.w[-1] # w의 마지막을 뺀 값을 전부 곱해서 더한 값에 w의 마지막을 더해준다.\n",
        "\n",
        "  def predict(self, X): # y_hat의 값을 판단해서 0,과 1로 변경해준다.\n",
        "    y_hat = self.model(X)\n",
        "    logit = np.where(y_hat >= 0.5,1,0)\n",
        "    return logit\n",
        "\n",
        "  def loss(self, y, y_hat):\n",
        "    return 1/2 * ( (y-y_hat)**2) # loss 를 구하는 공식이 perceptron과 다르다. \n",
        "\n",
        "  def accuracy(self, y, y_logit): # 정확도를 구하는 함수 \n",
        "    return np.count_nonzero(y == y_logit) / len(y) # y_logit 에 0이 아닌 값들(정답인 값들)의 개수에 평균을 낸값.\n",
        "\n",
        "  def evaluate(self, X, y):\n",
        "    y_logit = self.predict(X) # y_logit 은 X의 predict 값\n",
        "    loss = self.loss(y, y_logit) # 위에 클래스의 내장함수 loss를 토대로 y와 y_logit 의 손실을 구한다.\n",
        "    loss = loss.sum()/len(y)  # loss는 모든 합의 평균을 구하는 것\n",
        "    acc = self.accuracy(y, y_logit) # accuracy 내장함수를 토대로 정확도를 구한다.\n",
        "    return loss, acc # 위에서 구한 loss 값과 acc 값이 평가의 값이다.\n",
        "\n",
        "  def fit(self, X, y, epochs=10, show_params=False):\n",
        "\n",
        "    self.init_weights(X) # 가중치 초기화\n",
        "    self.history=dict(loss=[], acc=[]) # history 초기화\n",
        "\n",
        "    for epoch in range(epochs):\n",
        "      # 최적화\n",
        "      y_hat = self.model(X) # y의 예측값\n",
        "      self.w[:-1]+= self.lr * np.dot(X.T , (y-y_hat)) # 최적화 함수를 토대로 X를 transpose 한 후 y-y_hat과 내적을 구한다.\n",
        "      self.w[-1] += self.lr * np.sum(y-y_hat) # b와 x에 대한 미분이 다른 공식을 가지고 있기 때문에 따로 식을 만들어 준다.\n",
        "\n",
        "\n",
        "      \n",
        "      # 평가 및 결과 저장\n",
        "      loss, acc = self.evaluate(X, y)\n",
        "      self.history['loss'].append(loss)\n",
        "      self.history['acc'].append(acc)\n",
        "      print(f'[Epoch {epoch}] loss: {np.round(loss,2)}  acc: {np.round(acc,2)}')\n",
        "      if show_params: print(self.w)\n",
        "\n",
        "  # 데이터 흐름 시각화\n",
        "  def draw_dflow(self, X, y, title='', figsize=(8,4)):\n",
        "    y_hat = self.model(X)\n",
        "    y_pred = self.predict(X)\n",
        "\n",
        "    plt.figure(figsize=figsize)\n",
        "    plt.title(title)\n",
        "    plt.plot(y, label='y', marker='o')\n",
        "    plt.plot(y_hat, label='$\\hat{y}$', marker='.', linestyle='--')\n",
        "    plt.plot(y_pred, label='$\\logit$', marker='.', linestyle='--')\n",
        "    plt.legend()\n",
        "    plt.show()\n",
        "\n",
        "  # 학습 곡선 시각화\n",
        "  def draw_lcurve(self, title='', figsize=(8,4)):\n",
        "    plt.figure(figsize=figsize)\n",
        "    plt.title(title)\n",
        "    plt.plot(self.history['acc'], label='acc', marker='o')\n",
        "    plt.plot(self.history['loss'], label='loss', marker='o')\n",
        "    plt.xlabel('epoch')\n",
        "    plt.legend()\n",
        "    plt.show()"
      ],
      "metadata": {
        "id": "5mAt5khrW_Km"
      },
      "execution_count": null,
      "outputs": []
    },
    {
      "cell_type": "markdown",
      "source": [
        "## Iris 데이터로 분류 진행\n",
        "---"
      ],
      "metadata": {
        "id": "p8-pUaTb04zO"
      }
    },
    {
      "cell_type": "markdown",
      "source": [
        "### **데이터 로드**"
      ],
      "metadata": {
        "id": "yh-ww3jO9392"
      }
    },
    {
      "cell_type": "code",
      "source": [
        ""
      ],
      "metadata": {
        "id": "6aV9e8XkC4Da"
      },
      "execution_count": null,
      "outputs": []
    },
    {
      "cell_type": "markdown",
      "source": [
        "### **학습전 성능 평가**"
      ],
      "metadata": {
        "id": "3LqoB51790s0"
      }
    },
    {
      "cell_type": "code",
      "source": [
        ""
      ],
      "metadata": {
        "id": "TBW5bD_H8qqk"
      },
      "execution_count": null,
      "outputs": []
    },
    {
      "cell_type": "markdown",
      "source": [
        "### **학습**"
      ],
      "metadata": {
        "id": "s0Z1FRSQ-CVf"
      }
    },
    {
      "cell_type": "code",
      "source": [
        ""
      ],
      "metadata": {
        "id": "IUKelQQChXTK"
      },
      "execution_count": null,
      "outputs": []
    },
    {
      "cell_type": "markdown",
      "source": [
        "### **학습 후 성능평가**"
      ],
      "metadata": {
        "id": "rcyTrA6o-ERb"
      }
    },
    {
      "cell_type": "code",
      "source": [
        ""
      ],
      "metadata": {
        "id": "85fUj6NU7gXX"
      },
      "execution_count": null,
      "outputs": []
    },
    {
      "cell_type": "markdown",
      "source": [
        "### **테스트셋 성능평가**"
      ],
      "metadata": {
        "id": "rJtmb1t_-GIF"
      }
    },
    {
      "cell_type": "code",
      "source": [
        ""
      ],
      "metadata": {
        "id": "XNGh7FUei1Qe"
      },
      "execution_count": null,
      "outputs": []
    },
    {
      "cell_type": "markdown",
      "source": [
        "### **학습곡선**"
      ],
      "metadata": {
        "id": "w1bVEuSPkhwb"
      }
    },
    {
      "cell_type": "code",
      "source": [
        ""
      ],
      "metadata": {
        "id": "qMgKxxS2kdQz"
      },
      "execution_count": null,
      "outputs": []
    },
    {
      "cell_type": "markdown",
      "source": [
        "### **하이퍼파라미터에 따른 성능평가**"
      ],
      "metadata": {
        "id": "GOyfcMrAN74G"
      }
    },
    {
      "cell_type": "code",
      "source": [
        ""
      ],
      "metadata": {
        "id": "XK0Zqjq9hG1G"
      },
      "execution_count": null,
      "outputs": []
    }
  ]
}